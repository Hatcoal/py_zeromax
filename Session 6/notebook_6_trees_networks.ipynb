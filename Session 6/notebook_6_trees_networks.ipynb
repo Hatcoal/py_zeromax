{
 "cells": [
  {
   "cell_type": "markdown",
   "id": "562d12f5-94cf-46b0-8a39-f4271e6d752f",
   "metadata": {},
   "source": [
    "# Algorithmic thinking and Advanced Visualization"
   ]
  },
  {
   "cell_type": "markdown",
   "id": "971b6cd8-189a-496d-aee7-255daff4ead4",
   "metadata": {},
   "source": [
    "We now know how to do basic operations on dataframes, we also studied some plotly. Now let's think about some problems."
   ]
  },
  {
   "cell_type": "code",
   "execution_count": 1,
   "id": "68a9deb9-799b-44cf-b7d8-20e1f2477636",
   "metadata": {},
   "outputs": [],
   "source": [
    "import pandas as pd\n",
    "import numpy as np\n",
    "import plotly.express as px"
   ]
  },
  {
   "cell_type": "code",
   "execution_count": 2,
   "id": "015279cd-fd20-46b1-8787-8cb586db37cd",
   "metadata": {},
   "outputs": [
    {
     "data": {
      "text/html": [
       "<div>\n",
       "<style scoped>\n",
       "    .dataframe tbody tr th:only-of-type {\n",
       "        vertical-align: middle;\n",
       "    }\n",
       "\n",
       "    .dataframe tbody tr th {\n",
       "        vertical-align: top;\n",
       "    }\n",
       "\n",
       "    .dataframe thead th {\n",
       "        text-align: right;\n",
       "    }\n",
       "</style>\n",
       "<table border=\"1\" class=\"dataframe\">\n",
       "  <thead>\n",
       "    <tr style=\"text-align: right;\">\n",
       "      <th></th>\n",
       "      <th>Progress</th>\n",
       "      <th>UserLanguage</th>\n",
       "      <th>Collection</th>\n",
       "      <th>LE3.199</th>\n",
       "      <th>LE3.200</th>\n",
       "      <th>LE3.201</th>\n",
       "      <th>LE5.012</th>\n",
       "      <th>LE5.013</th>\n",
       "      <th>LE5.014</th>\n",
       "      <th>LE5.015</th>\n",
       "      <th>...</th>\n",
       "      <th>LE5.022</th>\n",
       "      <th>LE5.023</th>\n",
       "      <th>LE5.024</th>\n",
       "      <th>LE5.025</th>\n",
       "      <th>LE5.026</th>\n",
       "      <th>LE5.027</th>\n",
       "      <th>LE5.028</th>\n",
       "      <th>LE5.029</th>\n",
       "      <th>LE5.030</th>\n",
       "      <th>LE5.031</th>\n",
       "    </tr>\n",
       "  </thead>\n",
       "  <tbody>\n",
       "    <tr>\n",
       "      <th>0</th>\n",
       "      <td>100</td>\n",
       "      <td>RU</td>\n",
       "      <td>Pilot</td>\n",
       "      <td>Strongly disagree</td>\n",
       "      <td>Strongly disagree</td>\n",
       "      <td>Strongly disagree</td>\n",
       "      <td>All the genes in DNA</td>\n",
       "      <td></td>\n",
       "      <td></td>\n",
       "      <td>99.9%</td>\n",
       "      <td>...</td>\n",
       "      <td>Many genes</td>\n",
       "      <td>Points of genetic variation</td>\n",
       "      <td>More than 90% the same</td>\n",
       "      <td>Is removed when passed from parent to offspring</td>\n",
       "      <td>No</td>\n",
       "      <td>CRISPR</td>\n",
       "      <td>No</td>\n",
       "      <td>True</td>\n",
       "      <td>True</td>\n",
       "      <td>There is an approximately 30% chance that some...</td>\n",
       "    </tr>\n",
       "    <tr>\n",
       "      <th>1</th>\n",
       "      <td>100</td>\n",
       "      <td>RU</td>\n",
       "      <td>Pilot</td>\n",
       "      <td>Agree</td>\n",
       "      <td>Strongly agree</td>\n",
       "      <td>Agree</td>\n",
       "      <td>The entire sequence of an individual's DNA</td>\n",
       "      <td>GCTA</td>\n",
       "      <td></td>\n",
       "      <td>75%</td>\n",
       "      <td>...</td>\n",
       "      <td></td>\n",
       "      <td></td>\n",
       "      <td></td>\n",
       "      <td></td>\n",
       "      <td>Yes</td>\n",
       "      <td></td>\n",
       "      <td>No</td>\n",
       "      <td></td>\n",
       "      <td></td>\n",
       "      <td>If someone has insomnia this is approximately ...</td>\n",
       "    </tr>\n",
       "    <tr>\n",
       "      <th>2</th>\n",
       "      <td>100</td>\n",
       "      <td>RU</td>\n",
       "      <td>Pilot</td>\n",
       "      <td></td>\n",
       "      <td></td>\n",
       "      <td></td>\n",
       "      <td></td>\n",
       "      <td></td>\n",
       "      <td></td>\n",
       "      <td></td>\n",
       "      <td>...</td>\n",
       "      <td></td>\n",
       "      <td></td>\n",
       "      <td></td>\n",
       "      <td></td>\n",
       "      <td></td>\n",
       "      <td></td>\n",
       "      <td></td>\n",
       "      <td></td>\n",
       "      <td></td>\n",
       "      <td></td>\n",
       "    </tr>\n",
       "    <tr>\n",
       "      <th>3</th>\n",
       "      <td>100</td>\n",
       "      <td>RU</td>\n",
       "      <td>Pilot</td>\n",
       "      <td></td>\n",
       "      <td></td>\n",
       "      <td></td>\n",
       "      <td>All the genes in DNA</td>\n",
       "      <td>GCTA</td>\n",
       "      <td>2 copies</td>\n",
       "      <td>99.9%</td>\n",
       "      <td>...</td>\n",
       "      <td>Many genes</td>\n",
       "      <td>Points of genetic variation</td>\n",
       "      <td>100% identical</td>\n",
       "      <td>Does not lead to the production of proteins</td>\n",
       "      <td>No</td>\n",
       "      <td>CRISPR</td>\n",
       "      <td>No</td>\n",
       "      <td>True</td>\n",
       "      <td>True</td>\n",
       "      <td>If someone has insomnia this is approximately ...</td>\n",
       "    </tr>\n",
       "    <tr>\n",
       "      <th>4</th>\n",
       "      <td>4</td>\n",
       "      <td>RU</td>\n",
       "      <td>Pilot</td>\n",
       "      <td></td>\n",
       "      <td></td>\n",
       "      <td></td>\n",
       "      <td></td>\n",
       "      <td></td>\n",
       "      <td></td>\n",
       "      <td></td>\n",
       "      <td>...</td>\n",
       "      <td></td>\n",
       "      <td></td>\n",
       "      <td></td>\n",
       "      <td></td>\n",
       "      <td></td>\n",
       "      <td></td>\n",
       "      <td></td>\n",
       "      <td></td>\n",
       "      <td></td>\n",
       "      <td></td>\n",
       "    </tr>\n",
       "    <tr>\n",
       "      <th>...</th>\n",
       "      <td>...</td>\n",
       "      <td>...</td>\n",
       "      <td>...</td>\n",
       "      <td>...</td>\n",
       "      <td>...</td>\n",
       "      <td>...</td>\n",
       "      <td>...</td>\n",
       "      <td>...</td>\n",
       "      <td>...</td>\n",
       "      <td>...</td>\n",
       "      <td>...</td>\n",
       "      <td>...</td>\n",
       "      <td>...</td>\n",
       "      <td>...</td>\n",
       "      <td>...</td>\n",
       "      <td>...</td>\n",
       "      <td>...</td>\n",
       "      <td>...</td>\n",
       "      <td>...</td>\n",
       "      <td>...</td>\n",
       "      <td>...</td>\n",
       "    </tr>\n",
       "    <tr>\n",
       "      <th>1912</th>\n",
       "      <td>37</td>\n",
       "      <td>ES-ES</td>\n",
       "      <td>Spanish Collection</td>\n",
       "      <td></td>\n",
       "      <td></td>\n",
       "      <td></td>\n",
       "      <td></td>\n",
       "      <td></td>\n",
       "      <td></td>\n",
       "      <td></td>\n",
       "      <td>...</td>\n",
       "      <td></td>\n",
       "      <td></td>\n",
       "      <td></td>\n",
       "      <td></td>\n",
       "      <td></td>\n",
       "      <td></td>\n",
       "      <td></td>\n",
       "      <td></td>\n",
       "      <td></td>\n",
       "      <td></td>\n",
       "    </tr>\n",
       "    <tr>\n",
       "      <th>1913</th>\n",
       "      <td>12</td>\n",
       "      <td>ES-ES</td>\n",
       "      <td>Spanish Collection</td>\n",
       "      <td></td>\n",
       "      <td></td>\n",
       "      <td></td>\n",
       "      <td></td>\n",
       "      <td></td>\n",
       "      <td></td>\n",
       "      <td></td>\n",
       "      <td>...</td>\n",
       "      <td></td>\n",
       "      <td></td>\n",
       "      <td></td>\n",
       "      <td></td>\n",
       "      <td></td>\n",
       "      <td></td>\n",
       "      <td></td>\n",
       "      <td></td>\n",
       "      <td></td>\n",
       "      <td></td>\n",
       "    </tr>\n",
       "    <tr>\n",
       "      <th>1914</th>\n",
       "      <td>19</td>\n",
       "      <td>ES-ES</td>\n",
       "      <td>Spanish Collection</td>\n",
       "      <td></td>\n",
       "      <td></td>\n",
       "      <td></td>\n",
       "      <td></td>\n",
       "      <td></td>\n",
       "      <td></td>\n",
       "      <td></td>\n",
       "      <td>...</td>\n",
       "      <td></td>\n",
       "      <td></td>\n",
       "      <td></td>\n",
       "      <td></td>\n",
       "      <td></td>\n",
       "      <td></td>\n",
       "      <td></td>\n",
       "      <td></td>\n",
       "      <td></td>\n",
       "      <td></td>\n",
       "    </tr>\n",
       "    <tr>\n",
       "      <th>1915</th>\n",
       "      <td>37</td>\n",
       "      <td>ES-ES</td>\n",
       "      <td>Spanish Collection</td>\n",
       "      <td></td>\n",
       "      <td></td>\n",
       "      <td></td>\n",
       "      <td></td>\n",
       "      <td></td>\n",
       "      <td></td>\n",
       "      <td></td>\n",
       "      <td>...</td>\n",
       "      <td></td>\n",
       "      <td></td>\n",
       "      <td></td>\n",
       "      <td></td>\n",
       "      <td></td>\n",
       "      <td></td>\n",
       "      <td></td>\n",
       "      <td></td>\n",
       "      <td></td>\n",
       "      <td></td>\n",
       "    </tr>\n",
       "    <tr>\n",
       "      <th>1916</th>\n",
       "      <td>37</td>\n",
       "      <td>ES-ES</td>\n",
       "      <td>Spanish Collection</td>\n",
       "      <td></td>\n",
       "      <td></td>\n",
       "      <td></td>\n",
       "      <td></td>\n",
       "      <td></td>\n",
       "      <td></td>\n",
       "      <td></td>\n",
       "      <td>...</td>\n",
       "      <td></td>\n",
       "      <td></td>\n",
       "      <td></td>\n",
       "      <td></td>\n",
       "      <td></td>\n",
       "      <td></td>\n",
       "      <td></td>\n",
       "      <td></td>\n",
       "      <td></td>\n",
       "      <td></td>\n",
       "    </tr>\n",
       "  </tbody>\n",
       "</table>\n",
       "<p>1917 rows × 26 columns</p>\n",
       "</div>"
      ],
      "text/plain": [
       "      Progress UserLanguage          Collection            LE3.199  \\\n",
       "0          100           RU               Pilot  Strongly disagree   \n",
       "1          100           RU               Pilot              Agree   \n",
       "2          100           RU               Pilot                      \n",
       "3          100           RU               Pilot                      \n",
       "4            4           RU               Pilot                      \n",
       "...        ...          ...                 ...                ...   \n",
       "1912        37        ES-ES  Spanish Collection                      \n",
       "1913        12        ES-ES  Spanish Collection                      \n",
       "1914        19        ES-ES  Spanish Collection                      \n",
       "1915        37        ES-ES  Spanish Collection                      \n",
       "1916        37        ES-ES  Spanish Collection                      \n",
       "\n",
       "                LE3.200            LE3.201  \\\n",
       "0     Strongly disagree  Strongly disagree   \n",
       "1        Strongly agree              Agree   \n",
       "2                                            \n",
       "3                                            \n",
       "4                                            \n",
       "...                 ...                ...   \n",
       "1912                                         \n",
       "1913                                         \n",
       "1914                                         \n",
       "1915                                         \n",
       "1916                                         \n",
       "\n",
       "                                         LE5.012 LE5.013    LE5.014 LE5.015  \\\n",
       "0                           All the genes in DNA                      99.9%   \n",
       "1     The entire sequence of an individual's DNA    GCTA                75%   \n",
       "2                                                                             \n",
       "3                           All the genes in DNA    GCTA   2 copies   99.9%   \n",
       "4                                                                             \n",
       "...                                          ...     ...        ...     ...   \n",
       "1912                                                                          \n",
       "1913                                                                          \n",
       "1914                                                                          \n",
       "1915                                                                          \n",
       "1916                                                                          \n",
       "\n",
       "      ...     LE5.022                      LE5.023                 LE5.024  \\\n",
       "0     ...  Many genes  Points of genetic variation  More than 90% the same   \n",
       "1     ...                                                                    \n",
       "2     ...                                                                    \n",
       "3     ...  Many genes  Points of genetic variation          100% identical   \n",
       "4     ...                                                                    \n",
       "...   ...         ...                          ...                     ...   \n",
       "1912  ...                                                                    \n",
       "1913  ...                                                                    \n",
       "1914  ...                                                                    \n",
       "1915  ...                                                                    \n",
       "1916  ...                                                                    \n",
       "\n",
       "                                              LE5.025 LE5.026 LE5.027 LE5.028  \\\n",
       "0     Is removed when passed from parent to offspring      No  CRISPR      No   \n",
       "1                                                         Yes              No   \n",
       "2                                                                               \n",
       "3         Does not lead to the production of proteins      No  CRISPR      No   \n",
       "4                                                                               \n",
       "...                                               ...     ...     ...     ...   \n",
       "1912                                                                            \n",
       "1913                                                                            \n",
       "1914                                                                            \n",
       "1915                                                                            \n",
       "1916                                                                            \n",
       "\n",
       "     LE5.029 LE5.030                                            LE5.031  \n",
       "0       True    True  There is an approximately 30% chance that some...  \n",
       "1                     If someone has insomnia this is approximately ...  \n",
       "2                                                                        \n",
       "3       True    True  If someone has insomnia this is approximately ...  \n",
       "4                                                                        \n",
       "...      ...     ...                                                ...  \n",
       "1912                                                                     \n",
       "1913                                                                     \n",
       "1914                                                                     \n",
       "1915                                                                     \n",
       "1916                                                                     \n",
       "\n",
       "[1917 rows x 26 columns]"
      ]
     },
     "execution_count": 2,
     "metadata": {},
     "output_type": "execute_result"
    }
   ],
   "source": [
    "df = pd.read_csv('gk_items.csv', sep = ',')\n",
    "df"
   ]
  },
  {
   "cell_type": "markdown",
   "id": "60089fbb-2c9c-4ce1-93af-9a4d9f931817",
   "metadata": {},
   "source": [
    "Understand that each row is a human response. We may assume that each response is independent. Which means, the participants had no influence on the decision of each other while selecting for their opinion on three questions. I will describe in the end what the questions are."
   ]
  },
  {
   "cell_type": "markdown",
   "id": "49641fab-0d34-4659-9b70-18d61c3a2383",
   "metadata": {},
   "source": [
    "We will describe the grouping as following. This is arbitrary. I want to see how people who are agreering or strongly agreeing different from people who are disagreeing or strongly disagreeing, versus neutral.\n",
    "\n",
    "If two of the options are either agree or strongly agree, we call these agreeable people.\n",
    "\n",
    "If two of the options are neutral, then these are neutral participants.\n",
    "\n",
    "And if two out of three options are disagree then these are disagreeable participants.\n",
    "\n",
    "The fourth group is no progress.\n",
    "\n",
    "Let's create these divisions in the dataset. But first we need to select only russian speaking participants, and Progress greater than 80."
   ]
  },
  {
   "cell_type": "code",
   "execution_count": 3,
   "id": "ffe5f0f1-a62d-40f7-8017-903d079722f6",
   "metadata": {},
   "outputs": [
    {
     "data": {
      "text/html": [
       "<div>\n",
       "<style scoped>\n",
       "    .dataframe tbody tr th:only-of-type {\n",
       "        vertical-align: middle;\n",
       "    }\n",
       "\n",
       "    .dataframe tbody tr th {\n",
       "        vertical-align: top;\n",
       "    }\n",
       "\n",
       "    .dataframe thead th {\n",
       "        text-align: right;\n",
       "    }\n",
       "</style>\n",
       "<table border=\"1\" class=\"dataframe\">\n",
       "  <thead>\n",
       "    <tr style=\"text-align: right;\">\n",
       "      <th></th>\n",
       "      <th>Progress</th>\n",
       "      <th>UserLanguage</th>\n",
       "      <th>LE3.199</th>\n",
       "      <th>LE3.200</th>\n",
       "      <th>LE3.201</th>\n",
       "    </tr>\n",
       "  </thead>\n",
       "  <tbody>\n",
       "    <tr>\n",
       "      <th>0</th>\n",
       "      <td>100</td>\n",
       "      <td>RU</td>\n",
       "      <td>Strongly disagree</td>\n",
       "      <td>Strongly disagree</td>\n",
       "      <td>Strongly disagree</td>\n",
       "    </tr>\n",
       "    <tr>\n",
       "      <th>1</th>\n",
       "      <td>100</td>\n",
       "      <td>RU</td>\n",
       "      <td>Agree</td>\n",
       "      <td>Strongly agree</td>\n",
       "      <td>Agree</td>\n",
       "    </tr>\n",
       "    <tr>\n",
       "      <th>2</th>\n",
       "      <td>100</td>\n",
       "      <td>RU</td>\n",
       "      <td></td>\n",
       "      <td></td>\n",
       "      <td></td>\n",
       "    </tr>\n",
       "    <tr>\n",
       "      <th>3</th>\n",
       "      <td>100</td>\n",
       "      <td>RU</td>\n",
       "      <td></td>\n",
       "      <td></td>\n",
       "      <td></td>\n",
       "    </tr>\n",
       "    <tr>\n",
       "      <th>4</th>\n",
       "      <td>4</td>\n",
       "      <td>RU</td>\n",
       "      <td></td>\n",
       "      <td></td>\n",
       "      <td></td>\n",
       "    </tr>\n",
       "    <tr>\n",
       "      <th>...</th>\n",
       "      <td>...</td>\n",
       "      <td>...</td>\n",
       "      <td>...</td>\n",
       "      <td>...</td>\n",
       "      <td>...</td>\n",
       "    </tr>\n",
       "    <tr>\n",
       "      <th>1912</th>\n",
       "      <td>37</td>\n",
       "      <td>ES-ES</td>\n",
       "      <td></td>\n",
       "      <td></td>\n",
       "      <td></td>\n",
       "    </tr>\n",
       "    <tr>\n",
       "      <th>1913</th>\n",
       "      <td>12</td>\n",
       "      <td>ES-ES</td>\n",
       "      <td></td>\n",
       "      <td></td>\n",
       "      <td></td>\n",
       "    </tr>\n",
       "    <tr>\n",
       "      <th>1914</th>\n",
       "      <td>19</td>\n",
       "      <td>ES-ES</td>\n",
       "      <td></td>\n",
       "      <td></td>\n",
       "      <td></td>\n",
       "    </tr>\n",
       "    <tr>\n",
       "      <th>1915</th>\n",
       "      <td>37</td>\n",
       "      <td>ES-ES</td>\n",
       "      <td></td>\n",
       "      <td></td>\n",
       "      <td></td>\n",
       "    </tr>\n",
       "    <tr>\n",
       "      <th>1916</th>\n",
       "      <td>37</td>\n",
       "      <td>ES-ES</td>\n",
       "      <td></td>\n",
       "      <td></td>\n",
       "      <td></td>\n",
       "    </tr>\n",
       "  </tbody>\n",
       "</table>\n",
       "<p>1917 rows × 5 columns</p>\n",
       "</div>"
      ],
      "text/plain": [
       "      Progress UserLanguage            LE3.199            LE3.200  \\\n",
       "0          100           RU  Strongly disagree  Strongly disagree   \n",
       "1          100           RU              Agree     Strongly agree   \n",
       "2          100           RU                                         \n",
       "3          100           RU                                         \n",
       "4            4           RU                                         \n",
       "...        ...          ...                ...                ...   \n",
       "1912        37        ES-ES                                         \n",
       "1913        12        ES-ES                                         \n",
       "1914        19        ES-ES                                         \n",
       "1915        37        ES-ES                                         \n",
       "1916        37        ES-ES                                         \n",
       "\n",
       "                LE3.201  \n",
       "0     Strongly disagree  \n",
       "1                 Agree  \n",
       "2                        \n",
       "3                        \n",
       "4                        \n",
       "...                 ...  \n",
       "1912                     \n",
       "1913                     \n",
       "1914                     \n",
       "1915                     \n",
       "1916                     \n",
       "\n",
       "[1917 rows x 5 columns]"
      ]
     },
     "execution_count": 3,
     "metadata": {},
     "output_type": "execute_result"
    }
   ],
   "source": [
    "# Progress\tUserLanguage\tare demographics\n",
    "# LE3.199\tLE3.200\tLE3.201, let's plot these variables\n",
    "vdf = df[['Progress', 'UserLanguage', 'LE3.199','LE3.200','LE3.201']].copy()\n",
    "vdf"
   ]
  },
  {
   "cell_type": "code",
   "execution_count": 4,
   "id": "d0eb4ac0-df29-4c39-aed5-f187e197ec3b",
   "metadata": {},
   "outputs": [
    {
     "data": {
      "text/html": [
       "<div>\n",
       "<style scoped>\n",
       "    .dataframe tbody tr th:only-of-type {\n",
       "        vertical-align: middle;\n",
       "    }\n",
       "\n",
       "    .dataframe tbody tr th {\n",
       "        vertical-align: top;\n",
       "    }\n",
       "\n",
       "    .dataframe thead th {\n",
       "        text-align: right;\n",
       "    }\n",
       "</style>\n",
       "<table border=\"1\" class=\"dataframe\">\n",
       "  <thead>\n",
       "    <tr style=\"text-align: right;\">\n",
       "      <th></th>\n",
       "      <th>Progress</th>\n",
       "      <th>UserLanguage</th>\n",
       "      <th>LE3.199</th>\n",
       "      <th>LE3.200</th>\n",
       "      <th>LE3.201</th>\n",
       "    </tr>\n",
       "  </thead>\n",
       "  <tbody>\n",
       "    <tr>\n",
       "      <th>0</th>\n",
       "      <td>100</td>\n",
       "      <td>RU</td>\n",
       "      <td>Strongly disagree</td>\n",
       "      <td>Strongly disagree</td>\n",
       "      <td>Strongly disagree</td>\n",
       "    </tr>\n",
       "    <tr>\n",
       "      <th>1</th>\n",
       "      <td>100</td>\n",
       "      <td>RU</td>\n",
       "      <td>Agree</td>\n",
       "      <td>Strongly agree</td>\n",
       "      <td>Agree</td>\n",
       "    </tr>\n",
       "    <tr>\n",
       "      <th>2</th>\n",
       "      <td>100</td>\n",
       "      <td>RU</td>\n",
       "      <td></td>\n",
       "      <td></td>\n",
       "      <td></td>\n",
       "    </tr>\n",
       "    <tr>\n",
       "      <th>3</th>\n",
       "      <td>100</td>\n",
       "      <td>RU</td>\n",
       "      <td></td>\n",
       "      <td></td>\n",
       "      <td></td>\n",
       "    </tr>\n",
       "    <tr>\n",
       "      <th>4</th>\n",
       "      <td>4</td>\n",
       "      <td>RU</td>\n",
       "      <td></td>\n",
       "      <td></td>\n",
       "      <td></td>\n",
       "    </tr>\n",
       "    <tr>\n",
       "      <th>...</th>\n",
       "      <td>...</td>\n",
       "      <td>...</td>\n",
       "      <td>...</td>\n",
       "      <td>...</td>\n",
       "      <td>...</td>\n",
       "    </tr>\n",
       "    <tr>\n",
       "      <th>1885</th>\n",
       "      <td>100</td>\n",
       "      <td>RU</td>\n",
       "      <td>Agree</td>\n",
       "      <td>Agree</td>\n",
       "      <td>Agree</td>\n",
       "    </tr>\n",
       "    <tr>\n",
       "      <th>1886</th>\n",
       "      <td>100</td>\n",
       "      <td>RU</td>\n",
       "      <td>Strongly agree</td>\n",
       "      <td>Strongly agree</td>\n",
       "      <td>Strongly agree</td>\n",
       "    </tr>\n",
       "    <tr>\n",
       "      <th>1887</th>\n",
       "      <td>100</td>\n",
       "      <td>RU</td>\n",
       "      <td>Agree</td>\n",
       "      <td>Strongly agree</td>\n",
       "      <td>Strongly agree</td>\n",
       "    </tr>\n",
       "    <tr>\n",
       "      <th>1888</th>\n",
       "      <td>100</td>\n",
       "      <td>RU</td>\n",
       "      <td>Strongly agree</td>\n",
       "      <td>Strongly agree</td>\n",
       "      <td>Strongly agree</td>\n",
       "    </tr>\n",
       "    <tr>\n",
       "      <th>1889</th>\n",
       "      <td>62</td>\n",
       "      <td>RU</td>\n",
       "      <td>Strongly disagree</td>\n",
       "      <td>Strongly disagree</td>\n",
       "      <td>Strongly disagree</td>\n",
       "    </tr>\n",
       "  </tbody>\n",
       "</table>\n",
       "<p>1455 rows × 5 columns</p>\n",
       "</div>"
      ],
      "text/plain": [
       "      Progress UserLanguage            LE3.199            LE3.200  \\\n",
       "0          100           RU  Strongly disagree  Strongly disagree   \n",
       "1          100           RU              Agree     Strongly agree   \n",
       "2          100           RU                                         \n",
       "3          100           RU                                         \n",
       "4            4           RU                                         \n",
       "...        ...          ...                ...                ...   \n",
       "1885       100           RU              Agree              Agree   \n",
       "1886       100           RU     Strongly agree     Strongly agree   \n",
       "1887       100           RU              Agree     Strongly agree   \n",
       "1888       100           RU     Strongly agree     Strongly agree   \n",
       "1889        62           RU  Strongly disagree  Strongly disagree   \n",
       "\n",
       "                LE3.201  \n",
       "0     Strongly disagree  \n",
       "1                 Agree  \n",
       "2                        \n",
       "3                        \n",
       "4                        \n",
       "...                 ...  \n",
       "1885              Agree  \n",
       "1886     Strongly agree  \n",
       "1887     Strongly agree  \n",
       "1888     Strongly agree  \n",
       "1889  Strongly disagree  \n",
       "\n",
       "[1455 rows x 5 columns]"
      ]
     },
     "execution_count": 4,
     "metadata": {},
     "output_type": "execute_result"
    }
   ],
   "source": [
    "#vdf = vdf[vdf[\"Progress\"] >= 10 ] # Let's not filter by progress completely, i will also show you some statistics\n",
    "# reasoning, irrlevant that participants have 100 or no progress, they may or may not give their opinions\n",
    "vdf = vdf[vdf[\"UserLanguage\"] == 'RU']\n",
    "vdf"
   ]
  },
  {
   "cell_type": "code",
   "execution_count": 5,
   "id": "16d99940-8690-4c74-800f-d12108cfc626",
   "metadata": {},
   "outputs": [],
   "source": [
    "import itertools"
   ]
  },
  {
   "cell_type": "code",
   "execution_count": 6,
   "id": "ef0bae45-5572-4177-abb6-46099d625f40",
   "metadata": {},
   "outputs": [],
   "source": [
    "list1= ['Strongly disagree', 'Disagree']\n",
    "list2= ['Strongly agree', 'Agree']\n",
    "list2= ['Neutral']\n",
    "variables = ['LE3.199', 'LE3.200', 'LE3.201']"
   ]
  },
  {
   "cell_type": "code",
   "execution_count": 7,
   "id": "ccf37e89-8b27-4297-b276-c56a6fef67de",
   "metadata": {},
   "outputs": [
    {
     "data": {
      "text/plain": [
       "[('LE3.199', 'LE3.200', 'LE3.201'),\n",
       " ('LE3.199', 'LE3.201', 'LE3.200'),\n",
       " ('LE3.200', 'LE3.199', 'LE3.201'),\n",
       " ('LE3.200', 'LE3.201', 'LE3.199'),\n",
       " ('LE3.201', 'LE3.199', 'LE3.200'),\n",
       " ('LE3.201', 'LE3.200', 'LE3.199')]"
      ]
     },
     "execution_count": 7,
     "metadata": {},
     "output_type": "execute_result"
    }
   ],
   "source": [
    "list(itertools.permutations(variables)) "
   ]
  },
  {
   "cell_type": "code",
   "execution_count": 8,
   "id": "8592d6b6-24b6-4381-a42e-4cac2f5db502",
   "metadata": {},
   "outputs": [
    {
     "data": {
      "text/plain": [
       "[('LE3.199', 'LE3.200'), ('LE3.199', 'LE3.201'), ('LE3.200', 'LE3.201')]"
      ]
     },
     "execution_count": 8,
     "metadata": {},
     "output_type": "execute_result"
    }
   ],
   "source": [
    "list(itertools.combinations(variables, 2))  # we actually need combinations"
   ]
  },
  {
   "cell_type": "code",
   "execution_count": 9,
   "id": "debffa94-8c71-457d-8b5d-0941b03ea3b1",
   "metadata": {},
   "outputs": [
    {
     "data": {
      "text/plain": [
       "[('LE3.199', 'LE3.200'), ('LE3.199', 'LE3.201'), ('LE3.200', 'LE3.201')]"
      ]
     },
     "execution_count": 9,
     "metadata": {},
     "output_type": "execute_result"
    }
   ],
   "source": [
    "comb = list(itertools.combinations(variables, 2))  # we actually need combinations\n",
    "comb"
   ]
  },
  {
   "cell_type": "code",
   "execution_count": 10,
   "id": "e5268bab-21d3-4fa6-a8cd-d2787bddf0d1",
   "metadata": {},
   "outputs": [
    {
     "data": {
      "text/plain": [
       "['Strongly disagree', 'Disagree']"
      ]
     },
     "execution_count": 10,
     "metadata": {},
     "output_type": "execute_result"
    }
   ],
   "source": [
    "list1"
   ]
  },
  {
   "cell_type": "markdown",
   "id": "d3db431c-ccce-4c17-9388-341f94eba89b",
   "metadata": {},
   "source": [
    "# Arithmetic Solution"
   ]
  },
  {
   "cell_type": "code",
   "execution_count": 11,
   "id": "c2081a31-50b8-42bd-83ad-2f58bb4dee34",
   "metadata": {},
   "outputs": [
    {
     "name": "stderr",
     "output_type": "stream",
     "text": [
      "/tmp/ipykernel_864/2499373955.py:2: SettingWithCopyWarning: \n",
      "A value is trying to be set on a copy of a slice from a DataFrame.\n",
      "Try using .loc[row_indexer,col_indexer] = value instead\n",
      "\n",
      "See the caveats in the documentation: https://pandas.pydata.org/pandas-docs/stable/user_guide/indexing.html#returning-a-view-versus-a-copy\n",
      "  vdf['count'] = 1\n"
     ]
    },
    {
     "data": {
      "text/html": [
       "<div>\n",
       "<style scoped>\n",
       "    .dataframe tbody tr th:only-of-type {\n",
       "        vertical-align: middle;\n",
       "    }\n",
       "\n",
       "    .dataframe tbody tr th {\n",
       "        vertical-align: top;\n",
       "    }\n",
       "\n",
       "    .dataframe thead th {\n",
       "        text-align: right;\n",
       "    }\n",
       "</style>\n",
       "<table border=\"1\" class=\"dataframe\">\n",
       "  <thead>\n",
       "    <tr style=\"text-align: right;\">\n",
       "      <th></th>\n",
       "      <th>Progress</th>\n",
       "      <th>Language</th>\n",
       "      <th>var199</th>\n",
       "      <th>var200</th>\n",
       "      <th>var201</th>\n",
       "      <th>count</th>\n",
       "    </tr>\n",
       "  </thead>\n",
       "  <tbody>\n",
       "    <tr>\n",
       "      <th>0</th>\n",
       "      <td>100</td>\n",
       "      <td>RU</td>\n",
       "      <td>Strongly disagree</td>\n",
       "      <td>Strongly disagree</td>\n",
       "      <td>Strongly disagree</td>\n",
       "      <td>1</td>\n",
       "    </tr>\n",
       "    <tr>\n",
       "      <th>1</th>\n",
       "      <td>100</td>\n",
       "      <td>RU</td>\n",
       "      <td>Agree</td>\n",
       "      <td>Strongly agree</td>\n",
       "      <td>Agree</td>\n",
       "      <td>1</td>\n",
       "    </tr>\n",
       "    <tr>\n",
       "      <th>2</th>\n",
       "      <td>100</td>\n",
       "      <td>RU</td>\n",
       "      <td></td>\n",
       "      <td></td>\n",
       "      <td></td>\n",
       "      <td>1</td>\n",
       "    </tr>\n",
       "    <tr>\n",
       "      <th>3</th>\n",
       "      <td>100</td>\n",
       "      <td>RU</td>\n",
       "      <td></td>\n",
       "      <td></td>\n",
       "      <td></td>\n",
       "      <td>1</td>\n",
       "    </tr>\n",
       "    <tr>\n",
       "      <th>4</th>\n",
       "      <td>4</td>\n",
       "      <td>RU</td>\n",
       "      <td></td>\n",
       "      <td></td>\n",
       "      <td></td>\n",
       "      <td>1</td>\n",
       "    </tr>\n",
       "    <tr>\n",
       "      <th>...</th>\n",
       "      <td>...</td>\n",
       "      <td>...</td>\n",
       "      <td>...</td>\n",
       "      <td>...</td>\n",
       "      <td>...</td>\n",
       "      <td>...</td>\n",
       "    </tr>\n",
       "    <tr>\n",
       "      <th>1885</th>\n",
       "      <td>100</td>\n",
       "      <td>RU</td>\n",
       "      <td>Agree</td>\n",
       "      <td>Agree</td>\n",
       "      <td>Agree</td>\n",
       "      <td>1</td>\n",
       "    </tr>\n",
       "    <tr>\n",
       "      <th>1886</th>\n",
       "      <td>100</td>\n",
       "      <td>RU</td>\n",
       "      <td>Strongly agree</td>\n",
       "      <td>Strongly agree</td>\n",
       "      <td>Strongly agree</td>\n",
       "      <td>1</td>\n",
       "    </tr>\n",
       "    <tr>\n",
       "      <th>1887</th>\n",
       "      <td>100</td>\n",
       "      <td>RU</td>\n",
       "      <td>Agree</td>\n",
       "      <td>Strongly agree</td>\n",
       "      <td>Strongly agree</td>\n",
       "      <td>1</td>\n",
       "    </tr>\n",
       "    <tr>\n",
       "      <th>1888</th>\n",
       "      <td>100</td>\n",
       "      <td>RU</td>\n",
       "      <td>Strongly agree</td>\n",
       "      <td>Strongly agree</td>\n",
       "      <td>Strongly agree</td>\n",
       "      <td>1</td>\n",
       "    </tr>\n",
       "    <tr>\n",
       "      <th>1889</th>\n",
       "      <td>62</td>\n",
       "      <td>RU</td>\n",
       "      <td>Strongly disagree</td>\n",
       "      <td>Strongly disagree</td>\n",
       "      <td>Strongly disagree</td>\n",
       "      <td>1</td>\n",
       "    </tr>\n",
       "  </tbody>\n",
       "</table>\n",
       "<p>1455 rows × 6 columns</p>\n",
       "</div>"
      ],
      "text/plain": [
       "      Progress Language             var199             var200  \\\n",
       "0          100       RU  Strongly disagree  Strongly disagree   \n",
       "1          100       RU              Agree     Strongly agree   \n",
       "2          100       RU                                         \n",
       "3          100       RU                                         \n",
       "4            4       RU                                         \n",
       "...        ...      ...                ...                ...   \n",
       "1885       100       RU              Agree              Agree   \n",
       "1886       100       RU     Strongly agree     Strongly agree   \n",
       "1887       100       RU              Agree     Strongly agree   \n",
       "1888       100       RU     Strongly agree     Strongly agree   \n",
       "1889        62       RU  Strongly disagree  Strongly disagree   \n",
       "\n",
       "                 var201  count  \n",
       "0     Strongly disagree      1  \n",
       "1                 Agree      1  \n",
       "2                            1  \n",
       "3                            1  \n",
       "4                            1  \n",
       "...                 ...    ...  \n",
       "1885              Agree      1  \n",
       "1886     Strongly agree      1  \n",
       "1887     Strongly agree      1  \n",
       "1888     Strongly agree      1  \n",
       "1889  Strongly disagree      1  \n",
       "\n",
       "[1455 rows x 6 columns]"
      ]
     },
     "execution_count": 11,
     "metadata": {},
     "output_type": "execute_result"
    }
   ],
   "source": [
    "vdf.columns = ['Progress', 'Language', 'var199', 'var200', 'var201']\n",
    "vdf['count'] = 1\n",
    "vdf"
   ]
  },
  {
   "cell_type": "code",
   "execution_count": 12,
   "id": "21308a1c-a807-4f47-8d8b-6e7863722b1e",
   "metadata": {},
   "outputs": [
    {
     "name": "stderr",
     "output_type": "stream",
     "text": [
      "/tmp/ipykernel_864/644368727.py:1: SettingWithCopyWarning: \n",
      "A value is trying to be set on a copy of a slice from a DataFrame\n",
      "\n",
      "See the caveats in the documentation: https://pandas.pydata.org/pandas-docs/stable/user_guide/indexing.html#returning-a-view-versus-a-copy\n",
      "  vdf.replace(' ', 'No response', inplace = True)\n"
     ]
    }
   ],
   "source": [
    "vdf.replace(' ', 'No response', inplace = True)"
   ]
  },
  {
   "cell_type": "code",
   "execution_count": 13,
   "id": "a0032368-a889-4299-a415-9f79fb28d232",
   "metadata": {},
   "outputs": [
    {
     "data": {
      "text/html": [
       "<div>\n",
       "<style scoped>\n",
       "    .dataframe tbody tr th:only-of-type {\n",
       "        vertical-align: middle;\n",
       "    }\n",
       "\n",
       "    .dataframe tbody tr th {\n",
       "        vertical-align: top;\n",
       "    }\n",
       "\n",
       "    .dataframe thead th {\n",
       "        text-align: right;\n",
       "    }\n",
       "</style>\n",
       "<table border=\"1\" class=\"dataframe\">\n",
       "  <thead>\n",
       "    <tr style=\"text-align: right;\">\n",
       "      <th></th>\n",
       "      <th>Progress</th>\n",
       "      <th>Language</th>\n",
       "      <th>var199</th>\n",
       "      <th>var200</th>\n",
       "      <th>var201</th>\n",
       "      <th>count</th>\n",
       "    </tr>\n",
       "  </thead>\n",
       "  <tbody>\n",
       "    <tr>\n",
       "      <th>0</th>\n",
       "      <td>100</td>\n",
       "      <td>RU</td>\n",
       "      <td>Strongly disagree</td>\n",
       "      <td>Strongly disagree</td>\n",
       "      <td>Strongly disagree</td>\n",
       "      <td>1</td>\n",
       "    </tr>\n",
       "    <tr>\n",
       "      <th>1</th>\n",
       "      <td>100</td>\n",
       "      <td>RU</td>\n",
       "      <td>Agree</td>\n",
       "      <td>Strongly agree</td>\n",
       "      <td>Agree</td>\n",
       "      <td>1</td>\n",
       "    </tr>\n",
       "    <tr>\n",
       "      <th>2</th>\n",
       "      <td>100</td>\n",
       "      <td>RU</td>\n",
       "      <td>No response</td>\n",
       "      <td>No response</td>\n",
       "      <td>No response</td>\n",
       "      <td>1</td>\n",
       "    </tr>\n",
       "    <tr>\n",
       "      <th>3</th>\n",
       "      <td>100</td>\n",
       "      <td>RU</td>\n",
       "      <td>No response</td>\n",
       "      <td>No response</td>\n",
       "      <td>No response</td>\n",
       "      <td>1</td>\n",
       "    </tr>\n",
       "    <tr>\n",
       "      <th>4</th>\n",
       "      <td>4</td>\n",
       "      <td>RU</td>\n",
       "      <td>No response</td>\n",
       "      <td>No response</td>\n",
       "      <td>No response</td>\n",
       "      <td>1</td>\n",
       "    </tr>\n",
       "    <tr>\n",
       "      <th>...</th>\n",
       "      <td>...</td>\n",
       "      <td>...</td>\n",
       "      <td>...</td>\n",
       "      <td>...</td>\n",
       "      <td>...</td>\n",
       "      <td>...</td>\n",
       "    </tr>\n",
       "    <tr>\n",
       "      <th>1885</th>\n",
       "      <td>100</td>\n",
       "      <td>RU</td>\n",
       "      <td>Agree</td>\n",
       "      <td>Agree</td>\n",
       "      <td>Agree</td>\n",
       "      <td>1</td>\n",
       "    </tr>\n",
       "    <tr>\n",
       "      <th>1886</th>\n",
       "      <td>100</td>\n",
       "      <td>RU</td>\n",
       "      <td>Strongly agree</td>\n",
       "      <td>Strongly agree</td>\n",
       "      <td>Strongly agree</td>\n",
       "      <td>1</td>\n",
       "    </tr>\n",
       "    <tr>\n",
       "      <th>1887</th>\n",
       "      <td>100</td>\n",
       "      <td>RU</td>\n",
       "      <td>Agree</td>\n",
       "      <td>Strongly agree</td>\n",
       "      <td>Strongly agree</td>\n",
       "      <td>1</td>\n",
       "    </tr>\n",
       "    <tr>\n",
       "      <th>1888</th>\n",
       "      <td>100</td>\n",
       "      <td>RU</td>\n",
       "      <td>Strongly agree</td>\n",
       "      <td>Strongly agree</td>\n",
       "      <td>Strongly agree</td>\n",
       "      <td>1</td>\n",
       "    </tr>\n",
       "    <tr>\n",
       "      <th>1889</th>\n",
       "      <td>62</td>\n",
       "      <td>RU</td>\n",
       "      <td>Strongly disagree</td>\n",
       "      <td>Strongly disagree</td>\n",
       "      <td>Strongly disagree</td>\n",
       "      <td>1</td>\n",
       "    </tr>\n",
       "  </tbody>\n",
       "</table>\n",
       "<p>1455 rows × 6 columns</p>\n",
       "</div>"
      ],
      "text/plain": [
       "      Progress Language             var199             var200  \\\n",
       "0          100       RU  Strongly disagree  Strongly disagree   \n",
       "1          100       RU              Agree     Strongly agree   \n",
       "2          100       RU        No response        No response   \n",
       "3          100       RU        No response        No response   \n",
       "4            4       RU        No response        No response   \n",
       "...        ...      ...                ...                ...   \n",
       "1885       100       RU              Agree              Agree   \n",
       "1886       100       RU     Strongly agree     Strongly agree   \n",
       "1887       100       RU              Agree     Strongly agree   \n",
       "1888       100       RU     Strongly agree     Strongly agree   \n",
       "1889        62       RU  Strongly disagree  Strongly disagree   \n",
       "\n",
       "                 var201  count  \n",
       "0     Strongly disagree      1  \n",
       "1                 Agree      1  \n",
       "2           No response      1  \n",
       "3           No response      1  \n",
       "4           No response      1  \n",
       "...                 ...    ...  \n",
       "1885              Agree      1  \n",
       "1886     Strongly agree      1  \n",
       "1887     Strongly agree      1  \n",
       "1888     Strongly agree      1  \n",
       "1889  Strongly disagree      1  \n",
       "\n",
       "[1455 rows x 6 columns]"
      ]
     },
     "execution_count": 13,
     "metadata": {},
     "output_type": "execute_result"
    }
   ],
   "source": [
    "vdf"
   ]
  },
  {
   "cell_type": "code",
   "execution_count": 14,
   "id": "f2983fc1-fd9b-4f34-8b77-a338572ba4ce",
   "metadata": {},
   "outputs": [
    {
     "data": {
      "text/html": [
       "<div>\n",
       "<style scoped>\n",
       "    .dataframe tbody tr th:only-of-type {\n",
       "        vertical-align: middle;\n",
       "    }\n",
       "\n",
       "    .dataframe tbody tr th {\n",
       "        vertical-align: top;\n",
       "    }\n",
       "\n",
       "    .dataframe thead th {\n",
       "        text-align: right;\n",
       "    }\n",
       "</style>\n",
       "<table border=\"1\" class=\"dataframe\">\n",
       "  <thead>\n",
       "    <tr style=\"text-align: right;\">\n",
       "      <th></th>\n",
       "      <th>var199</th>\n",
       "      <th>count</th>\n",
       "    </tr>\n",
       "  </thead>\n",
       "  <tbody>\n",
       "    <tr>\n",
       "      <th>0</th>\n",
       "      <td>Agree</td>\n",
       "      <td>465</td>\n",
       "    </tr>\n",
       "    <tr>\n",
       "      <th>1</th>\n",
       "      <td>Disagree</td>\n",
       "      <td>46</td>\n",
       "    </tr>\n",
       "    <tr>\n",
       "      <th>2</th>\n",
       "      <td>Neither agree nor disagree</td>\n",
       "      <td>77</td>\n",
       "    </tr>\n",
       "    <tr>\n",
       "      <th>3</th>\n",
       "      <td>No response</td>\n",
       "      <td>436</td>\n",
       "    </tr>\n",
       "    <tr>\n",
       "      <th>4</th>\n",
       "      <td>Strongly agree</td>\n",
       "      <td>352</td>\n",
       "    </tr>\n",
       "    <tr>\n",
       "      <th>5</th>\n",
       "      <td>Strongly disagree</td>\n",
       "      <td>79</td>\n",
       "    </tr>\n",
       "  </tbody>\n",
       "</table>\n",
       "</div>"
      ],
      "text/plain": [
       "                       var199  count\n",
       "0                       Agree    465\n",
       "1                    Disagree     46\n",
       "2  Neither agree nor disagree     77\n",
       "3                 No response    436\n",
       "4              Strongly agree    352\n",
       "5           Strongly disagree     79"
      ]
     },
     "execution_count": 14,
     "metadata": {},
     "output_type": "execute_result"
    }
   ],
   "source": [
    "g1 = vdf.groupby(['var199'])['count'].count().reset_index()\n",
    "g1"
   ]
  },
  {
   "cell_type": "code",
   "execution_count": 15,
   "id": "28be8050-d475-4bf3-9b3b-c9d243e13e31",
   "metadata": {},
   "outputs": [
    {
     "data": {
      "text/html": [
       "<div>\n",
       "<style scoped>\n",
       "    .dataframe tbody tr th:only-of-type {\n",
       "        vertical-align: middle;\n",
       "    }\n",
       "\n",
       "    .dataframe tbody tr th {\n",
       "        vertical-align: top;\n",
       "    }\n",
       "\n",
       "    .dataframe thead th {\n",
       "        text-align: right;\n",
       "    }\n",
       "</style>\n",
       "<table border=\"1\" class=\"dataframe\">\n",
       "  <thead>\n",
       "    <tr style=\"text-align: right;\">\n",
       "      <th></th>\n",
       "      <th>var200</th>\n",
       "      <th>count</th>\n",
       "    </tr>\n",
       "  </thead>\n",
       "  <tbody>\n",
       "    <tr>\n",
       "      <th>0</th>\n",
       "      <td>Agree</td>\n",
       "      <td>421</td>\n",
       "    </tr>\n",
       "    <tr>\n",
       "      <th>1</th>\n",
       "      <td>Disagree</td>\n",
       "      <td>61</td>\n",
       "    </tr>\n",
       "    <tr>\n",
       "      <th>2</th>\n",
       "      <td>Neither agree nor disagree</td>\n",
       "      <td>104</td>\n",
       "    </tr>\n",
       "    <tr>\n",
       "      <th>3</th>\n",
       "      <td>No response</td>\n",
       "      <td>446</td>\n",
       "    </tr>\n",
       "    <tr>\n",
       "      <th>4</th>\n",
       "      <td>Strongly agree</td>\n",
       "      <td>357</td>\n",
       "    </tr>\n",
       "    <tr>\n",
       "      <th>5</th>\n",
       "      <td>Strongly disagree</td>\n",
       "      <td>66</td>\n",
       "    </tr>\n",
       "  </tbody>\n",
       "</table>\n",
       "</div>"
      ],
      "text/plain": [
       "                       var200  count\n",
       "0                       Agree    421\n",
       "1                    Disagree     61\n",
       "2  Neither agree nor disagree    104\n",
       "3                 No response    446\n",
       "4              Strongly agree    357\n",
       "5           Strongly disagree     66"
      ]
     },
     "execution_count": 15,
     "metadata": {},
     "output_type": "execute_result"
    }
   ],
   "source": [
    "g2 = vdf.groupby(['var200'])['count'].count().reset_index()\n",
    "g2"
   ]
  },
  {
   "cell_type": "code",
   "execution_count": 17,
   "id": "c733ef11-3408-4162-896a-a8d29508d699",
   "metadata": {},
   "outputs": [
    {
     "data": {
      "text/html": [
       "<div>\n",
       "<style scoped>\n",
       "    .dataframe tbody tr th:only-of-type {\n",
       "        vertical-align: middle;\n",
       "    }\n",
       "\n",
       "    .dataframe tbody tr th {\n",
       "        vertical-align: top;\n",
       "    }\n",
       "\n",
       "    .dataframe thead th {\n",
       "        text-align: right;\n",
       "    }\n",
       "</style>\n",
       "<table border=\"1\" class=\"dataframe\">\n",
       "  <thead>\n",
       "    <tr style=\"text-align: right;\">\n",
       "      <th></th>\n",
       "      <th>var201</th>\n",
       "      <th>count</th>\n",
       "    </tr>\n",
       "  </thead>\n",
       "  <tbody>\n",
       "    <tr>\n",
       "      <th>0</th>\n",
       "      <td>Agree</td>\n",
       "      <td>457</td>\n",
       "    </tr>\n",
       "    <tr>\n",
       "      <th>1</th>\n",
       "      <td>Disagree</td>\n",
       "      <td>52</td>\n",
       "    </tr>\n",
       "    <tr>\n",
       "      <th>2</th>\n",
       "      <td>Neither agree nor disagree</td>\n",
       "      <td>129</td>\n",
       "    </tr>\n",
       "    <tr>\n",
       "      <th>3</th>\n",
       "      <td>No response</td>\n",
       "      <td>454</td>\n",
       "    </tr>\n",
       "    <tr>\n",
       "      <th>4</th>\n",
       "      <td>Strongly agree</td>\n",
       "      <td>300</td>\n",
       "    </tr>\n",
       "    <tr>\n",
       "      <th>5</th>\n",
       "      <td>Strongly disagree</td>\n",
       "      <td>63</td>\n",
       "    </tr>\n",
       "  </tbody>\n",
       "</table>\n",
       "</div>"
      ],
      "text/plain": [
       "                       var201  count\n",
       "0                       Agree    457\n",
       "1                    Disagree     52\n",
       "2  Neither agree nor disagree    129\n",
       "3                 No response    454\n",
       "4              Strongly agree    300\n",
       "5           Strongly disagree     63"
      ]
     },
     "execution_count": 17,
     "metadata": {},
     "output_type": "execute_result"
    }
   ],
   "source": [
    "g3 = vdf.groupby(['var201'])['count'].count().reset_index()\n",
    "g3"
   ]
  },
  {
   "cell_type": "code",
   "execution_count": 18,
   "id": "357cb95e-1a43-4c8e-9708-c65f5cfbaec7",
   "metadata": {},
   "outputs": [
    {
     "data": {
      "text/html": [
       "<div>\n",
       "<style scoped>\n",
       "    .dataframe tbody tr th:only-of-type {\n",
       "        vertical-align: middle;\n",
       "    }\n",
       "\n",
       "    .dataframe tbody tr th {\n",
       "        vertical-align: top;\n",
       "    }\n",
       "\n",
       "    .dataframe thead th {\n",
       "        text-align: right;\n",
       "    }\n",
       "</style>\n",
       "<table border=\"1\" class=\"dataframe\">\n",
       "  <thead>\n",
       "    <tr style=\"text-align: right;\">\n",
       "      <th></th>\n",
       "      <th>var199</th>\n",
       "      <th>var200</th>\n",
       "      <th>count</th>\n",
       "    </tr>\n",
       "  </thead>\n",
       "  <tbody>\n",
       "    <tr>\n",
       "      <th>0</th>\n",
       "      <td>Agree</td>\n",
       "      <td>Agree</td>\n",
       "      <td>300</td>\n",
       "    </tr>\n",
       "    <tr>\n",
       "      <th>1</th>\n",
       "      <td>Agree</td>\n",
       "      <td>Disagree</td>\n",
       "      <td>25</td>\n",
       "    </tr>\n",
       "    <tr>\n",
       "      <th>2</th>\n",
       "      <td>Agree</td>\n",
       "      <td>Neither agree nor disagree</td>\n",
       "      <td>38</td>\n",
       "    </tr>\n",
       "    <tr>\n",
       "      <th>3</th>\n",
       "      <td>Agree</td>\n",
       "      <td>No response</td>\n",
       "      <td>5</td>\n",
       "    </tr>\n",
       "    <tr>\n",
       "      <th>4</th>\n",
       "      <td>Agree</td>\n",
       "      <td>Strongly agree</td>\n",
       "      <td>91</td>\n",
       "    </tr>\n",
       "    <tr>\n",
       "      <th>5</th>\n",
       "      <td>Agree</td>\n",
       "      <td>Strongly disagree</td>\n",
       "      <td>6</td>\n",
       "    </tr>\n",
       "    <tr>\n",
       "      <th>6</th>\n",
       "      <td>Disagree</td>\n",
       "      <td>Agree</td>\n",
       "      <td>17</td>\n",
       "    </tr>\n",
       "    <tr>\n",
       "      <th>7</th>\n",
       "      <td>Disagree</td>\n",
       "      <td>Disagree</td>\n",
       "      <td>15</td>\n",
       "    </tr>\n",
       "    <tr>\n",
       "      <th>8</th>\n",
       "      <td>Disagree</td>\n",
       "      <td>Neither agree nor disagree</td>\n",
       "      <td>3</td>\n",
       "    </tr>\n",
       "    <tr>\n",
       "      <th>9</th>\n",
       "      <td>Disagree</td>\n",
       "      <td>Strongly agree</td>\n",
       "      <td>4</td>\n",
       "    </tr>\n",
       "    <tr>\n",
       "      <th>10</th>\n",
       "      <td>Disagree</td>\n",
       "      <td>Strongly disagree</td>\n",
       "      <td>7</td>\n",
       "    </tr>\n",
       "    <tr>\n",
       "      <th>11</th>\n",
       "      <td>Neither agree nor disagree</td>\n",
       "      <td>Agree</td>\n",
       "      <td>27</td>\n",
       "    </tr>\n",
       "    <tr>\n",
       "      <th>12</th>\n",
       "      <td>Neither agree nor disagree</td>\n",
       "      <td>Disagree</td>\n",
       "      <td>4</td>\n",
       "    </tr>\n",
       "    <tr>\n",
       "      <th>13</th>\n",
       "      <td>Neither agree nor disagree</td>\n",
       "      <td>Neither agree nor disagree</td>\n",
       "      <td>38</td>\n",
       "    </tr>\n",
       "    <tr>\n",
       "      <th>14</th>\n",
       "      <td>Neither agree nor disagree</td>\n",
       "      <td>No response</td>\n",
       "      <td>3</td>\n",
       "    </tr>\n",
       "    <tr>\n",
       "      <th>15</th>\n",
       "      <td>Neither agree nor disagree</td>\n",
       "      <td>Strongly agree</td>\n",
       "      <td>5</td>\n",
       "    </tr>\n",
       "    <tr>\n",
       "      <th>16</th>\n",
       "      <td>No response</td>\n",
       "      <td>Agree</td>\n",
       "      <td>1</td>\n",
       "    </tr>\n",
       "    <tr>\n",
       "      <th>17</th>\n",
       "      <td>No response</td>\n",
       "      <td>Disagree</td>\n",
       "      <td>1</td>\n",
       "    </tr>\n",
       "    <tr>\n",
       "      <th>18</th>\n",
       "      <td>No response</td>\n",
       "      <td>Neither agree nor disagree</td>\n",
       "      <td>1</td>\n",
       "    </tr>\n",
       "    <tr>\n",
       "      <th>19</th>\n",
       "      <td>No response</td>\n",
       "      <td>No response</td>\n",
       "      <td>430</td>\n",
       "    </tr>\n",
       "    <tr>\n",
       "      <th>20</th>\n",
       "      <td>No response</td>\n",
       "      <td>Strongly agree</td>\n",
       "      <td>2</td>\n",
       "    </tr>\n",
       "    <tr>\n",
       "      <th>21</th>\n",
       "      <td>No response</td>\n",
       "      <td>Strongly disagree</td>\n",
       "      <td>1</td>\n",
       "    </tr>\n",
       "    <tr>\n",
       "      <th>22</th>\n",
       "      <td>Strongly agree</td>\n",
       "      <td>Agree</td>\n",
       "      <td>69</td>\n",
       "    </tr>\n",
       "    <tr>\n",
       "      <th>23</th>\n",
       "      <td>Strongly agree</td>\n",
       "      <td>Disagree</td>\n",
       "      <td>5</td>\n",
       "    </tr>\n",
       "    <tr>\n",
       "      <th>24</th>\n",
       "      <td>Strongly agree</td>\n",
       "      <td>Neither agree nor disagree</td>\n",
       "      <td>18</td>\n",
       "    </tr>\n",
       "    <tr>\n",
       "      <th>25</th>\n",
       "      <td>Strongly agree</td>\n",
       "      <td>No response</td>\n",
       "      <td>3</td>\n",
       "    </tr>\n",
       "    <tr>\n",
       "      <th>26</th>\n",
       "      <td>Strongly agree</td>\n",
       "      <td>Strongly agree</td>\n",
       "      <td>250</td>\n",
       "    </tr>\n",
       "    <tr>\n",
       "      <th>27</th>\n",
       "      <td>Strongly agree</td>\n",
       "      <td>Strongly disagree</td>\n",
       "      <td>7</td>\n",
       "    </tr>\n",
       "    <tr>\n",
       "      <th>28</th>\n",
       "      <td>Strongly disagree</td>\n",
       "      <td>Agree</td>\n",
       "      <td>7</td>\n",
       "    </tr>\n",
       "    <tr>\n",
       "      <th>29</th>\n",
       "      <td>Strongly disagree</td>\n",
       "      <td>Disagree</td>\n",
       "      <td>11</td>\n",
       "    </tr>\n",
       "    <tr>\n",
       "      <th>30</th>\n",
       "      <td>Strongly disagree</td>\n",
       "      <td>Neither agree nor disagree</td>\n",
       "      <td>6</td>\n",
       "    </tr>\n",
       "    <tr>\n",
       "      <th>31</th>\n",
       "      <td>Strongly disagree</td>\n",
       "      <td>No response</td>\n",
       "      <td>5</td>\n",
       "    </tr>\n",
       "    <tr>\n",
       "      <th>32</th>\n",
       "      <td>Strongly disagree</td>\n",
       "      <td>Strongly agree</td>\n",
       "      <td>5</td>\n",
       "    </tr>\n",
       "    <tr>\n",
       "      <th>33</th>\n",
       "      <td>Strongly disagree</td>\n",
       "      <td>Strongly disagree</td>\n",
       "      <td>45</td>\n",
       "    </tr>\n",
       "  </tbody>\n",
       "</table>\n",
       "</div>"
      ],
      "text/plain": [
       "                        var199                      var200  count\n",
       "0                        Agree                       Agree    300\n",
       "1                        Agree                    Disagree     25\n",
       "2                        Agree  Neither agree nor disagree     38\n",
       "3                        Agree                 No response      5\n",
       "4                        Agree              Strongly agree     91\n",
       "5                        Agree           Strongly disagree      6\n",
       "6                     Disagree                       Agree     17\n",
       "7                     Disagree                    Disagree     15\n",
       "8                     Disagree  Neither agree nor disagree      3\n",
       "9                     Disagree              Strongly agree      4\n",
       "10                    Disagree           Strongly disagree      7\n",
       "11  Neither agree nor disagree                       Agree     27\n",
       "12  Neither agree nor disagree                    Disagree      4\n",
       "13  Neither agree nor disagree  Neither agree nor disagree     38\n",
       "14  Neither agree nor disagree                 No response      3\n",
       "15  Neither agree nor disagree              Strongly agree      5\n",
       "16                 No response                       Agree      1\n",
       "17                 No response                    Disagree      1\n",
       "18                 No response  Neither agree nor disagree      1\n",
       "19                 No response                 No response    430\n",
       "20                 No response              Strongly agree      2\n",
       "21                 No response           Strongly disagree      1\n",
       "22              Strongly agree                       Agree     69\n",
       "23              Strongly agree                    Disagree      5\n",
       "24              Strongly agree  Neither agree nor disagree     18\n",
       "25              Strongly agree                 No response      3\n",
       "26              Strongly agree              Strongly agree    250\n",
       "27              Strongly agree           Strongly disagree      7\n",
       "28           Strongly disagree                       Agree      7\n",
       "29           Strongly disagree                    Disagree     11\n",
       "30           Strongly disagree  Neither agree nor disagree      6\n",
       "31           Strongly disagree                 No response      5\n",
       "32           Strongly disagree              Strongly agree      5\n",
       "33           Strongly disagree           Strongly disagree     45"
      ]
     },
     "execution_count": 18,
     "metadata": {},
     "output_type": "execute_result"
    }
   ],
   "source": [
    "g12 = vdf.groupby(['var199', 'var200'])['count'].count().reset_index()\n",
    "g12"
   ]
  },
  {
   "cell_type": "code",
   "execution_count": 19,
   "id": "87a4ba69-c5e0-4f4a-b2ba-87b24a40bd93",
   "metadata": {},
   "outputs": [
    {
     "data": {
      "text/html": [
       "<div>\n",
       "<style scoped>\n",
       "    .dataframe tbody tr th:only-of-type {\n",
       "        vertical-align: middle;\n",
       "    }\n",
       "\n",
       "    .dataframe tbody tr th {\n",
       "        vertical-align: top;\n",
       "    }\n",
       "\n",
       "    .dataframe thead th {\n",
       "        text-align: right;\n",
       "    }\n",
       "</style>\n",
       "<table border=\"1\" class=\"dataframe\">\n",
       "  <thead>\n",
       "    <tr style=\"text-align: right;\">\n",
       "      <th></th>\n",
       "      <th>var200</th>\n",
       "      <th>var201</th>\n",
       "      <th>count</th>\n",
       "    </tr>\n",
       "  </thead>\n",
       "  <tbody>\n",
       "    <tr>\n",
       "      <th>0</th>\n",
       "      <td>Agree</td>\n",
       "      <td>Agree</td>\n",
       "      <td>328</td>\n",
       "    </tr>\n",
       "    <tr>\n",
       "      <th>1</th>\n",
       "      <td>Agree</td>\n",
       "      <td>Disagree</td>\n",
       "      <td>11</td>\n",
       "    </tr>\n",
       "    <tr>\n",
       "      <th>2</th>\n",
       "      <td>Agree</td>\n",
       "      <td>Neither agree nor disagree</td>\n",
       "      <td>45</td>\n",
       "    </tr>\n",
       "    <tr>\n",
       "      <th>3</th>\n",
       "      <td>Agree</td>\n",
       "      <td>No response</td>\n",
       "      <td>3</td>\n",
       "    </tr>\n",
       "    <tr>\n",
       "      <th>4</th>\n",
       "      <td>Agree</td>\n",
       "      <td>Strongly agree</td>\n",
       "      <td>30</td>\n",
       "    </tr>\n",
       "    <tr>\n",
       "      <th>5</th>\n",
       "      <td>Agree</td>\n",
       "      <td>Strongly disagree</td>\n",
       "      <td>4</td>\n",
       "    </tr>\n",
       "    <tr>\n",
       "      <th>6</th>\n",
       "      <td>Disagree</td>\n",
       "      <td>Agree</td>\n",
       "      <td>15</td>\n",
       "    </tr>\n",
       "    <tr>\n",
       "      <th>7</th>\n",
       "      <td>Disagree</td>\n",
       "      <td>Disagree</td>\n",
       "      <td>27</td>\n",
       "    </tr>\n",
       "    <tr>\n",
       "      <th>8</th>\n",
       "      <td>Disagree</td>\n",
       "      <td>Neither agree nor disagree</td>\n",
       "      <td>10</td>\n",
       "    </tr>\n",
       "    <tr>\n",
       "      <th>9</th>\n",
       "      <td>Disagree</td>\n",
       "      <td>No response</td>\n",
       "      <td>2</td>\n",
       "    </tr>\n",
       "    <tr>\n",
       "      <th>10</th>\n",
       "      <td>Disagree</td>\n",
       "      <td>Strongly agree</td>\n",
       "      <td>3</td>\n",
       "    </tr>\n",
       "    <tr>\n",
       "      <th>11</th>\n",
       "      <td>Disagree</td>\n",
       "      <td>Strongly disagree</td>\n",
       "      <td>4</td>\n",
       "    </tr>\n",
       "    <tr>\n",
       "      <th>12</th>\n",
       "      <td>Neither agree nor disagree</td>\n",
       "      <td>Agree</td>\n",
       "      <td>38</td>\n",
       "    </tr>\n",
       "    <tr>\n",
       "      <th>13</th>\n",
       "      <td>Neither agree nor disagree</td>\n",
       "      <td>Disagree</td>\n",
       "      <td>4</td>\n",
       "    </tr>\n",
       "    <tr>\n",
       "      <th>14</th>\n",
       "      <td>Neither agree nor disagree</td>\n",
       "      <td>Neither agree nor disagree</td>\n",
       "      <td>48</td>\n",
       "    </tr>\n",
       "    <tr>\n",
       "      <th>15</th>\n",
       "      <td>Neither agree nor disagree</td>\n",
       "      <td>No response</td>\n",
       "      <td>3</td>\n",
       "    </tr>\n",
       "    <tr>\n",
       "      <th>16</th>\n",
       "      <td>Neither agree nor disagree</td>\n",
       "      <td>Strongly agree</td>\n",
       "      <td>7</td>\n",
       "    </tr>\n",
       "    <tr>\n",
       "      <th>17</th>\n",
       "      <td>Neither agree nor disagree</td>\n",
       "      <td>Strongly disagree</td>\n",
       "      <td>4</td>\n",
       "    </tr>\n",
       "    <tr>\n",
       "      <th>18</th>\n",
       "      <td>No response</td>\n",
       "      <td>Agree</td>\n",
       "      <td>1</td>\n",
       "    </tr>\n",
       "    <tr>\n",
       "      <th>19</th>\n",
       "      <td>No response</td>\n",
       "      <td>Disagree</td>\n",
       "      <td>1</td>\n",
       "    </tr>\n",
       "    <tr>\n",
       "      <th>20</th>\n",
       "      <td>No response</td>\n",
       "      <td>Neither agree nor disagree</td>\n",
       "      <td>3</td>\n",
       "    </tr>\n",
       "    <tr>\n",
       "      <th>21</th>\n",
       "      <td>No response</td>\n",
       "      <td>No response</td>\n",
       "      <td>440</td>\n",
       "    </tr>\n",
       "    <tr>\n",
       "      <th>22</th>\n",
       "      <td>No response</td>\n",
       "      <td>Strongly disagree</td>\n",
       "      <td>1</td>\n",
       "    </tr>\n",
       "    <tr>\n",
       "      <th>23</th>\n",
       "      <td>Strongly agree</td>\n",
       "      <td>Agree</td>\n",
       "      <td>67</td>\n",
       "    </tr>\n",
       "    <tr>\n",
       "      <th>24</th>\n",
       "      <td>Strongly agree</td>\n",
       "      <td>Disagree</td>\n",
       "      <td>6</td>\n",
       "    </tr>\n",
       "    <tr>\n",
       "      <th>25</th>\n",
       "      <td>Strongly agree</td>\n",
       "      <td>Neither agree nor disagree</td>\n",
       "      <td>19</td>\n",
       "    </tr>\n",
       "    <tr>\n",
       "      <th>26</th>\n",
       "      <td>Strongly agree</td>\n",
       "      <td>No response</td>\n",
       "      <td>3</td>\n",
       "    </tr>\n",
       "    <tr>\n",
       "      <th>27</th>\n",
       "      <td>Strongly agree</td>\n",
       "      <td>Strongly agree</td>\n",
       "      <td>258</td>\n",
       "    </tr>\n",
       "    <tr>\n",
       "      <th>28</th>\n",
       "      <td>Strongly agree</td>\n",
       "      <td>Strongly disagree</td>\n",
       "      <td>4</td>\n",
       "    </tr>\n",
       "    <tr>\n",
       "      <th>29</th>\n",
       "      <td>Strongly disagree</td>\n",
       "      <td>Agree</td>\n",
       "      <td>8</td>\n",
       "    </tr>\n",
       "    <tr>\n",
       "      <th>30</th>\n",
       "      <td>Strongly disagree</td>\n",
       "      <td>Disagree</td>\n",
       "      <td>3</td>\n",
       "    </tr>\n",
       "    <tr>\n",
       "      <th>31</th>\n",
       "      <td>Strongly disagree</td>\n",
       "      <td>Neither agree nor disagree</td>\n",
       "      <td>4</td>\n",
       "    </tr>\n",
       "    <tr>\n",
       "      <th>32</th>\n",
       "      <td>Strongly disagree</td>\n",
       "      <td>No response</td>\n",
       "      <td>3</td>\n",
       "    </tr>\n",
       "    <tr>\n",
       "      <th>33</th>\n",
       "      <td>Strongly disagree</td>\n",
       "      <td>Strongly agree</td>\n",
       "      <td>2</td>\n",
       "    </tr>\n",
       "    <tr>\n",
       "      <th>34</th>\n",
       "      <td>Strongly disagree</td>\n",
       "      <td>Strongly disagree</td>\n",
       "      <td>46</td>\n",
       "    </tr>\n",
       "  </tbody>\n",
       "</table>\n",
       "</div>"
      ],
      "text/plain": [
       "                        var200                      var201  count\n",
       "0                        Agree                       Agree    328\n",
       "1                        Agree                    Disagree     11\n",
       "2                        Agree  Neither agree nor disagree     45\n",
       "3                        Agree                 No response      3\n",
       "4                        Agree              Strongly agree     30\n",
       "5                        Agree           Strongly disagree      4\n",
       "6                     Disagree                       Agree     15\n",
       "7                     Disagree                    Disagree     27\n",
       "8                     Disagree  Neither agree nor disagree     10\n",
       "9                     Disagree                 No response      2\n",
       "10                    Disagree              Strongly agree      3\n",
       "11                    Disagree           Strongly disagree      4\n",
       "12  Neither agree nor disagree                       Agree     38\n",
       "13  Neither agree nor disagree                    Disagree      4\n",
       "14  Neither agree nor disagree  Neither agree nor disagree     48\n",
       "15  Neither agree nor disagree                 No response      3\n",
       "16  Neither agree nor disagree              Strongly agree      7\n",
       "17  Neither agree nor disagree           Strongly disagree      4\n",
       "18                 No response                       Agree      1\n",
       "19                 No response                    Disagree      1\n",
       "20                 No response  Neither agree nor disagree      3\n",
       "21                 No response                 No response    440\n",
       "22                 No response           Strongly disagree      1\n",
       "23              Strongly agree                       Agree     67\n",
       "24              Strongly agree                    Disagree      6\n",
       "25              Strongly agree  Neither agree nor disagree     19\n",
       "26              Strongly agree                 No response      3\n",
       "27              Strongly agree              Strongly agree    258\n",
       "28              Strongly agree           Strongly disagree      4\n",
       "29           Strongly disagree                       Agree      8\n",
       "30           Strongly disagree                    Disagree      3\n",
       "31           Strongly disagree  Neither agree nor disagree      4\n",
       "32           Strongly disagree                 No response      3\n",
       "33           Strongly disagree              Strongly agree      2\n",
       "34           Strongly disagree           Strongly disagree     46"
      ]
     },
     "execution_count": 19,
     "metadata": {},
     "output_type": "execute_result"
    }
   ],
   "source": [
    "g23 = vdf.groupby(['var200', 'var201'])['count'].count().reset_index()\n",
    "g23"
   ]
  },
  {
   "cell_type": "code",
   "execution_count": 20,
   "id": "2dcf24ad-c455-472a-b4c5-e1c9cdffe172",
   "metadata": {},
   "outputs": [
    {
     "data": {
      "text/html": [
       "<div>\n",
       "<style scoped>\n",
       "    .dataframe tbody tr th:only-of-type {\n",
       "        vertical-align: middle;\n",
       "    }\n",
       "\n",
       "    .dataframe tbody tr th {\n",
       "        vertical-align: top;\n",
       "    }\n",
       "\n",
       "    .dataframe thead th {\n",
       "        text-align: right;\n",
       "    }\n",
       "</style>\n",
       "<table border=\"1\" class=\"dataframe\">\n",
       "  <thead>\n",
       "    <tr style=\"text-align: right;\">\n",
       "      <th></th>\n",
       "      <th>var199</th>\n",
       "      <th>var201</th>\n",
       "      <th>count</th>\n",
       "    </tr>\n",
       "  </thead>\n",
       "  <tbody>\n",
       "    <tr>\n",
       "      <th>0</th>\n",
       "      <td>Agree</td>\n",
       "      <td>Agree</td>\n",
       "      <td>298</td>\n",
       "    </tr>\n",
       "    <tr>\n",
       "      <th>1</th>\n",
       "      <td>Agree</td>\n",
       "      <td>Disagree</td>\n",
       "      <td>19</td>\n",
       "    </tr>\n",
       "    <tr>\n",
       "      <th>2</th>\n",
       "      <td>Agree</td>\n",
       "      <td>Neither agree nor disagree</td>\n",
       "      <td>63</td>\n",
       "    </tr>\n",
       "    <tr>\n",
       "      <th>3</th>\n",
       "      <td>Agree</td>\n",
       "      <td>No response</td>\n",
       "      <td>7</td>\n",
       "    </tr>\n",
       "    <tr>\n",
       "      <th>4</th>\n",
       "      <td>Agree</td>\n",
       "      <td>Strongly agree</td>\n",
       "      <td>75</td>\n",
       "    </tr>\n",
       "    <tr>\n",
       "      <th>5</th>\n",
       "      <td>Agree</td>\n",
       "      <td>Strongly disagree</td>\n",
       "      <td>3</td>\n",
       "    </tr>\n",
       "    <tr>\n",
       "      <th>6</th>\n",
       "      <td>Disagree</td>\n",
       "      <td>Agree</td>\n",
       "      <td>16</td>\n",
       "    </tr>\n",
       "    <tr>\n",
       "      <th>7</th>\n",
       "      <td>Disagree</td>\n",
       "      <td>Disagree</td>\n",
       "      <td>17</td>\n",
       "    </tr>\n",
       "    <tr>\n",
       "      <th>8</th>\n",
       "      <td>Disagree</td>\n",
       "      <td>Neither agree nor disagree</td>\n",
       "      <td>4</td>\n",
       "    </tr>\n",
       "    <tr>\n",
       "      <th>9</th>\n",
       "      <td>Disagree</td>\n",
       "      <td>No response</td>\n",
       "      <td>1</td>\n",
       "    </tr>\n",
       "    <tr>\n",
       "      <th>10</th>\n",
       "      <td>Disagree</td>\n",
       "      <td>Strongly agree</td>\n",
       "      <td>3</td>\n",
       "    </tr>\n",
       "    <tr>\n",
       "      <th>11</th>\n",
       "      <td>Disagree</td>\n",
       "      <td>Strongly disagree</td>\n",
       "      <td>5</td>\n",
       "    </tr>\n",
       "    <tr>\n",
       "      <th>12</th>\n",
       "      <td>Neither agree nor disagree</td>\n",
       "      <td>Agree</td>\n",
       "      <td>24</td>\n",
       "    </tr>\n",
       "    <tr>\n",
       "      <th>13</th>\n",
       "      <td>Neither agree nor disagree</td>\n",
       "      <td>Disagree</td>\n",
       "      <td>3</td>\n",
       "    </tr>\n",
       "    <tr>\n",
       "      <th>14</th>\n",
       "      <td>Neither agree nor disagree</td>\n",
       "      <td>Neither agree nor disagree</td>\n",
       "      <td>38</td>\n",
       "    </tr>\n",
       "    <tr>\n",
       "      <th>15</th>\n",
       "      <td>Neither agree nor disagree</td>\n",
       "      <td>No response</td>\n",
       "      <td>3</td>\n",
       "    </tr>\n",
       "    <tr>\n",
       "      <th>16</th>\n",
       "      <td>Neither agree nor disagree</td>\n",
       "      <td>Strongly agree</td>\n",
       "      <td>5</td>\n",
       "    </tr>\n",
       "    <tr>\n",
       "      <th>17</th>\n",
       "      <td>Neither agree nor disagree</td>\n",
       "      <td>Strongly disagree</td>\n",
       "      <td>4</td>\n",
       "    </tr>\n",
       "    <tr>\n",
       "      <th>18</th>\n",
       "      <td>No response</td>\n",
       "      <td>Agree</td>\n",
       "      <td>2</td>\n",
       "    </tr>\n",
       "    <tr>\n",
       "      <th>19</th>\n",
       "      <td>No response</td>\n",
       "      <td>Disagree</td>\n",
       "      <td>1</td>\n",
       "    </tr>\n",
       "    <tr>\n",
       "      <th>20</th>\n",
       "      <td>No response</td>\n",
       "      <td>Neither agree nor disagree</td>\n",
       "      <td>1</td>\n",
       "    </tr>\n",
       "    <tr>\n",
       "      <th>21</th>\n",
       "      <td>No response</td>\n",
       "      <td>No response</td>\n",
       "      <td>432</td>\n",
       "    </tr>\n",
       "    <tr>\n",
       "      <th>22</th>\n",
       "      <td>Strongly agree</td>\n",
       "      <td>Agree</td>\n",
       "      <td>105</td>\n",
       "    </tr>\n",
       "    <tr>\n",
       "      <th>23</th>\n",
       "      <td>Strongly agree</td>\n",
       "      <td>Disagree</td>\n",
       "      <td>7</td>\n",
       "    </tr>\n",
       "    <tr>\n",
       "      <th>24</th>\n",
       "      <td>Strongly agree</td>\n",
       "      <td>Neither agree nor disagree</td>\n",
       "      <td>17</td>\n",
       "    </tr>\n",
       "    <tr>\n",
       "      <th>25</th>\n",
       "      <td>Strongly agree</td>\n",
       "      <td>No response</td>\n",
       "      <td>3</td>\n",
       "    </tr>\n",
       "    <tr>\n",
       "      <th>26</th>\n",
       "      <td>Strongly agree</td>\n",
       "      <td>Strongly agree</td>\n",
       "      <td>212</td>\n",
       "    </tr>\n",
       "    <tr>\n",
       "      <th>27</th>\n",
       "      <td>Strongly agree</td>\n",
       "      <td>Strongly disagree</td>\n",
       "      <td>8</td>\n",
       "    </tr>\n",
       "    <tr>\n",
       "      <th>28</th>\n",
       "      <td>Strongly disagree</td>\n",
       "      <td>Agree</td>\n",
       "      <td>12</td>\n",
       "    </tr>\n",
       "    <tr>\n",
       "      <th>29</th>\n",
       "      <td>Strongly disagree</td>\n",
       "      <td>Disagree</td>\n",
       "      <td>5</td>\n",
       "    </tr>\n",
       "    <tr>\n",
       "      <th>30</th>\n",
       "      <td>Strongly disagree</td>\n",
       "      <td>Neither agree nor disagree</td>\n",
       "      <td>6</td>\n",
       "    </tr>\n",
       "    <tr>\n",
       "      <th>31</th>\n",
       "      <td>Strongly disagree</td>\n",
       "      <td>No response</td>\n",
       "      <td>8</td>\n",
       "    </tr>\n",
       "    <tr>\n",
       "      <th>32</th>\n",
       "      <td>Strongly disagree</td>\n",
       "      <td>Strongly agree</td>\n",
       "      <td>5</td>\n",
       "    </tr>\n",
       "    <tr>\n",
       "      <th>33</th>\n",
       "      <td>Strongly disagree</td>\n",
       "      <td>Strongly disagree</td>\n",
       "      <td>43</td>\n",
       "    </tr>\n",
       "  </tbody>\n",
       "</table>\n",
       "</div>"
      ],
      "text/plain": [
       "                        var199                      var201  count\n",
       "0                        Agree                       Agree    298\n",
       "1                        Agree                    Disagree     19\n",
       "2                        Agree  Neither agree nor disagree     63\n",
       "3                        Agree                 No response      7\n",
       "4                        Agree              Strongly agree     75\n",
       "5                        Agree           Strongly disagree      3\n",
       "6                     Disagree                       Agree     16\n",
       "7                     Disagree                    Disagree     17\n",
       "8                     Disagree  Neither agree nor disagree      4\n",
       "9                     Disagree                 No response      1\n",
       "10                    Disagree              Strongly agree      3\n",
       "11                    Disagree           Strongly disagree      5\n",
       "12  Neither agree nor disagree                       Agree     24\n",
       "13  Neither agree nor disagree                    Disagree      3\n",
       "14  Neither agree nor disagree  Neither agree nor disagree     38\n",
       "15  Neither agree nor disagree                 No response      3\n",
       "16  Neither agree nor disagree              Strongly agree      5\n",
       "17  Neither agree nor disagree           Strongly disagree      4\n",
       "18                 No response                       Agree      2\n",
       "19                 No response                    Disagree      1\n",
       "20                 No response  Neither agree nor disagree      1\n",
       "21                 No response                 No response    432\n",
       "22              Strongly agree                       Agree    105\n",
       "23              Strongly agree                    Disagree      7\n",
       "24              Strongly agree  Neither agree nor disagree     17\n",
       "25              Strongly agree                 No response      3\n",
       "26              Strongly agree              Strongly agree    212\n",
       "27              Strongly agree           Strongly disagree      8\n",
       "28           Strongly disagree                       Agree     12\n",
       "29           Strongly disagree                    Disagree      5\n",
       "30           Strongly disagree  Neither agree nor disagree      6\n",
       "31           Strongly disagree                 No response      8\n",
       "32           Strongly disagree              Strongly agree      5\n",
       "33           Strongly disagree           Strongly disagree     43"
      ]
     },
     "execution_count": 20,
     "metadata": {},
     "output_type": "execute_result"
    }
   ],
   "source": [
    "g13 = vdf.groupby(['var199', 'var201'])['count'].count().reset_index()\n",
    "g13"
   ]
  },
  {
   "cell_type": "code",
   "execution_count": 21,
   "id": "ee1ee7f1-3c38-4592-a86f-cadfcfc62f07",
   "metadata": {},
   "outputs": [
    {
     "data": {
      "text/html": [
       "<div>\n",
       "<style scoped>\n",
       "    .dataframe tbody tr th:only-of-type {\n",
       "        vertical-align: middle;\n",
       "    }\n",
       "\n",
       "    .dataframe tbody tr th {\n",
       "        vertical-align: top;\n",
       "    }\n",
       "\n",
       "    .dataframe thead th {\n",
       "        text-align: right;\n",
       "    }\n",
       "</style>\n",
       "<table border=\"1\" class=\"dataframe\">\n",
       "  <thead>\n",
       "    <tr style=\"text-align: right;\">\n",
       "      <th></th>\n",
       "      <th>var199</th>\n",
       "      <th>var200</th>\n",
       "      <th>var201</th>\n",
       "      <th>count</th>\n",
       "    </tr>\n",
       "  </thead>\n",
       "  <tbody>\n",
       "    <tr>\n",
       "      <th>0</th>\n",
       "      <td>Agree</td>\n",
       "      <td>Agree</td>\n",
       "      <td>Agree</td>\n",
       "      <td>243</td>\n",
       "    </tr>\n",
       "    <tr>\n",
       "      <th>1</th>\n",
       "      <td>Agree</td>\n",
       "      <td>Agree</td>\n",
       "      <td>Disagree</td>\n",
       "      <td>5</td>\n",
       "    </tr>\n",
       "    <tr>\n",
       "      <th>2</th>\n",
       "      <td>Agree</td>\n",
       "      <td>Agree</td>\n",
       "      <td>Neither agree nor disagree</td>\n",
       "      <td>33</td>\n",
       "    </tr>\n",
       "    <tr>\n",
       "      <th>3</th>\n",
       "      <td>Agree</td>\n",
       "      <td>Agree</td>\n",
       "      <td>No response</td>\n",
       "      <td>2</td>\n",
       "    </tr>\n",
       "    <tr>\n",
       "      <th>4</th>\n",
       "      <td>Agree</td>\n",
       "      <td>Agree</td>\n",
       "      <td>Strongly agree</td>\n",
       "      <td>17</td>\n",
       "    </tr>\n",
       "    <tr>\n",
       "      <th>...</th>\n",
       "      <td>...</td>\n",
       "      <td>...</td>\n",
       "      <td>...</td>\n",
       "      <td>...</td>\n",
       "    </tr>\n",
       "    <tr>\n",
       "      <th>104</th>\n",
       "      <td>Strongly disagree</td>\n",
       "      <td>Strongly disagree</td>\n",
       "      <td>Disagree</td>\n",
       "      <td>2</td>\n",
       "    </tr>\n",
       "    <tr>\n",
       "      <th>105</th>\n",
       "      <td>Strongly disagree</td>\n",
       "      <td>Strongly disagree</td>\n",
       "      <td>Neither agree nor disagree</td>\n",
       "      <td>2</td>\n",
       "    </tr>\n",
       "    <tr>\n",
       "      <th>106</th>\n",
       "      <td>Strongly disagree</td>\n",
       "      <td>Strongly disagree</td>\n",
       "      <td>No response</td>\n",
       "      <td>1</td>\n",
       "    </tr>\n",
       "    <tr>\n",
       "      <th>107</th>\n",
       "      <td>Strongly disagree</td>\n",
       "      <td>Strongly disagree</td>\n",
       "      <td>Strongly agree</td>\n",
       "      <td>1</td>\n",
       "    </tr>\n",
       "    <tr>\n",
       "      <th>108</th>\n",
       "      <td>Strongly disagree</td>\n",
       "      <td>Strongly disagree</td>\n",
       "      <td>Strongly disagree</td>\n",
       "      <td>37</td>\n",
       "    </tr>\n",
       "  </tbody>\n",
       "</table>\n",
       "<p>109 rows × 4 columns</p>\n",
       "</div>"
      ],
      "text/plain": [
       "                var199             var200                      var201  count\n",
       "0                Agree              Agree                       Agree    243\n",
       "1                Agree              Agree                    Disagree      5\n",
       "2                Agree              Agree  Neither agree nor disagree     33\n",
       "3                Agree              Agree                 No response      2\n",
       "4                Agree              Agree              Strongly agree     17\n",
       "..                 ...                ...                         ...    ...\n",
       "104  Strongly disagree  Strongly disagree                    Disagree      2\n",
       "105  Strongly disagree  Strongly disagree  Neither agree nor disagree      2\n",
       "106  Strongly disagree  Strongly disagree                 No response      1\n",
       "107  Strongly disagree  Strongly disagree              Strongly agree      1\n",
       "108  Strongly disagree  Strongly disagree           Strongly disagree     37\n",
       "\n",
       "[109 rows x 4 columns]"
      ]
     },
     "execution_count": 21,
     "metadata": {},
     "output_type": "execute_result"
    }
   ],
   "source": [
    "gp = vdf.groupby(['var199', 'var200', 'var201'])['count'].count().reset_index()\n",
    "gp"
   ]
  },
  {
   "cell_type": "markdown",
   "id": "033e2651-3610-4aa6-a5b4-27283959afe9",
   "metadata": {},
   "source": [
    "How can I visualize all of this?"
   ]
  },
  {
   "cell_type": "markdown",
   "id": "e41eb30d-3523-4c21-b51e-14e61f7c0a96",
   "metadata": {},
   "source": [
    "# network solution"
   ]
  },
  {
   "cell_type": "markdown",
   "id": "664847f1-e5b0-4407-83a7-eb45090f4b95",
   "metadata": {},
   "source": [
    "Steps:\n",
    "1. Create shared counting for each option with another\n",
    "-> For example, if someone selected option 1 on item 1, then how many of these people also selected option 1 on item 2\n",
    "2. Then you can obtain the probability of observing an one option in relationship to another\n",
    "-> This is similar to joint-probability. In other words, what are the chances that two events will occur together.\n",
    "\n",
    "    Note: I am just presenting you with the final dataset, but I can assure you that a lot of steps were taken into processing it and making it to reach its final form. These include:\n",
    "   -> Alternating between two list of nodes and tracing a path\n",
    "   -> Counting the occurances of each such path\n",
    "   -> Obtaining shared proportions for each item, and so the probability of observing it in the sample\n",
    "   -> Multiplying these probabilities together to obtain joint-probabilities\n",
    "   -> I also colored each node for unique connection (first take all the unique items, and then use random color generator)\n"
   ]
  },
  {
   "cell_type": "code",
   "execution_count": 22,
   "id": "3fbbc18a-e858-447e-a110-f872b9ed75bb",
   "metadata": {},
   "outputs": [
    {
     "data": {
      "text/html": [
       "<div>\n",
       "<style scoped>\n",
       "    .dataframe tbody tr th:only-of-type {\n",
       "        vertical-align: middle;\n",
       "    }\n",
       "\n",
       "    .dataframe tbody tr th {\n",
       "        vertical-align: top;\n",
       "    }\n",
       "\n",
       "    .dataframe thead th {\n",
       "        text-align: right;\n",
       "    }\n",
       "</style>\n",
       "<table border=\"1\" class=\"dataframe\">\n",
       "  <thead>\n",
       "    <tr style=\"text-align: right;\">\n",
       "      <th></th>\n",
       "      <th>source</th>\n",
       "      <th>sink</th>\n",
       "      <th>counts</th>\n",
       "      <th>source_name</th>\n",
       "      <th>sink_name</th>\n",
       "      <th>label</th>\n",
       "      <th>connections</th>\n",
       "      <th>colour</th>\n",
       "      <th>id</th>\n",
       "      <th>idx</th>\n",
       "      <th>p1</th>\n",
       "      <th>p2</th>\n",
       "      <th>p1p2</th>\n",
       "      <th>From</th>\n",
       "      <th>To</th>\n",
       "      <th>Count</th>\n",
       "      <th>Unnamed: 16</th>\n",
       "    </tr>\n",
       "  </thead>\n",
       "  <tbody>\n",
       "    <tr>\n",
       "      <th>0</th>\n",
       "      <td>773</td>\n",
       "      <td>767</td>\n",
       "      <td>200</td>\n",
       "      <td>Strongly agree to Revising and Updating</td>\n",
       "      <td>Strongly agree to Policymaking</td>\n",
       "      <td>Strongly agree to Revising and Updating Strong...</td>\n",
       "      <td>773 767</td>\n",
       "      <td>#2f3011</td>\n",
       "      <td>231</td>\n",
       "      <td>278</td>\n",
       "      <td>0.865801</td>\n",
       "      <td>0.719424</td>\n",
       "      <td>0.622878</td>\n",
       "      <td>Strongly agree to Revising and Updating 62.29</td>\n",
       "      <td>Strongly agree to Policymaking</td>\n",
       "      <td>200</td>\n",
       "      <td>NaN</td>\n",
       "    </tr>\n",
       "    <tr>\n",
       "      <th>1</th>\n",
       "      <td>771</td>\n",
       "      <td>766</td>\n",
       "      <td>33</td>\n",
       "      <td>Strongly disagree to Revising and Updating</td>\n",
       "      <td>Strongly disagree to Policymaking</td>\n",
       "      <td>Strongly disagree to Revising and Updating Str...</td>\n",
       "      <td>771 766</td>\n",
       "      <td>#659e9e</td>\n",
       "      <td>41</td>\n",
       "      <td>45</td>\n",
       "      <td>0.804878</td>\n",
       "      <td>0.733333</td>\n",
       "      <td>0.590244</td>\n",
       "      <td>Strongly disagree to Revising and Updating 59.02</td>\n",
       "      <td>Strongly disagree to Policymaking</td>\n",
       "      <td>33</td>\n",
       "      <td>NaN</td>\n",
       "    </tr>\n",
       "    <tr>\n",
       "      <th>2</th>\n",
       "      <td>772</td>\n",
       "      <td>768</td>\n",
       "      <td>254</td>\n",
       "      <td>Agree to Revising and Updating</td>\n",
       "      <td>Agree to Policymaking</td>\n",
       "      <td>Agree to Revising and Updating Agree to Policy...</td>\n",
       "      <td>772 768</td>\n",
       "      <td>#4b11e2</td>\n",
       "      <td>353</td>\n",
       "      <td>318</td>\n",
       "      <td>0.719547</td>\n",
       "      <td>0.798742</td>\n",
       "      <td>0.574732</td>\n",
       "      <td>Agree to Revising and Updating 57.47</td>\n",
       "      <td>Agree to Policymaking</td>\n",
       "      <td>254</td>\n",
       "      <td>NaN</td>\n",
       "    </tr>\n",
       "    <tr>\n",
       "      <th>3</th>\n",
       "      <td>767</td>\n",
       "      <td>763</td>\n",
       "      <td>196</td>\n",
       "      <td>Strongly agree to Policymaking</td>\n",
       "      <td>Strongly agree to dissemination of GK</td>\n",
       "      <td>Strongly agree to Policymaking Strongly agree ...</td>\n",
       "      <td>767 763</td>\n",
       "      <td>#9d94b4</td>\n",
       "      <td>278</td>\n",
       "      <td>276</td>\n",
       "      <td>0.705036</td>\n",
       "      <td>0.710145</td>\n",
       "      <td>0.500678</td>\n",
       "      <td>Strongly agree to Policymaking 50.07</td>\n",
       "      <td>Strongly agree to dissemination of GK</td>\n",
       "      <td>196</td>\n",
       "      <td>NaN</td>\n",
       "    </tr>\n",
       "    <tr>\n",
       "      <th>4</th>\n",
       "      <td>768</td>\n",
       "      <td>762</td>\n",
       "      <td>227</td>\n",
       "      <td>Agree to Policymaking</td>\n",
       "      <td>Agree to dissemination of GK</td>\n",
       "      <td>Agree to Policymaking Agree to dissemination o...</td>\n",
       "      <td>768 762</td>\n",
       "      <td>#27abc3</td>\n",
       "      <td>318</td>\n",
       "      <td>339</td>\n",
       "      <td>0.713836</td>\n",
       "      <td>0.669617</td>\n",
       "      <td>0.477997</td>\n",
       "      <td>Agree to Policymaking 47.8</td>\n",
       "      <td>Agree to dissemination of GK</td>\n",
       "      <td>227</td>\n",
       "      <td>NaN</td>\n",
       "    </tr>\n",
       "    <tr>\n",
       "      <th>5</th>\n",
       "      <td>766</td>\n",
       "      <td>761</td>\n",
       "      <td>33</td>\n",
       "      <td>Strongly disagree to Policymaking</td>\n",
       "      <td>Strongly disagree to dissemination of GK</td>\n",
       "      <td>Strongly disagree to Policymaking Strongly dis...</td>\n",
       "      <td>766 761</td>\n",
       "      <td>#866bbe</td>\n",
       "      <td>45</td>\n",
       "      <td>56</td>\n",
       "      <td>0.733333</td>\n",
       "      <td>0.589286</td>\n",
       "      <td>0.432143</td>\n",
       "      <td>Strongly disagree to Policymaking 43.21</td>\n",
       "      <td>Strongly disagree to dissemination of GK</td>\n",
       "      <td>33</td>\n",
       "      <td>NaN</td>\n",
       "    </tr>\n",
       "    <tr>\n",
       "      <th>6</th>\n",
       "      <td>774</td>\n",
       "      <td>770</td>\n",
       "      <td>17</td>\n",
       "      <td>Disagree to Revising and Updating</td>\n",
       "      <td>Disagree to Policymaking</td>\n",
       "      <td>Disagree to Revising and Updating Disagree to ...</td>\n",
       "      <td>774 770</td>\n",
       "      <td>#bf7be3</td>\n",
       "      <td>38</td>\n",
       "      <td>39</td>\n",
       "      <td>0.447368</td>\n",
       "      <td>0.435897</td>\n",
       "      <td>0.195007</td>\n",
       "      <td>Disagree to Revising and Updating 19.5</td>\n",
       "      <td>Disagree to Policymaking</td>\n",
       "      <td>17</td>\n",
       "      <td>NaN</td>\n",
       "    </tr>\n",
       "    <tr>\n",
       "      <th>7</th>\n",
       "      <td>775</td>\n",
       "      <td>769</td>\n",
       "      <td>32</td>\n",
       "      <td>Neutral towards to Revising and Updating</td>\n",
       "      <td>Neutral towards to Policymaking</td>\n",
       "      <td>Neutral towards to Revising and Updating Neutr...</td>\n",
       "      <td>775 769</td>\n",
       "      <td>#e6f479</td>\n",
       "      <td>83</td>\n",
       "      <td>68</td>\n",
       "      <td>0.385542</td>\n",
       "      <td>0.470588</td>\n",
       "      <td>0.181432</td>\n",
       "      <td>Neutral towards to Revising and Updating 18.14</td>\n",
       "      <td>Neutral towards to Policymaking</td>\n",
       "      <td>32</td>\n",
       "      <td>NaN</td>\n",
       "    </tr>\n",
       "    <tr>\n",
       "      <th>8</th>\n",
       "      <td>769</td>\n",
       "      <td>764</td>\n",
       "      <td>23</td>\n",
       "      <td>Neutral towards to Policymaking</td>\n",
       "      <td>Neutral towards to dissemination of GK</td>\n",
       "      <td>Neutral towards to Policymaking Neutral toward...</td>\n",
       "      <td>769 764</td>\n",
       "      <td>#884f41</td>\n",
       "      <td>68</td>\n",
       "      <td>48</td>\n",
       "      <td>0.338235</td>\n",
       "      <td>0.479167</td>\n",
       "      <td>0.162071</td>\n",
       "      <td>Neutral towards to Policymaking 16.21</td>\n",
       "      <td>Neutral towards to dissemination of GK</td>\n",
       "      <td>23</td>\n",
       "      <td>NaN</td>\n",
       "    </tr>\n",
       "    <tr>\n",
       "      <th>9</th>\n",
       "      <td>770</td>\n",
       "      <td>765</td>\n",
       "      <td>12</td>\n",
       "      <td>Disagree to Policymaking</td>\n",
       "      <td>Disagree to dissemination of GK</td>\n",
       "      <td>Disagree to Policymaking Disagree to dissemina...</td>\n",
       "      <td>770 765</td>\n",
       "      <td>#f1600a</td>\n",
       "      <td>39</td>\n",
       "      <td>35</td>\n",
       "      <td>0.307692</td>\n",
       "      <td>0.342857</td>\n",
       "      <td>0.105495</td>\n",
       "      <td>Disagree to Policymaking 10.55</td>\n",
       "      <td>Disagree to dissemination of GK</td>\n",
       "      <td>12</td>\n",
       "      <td>NaN</td>\n",
       "    </tr>\n",
       "    <tr>\n",
       "      <th>10</th>\n",
       "      <td>767</td>\n",
       "      <td>762</td>\n",
       "      <td>70</td>\n",
       "      <td>Strongly agree to Policymaking</td>\n",
       "      <td>Agree to dissemination of GK</td>\n",
       "      <td>Strongly agree to Policymaking Agree to dissem...</td>\n",
       "      <td>767 762</td>\n",
       "      <td>#a422b9</td>\n",
       "      <td>278</td>\n",
       "      <td>339</td>\n",
       "      <td>0.251799</td>\n",
       "      <td>0.206490</td>\n",
       "      <td>0.051994</td>\n",
       "      <td>Strongly agree to Policymaking 5.2</td>\n",
       "      <td>Agree to dissemination of GK</td>\n",
       "      <td>70</td>\n",
       "      <td>NaN</td>\n",
       "    </tr>\n",
       "    <tr>\n",
       "      <th>11</th>\n",
       "      <td>768</td>\n",
       "      <td>763</td>\n",
       "      <td>56</td>\n",
       "      <td>Agree to Policymaking</td>\n",
       "      <td>Strongly agree to dissemination of GK</td>\n",
       "      <td>Agree to Policymaking Strongly agree to dissem...</td>\n",
       "      <td>768 763</td>\n",
       "      <td>#c6d88b</td>\n",
       "      <td>318</td>\n",
       "      <td>276</td>\n",
       "      <td>0.176101</td>\n",
       "      <td>0.202899</td>\n",
       "      <td>0.035731</td>\n",
       "      <td>Agree to Policymaking 3.57</td>\n",
       "      <td>Strongly agree to dissemination of GK</td>\n",
       "      <td>56</td>\n",
       "      <td>NaN</td>\n",
       "    </tr>\n",
       "    <tr>\n",
       "      <th>12</th>\n",
       "      <td>775</td>\n",
       "      <td>768</td>\n",
       "      <td>30</td>\n",
       "      <td>Neutral towards to Revising and Updating</td>\n",
       "      <td>Agree to Policymaking</td>\n",
       "      <td>Neutral towards to Revising and Updating Agree...</td>\n",
       "      <td>775 768</td>\n",
       "      <td>#79a149</td>\n",
       "      <td>83</td>\n",
       "      <td>318</td>\n",
       "      <td>0.361446</td>\n",
       "      <td>0.094340</td>\n",
       "      <td>0.034099</td>\n",
       "      <td>Neutral towards to Revising and Updating 3.41</td>\n",
       "      <td>Agree to Policymaking</td>\n",
       "      <td>30</td>\n",
       "      <td>NaN</td>\n",
       "    </tr>\n",
       "    <tr>\n",
       "      <th>13</th>\n",
       "      <td>772</td>\n",
       "      <td>767</td>\n",
       "      <td>56</td>\n",
       "      <td>Agree to Revising and Updating</td>\n",
       "      <td>Strongly agree to Policymaking</td>\n",
       "      <td>Agree to Revising and Updating Strongly agree ...</td>\n",
       "      <td>772 767</td>\n",
       "      <td>#ab4283</td>\n",
       "      <td>353</td>\n",
       "      <td>278</td>\n",
       "      <td>0.158640</td>\n",
       "      <td>0.201439</td>\n",
       "      <td>0.031956</td>\n",
       "      <td>Agree to Revising and Updating 3.2</td>\n",
       "      <td>Strongly agree to Policymaking</td>\n",
       "      <td>56</td>\n",
       "      <td>NaN</td>\n",
       "    </tr>\n",
       "    <tr>\n",
       "      <th>14</th>\n",
       "      <td>772</td>\n",
       "      <td>769</td>\n",
       "      <td>24</td>\n",
       "      <td>Agree to Revising and Updating</td>\n",
       "      <td>Neutral towards to Policymaking</td>\n",
       "      <td>Agree to Revising and Updating Neutral towards...</td>\n",
       "      <td>772 769</td>\n",
       "      <td>#06081b</td>\n",
       "      <td>353</td>\n",
       "      <td>68</td>\n",
       "      <td>0.067989</td>\n",
       "      <td>0.352941</td>\n",
       "      <td>0.023996</td>\n",
       "      <td>Agree to Revising and Updating 2.4</td>\n",
       "      <td>Neutral towards to Policymaking</td>\n",
       "      <td>24</td>\n",
       "      <td>NaN</td>\n",
       "    </tr>\n",
       "    <tr>\n",
       "      <th>15</th>\n",
       "      <td>769</td>\n",
       "      <td>762</td>\n",
       "      <td>22</td>\n",
       "      <td>Neutral towards to Policymaking</td>\n",
       "      <td>Agree to dissemination of GK</td>\n",
       "      <td>Neutral towards to Policymaking Agree to disse...</td>\n",
       "      <td>769 762</td>\n",
       "      <td>#02d1db</td>\n",
       "      <td>68</td>\n",
       "      <td>339</td>\n",
       "      <td>0.323529</td>\n",
       "      <td>0.064897</td>\n",
       "      <td>0.020996</td>\n",
       "      <td>Neutral towards to Policymaking 2.1</td>\n",
       "      <td>Agree to dissemination of GK</td>\n",
       "      <td>22</td>\n",
       "      <td>NaN</td>\n",
       "    </tr>\n",
       "    <tr>\n",
       "      <th>16</th>\n",
       "      <td>768</td>\n",
       "      <td>765</td>\n",
       "      <td>14</td>\n",
       "      <td>Agree to Policymaking</td>\n",
       "      <td>Disagree to dissemination of GK</td>\n",
       "      <td>Agree to Policymaking Disagree to disseminatio...</td>\n",
       "      <td>768 765</td>\n",
       "      <td>#14acea</td>\n",
       "      <td>318</td>\n",
       "      <td>35</td>\n",
       "      <td>0.044025</td>\n",
       "      <td>0.400000</td>\n",
       "      <td>0.017610</td>\n",
       "      <td>Agree to Policymaking 1.76</td>\n",
       "      <td>Disagree to dissemination of GK</td>\n",
       "      <td>14</td>\n",
       "      <td>NaN</td>\n",
       "    </tr>\n",
       "    <tr>\n",
       "      <th>17</th>\n",
       "      <td>770</td>\n",
       "      <td>762</td>\n",
       "      <td>15</td>\n",
       "      <td>Disagree to Policymaking</td>\n",
       "      <td>Agree to dissemination of GK</td>\n",
       "      <td>Disagree to Policymaking Agree to disseminatio...</td>\n",
       "      <td>770 762</td>\n",
       "      <td>#8956e7</td>\n",
       "      <td>39</td>\n",
       "      <td>339</td>\n",
       "      <td>0.384615</td>\n",
       "      <td>0.044248</td>\n",
       "      <td>0.017018</td>\n",
       "      <td>Disagree to Policymaking 1.7</td>\n",
       "      <td>Agree to dissemination of GK</td>\n",
       "      <td>15</td>\n",
       "      <td>NaN</td>\n",
       "    </tr>\n",
       "    <tr>\n",
       "      <th>18</th>\n",
       "      <td>770</td>\n",
       "      <td>761</td>\n",
       "      <td>6</td>\n",
       "      <td>Disagree to Policymaking</td>\n",
       "      <td>Strongly disagree to dissemination of GK</td>\n",
       "      <td>Disagree to Policymaking Strongly disagree to ...</td>\n",
       "      <td>770 761</td>\n",
       "      <td>#f202ba</td>\n",
       "      <td>39</td>\n",
       "      <td>56</td>\n",
       "      <td>0.153846</td>\n",
       "      <td>0.107143</td>\n",
       "      <td>0.016484</td>\n",
       "      <td>Disagree to Policymaking 1.65</td>\n",
       "      <td>Strongly disagree to dissemination of GK</td>\n",
       "      <td>6</td>\n",
       "      <td>NaN</td>\n",
       "    </tr>\n",
       "    <tr>\n",
       "      <th>19</th>\n",
       "      <td>775</td>\n",
       "      <td>770</td>\n",
       "      <td>7</td>\n",
       "      <td>Neutral towards to Revising and Updating</td>\n",
       "      <td>Disagree to Policymaking</td>\n",
       "      <td>Neutral towards to Revising and Updating Disag...</td>\n",
       "      <td>775 770</td>\n",
       "      <td>#267ac4</td>\n",
       "      <td>83</td>\n",
       "      <td>39</td>\n",
       "      <td>0.084337</td>\n",
       "      <td>0.179487</td>\n",
       "      <td>0.015137</td>\n",
       "      <td>Neutral towards to Revising and Updating 1.51</td>\n",
       "      <td>Disagree to Policymaking</td>\n",
       "      <td>7</td>\n",
       "      <td>NaN</td>\n",
       "    </tr>\n",
       "    <tr>\n",
       "      <th>20</th>\n",
       "      <td>768</td>\n",
       "      <td>764</td>\n",
       "      <td>15</td>\n",
       "      <td>Agree to Policymaking</td>\n",
       "      <td>Neutral towards to dissemination of GK</td>\n",
       "      <td>Agree to Policymaking Neutral towards to disse...</td>\n",
       "      <td>768 764</td>\n",
       "      <td>#21f09a</td>\n",
       "      <td>318</td>\n",
       "      <td>48</td>\n",
       "      <td>0.047170</td>\n",
       "      <td>0.312500</td>\n",
       "      <td>0.014741</td>\n",
       "      <td>Agree to Policymaking 1.47</td>\n",
       "      <td>Neutral towards to dissemination of GK</td>\n",
       "      <td>15</td>\n",
       "      <td>NaN</td>\n",
       "    </tr>\n",
       "    <tr>\n",
       "      <th>21</th>\n",
       "      <td>772</td>\n",
       "      <td>770</td>\n",
       "      <td>13</td>\n",
       "      <td>Agree to Revising and Updating</td>\n",
       "      <td>Disagree to Policymaking</td>\n",
       "      <td>Agree to Revising and Updating Disagree to Pol...</td>\n",
       "      <td>772 770</td>\n",
       "      <td>#d7e088</td>\n",
       "      <td>353</td>\n",
       "      <td>39</td>\n",
       "      <td>0.036827</td>\n",
       "      <td>0.333333</td>\n",
       "      <td>0.012276</td>\n",
       "      <td>Agree to Revising and Updating 1.23</td>\n",
       "      <td>Disagree to Policymaking</td>\n",
       "      <td>13</td>\n",
       "      <td>NaN</td>\n",
       "    </tr>\n",
       "    <tr>\n",
       "      <th>22</th>\n",
       "      <td>769</td>\n",
       "      <td>763</td>\n",
       "      <td>15</td>\n",
       "      <td>Neutral towards to Policymaking</td>\n",
       "      <td>Strongly agree to dissemination of GK</td>\n",
       "      <td>Neutral towards to Policymaking Strongly agree...</td>\n",
       "      <td>769 763</td>\n",
       "      <td>#015785</td>\n",
       "      <td>68</td>\n",
       "      <td>276</td>\n",
       "      <td>0.220588</td>\n",
       "      <td>0.054348</td>\n",
       "      <td>0.011988</td>\n",
       "      <td>Neutral towards to Policymaking 1.2</td>\n",
       "      <td>Strongly agree to dissemination of GK</td>\n",
       "      <td>15</td>\n",
       "      <td>NaN</td>\n",
       "    </tr>\n",
       "    <tr>\n",
       "      <th>23</th>\n",
       "      <td>766</td>\n",
       "      <td>765</td>\n",
       "      <td>4</td>\n",
       "      <td>Strongly disagree to Policymaking</td>\n",
       "      <td>Disagree to dissemination of GK</td>\n",
       "      <td>Strongly disagree to Policymaking Disagree to ...</td>\n",
       "      <td>766 765</td>\n",
       "      <td>#a1a332</td>\n",
       "      <td>45</td>\n",
       "      <td>35</td>\n",
       "      <td>0.088889</td>\n",
       "      <td>0.114286</td>\n",
       "      <td>0.010159</td>\n",
       "      <td>Strongly disagree to Policymaking 1.02</td>\n",
       "      <td>Disagree to dissemination of GK</td>\n",
       "      <td>4</td>\n",
       "      <td>NaN</td>\n",
       "    </tr>\n",
       "    <tr>\n",
       "      <th>24</th>\n",
       "      <td>770</td>\n",
       "      <td>764</td>\n",
       "      <td>4</td>\n",
       "      <td>Disagree to Policymaking</td>\n",
       "      <td>Neutral towards to dissemination of GK</td>\n",
       "      <td>Disagree to Policymaking Neutral towards to di...</td>\n",
       "      <td>770 764</td>\n",
       "      <td>#725730</td>\n",
       "      <td>39</td>\n",
       "      <td>48</td>\n",
       "      <td>0.102564</td>\n",
       "      <td>0.083333</td>\n",
       "      <td>0.008547</td>\n",
       "      <td>Disagree to Policymaking 0.85</td>\n",
       "      <td>Neutral towards to dissemination of GK</td>\n",
       "      <td>4</td>\n",
       "      <td>NaN</td>\n",
       "    </tr>\n",
       "    <tr>\n",
       "      <th>25</th>\n",
       "      <td>773</td>\n",
       "      <td>768</td>\n",
       "      <td>22</td>\n",
       "      <td>Strongly agree to Revising and Updating</td>\n",
       "      <td>Agree to Policymaking</td>\n",
       "      <td>Strongly agree to Revising and Updating Agree ...</td>\n",
       "      <td>773 768</td>\n",
       "      <td>#73c451</td>\n",
       "      <td>231</td>\n",
       "      <td>318</td>\n",
       "      <td>0.095238</td>\n",
       "      <td>0.069182</td>\n",
       "      <td>0.006589</td>\n",
       "      <td>Strongly agree to Revising and Updating 0.66</td>\n",
       "      <td>Agree to Policymaking</td>\n",
       "      <td>22</td>\n",
       "      <td>NaN</td>\n",
       "    </tr>\n",
       "    <tr>\n",
       "      <th>26</th>\n",
       "      <td>775</td>\n",
       "      <td>767</td>\n",
       "      <td>12</td>\n",
       "      <td>Neutral towards to Revising and Updating</td>\n",
       "      <td>Strongly agree to Policymaking</td>\n",
       "      <td>Neutral towards to Revising and Updating Stron...</td>\n",
       "      <td>775 767</td>\n",
       "      <td>#df1bbc</td>\n",
       "      <td>83</td>\n",
       "      <td>278</td>\n",
       "      <td>0.144578</td>\n",
       "      <td>0.043165</td>\n",
       "      <td>0.006241</td>\n",
       "      <td>Neutral towards to Revising and Updating 0.62</td>\n",
       "      <td>Strongly agree to Policymaking</td>\n",
       "      <td>12</td>\n",
       "      <td>NaN</td>\n",
       "    </tr>\n",
       "    <tr>\n",
       "      <th>27</th>\n",
       "      <td>774</td>\n",
       "      <td>768</td>\n",
       "      <td>8</td>\n",
       "      <td>Disagree to Revising and Updating</td>\n",
       "      <td>Agree to Policymaking</td>\n",
       "      <td>Disagree to Revising and Updating Agree to Pol...</td>\n",
       "      <td>774 768</td>\n",
       "      <td>#df10ba</td>\n",
       "      <td>38</td>\n",
       "      <td>318</td>\n",
       "      <td>0.210526</td>\n",
       "      <td>0.025157</td>\n",
       "      <td>0.005296</td>\n",
       "      <td>Disagree to Revising and Updating 0.53</td>\n",
       "      <td>Agree to Policymaking</td>\n",
       "      <td>8</td>\n",
       "      <td>NaN</td>\n",
       "    </tr>\n",
       "    <tr>\n",
       "      <th>28</th>\n",
       "      <td>774</td>\n",
       "      <td>766</td>\n",
       "      <td>3</td>\n",
       "      <td>Disagree to Revising and Updating</td>\n",
       "      <td>Strongly disagree to Policymaking</td>\n",
       "      <td>Disagree to Revising and Updating Strongly dis...</td>\n",
       "      <td>774 766</td>\n",
       "      <td>#9eeeb3</td>\n",
       "      <td>38</td>\n",
       "      <td>45</td>\n",
       "      <td>0.078947</td>\n",
       "      <td>0.066667</td>\n",
       "      <td>0.005263</td>\n",
       "      <td>Disagree to Revising and Updating 0.53</td>\n",
       "      <td>Strongly disagree to Policymaking</td>\n",
       "      <td>3</td>\n",
       "      <td>NaN</td>\n",
       "    </tr>\n",
       "    <tr>\n",
       "      <th>29</th>\n",
       "      <td>769</td>\n",
       "      <td>761</td>\n",
       "      <td>4</td>\n",
       "      <td>Neutral towards to Policymaking</td>\n",
       "      <td>Strongly disagree to dissemination of GK</td>\n",
       "      <td>Neutral towards to Policymaking Strongly disag...</td>\n",
       "      <td>769 761</td>\n",
       "      <td>#c682cd</td>\n",
       "      <td>68</td>\n",
       "      <td>56</td>\n",
       "      <td>0.058824</td>\n",
       "      <td>0.071429</td>\n",
       "      <td>0.004202</td>\n",
       "      <td>Neutral towards to Policymaking 0.42</td>\n",
       "      <td>Strongly disagree to dissemination of GK</td>\n",
       "      <td>4</td>\n",
       "      <td>NaN</td>\n",
       "    </tr>\n",
       "    <tr>\n",
       "      <th>30</th>\n",
       "      <td>769</td>\n",
       "      <td>765</td>\n",
       "      <td>3</td>\n",
       "      <td>Neutral towards to Policymaking</td>\n",
       "      <td>Disagree to dissemination of GK</td>\n",
       "      <td>Neutral towards to Policymaking Disagree to di...</td>\n",
       "      <td>769 765</td>\n",
       "      <td>#616014</td>\n",
       "      <td>68</td>\n",
       "      <td>35</td>\n",
       "      <td>0.044118</td>\n",
       "      <td>0.085714</td>\n",
       "      <td>0.003782</td>\n",
       "      <td>Neutral towards to Policymaking 0.38</td>\n",
       "      <td>Disagree to dissemination of GK</td>\n",
       "      <td>3</td>\n",
       "      <td>NaN</td>\n",
       "    </tr>\n",
       "    <tr>\n",
       "      <th>31</th>\n",
       "      <td>774</td>\n",
       "      <td>769</td>\n",
       "      <td>3</td>\n",
       "      <td>Disagree to Revising and Updating</td>\n",
       "      <td>Neutral towards to Policymaking</td>\n",
       "      <td>Disagree to Revising and Updating Neutral towa...</td>\n",
       "      <td>774 769</td>\n",
       "      <td>#9b9577</td>\n",
       "      <td>38</td>\n",
       "      <td>68</td>\n",
       "      <td>0.078947</td>\n",
       "      <td>0.044118</td>\n",
       "      <td>0.003483</td>\n",
       "      <td>Disagree to Revising and Updating 0.35</td>\n",
       "      <td>Neutral towards to Policymaking</td>\n",
       "      <td>3</td>\n",
       "      <td>NaN</td>\n",
       "    </tr>\n",
       "    <tr>\n",
       "      <th>32</th>\n",
       "      <td>774</td>\n",
       "      <td>767</td>\n",
       "      <td>6</td>\n",
       "      <td>Disagree to Revising and Updating</td>\n",
       "      <td>Strongly agree to Policymaking</td>\n",
       "      <td>Disagree to Revising and Updating Strongly agr...</td>\n",
       "      <td>774 767</td>\n",
       "      <td>#769f69</td>\n",
       "      <td>38</td>\n",
       "      <td>278</td>\n",
       "      <td>0.157895</td>\n",
       "      <td>0.021583</td>\n",
       "      <td>0.003408</td>\n",
       "      <td>Disagree to Revising and Updating 0.34</td>\n",
       "      <td>Strongly agree to Policymaking</td>\n",
       "      <td>6</td>\n",
       "      <td>NaN</td>\n",
       "    </tr>\n",
       "    <tr>\n",
       "      <th>33</th>\n",
       "      <td>773</td>\n",
       "      <td>769</td>\n",
       "      <td>6</td>\n",
       "      <td>Strongly agree to Revising and Updating</td>\n",
       "      <td>Neutral towards to Policymaking</td>\n",
       "      <td>Strongly agree to Revising and Updating Neutra...</td>\n",
       "      <td>773 769</td>\n",
       "      <td>#9994f1</td>\n",
       "      <td>231</td>\n",
       "      <td>68</td>\n",
       "      <td>0.025974</td>\n",
       "      <td>0.088235</td>\n",
       "      <td>0.002292</td>\n",
       "      <td>Strongly agree to Revising and Updating 0.23</td>\n",
       "      <td>Neutral towards to Policymaking</td>\n",
       "      <td>6</td>\n",
       "      <td>NaN</td>\n",
       "    </tr>\n",
       "    <tr>\n",
       "      <th>34</th>\n",
       "      <td>767</td>\n",
       "      <td>761</td>\n",
       "      <td>5</td>\n",
       "      <td>Strongly agree to Policymaking</td>\n",
       "      <td>Strongly disagree to dissemination of GK</td>\n",
       "      <td>Strongly agree to Policymaking Strongly disagr...</td>\n",
       "      <td>767 761</td>\n",
       "      <td>#16ee7a</td>\n",
       "      <td>278</td>\n",
       "      <td>56</td>\n",
       "      <td>0.017986</td>\n",
       "      <td>0.089286</td>\n",
       "      <td>0.001606</td>\n",
       "      <td>Strongly agree to Policymaking 0.16</td>\n",
       "      <td>Strongly disagree to dissemination of GK</td>\n",
       "      <td>5</td>\n",
       "      <td>NaN</td>\n",
       "    </tr>\n",
       "    <tr>\n",
       "      <th>35</th>\n",
       "      <td>772</td>\n",
       "      <td>766</td>\n",
       "      <td>5</td>\n",
       "      <td>Agree to Revising and Updating</td>\n",
       "      <td>Strongly disagree to Policymaking</td>\n",
       "      <td>Agree to Revising and Updating Strongly disagr...</td>\n",
       "      <td>772 766</td>\n",
       "      <td>#7aa6c4</td>\n",
       "      <td>353</td>\n",
       "      <td>45</td>\n",
       "      <td>0.014164</td>\n",
       "      <td>0.111111</td>\n",
       "      <td>0.001574</td>\n",
       "      <td>Agree to Revising and Updating 0.16</td>\n",
       "      <td>Strongly disagree to Policymaking</td>\n",
       "      <td>5</td>\n",
       "      <td>NaN</td>\n",
       "    </tr>\n",
       "    <tr>\n",
       "      <th>36</th>\n",
       "      <td>771</td>\n",
       "      <td>769</td>\n",
       "      <td>2</td>\n",
       "      <td>Strongly disagree to Revising and Updating</td>\n",
       "      <td>Neutral towards to Policymaking</td>\n",
       "      <td>Strongly disagree to Revising and Updating Neu...</td>\n",
       "      <td>771 769</td>\n",
       "      <td>#9fe0b2</td>\n",
       "      <td>41</td>\n",
       "      <td>68</td>\n",
       "      <td>0.048780</td>\n",
       "      <td>0.029412</td>\n",
       "      <td>0.001435</td>\n",
       "      <td>Strongly disagree to Revising and Updating 0.14</td>\n",
       "      <td>Neutral towards to Policymaking</td>\n",
       "      <td>2</td>\n",
       "      <td>NaN</td>\n",
       "    </tr>\n",
       "    <tr>\n",
       "      <th>37</th>\n",
       "      <td>768</td>\n",
       "      <td>761</td>\n",
       "      <td>5</td>\n",
       "      <td>Agree to Policymaking</td>\n",
       "      <td>Strongly disagree to dissemination of GK</td>\n",
       "      <td>Agree to Policymaking Strongly disagree to dis...</td>\n",
       "      <td>768 761</td>\n",
       "      <td>#e24c90</td>\n",
       "      <td>318</td>\n",
       "      <td>56</td>\n",
       "      <td>0.015723</td>\n",
       "      <td>0.089286</td>\n",
       "      <td>0.001404</td>\n",
       "      <td>Agree to Policymaking 0.14</td>\n",
       "      <td>Strongly disagree to dissemination of GK</td>\n",
       "      <td>5</td>\n",
       "      <td>NaN</td>\n",
       "    </tr>\n",
       "    <tr>\n",
       "      <th>38</th>\n",
       "      <td>766</td>\n",
       "      <td>763</td>\n",
       "      <td>4</td>\n",
       "      <td>Strongly disagree to Policymaking</td>\n",
       "      <td>Strongly agree to dissemination of GK</td>\n",
       "      <td>Strongly disagree to Policymaking Strongly agr...</td>\n",
       "      <td>766 763</td>\n",
       "      <td>#fc17a0</td>\n",
       "      <td>45</td>\n",
       "      <td>276</td>\n",
       "      <td>0.088889</td>\n",
       "      <td>0.014493</td>\n",
       "      <td>0.001288</td>\n",
       "      <td>Strongly disagree to Policymaking 0.13</td>\n",
       "      <td>Strongly agree to dissemination of GK</td>\n",
       "      <td>4</td>\n",
       "      <td>NaN</td>\n",
       "    </tr>\n",
       "    <tr>\n",
       "      <th>39</th>\n",
       "      <td>767</td>\n",
       "      <td>764</td>\n",
       "      <td>4</td>\n",
       "      <td>Strongly agree to Policymaking</td>\n",
       "      <td>Neutral towards to dissemination of GK</td>\n",
       "      <td>Strongly agree to Policymaking Neutral towards...</td>\n",
       "      <td>767 764</td>\n",
       "      <td>#77b86c</td>\n",
       "      <td>278</td>\n",
       "      <td>48</td>\n",
       "      <td>0.014388</td>\n",
       "      <td>0.083333</td>\n",
       "      <td>0.001199</td>\n",
       "      <td>Strongly agree to Policymaking 0.12</td>\n",
       "      <td>Neutral towards to dissemination of GK</td>\n",
       "      <td>4</td>\n",
       "      <td>NaN</td>\n",
       "    </tr>\n",
       "    <tr>\n",
       "      <th>40</th>\n",
       "      <td>766</td>\n",
       "      <td>762</td>\n",
       "      <td>3</td>\n",
       "      <td>Strongly disagree to Policymaking</td>\n",
       "      <td>Agree to dissemination of GK</td>\n",
       "      <td>Strongly disagree to Policymaking Agree to dis...</td>\n",
       "      <td>766 762</td>\n",
       "      <td>#c63ff2</td>\n",
       "      <td>45</td>\n",
       "      <td>339</td>\n",
       "      <td>0.066667</td>\n",
       "      <td>0.008850</td>\n",
       "      <td>0.000590</td>\n",
       "      <td>Strongly disagree to Policymaking 0.06</td>\n",
       "      <td>Agree to dissemination of GK</td>\n",
       "      <td>3</td>\n",
       "      <td>NaN</td>\n",
       "    </tr>\n",
       "    <tr>\n",
       "      <th>41</th>\n",
       "      <td>767</td>\n",
       "      <td>765</td>\n",
       "      <td>2</td>\n",
       "      <td>Strongly agree to Policymaking</td>\n",
       "      <td>Disagree to dissemination of GK</td>\n",
       "      <td>Strongly agree to Policymaking Disagree to dis...</td>\n",
       "      <td>767 765</td>\n",
       "      <td>#9323ca</td>\n",
       "      <td>278</td>\n",
       "      <td>35</td>\n",
       "      <td>0.007194</td>\n",
       "      <td>0.057143</td>\n",
       "      <td>0.000411</td>\n",
       "      <td>Strongly agree to Policymaking 0.04</td>\n",
       "      <td>Disagree to dissemination of GK</td>\n",
       "      <td>2</td>\n",
       "      <td>NaN</td>\n",
       "    </tr>\n",
       "    <tr>\n",
       "      <th>42</th>\n",
       "      <td>773</td>\n",
       "      <td>766</td>\n",
       "      <td>2</td>\n",
       "      <td>Strongly agree to Revising and Updating</td>\n",
       "      <td>Strongly disagree to Policymaking</td>\n",
       "      <td>Strongly agree to Revising and Updating Strong...</td>\n",
       "      <td>773 766</td>\n",
       "      <td>#faab83</td>\n",
       "      <td>231</td>\n",
       "      <td>45</td>\n",
       "      <td>0.008658</td>\n",
       "      <td>0.044444</td>\n",
       "      <td>0.000385</td>\n",
       "      <td>Strongly agree to Revising and Updating 0.04</td>\n",
       "      <td>Strongly disagree to Policymaking</td>\n",
       "      <td>2</td>\n",
       "      <td>NaN</td>\n",
       "    </tr>\n",
       "    <tr>\n",
       "      <th>43</th>\n",
       "      <td>770</td>\n",
       "      <td>763</td>\n",
       "      <td>2</td>\n",
       "      <td>Disagree to Policymaking</td>\n",
       "      <td>Strongly agree to dissemination of GK</td>\n",
       "      <td>Disagree to Policymaking Strongly agree to dis...</td>\n",
       "      <td>770 763</td>\n",
       "      <td>#913268</td>\n",
       "      <td>39</td>\n",
       "      <td>276</td>\n",
       "      <td>0.051282</td>\n",
       "      <td>0.007246</td>\n",
       "      <td>0.000372</td>\n",
       "      <td>Disagree to Policymaking 0.04</td>\n",
       "      <td>Strongly agree to dissemination of GK</td>\n",
       "      <td>2</td>\n",
       "      <td>NaN</td>\n",
       "    </tr>\n",
       "    <tr>\n",
       "      <th>44</th>\n",
       "      <td>771</td>\n",
       "      <td>767</td>\n",
       "      <td>2</td>\n",
       "      <td>Strongly disagree to Revising and Updating</td>\n",
       "      <td>Strongly agree to Policymaking</td>\n",
       "      <td>Strongly disagree to Revising and Updating Str...</td>\n",
       "      <td>771 767</td>\n",
       "      <td>#fb6b38</td>\n",
       "      <td>41</td>\n",
       "      <td>278</td>\n",
       "      <td>0.048780</td>\n",
       "      <td>0.007194</td>\n",
       "      <td>0.000351</td>\n",
       "      <td>Strongly disagree to Revising and Updating 0.04</td>\n",
       "      <td>Strongly agree to Policymaking</td>\n",
       "      <td>2</td>\n",
       "      <td>NaN</td>\n",
       "    </tr>\n",
       "    <tr>\n",
       "      <th>45</th>\n",
       "      <td>771</td>\n",
       "      <td>768</td>\n",
       "      <td>2</td>\n",
       "      <td>Strongly disagree to Revising and Updating</td>\n",
       "      <td>Agree to Policymaking</td>\n",
       "      <td>Strongly disagree to Revising and Updating Agr...</td>\n",
       "      <td>771 768</td>\n",
       "      <td>#d6b298</td>\n",
       "      <td>41</td>\n",
       "      <td>318</td>\n",
       "      <td>0.048780</td>\n",
       "      <td>0.006289</td>\n",
       "      <td>0.000307</td>\n",
       "      <td>Strongly disagree to Revising and Updating 0.03</td>\n",
       "      <td>Agree to Policymaking</td>\n",
       "      <td>2</td>\n",
       "      <td>NaN</td>\n",
       "    </tr>\n",
       "  </tbody>\n",
       "</table>\n",
       "</div>"
      ],
      "text/plain": [
       "    source  sink  counts                                 source_name  \\\n",
       "0      773   767     200     Strongly agree to Revising and Updating   \n",
       "1      771   766      33  Strongly disagree to Revising and Updating   \n",
       "2      772   768     254              Agree to Revising and Updating   \n",
       "3      767   763     196              Strongly agree to Policymaking   \n",
       "4      768   762     227                       Agree to Policymaking   \n",
       "5      766   761      33           Strongly disagree to Policymaking   \n",
       "6      774   770      17           Disagree to Revising and Updating   \n",
       "7      775   769      32    Neutral towards to Revising and Updating   \n",
       "8      769   764      23             Neutral towards to Policymaking   \n",
       "9      770   765      12                    Disagree to Policymaking   \n",
       "10     767   762      70              Strongly agree to Policymaking   \n",
       "11     768   763      56                       Agree to Policymaking   \n",
       "12     775   768      30    Neutral towards to Revising and Updating   \n",
       "13     772   767      56              Agree to Revising and Updating   \n",
       "14     772   769      24              Agree to Revising and Updating   \n",
       "15     769   762      22             Neutral towards to Policymaking   \n",
       "16     768   765      14                       Agree to Policymaking   \n",
       "17     770   762      15                    Disagree to Policymaking   \n",
       "18     770   761       6                    Disagree to Policymaking   \n",
       "19     775   770       7    Neutral towards to Revising and Updating   \n",
       "20     768   764      15                       Agree to Policymaking   \n",
       "21     772   770      13              Agree to Revising and Updating   \n",
       "22     769   763      15             Neutral towards to Policymaking   \n",
       "23     766   765       4           Strongly disagree to Policymaking   \n",
       "24     770   764       4                    Disagree to Policymaking   \n",
       "25     773   768      22     Strongly agree to Revising and Updating   \n",
       "26     775   767      12    Neutral towards to Revising and Updating   \n",
       "27     774   768       8           Disagree to Revising and Updating   \n",
       "28     774   766       3           Disagree to Revising and Updating   \n",
       "29     769   761       4             Neutral towards to Policymaking   \n",
       "30     769   765       3             Neutral towards to Policymaking   \n",
       "31     774   769       3           Disagree to Revising and Updating   \n",
       "32     774   767       6           Disagree to Revising and Updating   \n",
       "33     773   769       6     Strongly agree to Revising and Updating   \n",
       "34     767   761       5              Strongly agree to Policymaking   \n",
       "35     772   766       5              Agree to Revising and Updating   \n",
       "36     771   769       2  Strongly disagree to Revising and Updating   \n",
       "37     768   761       5                       Agree to Policymaking   \n",
       "38     766   763       4           Strongly disagree to Policymaking   \n",
       "39     767   764       4              Strongly agree to Policymaking   \n",
       "40     766   762       3           Strongly disagree to Policymaking   \n",
       "41     767   765       2              Strongly agree to Policymaking   \n",
       "42     773   766       2     Strongly agree to Revising and Updating   \n",
       "43     770   763       2                    Disagree to Policymaking   \n",
       "44     771   767       2  Strongly disagree to Revising and Updating   \n",
       "45     771   768       2  Strongly disagree to Revising and Updating   \n",
       "\n",
       "                                   sink_name  \\\n",
       "0             Strongly agree to Policymaking   \n",
       "1          Strongly disagree to Policymaking   \n",
       "2                      Agree to Policymaking   \n",
       "3      Strongly agree to dissemination of GK   \n",
       "4               Agree to dissemination of GK   \n",
       "5   Strongly disagree to dissemination of GK   \n",
       "6                   Disagree to Policymaking   \n",
       "7            Neutral towards to Policymaking   \n",
       "8     Neutral towards to dissemination of GK   \n",
       "9            Disagree to dissemination of GK   \n",
       "10              Agree to dissemination of GK   \n",
       "11     Strongly agree to dissemination of GK   \n",
       "12                     Agree to Policymaking   \n",
       "13            Strongly agree to Policymaking   \n",
       "14           Neutral towards to Policymaking   \n",
       "15              Agree to dissemination of GK   \n",
       "16           Disagree to dissemination of GK   \n",
       "17              Agree to dissemination of GK   \n",
       "18  Strongly disagree to dissemination of GK   \n",
       "19                  Disagree to Policymaking   \n",
       "20    Neutral towards to dissemination of GK   \n",
       "21                  Disagree to Policymaking   \n",
       "22     Strongly agree to dissemination of GK   \n",
       "23           Disagree to dissemination of GK   \n",
       "24    Neutral towards to dissemination of GK   \n",
       "25                     Agree to Policymaking   \n",
       "26            Strongly agree to Policymaking   \n",
       "27                     Agree to Policymaking   \n",
       "28         Strongly disagree to Policymaking   \n",
       "29  Strongly disagree to dissemination of GK   \n",
       "30           Disagree to dissemination of GK   \n",
       "31           Neutral towards to Policymaking   \n",
       "32            Strongly agree to Policymaking   \n",
       "33           Neutral towards to Policymaking   \n",
       "34  Strongly disagree to dissemination of GK   \n",
       "35         Strongly disagree to Policymaking   \n",
       "36           Neutral towards to Policymaking   \n",
       "37  Strongly disagree to dissemination of GK   \n",
       "38     Strongly agree to dissemination of GK   \n",
       "39    Neutral towards to dissemination of GK   \n",
       "40              Agree to dissemination of GK   \n",
       "41           Disagree to dissemination of GK   \n",
       "42         Strongly disagree to Policymaking   \n",
       "43     Strongly agree to dissemination of GK   \n",
       "44            Strongly agree to Policymaking   \n",
       "45                     Agree to Policymaking   \n",
       "\n",
       "                                                label connections   colour  \\\n",
       "0   Strongly agree to Revising and Updating Strong...     773 767  #2f3011   \n",
       "1   Strongly disagree to Revising and Updating Str...     771 766  #659e9e   \n",
       "2   Agree to Revising and Updating Agree to Policy...     772 768  #4b11e2   \n",
       "3   Strongly agree to Policymaking Strongly agree ...     767 763  #9d94b4   \n",
       "4   Agree to Policymaking Agree to dissemination o...     768 762  #27abc3   \n",
       "5   Strongly disagree to Policymaking Strongly dis...     766 761  #866bbe   \n",
       "6   Disagree to Revising and Updating Disagree to ...     774 770  #bf7be3   \n",
       "7   Neutral towards to Revising and Updating Neutr...     775 769  #e6f479   \n",
       "8   Neutral towards to Policymaking Neutral toward...     769 764  #884f41   \n",
       "9   Disagree to Policymaking Disagree to dissemina...     770 765  #f1600a   \n",
       "10  Strongly agree to Policymaking Agree to dissem...     767 762  #a422b9   \n",
       "11  Agree to Policymaking Strongly agree to dissem...     768 763  #c6d88b   \n",
       "12  Neutral towards to Revising and Updating Agree...     775 768  #79a149   \n",
       "13  Agree to Revising and Updating Strongly agree ...     772 767  #ab4283   \n",
       "14  Agree to Revising and Updating Neutral towards...     772 769  #06081b   \n",
       "15  Neutral towards to Policymaking Agree to disse...     769 762  #02d1db   \n",
       "16  Agree to Policymaking Disagree to disseminatio...     768 765  #14acea   \n",
       "17  Disagree to Policymaking Agree to disseminatio...     770 762  #8956e7   \n",
       "18  Disagree to Policymaking Strongly disagree to ...     770 761  #f202ba   \n",
       "19  Neutral towards to Revising and Updating Disag...     775 770  #267ac4   \n",
       "20  Agree to Policymaking Neutral towards to disse...     768 764  #21f09a   \n",
       "21  Agree to Revising and Updating Disagree to Pol...     772 770  #d7e088   \n",
       "22  Neutral towards to Policymaking Strongly agree...     769 763  #015785   \n",
       "23  Strongly disagree to Policymaking Disagree to ...     766 765  #a1a332   \n",
       "24  Disagree to Policymaking Neutral towards to di...     770 764  #725730   \n",
       "25  Strongly agree to Revising and Updating Agree ...     773 768  #73c451   \n",
       "26  Neutral towards to Revising and Updating Stron...     775 767  #df1bbc   \n",
       "27  Disagree to Revising and Updating Agree to Pol...     774 768  #df10ba   \n",
       "28  Disagree to Revising and Updating Strongly dis...     774 766  #9eeeb3   \n",
       "29  Neutral towards to Policymaking Strongly disag...     769 761  #c682cd   \n",
       "30  Neutral towards to Policymaking Disagree to di...     769 765  #616014   \n",
       "31  Disagree to Revising and Updating Neutral towa...     774 769  #9b9577   \n",
       "32  Disagree to Revising and Updating Strongly agr...     774 767  #769f69   \n",
       "33  Strongly agree to Revising and Updating Neutra...     773 769  #9994f1   \n",
       "34  Strongly agree to Policymaking Strongly disagr...     767 761  #16ee7a   \n",
       "35  Agree to Revising and Updating Strongly disagr...     772 766  #7aa6c4   \n",
       "36  Strongly disagree to Revising and Updating Neu...     771 769  #9fe0b2   \n",
       "37  Agree to Policymaking Strongly disagree to dis...     768 761  #e24c90   \n",
       "38  Strongly disagree to Policymaking Strongly agr...     766 763  #fc17a0   \n",
       "39  Strongly agree to Policymaking Neutral towards...     767 764  #77b86c   \n",
       "40  Strongly disagree to Policymaking Agree to dis...     766 762  #c63ff2   \n",
       "41  Strongly agree to Policymaking Disagree to dis...     767 765  #9323ca   \n",
       "42  Strongly agree to Revising and Updating Strong...     773 766  #faab83   \n",
       "43  Disagree to Policymaking Strongly agree to dis...     770 763  #913268   \n",
       "44  Strongly disagree to Revising and Updating Str...     771 767  #fb6b38   \n",
       "45  Strongly disagree to Revising and Updating Agr...     771 768  #d6b298   \n",
       "\n",
       "     id  idx        p1        p2      p1p2  \\\n",
       "0   231  278  0.865801  0.719424  0.622878   \n",
       "1    41   45  0.804878  0.733333  0.590244   \n",
       "2   353  318  0.719547  0.798742  0.574732   \n",
       "3   278  276  0.705036  0.710145  0.500678   \n",
       "4   318  339  0.713836  0.669617  0.477997   \n",
       "5    45   56  0.733333  0.589286  0.432143   \n",
       "6    38   39  0.447368  0.435897  0.195007   \n",
       "7    83   68  0.385542  0.470588  0.181432   \n",
       "8    68   48  0.338235  0.479167  0.162071   \n",
       "9    39   35  0.307692  0.342857  0.105495   \n",
       "10  278  339  0.251799  0.206490  0.051994   \n",
       "11  318  276  0.176101  0.202899  0.035731   \n",
       "12   83  318  0.361446  0.094340  0.034099   \n",
       "13  353  278  0.158640  0.201439  0.031956   \n",
       "14  353   68  0.067989  0.352941  0.023996   \n",
       "15   68  339  0.323529  0.064897  0.020996   \n",
       "16  318   35  0.044025  0.400000  0.017610   \n",
       "17   39  339  0.384615  0.044248  0.017018   \n",
       "18   39   56  0.153846  0.107143  0.016484   \n",
       "19   83   39  0.084337  0.179487  0.015137   \n",
       "20  318   48  0.047170  0.312500  0.014741   \n",
       "21  353   39  0.036827  0.333333  0.012276   \n",
       "22   68  276  0.220588  0.054348  0.011988   \n",
       "23   45   35  0.088889  0.114286  0.010159   \n",
       "24   39   48  0.102564  0.083333  0.008547   \n",
       "25  231  318  0.095238  0.069182  0.006589   \n",
       "26   83  278  0.144578  0.043165  0.006241   \n",
       "27   38  318  0.210526  0.025157  0.005296   \n",
       "28   38   45  0.078947  0.066667  0.005263   \n",
       "29   68   56  0.058824  0.071429  0.004202   \n",
       "30   68   35  0.044118  0.085714  0.003782   \n",
       "31   38   68  0.078947  0.044118  0.003483   \n",
       "32   38  278  0.157895  0.021583  0.003408   \n",
       "33  231   68  0.025974  0.088235  0.002292   \n",
       "34  278   56  0.017986  0.089286  0.001606   \n",
       "35  353   45  0.014164  0.111111  0.001574   \n",
       "36   41   68  0.048780  0.029412  0.001435   \n",
       "37  318   56  0.015723  0.089286  0.001404   \n",
       "38   45  276  0.088889  0.014493  0.001288   \n",
       "39  278   48  0.014388  0.083333  0.001199   \n",
       "40   45  339  0.066667  0.008850  0.000590   \n",
       "41  278   35  0.007194  0.057143  0.000411   \n",
       "42  231   45  0.008658  0.044444  0.000385   \n",
       "43   39  276  0.051282  0.007246  0.000372   \n",
       "44   41  278  0.048780  0.007194  0.000351   \n",
       "45   41  318  0.048780  0.006289  0.000307   \n",
       "\n",
       "                                                From  \\\n",
       "0      Strongly agree to Revising and Updating 62.29   \n",
       "1   Strongly disagree to Revising and Updating 59.02   \n",
       "2               Agree to Revising and Updating 57.47   \n",
       "3               Strongly agree to Policymaking 50.07   \n",
       "4                         Agree to Policymaking 47.8   \n",
       "5            Strongly disagree to Policymaking 43.21   \n",
       "6             Disagree to Revising and Updating 19.5   \n",
       "7     Neutral towards to Revising and Updating 18.14   \n",
       "8              Neutral towards to Policymaking 16.21   \n",
       "9                     Disagree to Policymaking 10.55   \n",
       "10                Strongly agree to Policymaking 5.2   \n",
       "11                        Agree to Policymaking 3.57   \n",
       "12     Neutral towards to Revising and Updating 3.41   \n",
       "13                Agree to Revising and Updating 3.2   \n",
       "14                Agree to Revising and Updating 2.4   \n",
       "15               Neutral towards to Policymaking 2.1   \n",
       "16                        Agree to Policymaking 1.76   \n",
       "17                      Disagree to Policymaking 1.7   \n",
       "18                     Disagree to Policymaking 1.65   \n",
       "19     Neutral towards to Revising and Updating 1.51   \n",
       "20                        Agree to Policymaking 1.47   \n",
       "21               Agree to Revising and Updating 1.23   \n",
       "22               Neutral towards to Policymaking 1.2   \n",
       "23            Strongly disagree to Policymaking 1.02   \n",
       "24                     Disagree to Policymaking 0.85   \n",
       "25      Strongly agree to Revising and Updating 0.66   \n",
       "26     Neutral towards to Revising and Updating 0.62   \n",
       "27            Disagree to Revising and Updating 0.53   \n",
       "28            Disagree to Revising and Updating 0.53   \n",
       "29              Neutral towards to Policymaking 0.42   \n",
       "30              Neutral towards to Policymaking 0.38   \n",
       "31            Disagree to Revising and Updating 0.35   \n",
       "32            Disagree to Revising and Updating 0.34   \n",
       "33      Strongly agree to Revising and Updating 0.23   \n",
       "34               Strongly agree to Policymaking 0.16   \n",
       "35               Agree to Revising and Updating 0.16   \n",
       "36   Strongly disagree to Revising and Updating 0.14   \n",
       "37                        Agree to Policymaking 0.14   \n",
       "38            Strongly disagree to Policymaking 0.13   \n",
       "39               Strongly agree to Policymaking 0.12   \n",
       "40            Strongly disagree to Policymaking 0.06   \n",
       "41               Strongly agree to Policymaking 0.04   \n",
       "42      Strongly agree to Revising and Updating 0.04   \n",
       "43                     Disagree to Policymaking 0.04   \n",
       "44   Strongly disagree to Revising and Updating 0.04   \n",
       "45   Strongly disagree to Revising and Updating 0.03   \n",
       "\n",
       "                                          To  Count  Unnamed: 16  \n",
       "0             Strongly agree to Policymaking    200          NaN  \n",
       "1          Strongly disagree to Policymaking     33          NaN  \n",
       "2                      Agree to Policymaking    254          NaN  \n",
       "3      Strongly agree to dissemination of GK    196          NaN  \n",
       "4               Agree to dissemination of GK    227          NaN  \n",
       "5   Strongly disagree to dissemination of GK     33          NaN  \n",
       "6                   Disagree to Policymaking     17          NaN  \n",
       "7            Neutral towards to Policymaking     32          NaN  \n",
       "8     Neutral towards to dissemination of GK     23          NaN  \n",
       "9            Disagree to dissemination of GK     12          NaN  \n",
       "10              Agree to dissemination of GK     70          NaN  \n",
       "11     Strongly agree to dissemination of GK     56          NaN  \n",
       "12                     Agree to Policymaking     30          NaN  \n",
       "13            Strongly agree to Policymaking     56          NaN  \n",
       "14           Neutral towards to Policymaking     24          NaN  \n",
       "15              Agree to dissemination of GK     22          NaN  \n",
       "16           Disagree to dissemination of GK     14          NaN  \n",
       "17              Agree to dissemination of GK     15          NaN  \n",
       "18  Strongly disagree to dissemination of GK      6          NaN  \n",
       "19                  Disagree to Policymaking      7          NaN  \n",
       "20    Neutral towards to dissemination of GK     15          NaN  \n",
       "21                  Disagree to Policymaking     13          NaN  \n",
       "22     Strongly agree to dissemination of GK     15          NaN  \n",
       "23           Disagree to dissemination of GK      4          NaN  \n",
       "24    Neutral towards to dissemination of GK      4          NaN  \n",
       "25                     Agree to Policymaking     22          NaN  \n",
       "26            Strongly agree to Policymaking     12          NaN  \n",
       "27                     Agree to Policymaking      8          NaN  \n",
       "28         Strongly disagree to Policymaking      3          NaN  \n",
       "29  Strongly disagree to dissemination of GK      4          NaN  \n",
       "30           Disagree to dissemination of GK      3          NaN  \n",
       "31           Neutral towards to Policymaking      3          NaN  \n",
       "32            Strongly agree to Policymaking      6          NaN  \n",
       "33           Neutral towards to Policymaking      6          NaN  \n",
       "34  Strongly disagree to dissemination of GK      5          NaN  \n",
       "35         Strongly disagree to Policymaking      5          NaN  \n",
       "36           Neutral towards to Policymaking      2          NaN  \n",
       "37  Strongly disagree to dissemination of GK      5          NaN  \n",
       "38     Strongly agree to dissemination of GK      4          NaN  \n",
       "39    Neutral towards to dissemination of GK      4          NaN  \n",
       "40              Agree to dissemination of GK      3          NaN  \n",
       "41           Disagree to dissemination of GK      2          NaN  \n",
       "42         Strongly disagree to Policymaking      2          NaN  \n",
       "43     Strongly agree to dissemination of GK      2          NaN  \n",
       "44            Strongly agree to Policymaking      2          NaN  \n",
       "45                     Agree to Policymaking      2          NaN  "
      ]
     },
     "execution_count": 22,
     "metadata": {},
     "output_type": "execute_result"
    }
   ],
   "source": [
    "final_df = pd.read_csv('net_data.csv', sep=',')\n",
    "final_df"
   ]
  },
  {
   "cell_type": "raw",
   "id": "2fc31296-8c5b-470c-b8cc-cf663c194f65",
   "metadata": {},
   "source": [
    "# https://anaconda.org/pyviz/pyviz\n",
    "# install it directly into the conda environment\n",
    "conda install pyviz::pyviz"
   ]
  },
  {
   "cell_type": "code",
   "execution_count": 23,
   "id": "c895bbb9-938f-416b-aea8-4004a750e98a",
   "metadata": {},
   "outputs": [],
   "source": [
    "from pyvis.network import Network"
   ]
  },
  {
   "cell_type": "markdown",
   "id": "7c18f8b1-a42f-47b3-9ff7-4affed141be6",
   "metadata": {},
   "source": [
    "We start with defining our network."
   ]
  },
  {
   "cell_type": "code",
   "execution_count": 24,
   "id": "7c421293-7a81-4455-a46c-c7c22a459058",
   "metadata": {},
   "outputs": [
    {
     "data": {
      "text/plain": [
       "<class 'pyvis.network.Network'> |N|=0 |E|=0"
      ]
     },
     "execution_count": 24,
     "metadata": {},
     "output_type": "execute_result"
    }
   ],
   "source": [
    "got_net = Network(height='1080px', width='100%', bgcolor='#ffffff', font_color='black', directed=False)\n",
    "\n",
    "got_net"
   ]
  },
  {
   "cell_type": "code",
   "execution_count": 25,
   "id": "d4213adf-d982-4b3b-9242-c3fa752b5fad",
   "metadata": {},
   "outputs": [
    {
     "data": {
      "text/plain": [
       "Index(['source', 'sink', 'counts', 'source_name', 'sink_name', 'label',\n",
       "       'connections', 'colour', 'id', 'idx', 'p1', 'p2', 'p1p2', 'From', 'To',\n",
       "       'Count', 'Unnamed: 16'],\n",
       "      dtype='object')"
      ]
     },
     "execution_count": 25,
     "metadata": {},
     "output_type": "execute_result"
    }
   ],
   "source": [
    "got_data = final_df.copy() # now we will modify this dataset to create a network\n",
    "got_data.columns"
   ]
  },
  {
   "cell_type": "code",
   "execution_count": 26,
   "id": "f7cfce32-2d6c-4865-9652-6b5793c84f06",
   "metadata": {},
   "outputs": [],
   "source": [
    "sources = got_data['source_name']\n",
    "targets = got_data['sink_name']\n",
    "weights_nodes = got_data['p1'].round(3) # joint probabilities and round them to three decimal points\n",
    "colours = got_data['colour']\n",
    "weights_edges = got_data['p1p2'] # the thickness of the edges represents the joint probability"
   ]
  },
  {
   "cell_type": "code",
   "execution_count": 27,
   "id": "7cf7f40b-cd30-4f45-8b1b-9b9dbf8076ca",
   "metadata": {},
   "outputs": [
    {
     "data": {
      "text/plain": [
       "<zip at 0x7f8e969c3940>"
      ]
     },
     "execution_count": 27,
     "metadata": {},
     "output_type": "execute_result"
    }
   ],
   "source": [
    "# we can zip information together\n",
    "edge_data = zip(sources, targets, weights_nodes, weights_edges, colours)\n",
    "edge_data"
   ]
  },
  {
   "cell_type": "code",
   "execution_count": 28,
   "id": "45f9efe7-bd65-45b5-b6ee-9b335e100014",
   "metadata": {},
   "outputs": [],
   "source": [
    "# now we will iterate through the edges of this dataset and develop the network one connection at a time\n",
    "\n",
    "for e in edge_data:\n",
    "    src = e[0] # 0th element is sources\n",
    "    dst = e[1] # 1st element is the target\n",
    "    wn = e[2]\n",
    "    we = e[3]\n",
    "    c = e[4]\n",
    "\n",
    "\n",
    "    got_net.add_node(src, src, value=wn, title=src, color = c)\n",
    "    got_net.add_node(dst, dst, title=dst, color = '#ffd700')\n",
    "    got_net.add_edge(src, dst, value=we, label= we, color=c)\n",
    "\n"
   ]
  },
  {
   "cell_type": "code",
   "execution_count": 29,
   "id": "6ab84e37-85b4-45c6-add3-bb6389a4c9c3",
   "metadata": {},
   "outputs": [
    {
     "data": {
      "text/plain": [
       "<class 'pyvis.network.Network'> |N|=15 |E|=46"
      ]
     },
     "execution_count": 29,
     "metadata": {},
     "output_type": "execute_result"
    }
   ],
   "source": [
    "got_net"
   ]
  },
  {
   "cell_type": "code",
   "execution_count": 30,
   "id": "22f2575c-6880-4d0b-aabb-5c489bb8e00c",
   "metadata": {},
   "outputs": [],
   "source": [
    "neighbor_map = got_net.get_adj_list()\n",
    "edges = got_net.get_edges()\n",
    "nodes=got_net.get_nodes()\n",
    "\n",
    "N_nodes=len(nodes)\n",
    "N_edges=len(edges)\n"
   ]
  },
  {
   "cell_type": "markdown",
   "id": "4d997c1d-6ee3-4998-840e-c973489624d9",
   "metadata": {},
   "source": [
    "You can study minimal examples from the official docs of pyvis\n",
    "https://pyvis.readthedocs.io/en/latest/tutorial.html\n"
   ]
  },
  {
   "cell_type": "code",
   "execution_count": 31,
   "id": "50ab5add-7382-4a8a-a484-05d5ab4f7504",
   "metadata": {},
   "outputs": [],
   "source": [
    "# manually adding the weights to each nodes\n",
    "weights=[[] for i in range(N_nodes)] \n",
    "\n",
    "#Associating weights to neighbors\n",
    "for i in range(N_nodes): #Loop through nodes\n",
    "    for neighbor in neighbor_map[nodes[i]]: #and neighbors\n",
    "        for j in range(N_edges): #associate weights to the edge between node and neighbor\n",
    "            if (edges[j]['from']==nodes[i] and edges[j]['to']==neighbor) or \\\n",
    "               (edges[j]['from']==neighbor and edges[j]['to']==nodes[i]):\n",
    "                weights[i].append(edges[j]['value'])"
   ]
  },
  {
   "cell_type": "code",
   "execution_count": 32,
   "id": "642ad72f-3223-47d3-8b78-2bf10e06b097",
   "metadata": {},
   "outputs": [],
   "source": [
    "for node,i in zip(got_net.nodes,range(N_nodes)):\n",
    "   \n",
    "    node['value']=len(neighbor_map[node['id']])\n",
    "    node['weight']=[str(weights[i][k]) for k in range(len(weights[i]))]\n",
    "    list_neighbor=list(neighbor_map[node['id']]) \n",
    "    #Concatenating neighbors and weights\n",
    "    hover_str=[list_neighbor[k]+' '+ node['weight'][k] for k in range(node['value'])]\n",
    "    #Setting up node title for hovering \n",
    "    node['title']+=' Neighbors:<br>'+'<br>'.join(hover_str)"
   ]
  },
  {
   "cell_type": "code",
   "execution_count": 34,
   "id": "29e311b8-91a1-44fd-a79c-2c918689083d",
   "metadata": {},
   "outputs": [],
   "source": [
    "got_net.show_buttons(filter_=['physics']) # i can modify the dynamics in the html\n",
    "got_net.show('three_items_opinion_net.html')\n"
   ]
  },
  {
   "cell_type": "markdown",
   "id": "63e248e5-f8a9-49a2-bd15-c0b3dc36e77d",
   "metadata": {},
   "source": [
    "## Bonus: Sankey plots"
   ]
  },
  {
   "cell_type": "code",
   "execution_count": 35,
   "id": "4399234c-7ae5-455b-9f66-7cedaf602b46",
   "metadata": {},
   "outputs": [
    {
     "data": {
      "text/plain": [
       "Index(['source', 'sink', 'counts', 'source_name', 'sink_name', 'label',\n",
       "       'connections', 'colour', 'id', 'idx', 'p1', 'p2', 'p1p2', 'From', 'To',\n",
       "       'Count', 'Unnamed: 16'],\n",
       "      dtype='object')"
      ]
     },
     "execution_count": 35,
     "metadata": {},
     "output_type": "execute_result"
    }
   ],
   "source": [
    "final_df.columns"
   ]
  },
  {
   "cell_type": "code",
   "execution_count": 36,
   "id": "b53bdb26-d341-49cb-ab1a-a9c6226b2009",
   "metadata": {},
   "outputs": [
    {
     "data": {
      "text/plain": [
       "46"
      ]
     },
     "execution_count": 36,
     "metadata": {},
     "output_type": "execute_result"
    }
   ],
   "source": [
    "len(final_df)"
   ]
  },
  {
   "cell_type": "code",
   "execution_count": 38,
   "id": "9d0c0d16-f9b7-4095-a33e-e54874f2187c",
   "metadata": {},
   "outputs": [
    {
     "data": {
      "text/html": [
       "<div>\n",
       "<style scoped>\n",
       "    .dataframe tbody tr th:only-of-type {\n",
       "        vertical-align: middle;\n",
       "    }\n",
       "\n",
       "    .dataframe tbody tr th {\n",
       "        vertical-align: top;\n",
       "    }\n",
       "\n",
       "    .dataframe thead th {\n",
       "        text-align: right;\n",
       "    }\n",
       "</style>\n",
       "<table border=\"1\" class=\"dataframe\">\n",
       "  <thead>\n",
       "    <tr style=\"text-align: right;\">\n",
       "      <th></th>\n",
       "      <th>source</th>\n",
       "      <th>sink</th>\n",
       "      <th>counts</th>\n",
       "      <th>source_name</th>\n",
       "      <th>sink_name</th>\n",
       "      <th>label</th>\n",
       "      <th>connections</th>\n",
       "      <th>colour</th>\n",
       "      <th>id</th>\n",
       "      <th>idx</th>\n",
       "      <th>p1</th>\n",
       "      <th>p2</th>\n",
       "      <th>p1p2</th>\n",
       "      <th>From</th>\n",
       "      <th>To</th>\n",
       "      <th>Count</th>\n",
       "      <th>Unnamed: 16</th>\n",
       "    </tr>\n",
       "  </thead>\n",
       "  <tbody>\n",
       "    <tr>\n",
       "      <th>0</th>\n",
       "      <td>773</td>\n",
       "      <td>767</td>\n",
       "      <td>200</td>\n",
       "      <td>Strongly agree to Revising and Updating</td>\n",
       "      <td>Strongly agree to Policymaking</td>\n",
       "      <td>Strongly agree to Revising and Updating Strong...</td>\n",
       "      <td>773 767</td>\n",
       "      <td>#2f3011</td>\n",
       "      <td>231</td>\n",
       "      <td>278</td>\n",
       "      <td>0.865801</td>\n",
       "      <td>0.719424</td>\n",
       "      <td>0.622878</td>\n",
       "      <td>Strongly agree to Revising and Updating 62.29</td>\n",
       "      <td>Strongly agree to Policymaking</td>\n",
       "      <td>200</td>\n",
       "      <td>NaN</td>\n",
       "    </tr>\n",
       "  </tbody>\n",
       "</table>\n",
       "</div>"
      ],
      "text/plain": [
       "   source  sink  counts                              source_name  \\\n",
       "0     773   767     200  Strongly agree to Revising and Updating   \n",
       "\n",
       "                        sink_name  \\\n",
       "0  Strongly agree to Policymaking   \n",
       "\n",
       "                                               label connections   colour  \\\n",
       "0  Strongly agree to Revising and Updating Strong...     773 767  #2f3011   \n",
       "\n",
       "    id  idx        p1        p2      p1p2  \\\n",
       "0  231  278  0.865801  0.719424  0.622878   \n",
       "\n",
       "                                            From  \\\n",
       "0  Strongly agree to Revising and Updating 62.29   \n",
       "\n",
       "                               To  Count  Unnamed: 16  \n",
       "0  Strongly agree to Policymaking    200          NaN  "
      ]
     },
     "execution_count": 38,
     "metadata": {},
     "output_type": "execute_result"
    }
   ],
   "source": [
    "final_df.head(1)"
   ]
  },
  {
   "cell_type": "code",
   "execution_count": 39,
   "id": "aa69765b-6c5c-4d67-9a36-f0ae9606cda0",
   "metadata": {},
   "outputs": [],
   "source": [
    "sources = list(final_df['source'])\n",
    "targets = list(final_df['sink'])\n",
    "values = list(final_df['p1p2']*100)\n",
    "labels = list(final_df['label'])\n",
    "colours = list(final_df['colour'])"
   ]
  },
  {
   "cell_type": "markdown",
   "id": "08f7ee32-d067-40df-86de-df04e4ef6d35",
   "metadata": {},
   "source": [
    "Plotly works with html, so if you know how html works, for example, you can modify the elements of the webpage. You can use this information to organize information on a html layout, plotly dash does that automatically."
   ]
  },
  {
   "cell_type": "code",
   "execution_count": 40,
   "id": "8a042681-682d-42d1-a48c-ea03ce8bd499",
   "metadata": {},
   "outputs": [
    {
     "data": {
      "text/html": [
       "        <script type=\"text/javascript\">\n",
       "        window.PlotlyConfig = {MathJaxConfig: 'local'};\n",
       "        if (window.MathJax && window.MathJax.Hub && window.MathJax.Hub.Config) {window.MathJax.Hub.Config({SVG: {font: \"STIX-Web\"}});}\n",
       "        if (typeof require !== 'undefined') {\n",
       "        require.undef(\"plotly\");\n",
       "        requirejs.config({\n",
       "            paths: {\n",
       "                'plotly': ['https://cdn.plot.ly/plotly-2.12.1.min']\n",
       "            }\n",
       "        });\n",
       "        require(['plotly'], function(Plotly) {\n",
       "            window._Plotly = Plotly;\n",
       "        });\n",
       "        }\n",
       "        </script>\n",
       "        "
      ]
     },
     "metadata": {},
     "output_type": "display_data"
    }
   ],
   "source": [
    "import plotly.offline as py\n",
    "py.init_notebook_mode(connected=True)\n",
    "import plotly.graph_objs as go\n",
    "import plotly.tools as tls"
   ]
  },
  {
   "cell_type": "code",
   "execution_count": 41,
   "id": "be2c21c9-e85a-4c44-a520-b1022b6fd6da",
   "metadata": {},
   "outputs": [],
   "source": [
    "fig = go.Figure(data=[go.Sankey(\n",
    "    node = dict(\n",
    "      pad = 4,\n",
    "      thickness = 1,\n",
    "      line = dict(color = 'red', width = 10),\n",
    "      label = labels,\n",
    "      customdata = labels,\n",
    "      hovertemplate='Source has total value %{value}<extra></extra>',\n",
    "      color = 'blue',\n",
    "    ),\n",
    "    link = dict(\n",
    "      source = sources, # indices correspond to labels, eg A1, A2, A2, B1, ...\n",
    "      target = targets,\n",
    "      value = values,\n",
    "      customdata = labels,\n",
    "        color = colours,\n",
    "      hovertemplate='Count: %{value}'+\n",
    "        '<br />Option: %{customdata}<extra></extra>'\n",
    "  ))])\n",
    "\n"
   ]
  },
  {
   "cell_type": "code",
   "execution_count": 42,
   "id": "70f7e85b-20a5-43ac-bee7-244484a81b86",
   "metadata": {},
   "outputs": [],
   "source": [
    "go.Layout(title='Sankey plot',\n",
    "          #other options for the plot\n",
    "           hoverlabel=dict(font=dict(family='sans-serif', size=100)))\n",
    "\n",
    "\n",
    "fig = fig.update_layout(margin=dict(t=100))\n"
   ]
  },
  {
   "cell_type": "code",
   "execution_count": 43,
   "id": "43b547a7-1b11-41a8-88c6-e96c2e49097b",
   "metadata": {},
   "outputs": [],
   "source": [
    "fig.write_html(\"likert_sankey.html\") # save the plot to .html"
   ]
  },
  {
   "cell_type": "markdown",
   "id": "eac7bc85-2ac2-4877-a8d4-37820497e322",
   "metadata": {},
   "source": [
    "## Bonus: tree plots"
   ]
  },
  {
   "cell_type": "code",
   "execution_count": 44,
   "id": "eb9813fd-1341-4a33-9590-c7b154567003",
   "metadata": {},
   "outputs": [
    {
     "data": {
      "text/plain": [
       "Index(['source', 'sink', 'counts', 'source_name', 'sink_name', 'label',\n",
       "       'connections', 'colour', 'id', 'idx', 'p1', 'p2', 'p1p2', 'From', 'To',\n",
       "       'Count', 'Unnamed: 16'],\n",
       "      dtype='object')"
      ]
     },
     "execution_count": 44,
     "metadata": {},
     "output_type": "execute_result"
    }
   ],
   "source": [
    "final_df.columns"
   ]
  },
  {
   "cell_type": "code",
   "execution_count": 45,
   "id": "1dda3429-97f2-45dc-9184-c7eccd082927",
   "metadata": {},
   "outputs": [
    {
     "data": {
      "text/html": [
       "<div>\n",
       "<style scoped>\n",
       "    .dataframe tbody tr th:only-of-type {\n",
       "        vertical-align: middle;\n",
       "    }\n",
       "\n",
       "    .dataframe tbody tr th {\n",
       "        vertical-align: top;\n",
       "    }\n",
       "\n",
       "    .dataframe thead th {\n",
       "        text-align: right;\n",
       "    }\n",
       "</style>\n",
       "<table border=\"1\" class=\"dataframe\">\n",
       "  <thead>\n",
       "    <tr style=\"text-align: right;\">\n",
       "      <th></th>\n",
       "      <th>p1</th>\n",
       "      <th>p2</th>\n",
       "      <th>p1p2</th>\n",
       "    </tr>\n",
       "    <tr>\n",
       "      <th>label</th>\n",
       "      <th></th>\n",
       "      <th></th>\n",
       "      <th></th>\n",
       "    </tr>\n",
       "  </thead>\n",
       "  <tbody>\n",
       "    <tr>\n",
       "      <th>Strongly agree to Revising and Updating Strongly agree to Policymaking</th>\n",
       "      <td>0.865801</td>\n",
       "      <td>0.719424</td>\n",
       "      <td>0.622878</td>\n",
       "    </tr>\n",
       "    <tr>\n",
       "      <th>Strongly disagree to Revising and Updating Strongly disagree to Policymaking</th>\n",
       "      <td>0.804878</td>\n",
       "      <td>0.733333</td>\n",
       "      <td>0.590244</td>\n",
       "    </tr>\n",
       "    <tr>\n",
       "      <th>Agree to Revising and Updating Agree to Policymaking</th>\n",
       "      <td>0.719547</td>\n",
       "      <td>0.798742</td>\n",
       "      <td>0.574732</td>\n",
       "    </tr>\n",
       "    <tr>\n",
       "      <th>Strongly agree to Policymaking Strongly agree to dissemination of GK</th>\n",
       "      <td>0.705036</td>\n",
       "      <td>0.710145</td>\n",
       "      <td>0.500678</td>\n",
       "    </tr>\n",
       "    <tr>\n",
       "      <th>Agree to Policymaking Agree to dissemination of GK</th>\n",
       "      <td>0.713836</td>\n",
       "      <td>0.669617</td>\n",
       "      <td>0.477997</td>\n",
       "    </tr>\n",
       "    <tr>\n",
       "      <th>Strongly disagree to Policymaking Strongly disagree to dissemination of GK</th>\n",
       "      <td>0.733333</td>\n",
       "      <td>0.589286</td>\n",
       "      <td>0.432143</td>\n",
       "    </tr>\n",
       "    <tr>\n",
       "      <th>Disagree to Revising and Updating Disagree to Policymaking</th>\n",
       "      <td>0.447368</td>\n",
       "      <td>0.435897</td>\n",
       "      <td>0.195007</td>\n",
       "    </tr>\n",
       "    <tr>\n",
       "      <th>Neutral towards to Revising and Updating Neutral towards to Policymaking</th>\n",
       "      <td>0.385542</td>\n",
       "      <td>0.470588</td>\n",
       "      <td>0.181432</td>\n",
       "    </tr>\n",
       "    <tr>\n",
       "      <th>Neutral towards to Policymaking Neutral towards to dissemination of GK</th>\n",
       "      <td>0.338235</td>\n",
       "      <td>0.479167</td>\n",
       "      <td>0.162071</td>\n",
       "    </tr>\n",
       "    <tr>\n",
       "      <th>Disagree to Policymaking Disagree to dissemination of GK</th>\n",
       "      <td>0.307692</td>\n",
       "      <td>0.342857</td>\n",
       "      <td>0.105495</td>\n",
       "    </tr>\n",
       "    <tr>\n",
       "      <th>Strongly agree to Policymaking Agree to dissemination of GK</th>\n",
       "      <td>0.251799</td>\n",
       "      <td>0.206490</td>\n",
       "      <td>0.051994</td>\n",
       "    </tr>\n",
       "    <tr>\n",
       "      <th>Agree to Policymaking Strongly agree to dissemination of GK</th>\n",
       "      <td>0.176101</td>\n",
       "      <td>0.202899</td>\n",
       "      <td>0.035731</td>\n",
       "    </tr>\n",
       "    <tr>\n",
       "      <th>Neutral towards to Revising and Updating Agree to Policymaking</th>\n",
       "      <td>0.361446</td>\n",
       "      <td>0.094340</td>\n",
       "      <td>0.034099</td>\n",
       "    </tr>\n",
       "    <tr>\n",
       "      <th>Agree to Revising and Updating Strongly agree to Policymaking</th>\n",
       "      <td>0.158640</td>\n",
       "      <td>0.201439</td>\n",
       "      <td>0.031956</td>\n",
       "    </tr>\n",
       "    <tr>\n",
       "      <th>Agree to Revising and Updating Neutral towards to Policymaking</th>\n",
       "      <td>0.067989</td>\n",
       "      <td>0.352941</td>\n",
       "      <td>0.023996</td>\n",
       "    </tr>\n",
       "    <tr>\n",
       "      <th>Neutral towards to Policymaking Agree to dissemination of GK</th>\n",
       "      <td>0.323529</td>\n",
       "      <td>0.064897</td>\n",
       "      <td>0.020996</td>\n",
       "    </tr>\n",
       "    <tr>\n",
       "      <th>Agree to Policymaking Disagree to dissemination of GK</th>\n",
       "      <td>0.044025</td>\n",
       "      <td>0.400000</td>\n",
       "      <td>0.017610</td>\n",
       "    </tr>\n",
       "    <tr>\n",
       "      <th>Disagree to Policymaking Agree to dissemination of GK</th>\n",
       "      <td>0.384615</td>\n",
       "      <td>0.044248</td>\n",
       "      <td>0.017018</td>\n",
       "    </tr>\n",
       "    <tr>\n",
       "      <th>Disagree to Policymaking Strongly disagree to dissemination of GK</th>\n",
       "      <td>0.153846</td>\n",
       "      <td>0.107143</td>\n",
       "      <td>0.016484</td>\n",
       "    </tr>\n",
       "    <tr>\n",
       "      <th>Neutral towards to Revising and Updating Disagree to Policymaking</th>\n",
       "      <td>0.084337</td>\n",
       "      <td>0.179487</td>\n",
       "      <td>0.015137</td>\n",
       "    </tr>\n",
       "    <tr>\n",
       "      <th>Agree to Policymaking Neutral towards to dissemination of GK</th>\n",
       "      <td>0.047170</td>\n",
       "      <td>0.312500</td>\n",
       "      <td>0.014741</td>\n",
       "    </tr>\n",
       "    <tr>\n",
       "      <th>Agree to Revising and Updating Disagree to Policymaking</th>\n",
       "      <td>0.036827</td>\n",
       "      <td>0.333333</td>\n",
       "      <td>0.012276</td>\n",
       "    </tr>\n",
       "    <tr>\n",
       "      <th>Neutral towards to Policymaking Strongly agree to dissemination of GK</th>\n",
       "      <td>0.220588</td>\n",
       "      <td>0.054348</td>\n",
       "      <td>0.011988</td>\n",
       "    </tr>\n",
       "    <tr>\n",
       "      <th>Strongly disagree to Policymaking Disagree to dissemination of GK</th>\n",
       "      <td>0.088889</td>\n",
       "      <td>0.114286</td>\n",
       "      <td>0.010159</td>\n",
       "    </tr>\n",
       "    <tr>\n",
       "      <th>Disagree to Policymaking Neutral towards to dissemination of GK</th>\n",
       "      <td>0.102564</td>\n",
       "      <td>0.083333</td>\n",
       "      <td>0.008547</td>\n",
       "    </tr>\n",
       "    <tr>\n",
       "      <th>Strongly agree to Revising and Updating Agree to Policymaking</th>\n",
       "      <td>0.095238</td>\n",
       "      <td>0.069182</td>\n",
       "      <td>0.006589</td>\n",
       "    </tr>\n",
       "    <tr>\n",
       "      <th>Neutral towards to Revising and Updating Strongly agree to Policymaking</th>\n",
       "      <td>0.144578</td>\n",
       "      <td>0.043165</td>\n",
       "      <td>0.006241</td>\n",
       "    </tr>\n",
       "    <tr>\n",
       "      <th>Disagree to Revising and Updating Agree to Policymaking</th>\n",
       "      <td>0.210526</td>\n",
       "      <td>0.025157</td>\n",
       "      <td>0.005296</td>\n",
       "    </tr>\n",
       "    <tr>\n",
       "      <th>Disagree to Revising and Updating Strongly disagree to Policymaking</th>\n",
       "      <td>0.078947</td>\n",
       "      <td>0.066667</td>\n",
       "      <td>0.005263</td>\n",
       "    </tr>\n",
       "    <tr>\n",
       "      <th>Neutral towards to Policymaking Strongly disagree to dissemination of GK</th>\n",
       "      <td>0.058824</td>\n",
       "      <td>0.071429</td>\n",
       "      <td>0.004202</td>\n",
       "    </tr>\n",
       "    <tr>\n",
       "      <th>Neutral towards to Policymaking Disagree to dissemination of GK</th>\n",
       "      <td>0.044118</td>\n",
       "      <td>0.085714</td>\n",
       "      <td>0.003782</td>\n",
       "    </tr>\n",
       "    <tr>\n",
       "      <th>Disagree to Revising and Updating Neutral towards to Policymaking</th>\n",
       "      <td>0.078947</td>\n",
       "      <td>0.044118</td>\n",
       "      <td>0.003483</td>\n",
       "    </tr>\n",
       "    <tr>\n",
       "      <th>Disagree to Revising and Updating Strongly agree to Policymaking</th>\n",
       "      <td>0.157895</td>\n",
       "      <td>0.021583</td>\n",
       "      <td>0.003408</td>\n",
       "    </tr>\n",
       "    <tr>\n",
       "      <th>Strongly agree to Revising and Updating Neutral towards to Policymaking</th>\n",
       "      <td>0.025974</td>\n",
       "      <td>0.088235</td>\n",
       "      <td>0.002292</td>\n",
       "    </tr>\n",
       "    <tr>\n",
       "      <th>Strongly agree to Policymaking Strongly disagree to dissemination of GK</th>\n",
       "      <td>0.017986</td>\n",
       "      <td>0.089286</td>\n",
       "      <td>0.001606</td>\n",
       "    </tr>\n",
       "    <tr>\n",
       "      <th>Agree to Revising and Updating Strongly disagree to Policymaking</th>\n",
       "      <td>0.014164</td>\n",
       "      <td>0.111111</td>\n",
       "      <td>0.001574</td>\n",
       "    </tr>\n",
       "    <tr>\n",
       "      <th>Strongly disagree to Revising and Updating Neutral towards to Policymaking</th>\n",
       "      <td>0.048780</td>\n",
       "      <td>0.029412</td>\n",
       "      <td>0.001435</td>\n",
       "    </tr>\n",
       "    <tr>\n",
       "      <th>Agree to Policymaking Strongly disagree to dissemination of GK</th>\n",
       "      <td>0.015723</td>\n",
       "      <td>0.089286</td>\n",
       "      <td>0.001404</td>\n",
       "    </tr>\n",
       "    <tr>\n",
       "      <th>Strongly disagree to Policymaking Strongly agree to dissemination of GK</th>\n",
       "      <td>0.088889</td>\n",
       "      <td>0.014493</td>\n",
       "      <td>0.001288</td>\n",
       "    </tr>\n",
       "    <tr>\n",
       "      <th>Strongly agree to Policymaking Neutral towards to dissemination of GK</th>\n",
       "      <td>0.014388</td>\n",
       "      <td>0.083333</td>\n",
       "      <td>0.001199</td>\n",
       "    </tr>\n",
       "    <tr>\n",
       "      <th>Strongly disagree to Policymaking Agree to dissemination of GK</th>\n",
       "      <td>0.066667</td>\n",
       "      <td>0.008850</td>\n",
       "      <td>0.000590</td>\n",
       "    </tr>\n",
       "    <tr>\n",
       "      <th>Strongly agree to Policymaking Disagree to dissemination of GK</th>\n",
       "      <td>0.007194</td>\n",
       "      <td>0.057143</td>\n",
       "      <td>0.000411</td>\n",
       "    </tr>\n",
       "    <tr>\n",
       "      <th>Strongly agree to Revising and Updating Strongly disagree to Policymaking</th>\n",
       "      <td>0.008658</td>\n",
       "      <td>0.044444</td>\n",
       "      <td>0.000385</td>\n",
       "    </tr>\n",
       "    <tr>\n",
       "      <th>Disagree to Policymaking Strongly agree to dissemination of GK</th>\n",
       "      <td>0.051282</td>\n",
       "      <td>0.007246</td>\n",
       "      <td>0.000372</td>\n",
       "    </tr>\n",
       "    <tr>\n",
       "      <th>Strongly disagree to Revising and Updating Strongly agree to Policymaking</th>\n",
       "      <td>0.048780</td>\n",
       "      <td>0.007194</td>\n",
       "      <td>0.000351</td>\n",
       "    </tr>\n",
       "    <tr>\n",
       "      <th>Strongly disagree to Revising and Updating Agree to Policymaking</th>\n",
       "      <td>0.048780</td>\n",
       "      <td>0.006289</td>\n",
       "      <td>0.000307</td>\n",
       "    </tr>\n",
       "  </tbody>\n",
       "</table>\n",
       "</div>"
      ],
      "text/plain": [
       "                                                          p1        p2  \\\n",
       "label                                                                    \n",
       "Strongly agree to Revising and Updating Strongl...  0.865801  0.719424   \n",
       "Strongly disagree to Revising and Updating Stro...  0.804878  0.733333   \n",
       "Agree to Revising and Updating Agree to Policym...  0.719547  0.798742   \n",
       "Strongly agree to Policymaking Strongly agree t...  0.705036  0.710145   \n",
       "Agree to Policymaking Agree to dissemination of GK  0.713836  0.669617   \n",
       "Strongly disagree to Policymaking Strongly disa...  0.733333  0.589286   \n",
       "Disagree to Revising and Updating Disagree to P...  0.447368  0.435897   \n",
       "Neutral towards to Revising and Updating Neutra...  0.385542  0.470588   \n",
       "Neutral towards to Policymaking Neutral towards...  0.338235  0.479167   \n",
       "Disagree to Policymaking Disagree to disseminat...  0.307692  0.342857   \n",
       "Strongly agree to Policymaking Agree to dissemi...  0.251799  0.206490   \n",
       "Agree to Policymaking Strongly agree to dissemi...  0.176101  0.202899   \n",
       "Neutral towards to Revising and Updating Agree ...  0.361446  0.094340   \n",
       "Agree to Revising and Updating Strongly agree t...  0.158640  0.201439   \n",
       "Agree to Revising and Updating Neutral towards ...  0.067989  0.352941   \n",
       "Neutral towards to Policymaking Agree to dissem...  0.323529  0.064897   \n",
       "Agree to Policymaking Disagree to dissemination...  0.044025  0.400000   \n",
       "Disagree to Policymaking Agree to dissemination...  0.384615  0.044248   \n",
       "Disagree to Policymaking Strongly disagree to d...  0.153846  0.107143   \n",
       "Neutral towards to Revising and Updating Disagr...  0.084337  0.179487   \n",
       "Agree to Policymaking Neutral towards to dissem...  0.047170  0.312500   \n",
       "Agree to Revising and Updating Disagree to Poli...  0.036827  0.333333   \n",
       "Neutral towards to Policymaking Strongly agree ...  0.220588  0.054348   \n",
       "Strongly disagree to Policymaking Disagree to d...  0.088889  0.114286   \n",
       "Disagree to Policymaking Neutral towards to dis...  0.102564  0.083333   \n",
       "Strongly agree to Revising and Updating Agree t...  0.095238  0.069182   \n",
       "Neutral towards to Revising and Updating Strong...  0.144578  0.043165   \n",
       "Disagree to Revising and Updating Agree to Poli...  0.210526  0.025157   \n",
       "Disagree to Revising and Updating Strongly disa...  0.078947  0.066667   \n",
       "Neutral towards to Policymaking Strongly disagr...  0.058824  0.071429   \n",
       "Neutral towards to Policymaking Disagree to dis...  0.044118  0.085714   \n",
       "Disagree to Revising and Updating Neutral towar...  0.078947  0.044118   \n",
       "Disagree to Revising and Updating Strongly agre...  0.157895  0.021583   \n",
       "Strongly agree to Revising and Updating Neutral...  0.025974  0.088235   \n",
       "Strongly agree to Policymaking Strongly disagre...  0.017986  0.089286   \n",
       "Agree to Revising and Updating Strongly disagre...  0.014164  0.111111   \n",
       "Strongly disagree to Revising and Updating Neut...  0.048780  0.029412   \n",
       "Agree to Policymaking Strongly disagree to diss...  0.015723  0.089286   \n",
       "Strongly disagree to Policymaking Strongly agre...  0.088889  0.014493   \n",
       "Strongly agree to Policymaking Neutral towards ...  0.014388  0.083333   \n",
       "Strongly disagree to Policymaking Agree to diss...  0.066667  0.008850   \n",
       "Strongly agree to Policymaking Disagree to diss...  0.007194  0.057143   \n",
       "Strongly agree to Revising and Updating Strongl...  0.008658  0.044444   \n",
       "Disagree to Policymaking Strongly agree to diss...  0.051282  0.007246   \n",
       "Strongly disagree to Revising and Updating Stro...  0.048780  0.007194   \n",
       "Strongly disagree to Revising and Updating Agre...  0.048780  0.006289   \n",
       "\n",
       "                                                        p1p2  \n",
       "label                                                         \n",
       "Strongly agree to Revising and Updating Strongl...  0.622878  \n",
       "Strongly disagree to Revising and Updating Stro...  0.590244  \n",
       "Agree to Revising and Updating Agree to Policym...  0.574732  \n",
       "Strongly agree to Policymaking Strongly agree t...  0.500678  \n",
       "Agree to Policymaking Agree to dissemination of GK  0.477997  \n",
       "Strongly disagree to Policymaking Strongly disa...  0.432143  \n",
       "Disagree to Revising and Updating Disagree to P...  0.195007  \n",
       "Neutral towards to Revising and Updating Neutra...  0.181432  \n",
       "Neutral towards to Policymaking Neutral towards...  0.162071  \n",
       "Disagree to Policymaking Disagree to disseminat...  0.105495  \n",
       "Strongly agree to Policymaking Agree to dissemi...  0.051994  \n",
       "Agree to Policymaking Strongly agree to dissemi...  0.035731  \n",
       "Neutral towards to Revising and Updating Agree ...  0.034099  \n",
       "Agree to Revising and Updating Strongly agree t...  0.031956  \n",
       "Agree to Revising and Updating Neutral towards ...  0.023996  \n",
       "Neutral towards to Policymaking Agree to dissem...  0.020996  \n",
       "Agree to Policymaking Disagree to dissemination...  0.017610  \n",
       "Disagree to Policymaking Agree to dissemination...  0.017018  \n",
       "Disagree to Policymaking Strongly disagree to d...  0.016484  \n",
       "Neutral towards to Revising and Updating Disagr...  0.015137  \n",
       "Agree to Policymaking Neutral towards to dissem...  0.014741  \n",
       "Agree to Revising and Updating Disagree to Poli...  0.012276  \n",
       "Neutral towards to Policymaking Strongly agree ...  0.011988  \n",
       "Strongly disagree to Policymaking Disagree to d...  0.010159  \n",
       "Disagree to Policymaking Neutral towards to dis...  0.008547  \n",
       "Strongly agree to Revising and Updating Agree t...  0.006589  \n",
       "Neutral towards to Revising and Updating Strong...  0.006241  \n",
       "Disagree to Revising and Updating Agree to Poli...  0.005296  \n",
       "Disagree to Revising and Updating Strongly disa...  0.005263  \n",
       "Neutral towards to Policymaking Strongly disagr...  0.004202  \n",
       "Neutral towards to Policymaking Disagree to dis...  0.003782  \n",
       "Disagree to Revising and Updating Neutral towar...  0.003483  \n",
       "Disagree to Revising and Updating Strongly agre...  0.003408  \n",
       "Strongly agree to Revising and Updating Neutral...  0.002292  \n",
       "Strongly agree to Policymaking Strongly disagre...  0.001606  \n",
       "Agree to Revising and Updating Strongly disagre...  0.001574  \n",
       "Strongly disagree to Revising and Updating Neut...  0.001435  \n",
       "Agree to Policymaking Strongly disagree to diss...  0.001404  \n",
       "Strongly disagree to Policymaking Strongly agre...  0.001288  \n",
       "Strongly agree to Policymaking Neutral towards ...  0.001199  \n",
       "Strongly disagree to Policymaking Agree to diss...  0.000590  \n",
       "Strongly agree to Policymaking Disagree to diss...  0.000411  \n",
       "Strongly agree to Revising and Updating Strongl...  0.000385  \n",
       "Disagree to Policymaking Strongly agree to diss...  0.000372  \n",
       "Strongly disagree to Revising and Updating Stro...  0.000351  \n",
       "Strongly disagree to Revising and Updating Agre...  0.000307  "
      ]
     },
     "execution_count": 45,
     "metadata": {},
     "output_type": "execute_result"
    }
   ],
   "source": [
    "sub_df = final_df[['p1', 'p2', 'p1p2']]\n",
    "sub_df.index = final_df['label']\n",
    "sub_df"
   ]
  },
  {
   "cell_type": "code",
   "execution_count": 46,
   "id": "f063ba0f-f56d-48f7-a970-9b103aeff8d3",
   "metadata": {},
   "outputs": [],
   "source": [
    "import dash_bio"
   ]
  },
  {
   "cell_type": "code",
   "execution_count": 47,
   "id": "26971a88-5a22-4264-911f-6dc87230eb65",
   "metadata": {},
   "outputs": [],
   "source": [
    "figx = dash_bio.Clustergram(\n",
    "    data=sub_df,\n",
    "    column_labels=list(sub_df.columns.values),\n",
    "    row_labels=list(sub_df.index),\n",
    "    height=800,\n",
    "    width=700\n",
    ")"
   ]
  },
  {
   "cell_type": "code",
   "execution_count": 48,
   "id": "765fb3c0-7789-438d-8d23-98f56d72725a",
   "metadata": {},
   "outputs": [
    {
     "data": {
      "application/vnd.plotly.v1+json": {
       "config": {
        "plotlyServerURL": "https://plot.ly"
       },
       "data": [
        {
         "hoverinfo": "y+name",
         "line": {
          "width": 0.5
         },
         "marker": {
          "color": "rgb(0,116,217)"
         },
         "mode": "lines",
         "name": "Col Cluster 0",
         "type": "scatter",
         "x": [
          5,
          5,
          20,
          20
         ],
         "xaxis": "x3",
         "y": [
          0,
          1.0680692753815173,
          1.0680692753815173,
          0.9289785988546777
         ],
         "yaxis": "y3"
        },
        {
         "hoverinfo": "y+name",
         "line": {
          "width": 0.5
         },
         "marker": {
          "color": "rgb(0,116,217)"
         },
         "mode": "lines",
         "name": "Col Cluster 1",
         "type": "scatter",
         "x": [
          15,
          15,
          25,
          25
         ],
         "xaxis": "x3",
         "y": [
          0,
          0.9289785988546777,
          0.9289785988546777,
          0
         ],
         "yaxis": "y3"
        },
        {
         "hoverinfo": "x+name",
         "line": {
          "width": 0.5
         },
         "marker": {
          "color": "rgb(0,116,217)"
         },
         "mode": "lines",
         "name": "Row Cluster 0",
         "type": "scatter",
         "x": [
          0,
          -0.04726929812256576,
          -0.04726929812256576,
          0
         ],
         "xaxis": "x9",
         "y": [
          15,
          15,
          25,
          25
         ],
         "yaxis": "y9"
        },
        {
         "hoverinfo": "x+name",
         "line": {
          "width": 0.5
         },
         "marker": {
          "color": "rgb(0,116,217)"
         },
         "mode": "lines",
         "name": "Row Cluster 1",
         "type": "scatter",
         "x": [
          0,
          -0.05183049113215115,
          -0.05183049113215115,
          0
         ],
         "xaxis": "x9",
         "y": [
          445,
          445,
          455,
          455
         ],
         "yaxis": "y9"
        },
        {
         "hoverinfo": "x+name",
         "line": {
          "width": 0.5
         },
         "marker": {
          "color": "rgb(0,116,217)"
         },
         "mode": "lines",
         "name": "Row Cluster 2",
         "type": "scatter",
         "x": [
          0,
          -0.1219306552307499,
          -0.1219306552307499,
          -0.05183049113215115
         ],
         "xaxis": "x9",
         "y": [
          435,
          435,
          450,
          450
         ],
         "yaxis": "y9"
        },
        {
         "hoverinfo": "x+name",
         "line": {
          "width": 0.5
         },
         "marker": {
          "color": "rgb(0,116,217)"
         },
         "mode": "lines",
         "name": "Row Cluster 3",
         "type": "scatter",
         "x": [
          0,
          -0.19020574313095803,
          -0.19020574313095803,
          -0.1219306552307499
         ],
         "xaxis": "x9",
         "y": [
          425,
          425,
          442.5,
          442.5
         ],
         "yaxis": "y9"
        },
        {
         "hoverinfo": "x+name",
         "line": {
          "width": 0.5
         },
         "marker": {
          "color": "rgb(0,116,217)"
         },
         "mode": "lines",
         "name": "Row Cluster 4",
         "type": "scatter",
         "x": [
          0,
          -0.02338947975052031,
          -0.02338947975052031,
          0
         ],
         "xaxis": "x9",
         "y": [
          405,
          405,
          415,
          415
         ],
         "yaxis": "y9"
        },
        {
         "hoverinfo": "x+name",
         "line": {
          "width": 0.5
         },
         "marker": {
          "color": "rgb(0,116,217)"
         },
         "mode": "lines",
         "name": "Row Cluster 5",
         "type": "scatter",
         "x": [
          0,
          -0.04641724105329829,
          -0.04641724105329829,
          -0.02338947975052031
         ],
         "xaxis": "x9",
         "y": [
          395,
          395,
          410,
          410
         ],
         "yaxis": "y9"
        },
        {
         "hoverinfo": "x+name",
         "line": {
          "width": 0.5
         },
         "marker": {
          "color": "rgb(0,116,217)"
         },
         "mode": "lines",
         "name": "Row Cluster 6",
         "type": "scatter",
         "x": [
          -0.08760349414264253,
          -0.4609272232554723,
          -0.4609272232554723,
          -0.19020574313095803
         ],
         "xaxis": "x9",
         "y": [
          393.75,
          393.75,
          433.75,
          433.75
         ],
         "yaxis": "y9"
        },
        {
         "hoverinfo": "x+name",
         "line": {
          "width": 0.5
         },
         "marker": {
          "color": "rgb(0,116,217)"
         },
         "mode": "lines",
         "name": "Row Cluster 7",
         "type": "scatter",
         "x": [
          0,
          -0.08760349414264253,
          -0.08760349414264253,
          -0.04641724105329829
         ],
         "xaxis": "x9",
         "y": [
          385,
          385,
          402.5,
          402.5
         ],
         "yaxis": "y9"
        },
        {
         "hoverinfo": "x+name",
         "line": {
          "width": 0.5
         },
         "marker": {
          "color": "rgb(0,116,217)"
         },
         "mode": "lines",
         "name": "Row Cluster 8",
         "type": "scatter",
         "x": [
          0,
          -0.017923971267551176,
          -0.017923971267551176,
          0
         ],
         "xaxis": "x9",
         "y": [
          365,
          365,
          375,
          375
         ],
         "yaxis": "y9"
        },
        {
         "hoverinfo": "x+name",
         "line": {
          "width": 0.5
         },
         "marker": {
          "color": "rgb(0,116,217)"
         },
         "mode": "lines",
         "name": "Row Cluster 9",
         "type": "scatter",
         "x": [
          0,
          -0.09542344222464413,
          -0.09542344222464413,
          -0.017923971267551176
         ],
         "xaxis": "x9",
         "y": [
          355,
          355,
          370,
          370
         ],
         "yaxis": "y9"
        },
        {
         "hoverinfo": "x+name",
         "line": {
          "width": 0.5
         },
         "marker": {
          "color": "rgb(0,116,217)"
         },
         "mode": "lines",
         "name": "Row Cluster 10",
         "type": "scatter",
         "x": [
          0,
          -0.03159337254868496,
          -0.03159337254868496,
          0
         ],
         "xaxis": "x9",
         "y": [
          335,
          335,
          345,
          345
         ],
         "yaxis": "y9"
        },
        {
         "hoverinfo": "x+name",
         "line": {
          "width": 0.5
         },
         "marker": {
          "color": "rgb(0,116,217)"
         },
         "mode": "lines",
         "name": "Row Cluster 11",
         "type": "scatter",
         "x": [
          -0.07704289453285097,
          -0.2130003738517846,
          -0.2130003738517846,
          -0.09542344222464413
         ],
         "xaxis": "x9",
         "y": [
          330,
          330,
          362.5,
          362.5
         ],
         "yaxis": "y9"
        },
        {
         "hoverinfo": "x+name",
         "line": {
          "width": 0.5
         },
         "marker": {
          "color": "rgb(0,116,217)"
         },
         "mode": "lines",
         "name": "Row Cluster 12",
         "type": "scatter",
         "x": [
          -0.025517662549692906,
          -0.07704289453285097,
          -0.07704289453285097,
          -0.03159337254868496
         ],
         "xaxis": "x9",
         "y": [
          320,
          320,
          340,
          340
         ],
         "yaxis": "y9"
        },
        {
         "hoverinfo": "x+name",
         "line": {
          "width": 0.5
         },
         "marker": {
          "color": "rgb(0,116,217)"
         },
         "mode": "lines",
         "name": "Row Cluster 13",
         "type": "scatter",
         "x": [
          0,
          -0.025517662549692906,
          -0.025517662549692906,
          0
         ],
         "xaxis": "x9",
         "y": [
          315,
          315,
          325,
          325
         ],
         "yaxis": "y9"
        },
        {
         "hoverinfo": "x+name",
         "line": {
          "width": 0.5
         },
         "marker": {
          "color": "rgb(0,116,217)"
         },
         "mode": "lines",
         "name": "Row Cluster 14",
         "type": "scatter",
         "x": [
          0,
          -0.04976221203885533,
          -0.04976221203885533,
          0
         ],
         "xaxis": "x9",
         "y": [
          295,
          295,
          305,
          305
         ],
         "yaxis": "y9"
        },
        {
         "hoverinfo": "x+name",
         "line": {
          "width": 0.5
         },
         "marker": {
          "color": "rgb(0,116,217)"
         },
         "mode": "lines",
         "name": "Row Cluster 15",
         "type": "scatter",
         "x": [
          -0.0646042187554342,
          -0.2756752708350896,
          -0.2756752708350896,
          -0.2130003738517846
         ],
         "xaxis": "x9",
         "y": [
          292.5,
          292.5,
          346.25,
          346.25
         ],
         "yaxis": "y9"
        },
        {
         "hoverinfo": "x+name",
         "line": {
          "width": 0.5
         },
         "marker": {
          "color": "rgb(0,116,217)"
         },
         "mode": "lines",
         "name": "Row Cluster 16",
         "type": "scatter",
         "x": [
          0,
          -0.0646042187554342,
          -0.0646042187554342,
          -0.04976221203885533
         ],
         "xaxis": "x9",
         "y": [
          285,
          285,
          300,
          300
         ],
         "yaxis": "y9"
        },
        {
         "hoverinfo": "x+name",
         "line": {
          "width": 0.5
         },
         "marker": {
          "color": "rgb(0,116,217)"
         },
         "mode": "lines",
         "name": "Row Cluster 17",
         "type": "scatter",
         "x": [
          0,
          -0.022619146778780148,
          -0.022619146778780148,
          0
         ],
         "xaxis": "x9",
         "y": [
          265,
          265,
          275,
          275
         ],
         "yaxis": "y9"
        },
        {
         "hoverinfo": "x+name",
         "line": {
          "width": 0.5
         },
         "marker": {
          "color": "rgb(0,116,217)"
         },
         "mode": "lines",
         "name": "Row Cluster 18",
         "type": "scatter",
         "x": [
          -0.020506195673503164,
          -0.05425288801529372,
          -0.05425288801529372,
          -0.022619146778780148
         ],
         "xaxis": "x9",
         "y": [
          250,
          250,
          270,
          270
         ],
         "yaxis": "y9"
        },
        {
         "hoverinfo": "x+name",
         "line": {
          "width": 0.5
         },
         "marker": {
          "color": "rgb(0,116,217)"
         },
         "mode": "lines",
         "name": "Row Cluster 19",
         "type": "scatter",
         "x": [
          0,
          -0.020506195673503164,
          -0.020506195673503164,
          0
         ],
         "xaxis": "x9",
         "y": [
          245,
          245,
          255,
          255
         ],
         "yaxis": "y9"
        },
        {
         "hoverinfo": "x+name",
         "line": {
          "width": 0.5
         },
         "marker": {
          "color": "rgb(0,116,217)"
         },
         "mode": "lines",
         "name": "Row Cluster 20",
         "type": "scatter",
         "x": [
          0,
          -0.0009060689819213541,
          -0.0009060689819213541,
          0
         ],
         "xaxis": "x9",
         "y": [
          225,
          225,
          235,
          235
         ],
         "yaxis": "y9"
        },
        {
         "hoverinfo": "x+name",
         "line": {
          "width": 0.5
         },
         "marker": {
          "color": "rgb(0,116,217)"
         },
         "mode": "lines",
         "name": "Row Cluster 21",
         "type": "scatter",
         "x": [
          -0.3780061966621711,
          -0.6193380645439128,
          -0.6193380645439128,
          -0.4609272232554723
         ],
         "xaxis": "x9",
         "y": [
          223.22265625,
          223.22265625,
          413.75,
          413.75
         ],
         "yaxis": "y9"
        },
        {
         "hoverinfo": "x+name",
         "line": {
          "width": 0.5
         },
         "marker": {
          "color": "rgb(0,116,217)"
         },
         "mode": "lines",
         "name": "Row Cluster 22",
         "type": "scatter",
         "x": [
          0,
          -0.0026795667560260594,
          -0.0026795667560260594,
          -0.0009060689819213541
         ],
         "xaxis": "x9",
         "y": [
          215,
          215,
          230,
          230
         ],
         "yaxis": "y9"
        },
        {
         "hoverinfo": "x+name",
         "line": {
          "width": 0.5
         },
         "marker": {
          "color": "rgb(0,116,217)"
         },
         "mode": "lines",
         "name": "Row Cluster 23",
         "type": "scatter",
         "x": [
          0,
          -0.018071623585057327,
          -0.018071623585057327,
          -0.0026795667560260594
         ],
         "xaxis": "x9",
         "y": [
          205,
          205,
          222.5,
          222.5
         ],
         "yaxis": "y9"
        },
        {
         "hoverinfo": "x+name",
         "line": {
          "width": 0.5
         },
         "marker": {
          "color": "rgb(0,116,217)"
         },
         "mode": "lines",
         "name": "Row Cluster 24",
         "type": "scatter",
         "x": [
          0,
          -0.027266364590828755,
          -0.027266364590828755,
          -0.018071623585057327
         ],
         "xaxis": "x9",
         "y": [
          195,
          195,
          213.75,
          213.75
         ],
         "yaxis": "y9"
        },
        {
         "hoverinfo": "x+name",
         "line": {
          "width": 0.5
         },
         "marker": {
          "color": "rgb(0,116,217)"
         },
         "mode": "lines",
         "name": "Row Cluster 25",
         "type": "scatter",
         "x": [
          -0.042794042237208674,
          -0.08416111523738264,
          -0.08416111523738264,
          -0.05425288801529372
         ],
         "xaxis": "x9",
         "y": [
          194.6875,
          194.6875,
          260,
          260
         ],
         "yaxis": "y9"
        },
        {
         "hoverinfo": "x+name",
         "line": {
          "width": 0.5
         },
         "marker": {
          "color": "rgb(0,116,217)"
         },
         "mode": "lines",
         "name": "Row Cluster 26",
         "type": "scatter",
         "x": [
          0,
          -0.042794042237208674,
          -0.042794042237208674,
          -0.027266364590828755
         ],
         "xaxis": "x9",
         "y": [
          185,
          185,
          204.375,
          204.375
         ],
         "yaxis": "y9"
        },
        {
         "hoverinfo": "x+name",
         "line": {
          "width": 0.5
         },
         "marker": {
          "color": "rgb(0,116,217)"
         },
         "mode": "lines",
         "name": "Row Cluster 27",
         "type": "scatter",
         "x": [
          0,
          -0.00227199757922406,
          -0.00227199757922406,
          0
         ],
         "xaxis": "x9",
         "y": [
          165,
          165,
          175,
          175
         ],
         "yaxis": "y9"
        },
        {
         "hoverinfo": "x+name",
         "line": {
          "width": 0.5
         },
         "marker": {
          "color": "rgb(0,116,217)"
         },
         "mode": "lines",
         "name": "Row Cluster 28",
         "type": "scatter",
         "x": [
          0,
          -0.006967744398297055,
          -0.006967744398297055,
          -0.00227199757922406
         ],
         "xaxis": "x9",
         "y": [
          155,
          155,
          170,
          170
         ],
         "yaxis": "y9"
        },
        {
         "hoverinfo": "x+name",
         "line": {
          "width": 0.5
         },
         "marker": {
          "color": "rgb(0,116,217)"
         },
         "mode": "lines",
         "name": "Row Cluster 29",
         "type": "scatter",
         "x": [
          0,
          -0.012627733327877965,
          -0.012627733327877965,
          -0.006967744398297055
         ],
         "xaxis": "x9",
         "y": [
          145,
          145,
          162.5,
          162.5
         ],
         "yaxis": "y9"
        },
        {
         "hoverinfo": "x+name",
         "line": {
          "width": 0.5
         },
         "marker": {
          "color": "rgb(0,116,217)"
         },
         "mode": "lines",
         "name": "Row Cluster 30",
         "type": "scatter",
         "x": [
          0,
          -0.02778143417824213,
          -0.02778143417824213,
          -0.012627733327877965
         ],
         "xaxis": "x9",
         "y": [
          135,
          135,
          153.75,
          153.75
         ],
         "yaxis": "y9"
        },
        {
         "hoverinfo": "x+name",
         "line": {
          "width": 0.5
         },
         "marker": {
          "color": "rgb(0,116,217)"
         },
         "mode": "lines",
         "name": "Row Cluster 31",
         "type": "scatter",
         "x": [
          -0.06690454876912331,
          -0.12214313466175657,
          -0.12214313466175657,
          -0.08416111523738264
         ],
         "xaxis": "x9",
         "y": [
          132.1875,
          132.1875,
          227.34375,
          227.34375
         ],
         "yaxis": "y9"
        },
        {
         "hoverinfo": "x+name",
         "line": {
          "width": 0.5
         },
         "marker": {
          "color": "rgb(0,116,217)"
         },
         "mode": "lines",
         "name": "Row Cluster 32",
         "type": "scatter",
         "x": [
          -0.17743104675619767,
          -0.3780061966621711,
          -0.3780061966621711,
          -0.2756752708350896
         ],
         "xaxis": "x9",
         "y": [
          127.0703125,
          127.0703125,
          319.375,
          319.375
         ],
         "yaxis": "y9"
        },
        {
         "hoverinfo": "x+name",
         "line": {
          "width": 0.5
         },
         "marker": {
          "color": "rgb(0,116,217)"
         },
         "mode": "lines",
         "name": "Row Cluster 33",
         "type": "scatter",
         "x": [
          -0.012783136274013512,
          -0.06690454876912331,
          -0.06690454876912331,
          -0.02778143417824213
         ],
         "xaxis": "x9",
         "y": [
          120,
          120,
          144.375,
          144.375
         ],
         "yaxis": "y9"
        },
        {
         "hoverinfo": "x+name",
         "line": {
          "width": 0.5
         },
         "marker": {
          "color": "rgb(0,116,217)"
         },
         "mode": "lines",
         "name": "Row Cluster 34",
         "type": "scatter",
         "x": [
          0,
          -0.012783136274013512,
          -0.012783136274013512,
          0
         ],
         "xaxis": "x9",
         "y": [
          115,
          115,
          125,
          125
         ],
         "yaxis": "y9"
        },
        {
         "hoverinfo": "x+name",
         "line": {
          "width": 0.5
         },
         "marker": {
          "color": "rgb(0,116,217)"
         },
         "mode": "lines",
         "name": "Row Cluster 35",
         "type": "scatter",
         "x": [
          0,
          -0.016054745124105842,
          -0.016054745124105842,
          0
         ],
         "xaxis": "x9",
         "y": [
          95,
          95,
          105,
          105
         ],
         "yaxis": "y9"
        },
        {
         "hoverinfo": "x+name",
         "line": {
          "width": 0.5
         },
         "marker": {
          "color": "rgb(0,116,217)"
         },
         "mode": "lines",
         "name": "Row Cluster 36",
         "type": "scatter",
         "x": [
          0,
          -0.04568835209328523,
          -0.04568835209328523,
          -0.016054745124105842
         ],
         "xaxis": "x9",
         "y": [
          85,
          85,
          100,
          100
         ],
         "yaxis": "y9"
        },
        {
         "hoverinfo": "x+name",
         "line": {
          "width": 0.5
         },
         "marker": {
          "color": "rgb(0,116,217)"
         },
         "mode": "lines",
         "name": "Row Cluster 37",
         "type": "scatter",
         "x": [
          0,
          -0.07052550042360566,
          -0.07052550042360566,
          -0.04568835209328523
         ],
         "xaxis": "x9",
         "y": [
          75,
          75,
          92.5,
          92.5
         ],
         "yaxis": "y9"
        },
        {
         "hoverinfo": "x+name",
         "line": {
          "width": 0.5
         },
         "marker": {
          "color": "rgb(0,116,217)"
         },
         "mode": "lines",
         "name": "Row Cluster 38",
         "type": "scatter",
         "x": [
          -0.1111714582525569,
          -0.17743104675619767,
          -0.17743104675619767,
          -0.12214313466175657
         ],
         "xaxis": "x9",
         "y": [
          74.375,
          74.375,
          179.765625,
          179.765625
         ],
         "yaxis": "y9"
        },
        {
         "hoverinfo": "x+name",
         "line": {
          "width": 0.5
         },
         "marker": {
          "color": "rgb(0,116,217)"
         },
         "mode": "lines",
         "name": "Row Cluster 39",
         "type": "scatter",
         "x": [
          0,
          -0.1111714582525569,
          -0.1111714582525569,
          -0.07052550042360566
         ],
         "xaxis": "x9",
         "y": [
          65,
          65,
          83.75,
          83.75
         ],
         "yaxis": "y9"
        },
        {
         "hoverinfo": "x+name",
         "line": {
          "width": 0.5
         },
         "marker": {
          "color": "rgb(0,116,217)"
         },
         "mode": "lines",
         "name": "Row Cluster 40",
         "type": "scatter",
         "x": [
          0,
          -0.07049858272334283,
          -0.07049858272334283,
          0
         ],
         "xaxis": "x9",
         "y": [
          45,
          45,
          55,
          55
         ],
         "yaxis": "y9"
        },
        {
         "hoverinfo": "x+name",
         "line": {
          "width": 0.5
         },
         "marker": {
          "color": "rgb(0,116,217)"
         },
         "mode": "lines",
         "name": "Row Cluster 41",
         "type": "scatter",
         "x": [
          0,
          -0.1732039692270359,
          -0.1732039692270359,
          -0.07049858272334283
         ],
         "xaxis": "x9",
         "y": [
          35,
          35,
          50,
          50
         ],
         "yaxis": "y9"
        },
        {
         "hoverinfo": "x+name",
         "line": {
          "width": 0.5
         },
         "marker": {
          "color": "rgb(0,116,217)"
         },
         "mode": "lines",
         "name": "Row Cluster 42",
         "type": "scatter",
         "x": [
          -0.26620201030983975,
          -1.25610097440373,
          -1.25610097440373,
          -0.6193380645439128
         ],
         "xaxis": "x9",
         "y": [
          27.5,
          27.5,
          318.486328125,
          318.486328125
         ],
         "yaxis": "y9"
        },
        {
         "hoverinfo": "x+name",
         "line": {
          "width": 0.5
         },
         "marker": {
          "color": "rgb(0,116,217)"
         },
         "mode": "lines",
         "name": "Row Cluster 43",
         "type": "scatter",
         "x": [
          -0.14179091760405532,
          -0.26620201030983975,
          -0.26620201030983975,
          -0.1732039692270359
         ],
         "xaxis": "x9",
         "y": [
          12.5,
          12.5,
          42.5,
          42.5
         ],
         "yaxis": "y9"
        },
        {
         "hoverinfo": "x+name",
         "line": {
          "width": 0.5
         },
         "marker": {
          "color": "rgb(0,116,217)"
         },
         "mode": "lines",
         "name": "Row Cluster 44",
         "type": "scatter",
         "x": [
          0,
          -0.14179091760405532,
          -0.14179091760405532,
          -0.04726929812256576
         ],
         "xaxis": "x9",
         "y": [
          5,
          5,
          20,
          20
         ],
         "yaxis": "y9"
        },
        {
         "colorbar": {
          "xpad": 100
         },
         "colorscale": [
          [
           0,
           "rgb(84,48,5)"
          ],
          [
           0.5,
           "rgb(246,232,195)"
          ],
          [
           1,
           "rgb(0,60,48)"
          ]
         ],
         "type": "heatmap",
         "x": [
          5,
          15,
          25
         ],
         "xaxis": "x11",
         "y": [
          5,
          15,
          25,
          35,
          45,
          55,
          65,
          75,
          85,
          95,
          105,
          115,
          125,
          135,
          145,
          155,
          165,
          175,
          185,
          195,
          205,
          215,
          225,
          235,
          245,
          255,
          265,
          275,
          285,
          295,
          305,
          315,
          325,
          335,
          345,
          355,
          365,
          375,
          385,
          395,
          405,
          415,
          425,
          435,
          445,
          455
         ],
         "yaxis": "y11",
         "z": [
          [
           0.2594550652173913,
           0.5606450652173913,
           0.4165980652173913
          ],
          [
           0.32799006521739127,
           0.5323480652173913,
           0.5374570652173913
          ],
          [
           0.3053090652173913,
           0.5411480652173913,
           0.49692906521739133
          ],
          [
           0.40204406521739133,
           0.5468590652173914,
           0.6260540652173913
          ],
          [
           0.45019006521739136,
           0.6931130652173914,
           0.5467360652173913
          ],
          [
           0.4175560652173913,
           0.6321900652173913,
           0.5606450652173913
          ],
          [
           -0.15755093478260868,
           -0.08835093478260869,
           0.00679906521739132
          ],
          [
           -0.1562039347826087,
           -0.018841934782608677,
           -0.06554493478260869
          ],
          [
           -0.16252893478260869,
           -0.08379893478260869,
           -0.05840193478260869
          ],
          [
           -0.1641409347826087,
           -0.07012393478260869,
           -0.08935493478260868
          ],
          [
           -0.16609893478260868,
           -0.07744993478260868,
           -0.1035059347826087
          ],
          [
           -0.1722769347826087,
           -0.16549393478260868,
           -0.11554493478260869
          ],
          [
           -0.1723029347826087,
           -0.1640299347826087,
           -0.1282439347826087
          ],
          [
           -0.1711139347826087,
           -0.15852393478260868,
           -0.061576934782608686
          ],
          [
           -0.1703959347826087,
           -0.1467139347826087,
           -0.0844529347826087
          ],
          [
           -0.17148893478260868,
           -0.15829993478260868,
           -0.08935493478260868
          ],
          [
           -0.1710819347826087,
           -0.15470193478260869,
           -0.08340193478260868
          ],
          [
           -0.1712839347826087,
           -0.1569649347826087,
           -0.08340193478260868
          ],
          [
           -0.17139993478260868,
           -0.08379893478260869,
           -0.15819493478260868
          ],
          [
           -0.1712529347826087,
           -0.1239079347826087,
           -0.1432759347826087
          ],
          [
           -0.17209793478260868,
           -0.10602093478260868,
           -0.1638379347826087
          ],
          [
           -0.17231593478260868,
           -0.1214059347826087,
           -0.16544193478260869
          ],
          [
           -0.1723369347826087,
           -0.1239079347826087,
           -0.16549393478260868
          ],
          [
           -0.17238093478260869,
           -0.1239079347826087,
           -0.1663989347826087
          ],
          [
           -0.16848593478260868,
           -0.11386393478260869,
           -0.10125893478260868
          ],
          [
           -0.16890593478260868,
           -0.1285699347826087,
           -0.08697393478260869
          ],
          [
           -0.1674249347826087,
           -0.09374093478260868,
           -0.10602093478260868
          ],
          [
           -0.16920493478260867,
           -0.09374093478260868,
           -0.1285699347826087
          ],
          [
           -0.15566993478260868,
           0.2119270652173913,
           -0.12843993478260868
          ],
          [
           -0.1385889347826087,
           0.1887580652173913,
           -0.0783479347826087
          ],
          [
           -0.15169193478260867,
           0.15084106521739132,
           -0.10779093478260869
          ],
          [
           -0.1664469347826087,
           -0.028109934782608675,
           -0.12952293478260868
          ],
          [
           -0.1692799347826087,
           -0.01479293478260868,
           -0.1511049347826087
          ],
          [
           -0.1606999347826087,
           0.04790006521739132,
           -0.11833993478260868
          ],
          [
           -0.1673919347826087,
           0.0378380652173913,
           -0.1475309347826087
          ],
          [
           -0.12069393478260869,
           0.07911106521739131,
           0.03380206521739132
          ],
          [
           -0.13695693478260867,
           0.00341306521739132,
           0.03021106521739131
          ],
          [
           -0.1407319347826087,
           -0.014047934782608684,
           0.02875106521739132
          ],
          [
           -0.15507793478260867,
           -0.12866293478260868,
           0.22731206521739133
          ],
          [
           -0.1486919347826087,
           -0.1046989347826087,
           0.18025306521739132
          ],
          [
           -0.15794693478260868,
           -0.1255179347826087,
           0.1398120652173913
          ],
          [
           -0.16041193478260868,
           -0.1358609347826087,
           0.1606450652173913
          ],
          [
           -0.06719293478260868,
           0.13500406521739133,
           0.17016906521739134
          ],
          [
           0.022319065217391326,
           0.2746800652173913,
           0.2632090652173913
          ],
          [
           0.008744065217391322,
           0.2128540652173913,
           0.2979000652173913
          ],
          [
           -0.010616934782608695,
           0.16554706521739132,
           0.3064790652173913
          ]
         ]
        }
       ],
       "layout": {
        "height": 800,
        "hovermode": "closest",
        "legend": {
         "x": 0.7,
         "y": 0.7
        },
        "paper_bgcolor": "rgba(0, 0, 0, 0)",
        "plot_bgcolor": "rgba(0, 0, 0, 0)",
        "showlegend": false,
        "template": {
         "data": {
          "bar": [
           {
            "error_x": {
             "color": "#2a3f5f"
            },
            "error_y": {
             "color": "#2a3f5f"
            },
            "marker": {
             "line": {
              "color": "#E5ECF6",
              "width": 0.5
             },
             "pattern": {
              "fillmode": "overlay",
              "size": 10,
              "solidity": 0.2
             }
            },
            "type": "bar"
           }
          ],
          "barpolar": [
           {
            "marker": {
             "line": {
              "color": "#E5ECF6",
              "width": 0.5
             },
             "pattern": {
              "fillmode": "overlay",
              "size": 10,
              "solidity": 0.2
             }
            },
            "type": "barpolar"
           }
          ],
          "carpet": [
           {
            "aaxis": {
             "endlinecolor": "#2a3f5f",
             "gridcolor": "white",
             "linecolor": "white",
             "minorgridcolor": "white",
             "startlinecolor": "#2a3f5f"
            },
            "baxis": {
             "endlinecolor": "#2a3f5f",
             "gridcolor": "white",
             "linecolor": "white",
             "minorgridcolor": "white",
             "startlinecolor": "#2a3f5f"
            },
            "type": "carpet"
           }
          ],
          "choropleth": [
           {
            "colorbar": {
             "outlinewidth": 0,
             "ticks": ""
            },
            "type": "choropleth"
           }
          ],
          "contour": [
           {
            "colorbar": {
             "outlinewidth": 0,
             "ticks": ""
            },
            "colorscale": [
             [
              0,
              "#0d0887"
             ],
             [
              0.1111111111111111,
              "#46039f"
             ],
             [
              0.2222222222222222,
              "#7201a8"
             ],
             [
              0.3333333333333333,
              "#9c179e"
             ],
             [
              0.4444444444444444,
              "#bd3786"
             ],
             [
              0.5555555555555556,
              "#d8576b"
             ],
             [
              0.6666666666666666,
              "#ed7953"
             ],
             [
              0.7777777777777778,
              "#fb9f3a"
             ],
             [
              0.8888888888888888,
              "#fdca26"
             ],
             [
              1,
              "#f0f921"
             ]
            ],
            "type": "contour"
           }
          ],
          "contourcarpet": [
           {
            "colorbar": {
             "outlinewidth": 0,
             "ticks": ""
            },
            "type": "contourcarpet"
           }
          ],
          "heatmap": [
           {
            "colorbar": {
             "outlinewidth": 0,
             "ticks": ""
            },
            "colorscale": [
             [
              0,
              "#0d0887"
             ],
             [
              0.1111111111111111,
              "#46039f"
             ],
             [
              0.2222222222222222,
              "#7201a8"
             ],
             [
              0.3333333333333333,
              "#9c179e"
             ],
             [
              0.4444444444444444,
              "#bd3786"
             ],
             [
              0.5555555555555556,
              "#d8576b"
             ],
             [
              0.6666666666666666,
              "#ed7953"
             ],
             [
              0.7777777777777778,
              "#fb9f3a"
             ],
             [
              0.8888888888888888,
              "#fdca26"
             ],
             [
              1,
              "#f0f921"
             ]
            ],
            "type": "heatmap"
           }
          ],
          "heatmapgl": [
           {
            "colorbar": {
             "outlinewidth": 0,
             "ticks": ""
            },
            "colorscale": [
             [
              0,
              "#0d0887"
             ],
             [
              0.1111111111111111,
              "#46039f"
             ],
             [
              0.2222222222222222,
              "#7201a8"
             ],
             [
              0.3333333333333333,
              "#9c179e"
             ],
             [
              0.4444444444444444,
              "#bd3786"
             ],
             [
              0.5555555555555556,
              "#d8576b"
             ],
             [
              0.6666666666666666,
              "#ed7953"
             ],
             [
              0.7777777777777778,
              "#fb9f3a"
             ],
             [
              0.8888888888888888,
              "#fdca26"
             ],
             [
              1,
              "#f0f921"
             ]
            ],
            "type": "heatmapgl"
           }
          ],
          "histogram": [
           {
            "marker": {
             "pattern": {
              "fillmode": "overlay",
              "size": 10,
              "solidity": 0.2
             }
            },
            "type": "histogram"
           }
          ],
          "histogram2d": [
           {
            "colorbar": {
             "outlinewidth": 0,
             "ticks": ""
            },
            "colorscale": [
             [
              0,
              "#0d0887"
             ],
             [
              0.1111111111111111,
              "#46039f"
             ],
             [
              0.2222222222222222,
              "#7201a8"
             ],
             [
              0.3333333333333333,
              "#9c179e"
             ],
             [
              0.4444444444444444,
              "#bd3786"
             ],
             [
              0.5555555555555556,
              "#d8576b"
             ],
             [
              0.6666666666666666,
              "#ed7953"
             ],
             [
              0.7777777777777778,
              "#fb9f3a"
             ],
             [
              0.8888888888888888,
              "#fdca26"
             ],
             [
              1,
              "#f0f921"
             ]
            ],
            "type": "histogram2d"
           }
          ],
          "histogram2dcontour": [
           {
            "colorbar": {
             "outlinewidth": 0,
             "ticks": ""
            },
            "colorscale": [
             [
              0,
              "#0d0887"
             ],
             [
              0.1111111111111111,
              "#46039f"
             ],
             [
              0.2222222222222222,
              "#7201a8"
             ],
             [
              0.3333333333333333,
              "#9c179e"
             ],
             [
              0.4444444444444444,
              "#bd3786"
             ],
             [
              0.5555555555555556,
              "#d8576b"
             ],
             [
              0.6666666666666666,
              "#ed7953"
             ],
             [
              0.7777777777777778,
              "#fb9f3a"
             ],
             [
              0.8888888888888888,
              "#fdca26"
             ],
             [
              1,
              "#f0f921"
             ]
            ],
            "type": "histogram2dcontour"
           }
          ],
          "mesh3d": [
           {
            "colorbar": {
             "outlinewidth": 0,
             "ticks": ""
            },
            "type": "mesh3d"
           }
          ],
          "parcoords": [
           {
            "line": {
             "colorbar": {
              "outlinewidth": 0,
              "ticks": ""
             }
            },
            "type": "parcoords"
           }
          ],
          "pie": [
           {
            "automargin": true,
            "type": "pie"
           }
          ],
          "scatter": [
           {
            "fillpattern": {
             "fillmode": "overlay",
             "size": 10,
             "solidity": 0.2
            },
            "type": "scatter"
           }
          ],
          "scatter3d": [
           {
            "line": {
             "colorbar": {
              "outlinewidth": 0,
              "ticks": ""
             }
            },
            "marker": {
             "colorbar": {
              "outlinewidth": 0,
              "ticks": ""
             }
            },
            "type": "scatter3d"
           }
          ],
          "scattercarpet": [
           {
            "marker": {
             "colorbar": {
              "outlinewidth": 0,
              "ticks": ""
             }
            },
            "type": "scattercarpet"
           }
          ],
          "scattergeo": [
           {
            "marker": {
             "colorbar": {
              "outlinewidth": 0,
              "ticks": ""
             }
            },
            "type": "scattergeo"
           }
          ],
          "scattergl": [
           {
            "marker": {
             "colorbar": {
              "outlinewidth": 0,
              "ticks": ""
             }
            },
            "type": "scattergl"
           }
          ],
          "scattermapbox": [
           {
            "marker": {
             "colorbar": {
              "outlinewidth": 0,
              "ticks": ""
             }
            },
            "type": "scattermapbox"
           }
          ],
          "scatterpolar": [
           {
            "marker": {
             "colorbar": {
              "outlinewidth": 0,
              "ticks": ""
             }
            },
            "type": "scatterpolar"
           }
          ],
          "scatterpolargl": [
           {
            "marker": {
             "colorbar": {
              "outlinewidth": 0,
              "ticks": ""
             }
            },
            "type": "scatterpolargl"
           }
          ],
          "scatterternary": [
           {
            "marker": {
             "colorbar": {
              "outlinewidth": 0,
              "ticks": ""
             }
            },
            "type": "scatterternary"
           }
          ],
          "surface": [
           {
            "colorbar": {
             "outlinewidth": 0,
             "ticks": ""
            },
            "colorscale": [
             [
              0,
              "#0d0887"
             ],
             [
              0.1111111111111111,
              "#46039f"
             ],
             [
              0.2222222222222222,
              "#7201a8"
             ],
             [
              0.3333333333333333,
              "#9c179e"
             ],
             [
              0.4444444444444444,
              "#bd3786"
             ],
             [
              0.5555555555555556,
              "#d8576b"
             ],
             [
              0.6666666666666666,
              "#ed7953"
             ],
             [
              0.7777777777777778,
              "#fb9f3a"
             ],
             [
              0.8888888888888888,
              "#fdca26"
             ],
             [
              1,
              "#f0f921"
             ]
            ],
            "type": "surface"
           }
          ],
          "table": [
           {
            "cells": {
             "fill": {
              "color": "#EBF0F8"
             },
             "line": {
              "color": "white"
             }
            },
            "header": {
             "fill": {
              "color": "#C8D4E3"
             },
             "line": {
              "color": "white"
             }
            },
            "type": "table"
           }
          ]
         },
         "layout": {
          "annotationdefaults": {
           "arrowcolor": "#2a3f5f",
           "arrowhead": 0,
           "arrowwidth": 1
          },
          "autotypenumbers": "strict",
          "coloraxis": {
           "colorbar": {
            "outlinewidth": 0,
            "ticks": ""
           }
          },
          "colorscale": {
           "diverging": [
            [
             0,
             "#8e0152"
            ],
            [
             0.1,
             "#c51b7d"
            ],
            [
             0.2,
             "#de77ae"
            ],
            [
             0.3,
             "#f1b6da"
            ],
            [
             0.4,
             "#fde0ef"
            ],
            [
             0.5,
             "#f7f7f7"
            ],
            [
             0.6,
             "#e6f5d0"
            ],
            [
             0.7,
             "#b8e186"
            ],
            [
             0.8,
             "#7fbc41"
            ],
            [
             0.9,
             "#4d9221"
            ],
            [
             1,
             "#276419"
            ]
           ],
           "sequential": [
            [
             0,
             "#0d0887"
            ],
            [
             0.1111111111111111,
             "#46039f"
            ],
            [
             0.2222222222222222,
             "#7201a8"
            ],
            [
             0.3333333333333333,
             "#9c179e"
            ],
            [
             0.4444444444444444,
             "#bd3786"
            ],
            [
             0.5555555555555556,
             "#d8576b"
            ],
            [
             0.6666666666666666,
             "#ed7953"
            ],
            [
             0.7777777777777778,
             "#fb9f3a"
            ],
            [
             0.8888888888888888,
             "#fdca26"
            ],
            [
             1,
             "#f0f921"
            ]
           ],
           "sequentialminus": [
            [
             0,
             "#0d0887"
            ],
            [
             0.1111111111111111,
             "#46039f"
            ],
            [
             0.2222222222222222,
             "#7201a8"
            ],
            [
             0.3333333333333333,
             "#9c179e"
            ],
            [
             0.4444444444444444,
             "#bd3786"
            ],
            [
             0.5555555555555556,
             "#d8576b"
            ],
            [
             0.6666666666666666,
             "#ed7953"
            ],
            [
             0.7777777777777778,
             "#fb9f3a"
            ],
            [
             0.8888888888888888,
             "#fdca26"
            ],
            [
             1,
             "#f0f921"
            ]
           ]
          },
          "colorway": [
           "#636efa",
           "#EF553B",
           "#00cc96",
           "#ab63fa",
           "#FFA15A",
           "#19d3f3",
           "#FF6692",
           "#B6E880",
           "#FF97FF",
           "#FECB52"
          ],
          "font": {
           "color": "#2a3f5f"
          },
          "geo": {
           "bgcolor": "white",
           "lakecolor": "white",
           "landcolor": "#E5ECF6",
           "showlakes": true,
           "showland": true,
           "subunitcolor": "white"
          },
          "hoverlabel": {
           "align": "left"
          },
          "hovermode": "closest",
          "mapbox": {
           "style": "light"
          },
          "paper_bgcolor": "white",
          "plot_bgcolor": "#E5ECF6",
          "polar": {
           "angularaxis": {
            "gridcolor": "white",
            "linecolor": "white",
            "ticks": ""
           },
           "bgcolor": "#E5ECF6",
           "radialaxis": {
            "gridcolor": "white",
            "linecolor": "white",
            "ticks": ""
           }
          },
          "scene": {
           "xaxis": {
            "backgroundcolor": "#E5ECF6",
            "gridcolor": "white",
            "gridwidth": 2,
            "linecolor": "white",
            "showbackground": true,
            "ticks": "",
            "zerolinecolor": "white"
           },
           "yaxis": {
            "backgroundcolor": "#E5ECF6",
            "gridcolor": "white",
            "gridwidth": 2,
            "linecolor": "white",
            "showbackground": true,
            "ticks": "",
            "zerolinecolor": "white"
           },
           "zaxis": {
            "backgroundcolor": "#E5ECF6",
            "gridcolor": "white",
            "gridwidth": 2,
            "linecolor": "white",
            "showbackground": true,
            "ticks": "",
            "zerolinecolor": "white"
           }
          },
          "shapedefaults": {
           "line": {
            "color": "#2a3f5f"
           }
          },
          "ternary": {
           "aaxis": {
            "gridcolor": "white",
            "linecolor": "white",
            "ticks": ""
           },
           "baxis": {
            "gridcolor": "white",
            "linecolor": "white",
            "ticks": ""
           },
           "bgcolor": "#E5ECF6",
           "caxis": {
            "gridcolor": "white",
            "linecolor": "white",
            "ticks": ""
           }
          },
          "title": {
           "x": 0.05
          },
          "xaxis": {
           "automargin": true,
           "gridcolor": "white",
           "linecolor": "white",
           "ticks": "",
           "title": {
            "standoff": 15
           },
           "zerolinecolor": "white",
           "zerolinewidth": 2
          },
          "yaxis": {
           "automargin": true,
           "gridcolor": "white",
           "linecolor": "white",
           "ticks": "",
           "title": {
            "standoff": 15
           },
           "zerolinecolor": "white",
           "zerolinewidth": 2
          }
         }
        },
        "width": 700,
        "xaxis": {
         "anchor": "y",
         "domain": [
          0,
          0.95
         ],
         "fixedrange": false,
         "mirror": false,
         "showgrid": false,
         "showline": false,
         "showticklabels": false,
         "type": "linear",
         "zeroline": false
        },
        "xaxis10": {
         "anchor": "y10",
         "domain": [
          0.15833333333333333,
          0.15833333333333333
         ],
         "fixedrange": false,
         "mirror": false,
         "showgrid": false,
         "showline": false,
         "showticklabels": false,
         "type": "linear",
         "zeroline": false
        },
        "xaxis11": {
         "anchor": "y11",
         "domain": [
          0.15833333333333333,
          0.95
         ],
         "fixedrange": false,
         "mirror": false,
         "range": [
          0,
          30
         ],
         "showgrid": false,
         "showline": false,
         "showticklabels": true,
         "side": "bottom",
         "tickmode": "array",
         "ticktext": [
          "p1p2",
          "p1",
          "p2"
         ],
         "tickvals": [
          5,
          15,
          25
         ],
         "type": "linear",
         "zeroline": false
        },
        "xaxis12": {
         "anchor": "y12",
         "domain": [
          0.95,
          1
         ],
         "fixedrange": false,
         "mirror": false,
         "range": [
          -5,
          1
         ],
         "showgrid": false,
         "showline": false,
         "showticklabels": false,
         "type": "linear",
         "zeroline": false
        },
        "xaxis13": {
         "anchor": "y13",
         "domain": [
          0,
          0.2
         ]
        },
        "xaxis14": {
         "anchor": "y14",
         "domain": [
          0.2,
          0.4
         ]
        },
        "xaxis15": {
         "anchor": "y15",
         "domain": [
          0.15833333333333333,
          0.95
         ],
         "fixedrange": false,
         "mirror": false,
         "range": [
          5,
          25
         ],
         "scaleanchor": "x11",
         "scaleratio": 1,
         "showgrid": false,
         "showline": false,
         "showticklabels": false,
         "type": "linear",
         "zeroline": false
        },
        "xaxis16": {
         "anchor": "y16",
         "domain": [
          0.8,
          1
         ]
        },
        "xaxis2": {
         "anchor": "y2",
         "domain": [
          0.2,
          0.4
         ]
        },
        "xaxis3": {
         "anchor": "y9",
         "autorange": true,
         "domain": [
          0.15833333333333333,
          0.95
         ],
         "fixedrange": false,
         "mirror": false,
         "range": [
          0,
          30
         ],
         "scaleanchor": "x11",
         "showgrid": false,
         "showline": false,
         "showticklabels": false,
         "type": "linear",
         "zeroline": false
        },
        "xaxis4": {
         "anchor": "y4",
         "domain": [
          0.8,
          1
         ]
        },
        "xaxis5": {
         "anchor": "y5",
         "domain": [
          0,
          0.95
         ],
         "fixedrange": false,
         "mirror": false,
         "showgrid": false,
         "showline": false,
         "showticklabels": false,
         "type": "linear",
         "zeroline": false
        },
        "xaxis6": {
         "anchor": "y6",
         "domain": [
          0.2,
          0.4
         ],
         "fixedrange": false,
         "mirror": false,
         "showgrid": false,
         "showline": false,
         "showticklabels": false,
         "type": "linear",
         "zeroline": false
        },
        "xaxis7": {
         "anchor": "y9",
         "domain": [
          0.15833333333333333,
          0.95
         ],
         "fixedrange": false,
         "mirror": false,
         "showgrid": false,
         "showline": false,
         "showticklabels": false,
         "type": "linear",
         "zeroline": false
        },
        "xaxis8": {
         "anchor": "y8",
         "domain": [
          0.8,
          1
         ]
        },
        "xaxis9": {
         "anchor": "y9",
         "autorange": true,
         "domain": [
          0,
          0.15833333333333333
         ],
         "fixedrange": false,
         "mirror": false,
         "range": [
          -1.25610097440373,
          0
         ],
         "showgrid": false,
         "showline": false,
         "showticklabels": false,
         "type": "linear",
         "zeroline": false
        },
        "yaxis": {
         "anchor": "x",
         "domain": [
          0.8416666666666667,
          1
         ],
         "fixedrange": false,
         "mirror": false,
         "showgrid": false,
         "showline": false,
         "showticklabels": false,
         "type": "linear",
         "zeroline": false
        },
        "yaxis10": {
         "anchor": "x10",
         "domain": [
          0,
          0.8416666666666667
         ],
         "fixedrange": false,
         "mirror": false,
         "showgrid": false,
         "showline": false,
         "showticklabels": false,
         "type": "linear",
         "zeroline": false
        },
        "yaxis11": {
         "anchor": "x11",
         "autorange": true,
         "domain": [
          0,
          0.8416666666666667
         ],
         "fixedrange": false,
         "mirror": false,
         "range": [
          0,
          460
         ],
         "showgrid": false,
         "showline": false,
         "showticklabels": true,
         "side": "right",
         "tickmode": "array",
         "ticktext": [
          "Strongly disagree to Policymaking Strongly disagree to dissemination of GK",
          "Strongly agree to Policymaking Strongly agree to dissemination of GK",
          "Agree to Policymaking Agree to dissemination of GK",
          "Agree to Revising and Updating Agree to Policymaking",
          "Strongly agree to Revising and Updating Strongly agree to Policymaking",
          "Strongly disagree to Revising and Updating Strongly disagree to Policymaking",
          "Neutral towards to Revising and Updating Disagree to Policymaking",
          "Disagree to Policymaking Strongly disagree to dissemination of GK",
          "Strongly disagree to Policymaking Disagree to dissemination of GK",
          "Disagree to Policymaking Neutral towards to dissemination of GK",
          "Strongly agree to Revising and Updating Agree to Policymaking",
          "Strongly agree to Policymaking Disagree to dissemination of GK",
          "Strongly agree to Revising and Updating Strongly disagree to Policymaking",
          "Agree to Revising and Updating Strongly disagree to Policymaking",
          "Strongly agree to Revising and Updating Neutral towards to Policymaking",
          "Strongly agree to Policymaking Neutral towards to dissemination of GK",
          "Strongly agree to Policymaking Strongly disagree to dissemination of GK",
          "Agree to Policymaking Strongly disagree to dissemination of GK",
          "Strongly disagree to Policymaking Strongly agree to dissemination of GK",
          "Strongly disagree to Revising and Updating Neutral towards to Policymaking",
          "Strongly disagree to Policymaking Agree to dissemination of GK",
          "Disagree to Policymaking Strongly agree to dissemination of GK",
          "Strongly disagree to Revising and Updating Strongly agree to Policymaking",
          "Strongly disagree to Revising and Updating Agree to Policymaking",
          "Neutral towards to Policymaking Strongly disagree to dissemination of GK",
          "Neutral towards to Policymaking Disagree to dissemination of GK",
          "Disagree to Revising and Updating Strongly disagree to Policymaking",
          "Disagree to Revising and Updating Neutral towards to Policymaking",
          "Disagree to Policymaking Agree to dissemination of GK",
          "Neutral towards to Revising and Updating Agree to Policymaking",
          "Neutral towards to Policymaking Agree to dissemination of GK",
          "Neutral towards to Revising and Updating Strongly agree to Policymaking",
          "Disagree to Revising and Updating Strongly agree to Policymaking",
          "Neutral towards to Policymaking Strongly agree to dissemination of GK",
          "Disagree to Revising and Updating Agree to Policymaking",
          "Strongly agree to Policymaking Agree to dissemination of GK",
          "Agree to Policymaking Strongly agree to dissemination of GK",
          "Agree to Revising and Updating Strongly agree to Policymaking",
          "Agree to Policymaking Disagree to dissemination of GK",
          "Agree to Revising and Updating Neutral towards to Policymaking",
          "Agree to Policymaking Neutral towards to dissemination of GK",
          "Agree to Revising and Updating Disagree to Policymaking",
          "Disagree to Policymaking Disagree to dissemination of GK",
          "Disagree to Revising and Updating Disagree to Policymaking",
          "Neutral towards to Revising and Updating Neutral towards to Policymaking",
          "Neutral towards to Policymaking Neutral towards to dissemination of GK"
         ],
         "tickvals": [
          5,
          15,
          25,
          35,
          45,
          55,
          65,
          75,
          85,
          95,
          105,
          115,
          125,
          135,
          145,
          155,
          165,
          175,
          185,
          195,
          205,
          215,
          225,
          235,
          245,
          255,
          265,
          275,
          285,
          295,
          305,
          315,
          325,
          335,
          345,
          355,
          365,
          375,
          385,
          395,
          405,
          415,
          425,
          435,
          445,
          455
         ],
         "type": "linear",
         "zeroline": false
        },
        "yaxis12": {
         "anchor": "x12",
         "domain": [
          0,
          0.7916666666666666
         ],
         "fixedrange": false,
         "mirror": false,
         "range": [
          5,
          455
         ],
         "scaleanchor": "y11",
         "scaleratio": 1,
         "showgrid": false,
         "showline": false,
         "showticklabels": false,
         "type": "linear",
         "zeroline": false
        },
        "yaxis13": {
         "anchor": "x13",
         "domain": [
          0,
          0.2
         ]
        },
        "yaxis14": {
         "anchor": "x14",
         "domain": [
          0,
          0.2
         ]
        },
        "yaxis15": {
         "anchor": "x15",
         "domain": [
          0.7916666666666666,
          0.8416666666666667
         ],
         "fixedrange": false,
         "mirror": false,
         "range": [
          -0.5,
          0.5
         ],
         "showgrid": false,
         "showline": false,
         "showticklabels": false,
         "type": "linear",
         "zeroline": false
        },
        "yaxis16": {
         "anchor": "x16",
         "domain": [
          0,
          0.2
         ]
        },
        "yaxis2": {
         "anchor": "x2",
         "domain": [
          0.8,
          1
         ]
        },
        "yaxis3": {
         "anchor": "x3",
         "domain": [
          0.8416666666666667,
          1
         ],
         "fixedrange": false,
         "mirror": false,
         "range": [
          0,
          1.0680692753815173
         ],
         "showgrid": false,
         "showline": false,
         "showticklabels": false,
         "type": "linear",
         "zeroline": false
        },
        "yaxis4": {
         "anchor": "x4",
         "domain": [
          0.8,
          1
         ]
        },
        "yaxis5": {
         "anchor": "x5",
         "domain": [
          0.8416666666666667,
          0.8416666666666667
         ],
         "fixedrange": false,
         "mirror": false,
         "showgrid": false,
         "showline": false,
         "showticklabels": false,
         "type": "linear",
         "zeroline": false
        },
        "yaxis6": {
         "anchor": "x6",
         "domain": [
          0.8416666666666667,
          0.8416666666666667
         ],
         "fixedrange": false,
         "mirror": false,
         "showgrid": false,
         "showline": false,
         "showticklabels": false,
         "type": "linear",
         "zeroline": false
        },
        "yaxis7": {
         "anchor": "x7",
         "domain": [
          0.8416666666666667,
          0.8416666666666667
         ],
         "fixedrange": false,
         "mirror": false,
         "showgrid": false,
         "showline": false,
         "showticklabels": false,
         "type": "linear",
         "zeroline": false
        },
        "yaxis8": {
         "anchor": "x8",
         "domain": [
          0.6000000000000001,
          0.8
         ]
        },
        "yaxis9": {
         "anchor": "x9",
         "domain": [
          0,
          0.8416666666666667
         ],
         "fixedrange": false,
         "mirror": false,
         "range": [
          2.842170943040401e-14,
          460
         ],
         "scaleanchor": "y11",
         "showgrid": false,
         "showline": false,
         "showticklabels": false,
         "type": "linear",
         "zeroline": false
        }
       }
      },
      "image/png": "[encoded data removed]",
      "text/html": [
       "<div>                            <div id=\"594e22c5-27a7-42b6-87bd-18b1f31a02a3\" class=\"plotly-graph-div\" style=\"height:800px; width:700px;\"></div>            <script type=\"text/javascript\">                require([\"plotly\"], function(Plotly) {                    window.PLOTLYENV=window.PLOTLYENV || {};                                    if (document.getElementById(\"594e22c5-27a7-42b6-87bd-18b1f31a02a3\")) {                    Plotly.newPlot(                        \"594e22c5-27a7-42b6-87bd-18b1f31a02a3\",                        [{\"hoverinfo\":\"y+name\",\"line\":{\"width\":0.5},\"marker\":{\"color\":\"rgb(0,116,217)\"},\"mode\":\"lines\",\"name\":\"Col Cluster 0\",\"x\":[5.0,5.0,20.0,20.0],\"xaxis\":\"x3\",\"y\":[0.0,1.0680692753815173,1.0680692753815173,0.9289785988546777],\"yaxis\":\"y3\",\"type\":\"scatter\"},{\"hoverinfo\":\"y+name\",\"line\":{\"width\":0.5},\"marker\":{\"color\":\"rgb(0,116,217)\"},\"mode\":\"lines\",\"name\":\"Col Cluster 1\",\"x\":[15.0,15.0,25.0,25.0],\"xaxis\":\"x3\",\"y\":[0.0,0.9289785988546777,0.9289785988546777,0.0],\"yaxis\":\"y3\",\"type\":\"scatter\"},{\"hoverinfo\":\"x+name\",\"line\":{\"width\":0.5},\"marker\":{\"color\":\"rgb(0,116,217)\"},\"mode\":\"lines\",\"name\":\"Row Cluster 0\",\"x\":[-0.0,-0.04726929812256576,-0.04726929812256576,-0.0],\"xaxis\":\"x9\",\"y\":[15.0,15.0,25.0,25.0],\"yaxis\":\"y9\",\"type\":\"scatter\"},{\"hoverinfo\":\"x+name\",\"line\":{\"width\":0.5},\"marker\":{\"color\":\"rgb(0,116,217)\"},\"mode\":\"lines\",\"name\":\"Row Cluster 1\",\"x\":[-0.0,-0.05183049113215115,-0.05183049113215115,-0.0],\"xaxis\":\"x9\",\"y\":[445.0,445.0,455.0,455.0],\"yaxis\":\"y9\",\"type\":\"scatter\"},{\"hoverinfo\":\"x+name\",\"line\":{\"width\":0.5},\"marker\":{\"color\":\"rgb(0,116,217)\"},\"mode\":\"lines\",\"name\":\"Row Cluster 2\",\"x\":[-0.0,-0.1219306552307499,-0.1219306552307499,-0.05183049113215115],\"xaxis\":\"x9\",\"y\":[435.0,435.0,450.0,450.0],\"yaxis\":\"y9\",\"type\":\"scatter\"},{\"hoverinfo\":\"x+name\",\"line\":{\"width\":0.5},\"marker\":{\"color\":\"rgb(0,116,217)\"},\"mode\":\"lines\",\"name\":\"Row Cluster 3\",\"x\":[-0.0,-0.19020574313095803,-0.19020574313095803,-0.1219306552307499],\"xaxis\":\"x9\",\"y\":[425.0,425.0,442.5,442.5],\"yaxis\":\"y9\",\"type\":\"scatter\"},{\"hoverinfo\":\"x+name\",\"line\":{\"width\":0.5},\"marker\":{\"color\":\"rgb(0,116,217)\"},\"mode\":\"lines\",\"name\":\"Row Cluster 4\",\"x\":[-0.0,-0.02338947975052031,-0.02338947975052031,-0.0],\"xaxis\":\"x9\",\"y\":[405.0,405.0,415.0,415.0],\"yaxis\":\"y9\",\"type\":\"scatter\"},{\"hoverinfo\":\"x+name\",\"line\":{\"width\":0.5},\"marker\":{\"color\":\"rgb(0,116,217)\"},\"mode\":\"lines\",\"name\":\"Row Cluster 5\",\"x\":[-0.0,-0.04641724105329829,-0.04641724105329829,-0.02338947975052031],\"xaxis\":\"x9\",\"y\":[395.0,395.0,410.0,410.0],\"yaxis\":\"y9\",\"type\":\"scatter\"},{\"hoverinfo\":\"x+name\",\"line\":{\"width\":0.5},\"marker\":{\"color\":\"rgb(0,116,217)\"},\"mode\":\"lines\",\"name\":\"Row Cluster 6\",\"x\":[-0.08760349414264253,-0.4609272232554723,-0.4609272232554723,-0.19020574313095803],\"xaxis\":\"x9\",\"y\":[393.75,393.75,433.75,433.75],\"yaxis\":\"y9\",\"type\":\"scatter\"},{\"hoverinfo\":\"x+name\",\"line\":{\"width\":0.5},\"marker\":{\"color\":\"rgb(0,116,217)\"},\"mode\":\"lines\",\"name\":\"Row Cluster 7\",\"x\":[-0.0,-0.08760349414264253,-0.08760349414264253,-0.04641724105329829],\"xaxis\":\"x9\",\"y\":[385.0,385.0,402.5,402.5],\"yaxis\":\"y9\",\"type\":\"scatter\"},{\"hoverinfo\":\"x+name\",\"line\":{\"width\":0.5},\"marker\":{\"color\":\"rgb(0,116,217)\"},\"mode\":\"lines\",\"name\":\"Row Cluster 8\",\"x\":[-0.0,-0.017923971267551176,-0.017923971267551176,-0.0],\"xaxis\":\"x9\",\"y\":[365.0,365.0,375.0,375.0],\"yaxis\":\"y9\",\"type\":\"scatter\"},{\"hoverinfo\":\"x+name\",\"line\":{\"width\":0.5},\"marker\":{\"color\":\"rgb(0,116,217)\"},\"mode\":\"lines\",\"name\":\"Row Cluster 9\",\"x\":[-0.0,-0.09542344222464413,-0.09542344222464413,-0.017923971267551176],\"xaxis\":\"x9\",\"y\":[355.0,355.0,370.0,370.0],\"yaxis\":\"y9\",\"type\":\"scatter\"},{\"hoverinfo\":\"x+name\",\"line\":{\"width\":0.5},\"marker\":{\"color\":\"rgb(0,116,217)\"},\"mode\":\"lines\",\"name\":\"Row Cluster 10\",\"x\":[-0.0,-0.03159337254868496,-0.03159337254868496,-0.0],\"xaxis\":\"x9\",\"y\":[335.0,335.0,345.0,345.0],\"yaxis\":\"y9\",\"type\":\"scatter\"},{\"hoverinfo\":\"x+name\",\"line\":{\"width\":0.5},\"marker\":{\"color\":\"rgb(0,116,217)\"},\"mode\":\"lines\",\"name\":\"Row Cluster 11\",\"x\":[-0.07704289453285097,-0.2130003738517846,-0.2130003738517846,-0.09542344222464413],\"xaxis\":\"x9\",\"y\":[330.0,330.0,362.5,362.5],\"yaxis\":\"y9\",\"type\":\"scatter\"},{\"hoverinfo\":\"x+name\",\"line\":{\"width\":0.5},\"marker\":{\"color\":\"rgb(0,116,217)\"},\"mode\":\"lines\",\"name\":\"Row Cluster 12\",\"x\":[-0.025517662549692906,-0.07704289453285097,-0.07704289453285097,-0.03159337254868496],\"xaxis\":\"x9\",\"y\":[320.0,320.0,340.0,340.0],\"yaxis\":\"y9\",\"type\":\"scatter\"},{\"hoverinfo\":\"x+name\",\"line\":{\"width\":0.5},\"marker\":{\"color\":\"rgb(0,116,217)\"},\"mode\":\"lines\",\"name\":\"Row Cluster 13\",\"x\":[-0.0,-0.025517662549692906,-0.025517662549692906,-0.0],\"xaxis\":\"x9\",\"y\":[315.0,315.0,325.0,325.0],\"yaxis\":\"y9\",\"type\":\"scatter\"},{\"hoverinfo\":\"x+name\",\"line\":{\"width\":0.5},\"marker\":{\"color\":\"rgb(0,116,217)\"},\"mode\":\"lines\",\"name\":\"Row Cluster 14\",\"x\":[-0.0,-0.04976221203885533,-0.04976221203885533,-0.0],\"xaxis\":\"x9\",\"y\":[295.0,295.0,305.0,305.0],\"yaxis\":\"y9\",\"type\":\"scatter\"},{\"hoverinfo\":\"x+name\",\"line\":{\"width\":0.5},\"marker\":{\"color\":\"rgb(0,116,217)\"},\"mode\":\"lines\",\"name\":\"Row Cluster 15\",\"x\":[-0.0646042187554342,-0.2756752708350896,-0.2756752708350896,-0.2130003738517846],\"xaxis\":\"x9\",\"y\":[292.5,292.5,346.25,346.25],\"yaxis\":\"y9\",\"type\":\"scatter\"},{\"hoverinfo\":\"x+name\",\"line\":{\"width\":0.5},\"marker\":{\"color\":\"rgb(0,116,217)\"},\"mode\":\"lines\",\"name\":\"Row Cluster 16\",\"x\":[-0.0,-0.0646042187554342,-0.0646042187554342,-0.04976221203885533],\"xaxis\":\"x9\",\"y\":[285.0,285.0,300.0,300.0],\"yaxis\":\"y9\",\"type\":\"scatter\"},{\"hoverinfo\":\"x+name\",\"line\":{\"width\":0.5},\"marker\":{\"color\":\"rgb(0,116,217)\"},\"mode\":\"lines\",\"name\":\"Row Cluster 17\",\"x\":[-0.0,-0.022619146778780148,-0.022619146778780148,-0.0],\"xaxis\":\"x9\",\"y\":[265.0,265.0,275.0,275.0],\"yaxis\":\"y9\",\"type\":\"scatter\"},{\"hoverinfo\":\"x+name\",\"line\":{\"width\":0.5},\"marker\":{\"color\":\"rgb(0,116,217)\"},\"mode\":\"lines\",\"name\":\"Row Cluster 18\",\"x\":[-0.020506195673503164,-0.05425288801529372,-0.05425288801529372,-0.022619146778780148],\"xaxis\":\"x9\",\"y\":[250.0,250.0,270.0,270.0],\"yaxis\":\"y9\",\"type\":\"scatter\"},{\"hoverinfo\":\"x+name\",\"line\":{\"width\":0.5},\"marker\":{\"color\":\"rgb(0,116,217)\"},\"mode\":\"lines\",\"name\":\"Row Cluster 19\",\"x\":[-0.0,-0.020506195673503164,-0.020506195673503164,-0.0],\"xaxis\":\"x9\",\"y\":[245.0,245.0,255.0,255.0],\"yaxis\":\"y9\",\"type\":\"scatter\"},{\"hoverinfo\":\"x+name\",\"line\":{\"width\":0.5},\"marker\":{\"color\":\"rgb(0,116,217)\"},\"mode\":\"lines\",\"name\":\"Row Cluster 20\",\"x\":[-0.0,-0.0009060689819213541,-0.0009060689819213541,-0.0],\"xaxis\":\"x9\",\"y\":[225.0,225.0,235.0,235.0],\"yaxis\":\"y9\",\"type\":\"scatter\"},{\"hoverinfo\":\"x+name\",\"line\":{\"width\":0.5},\"marker\":{\"color\":\"rgb(0,116,217)\"},\"mode\":\"lines\",\"name\":\"Row Cluster 21\",\"x\":[-0.3780061966621711,-0.6193380645439128,-0.6193380645439128,-0.4609272232554723],\"xaxis\":\"x9\",\"y\":[223.22265625,223.22265625,413.75,413.75],\"yaxis\":\"y9\",\"type\":\"scatter\"},{\"hoverinfo\":\"x+name\",\"line\":{\"width\":0.5},\"marker\":{\"color\":\"rgb(0,116,217)\"},\"mode\":\"lines\",\"name\":\"Row Cluster 22\",\"x\":[-0.0,-0.0026795667560260594,-0.0026795667560260594,-0.0009060689819213541],\"xaxis\":\"x9\",\"y\":[215.0,215.0,230.0,230.0],\"yaxis\":\"y9\",\"type\":\"scatter\"},{\"hoverinfo\":\"x+name\",\"line\":{\"width\":0.5},\"marker\":{\"color\":\"rgb(0,116,217)\"},\"mode\":\"lines\",\"name\":\"Row Cluster 23\",\"x\":[-0.0,-0.018071623585057327,-0.018071623585057327,-0.0026795667560260594],\"xaxis\":\"x9\",\"y\":[205.0,205.0,222.5,222.5],\"yaxis\":\"y9\",\"type\":\"scatter\"},{\"hoverinfo\":\"x+name\",\"line\":{\"width\":0.5},\"marker\":{\"color\":\"rgb(0,116,217)\"},\"mode\":\"lines\",\"name\":\"Row Cluster 24\",\"x\":[-0.0,-0.027266364590828755,-0.027266364590828755,-0.018071623585057327],\"xaxis\":\"x9\",\"y\":[195.0,195.0,213.75,213.75],\"yaxis\":\"y9\",\"type\":\"scatter\"},{\"hoverinfo\":\"x+name\",\"line\":{\"width\":0.5},\"marker\":{\"color\":\"rgb(0,116,217)\"},\"mode\":\"lines\",\"name\":\"Row Cluster 25\",\"x\":[-0.042794042237208674,-0.08416111523738264,-0.08416111523738264,-0.05425288801529372],\"xaxis\":\"x9\",\"y\":[194.6875,194.6875,260.0,260.0],\"yaxis\":\"y9\",\"type\":\"scatter\"},{\"hoverinfo\":\"x+name\",\"line\":{\"width\":0.5},\"marker\":{\"color\":\"rgb(0,116,217)\"},\"mode\":\"lines\",\"name\":\"Row Cluster 26\",\"x\":[-0.0,-0.042794042237208674,-0.042794042237208674,-0.027266364590828755],\"xaxis\":\"x9\",\"y\":[185.0,185.0,204.375,204.375],\"yaxis\":\"y9\",\"type\":\"scatter\"},{\"hoverinfo\":\"x+name\",\"line\":{\"width\":0.5},\"marker\":{\"color\":\"rgb(0,116,217)\"},\"mode\":\"lines\",\"name\":\"Row Cluster 27\",\"x\":[-0.0,-0.00227199757922406,-0.00227199757922406,-0.0],\"xaxis\":\"x9\",\"y\":[165.0,165.0,175.0,175.0],\"yaxis\":\"y9\",\"type\":\"scatter\"},{\"hoverinfo\":\"x+name\",\"line\":{\"width\":0.5},\"marker\":{\"color\":\"rgb(0,116,217)\"},\"mode\":\"lines\",\"name\":\"Row Cluster 28\",\"x\":[-0.0,-0.006967744398297055,-0.006967744398297055,-0.00227199757922406],\"xaxis\":\"x9\",\"y\":[155.0,155.0,170.0,170.0],\"yaxis\":\"y9\",\"type\":\"scatter\"},{\"hoverinfo\":\"x+name\",\"line\":{\"width\":0.5},\"marker\":{\"color\":\"rgb(0,116,217)\"},\"mode\":\"lines\",\"name\":\"Row Cluster 29\",\"x\":[-0.0,-0.012627733327877965,-0.012627733327877965,-0.006967744398297055],\"xaxis\":\"x9\",\"y\":[145.0,145.0,162.5,162.5],\"yaxis\":\"y9\",\"type\":\"scatter\"},{\"hoverinfo\":\"x+name\",\"line\":{\"width\":0.5},\"marker\":{\"color\":\"rgb(0,116,217)\"},\"mode\":\"lines\",\"name\":\"Row Cluster 30\",\"x\":[-0.0,-0.02778143417824213,-0.02778143417824213,-0.012627733327877965],\"xaxis\":\"x9\",\"y\":[135.0,135.0,153.75,153.75],\"yaxis\":\"y9\",\"type\":\"scatter\"},{\"hoverinfo\":\"x+name\",\"line\":{\"width\":0.5},\"marker\":{\"color\":\"rgb(0,116,217)\"},\"mode\":\"lines\",\"name\":\"Row Cluster 31\",\"x\":[-0.06690454876912331,-0.12214313466175657,-0.12214313466175657,-0.08416111523738264],\"xaxis\":\"x9\",\"y\":[132.1875,132.1875,227.34375,227.34375],\"yaxis\":\"y9\",\"type\":\"scatter\"},{\"hoverinfo\":\"x+name\",\"line\":{\"width\":0.5},\"marker\":{\"color\":\"rgb(0,116,217)\"},\"mode\":\"lines\",\"name\":\"Row Cluster 32\",\"x\":[-0.17743104675619767,-0.3780061966621711,-0.3780061966621711,-0.2756752708350896],\"xaxis\":\"x9\",\"y\":[127.0703125,127.0703125,319.375,319.375],\"yaxis\":\"y9\",\"type\":\"scatter\"},{\"hoverinfo\":\"x+name\",\"line\":{\"width\":0.5},\"marker\":{\"color\":\"rgb(0,116,217)\"},\"mode\":\"lines\",\"name\":\"Row Cluster 33\",\"x\":[-0.012783136274013512,-0.06690454876912331,-0.06690454876912331,-0.02778143417824213],\"xaxis\":\"x9\",\"y\":[120.0,120.0,144.375,144.375],\"yaxis\":\"y9\",\"type\":\"scatter\"},{\"hoverinfo\":\"x+name\",\"line\":{\"width\":0.5},\"marker\":{\"color\":\"rgb(0,116,217)\"},\"mode\":\"lines\",\"name\":\"Row Cluster 34\",\"x\":[-0.0,-0.012783136274013512,-0.012783136274013512,-0.0],\"xaxis\":\"x9\",\"y\":[115.0,115.0,125.0,125.0],\"yaxis\":\"y9\",\"type\":\"scatter\"},{\"hoverinfo\":\"x+name\",\"line\":{\"width\":0.5},\"marker\":{\"color\":\"rgb(0,116,217)\"},\"mode\":\"lines\",\"name\":\"Row Cluster 35\",\"x\":[-0.0,-0.016054745124105842,-0.016054745124105842,-0.0],\"xaxis\":\"x9\",\"y\":[95.0,95.0,105.0,105.0],\"yaxis\":\"y9\",\"type\":\"scatter\"},{\"hoverinfo\":\"x+name\",\"line\":{\"width\":0.5},\"marker\":{\"color\":\"rgb(0,116,217)\"},\"mode\":\"lines\",\"name\":\"Row Cluster 36\",\"x\":[-0.0,-0.04568835209328523,-0.04568835209328523,-0.016054745124105842],\"xaxis\":\"x9\",\"y\":[85.0,85.0,100.0,100.0],\"yaxis\":\"y9\",\"type\":\"scatter\"},{\"hoverinfo\":\"x+name\",\"line\":{\"width\":0.5},\"marker\":{\"color\":\"rgb(0,116,217)\"},\"mode\":\"lines\",\"name\":\"Row Cluster 37\",\"x\":[-0.0,-0.07052550042360566,-0.07052550042360566,-0.04568835209328523],\"xaxis\":\"x9\",\"y\":[75.0,75.0,92.5,92.5],\"yaxis\":\"y9\",\"type\":\"scatter\"},{\"hoverinfo\":\"x+name\",\"line\":{\"width\":0.5},\"marker\":{\"color\":\"rgb(0,116,217)\"},\"mode\":\"lines\",\"name\":\"Row Cluster 38\",\"x\":[-0.1111714582525569,-0.17743104675619767,-0.17743104675619767,-0.12214313466175657],\"xaxis\":\"x9\",\"y\":[74.375,74.375,179.765625,179.765625],\"yaxis\":\"y9\",\"type\":\"scatter\"},{\"hoverinfo\":\"x+name\",\"line\":{\"width\":0.5},\"marker\":{\"color\":\"rgb(0,116,217)\"},\"mode\":\"lines\",\"name\":\"Row Cluster 39\",\"x\":[-0.0,-0.1111714582525569,-0.1111714582525569,-0.07052550042360566],\"xaxis\":\"x9\",\"y\":[65.0,65.0,83.75,83.75],\"yaxis\":\"y9\",\"type\":\"scatter\"},{\"hoverinfo\":\"x+name\",\"line\":{\"width\":0.5},\"marker\":{\"color\":\"rgb(0,116,217)\"},\"mode\":\"lines\",\"name\":\"Row Cluster 40\",\"x\":[-0.0,-0.07049858272334283,-0.07049858272334283,-0.0],\"xaxis\":\"x9\",\"y\":[45.0,45.0,55.0,55.0],\"yaxis\":\"y9\",\"type\":\"scatter\"},{\"hoverinfo\":\"x+name\",\"line\":{\"width\":0.5},\"marker\":{\"color\":\"rgb(0,116,217)\"},\"mode\":\"lines\",\"name\":\"Row Cluster 41\",\"x\":[-0.0,-0.1732039692270359,-0.1732039692270359,-0.07049858272334283],\"xaxis\":\"x9\",\"y\":[35.0,35.0,50.0,50.0],\"yaxis\":\"y9\",\"type\":\"scatter\"},{\"hoverinfo\":\"x+name\",\"line\":{\"width\":0.5},\"marker\":{\"color\":\"rgb(0,116,217)\"},\"mode\":\"lines\",\"name\":\"Row Cluster 42\",\"x\":[-0.26620201030983975,-1.25610097440373,-1.25610097440373,-0.6193380645439128],\"xaxis\":\"x9\",\"y\":[27.5,27.5,318.486328125,318.486328125],\"yaxis\":\"y9\",\"type\":\"scatter\"},{\"hoverinfo\":\"x+name\",\"line\":{\"width\":0.5},\"marker\":{\"color\":\"rgb(0,116,217)\"},\"mode\":\"lines\",\"name\":\"Row Cluster 43\",\"x\":[-0.14179091760405532,-0.26620201030983975,-0.26620201030983975,-0.1732039692270359],\"xaxis\":\"x9\",\"y\":[12.5,12.5,42.5,42.5],\"yaxis\":\"y9\",\"type\":\"scatter\"},{\"hoverinfo\":\"x+name\",\"line\":{\"width\":0.5},\"marker\":{\"color\":\"rgb(0,116,217)\"},\"mode\":\"lines\",\"name\":\"Row Cluster 44\",\"x\":[-0.0,-0.14179091760405532,-0.14179091760405532,-0.04726929812256576],\"xaxis\":\"x9\",\"y\":[5.0,5.0,20.0,20.0],\"yaxis\":\"y9\",\"type\":\"scatter\"},{\"colorbar\":{\"xpad\":100},\"colorscale\":[[0.0,\"rgb(84,48,5)\"],[0.5,\"rgb(246,232,195)\"],[1.0,\"rgb(0,60,48)\"]],\"x\":[5.0,15.0,25.0],\"xaxis\":\"x11\",\"y\":[5.0,15.0,25.0,35.0,45.0,55.0,65.0,75.0,85.0,95.0,105.0,115.0,125.0,135.0,145.0,155.0,165.0,175.0,185.0,195.0,205.0,215.0,225.0,235.0,245.0,255.0,265.0,275.0,285.0,295.0,305.0,315.0,325.0,335.0,345.0,355.0,365.0,375.0,385.0,395.0,405.0,415.0,425.0,435.0,445.0,455.0],\"yaxis\":\"y11\",\"z\":[[0.2594550652173913,0.5606450652173913,0.4165980652173913],[0.32799006521739127,0.5323480652173913,0.5374570652173913],[0.3053090652173913,0.5411480652173913,0.49692906521739133],[0.40204406521739133,0.5468590652173914,0.6260540652173913],[0.45019006521739136,0.6931130652173914,0.5467360652173913],[0.4175560652173913,0.6321900652173913,0.5606450652173913],[-0.15755093478260868,-0.08835093478260869,0.00679906521739132],[-0.1562039347826087,-0.018841934782608677,-0.06554493478260869],[-0.16252893478260869,-0.08379893478260869,-0.05840193478260869],[-0.1641409347826087,-0.07012393478260869,-0.08935493478260868],[-0.16609893478260868,-0.07744993478260868,-0.1035059347826087],[-0.1722769347826087,-0.16549393478260868,-0.11554493478260869],[-0.1723029347826087,-0.1640299347826087,-0.1282439347826087],[-0.1711139347826087,-0.15852393478260868,-0.061576934782608686],[-0.1703959347826087,-0.1467139347826087,-0.0844529347826087],[-0.17148893478260868,-0.15829993478260868,-0.08935493478260868],[-0.1710819347826087,-0.15470193478260869,-0.08340193478260868],[-0.1712839347826087,-0.1569649347826087,-0.08340193478260868],[-0.17139993478260868,-0.08379893478260869,-0.15819493478260868],[-0.1712529347826087,-0.1239079347826087,-0.1432759347826087],[-0.17209793478260868,-0.10602093478260868,-0.1638379347826087],[-0.17231593478260868,-0.1214059347826087,-0.16544193478260869],[-0.1723369347826087,-0.1239079347826087,-0.16549393478260868],[-0.17238093478260869,-0.1239079347826087,-0.1663989347826087],[-0.16848593478260868,-0.11386393478260869,-0.10125893478260868],[-0.16890593478260868,-0.1285699347826087,-0.08697393478260869],[-0.1674249347826087,-0.09374093478260868,-0.10602093478260868],[-0.16920493478260867,-0.09374093478260868,-0.1285699347826087],[-0.15566993478260868,0.2119270652173913,-0.12843993478260868],[-0.1385889347826087,0.1887580652173913,-0.0783479347826087],[-0.15169193478260867,0.15084106521739132,-0.10779093478260869],[-0.1664469347826087,-0.028109934782608675,-0.12952293478260868],[-0.1692799347826087,-0.01479293478260868,-0.1511049347826087],[-0.1606999347826087,0.04790006521739132,-0.11833993478260868],[-0.1673919347826087,0.0378380652173913,-0.1475309347826087],[-0.12069393478260869,0.07911106521739131,0.03380206521739132],[-0.13695693478260867,0.00341306521739132,0.03021106521739131],[-0.1407319347826087,-0.014047934782608684,0.02875106521739132],[-0.15507793478260867,-0.12866293478260868,0.22731206521739133],[-0.1486919347826087,-0.1046989347826087,0.18025306521739132],[-0.15794693478260868,-0.1255179347826087,0.1398120652173913],[-0.16041193478260868,-0.1358609347826087,0.1606450652173913],[-0.06719293478260868,0.13500406521739133,0.17016906521739134],[0.022319065217391326,0.2746800652173913,0.2632090652173913],[0.008744065217391322,0.2128540652173913,0.2979000652173913],[-0.010616934782608695,0.16554706521739132,0.3064790652173913]],\"type\":\"heatmap\"}],                        {\"height\":800,\"hovermode\":\"closest\",\"legend\":{\"x\":0.7,\"y\":0.7},\"paper_bgcolor\":\"rgba(0,0,0,0)\",\"plot_bgcolor\":\"rgba(0,0,0,0)\",\"showlegend\":false,\"template\":{\"data\":{\"barpolar\":[{\"marker\":{\"line\":{\"color\":\"#E5ECF6\",\"width\":0.5},\"pattern\":{\"fillmode\":\"overlay\",\"size\":10,\"solidity\":0.2}},\"type\":\"barpolar\"}],\"bar\":[{\"error_x\":{\"color\":\"#2a3f5f\"},\"error_y\":{\"color\":\"#2a3f5f\"},\"marker\":{\"line\":{\"color\":\"#E5ECF6\",\"width\":0.5},\"pattern\":{\"fillmode\":\"overlay\",\"size\":10,\"solidity\":0.2}},\"type\":\"bar\"}],\"carpet\":[{\"aaxis\":{\"endlinecolor\":\"#2a3f5f\",\"gridcolor\":\"white\",\"linecolor\":\"white\",\"minorgridcolor\":\"white\",\"startlinecolor\":\"#2a3f5f\"},\"baxis\":{\"endlinecolor\":\"#2a3f5f\",\"gridcolor\":\"white\",\"linecolor\":\"white\",\"minorgridcolor\":\"white\",\"startlinecolor\":\"#2a3f5f\"},\"type\":\"carpet\"}],\"choropleth\":[{\"colorbar\":{\"outlinewidth\":0,\"ticks\":\"\"},\"type\":\"choropleth\"}],\"contourcarpet\":[{\"colorbar\":{\"outlinewidth\":0,\"ticks\":\"\"},\"type\":\"contourcarpet\"}],\"contour\":[{\"colorbar\":{\"outlinewidth\":0,\"ticks\":\"\"},\"colorscale\":[[0.0,\"#0d0887\"],[0.1111111111111111,\"#46039f\"],[0.2222222222222222,\"#7201a8\"],[0.3333333333333333,\"#9c179e\"],[0.4444444444444444,\"#bd3786\"],[0.5555555555555556,\"#d8576b\"],[0.6666666666666666,\"#ed7953\"],[0.7777777777777778,\"#fb9f3a\"],[0.8888888888888888,\"#fdca26\"],[1.0,\"#f0f921\"]],\"type\":\"contour\"}],\"heatmapgl\":[{\"colorbar\":{\"outlinewidth\":0,\"ticks\":\"\"},\"colorscale\":[[0.0,\"#0d0887\"],[0.1111111111111111,\"#46039f\"],[0.2222222222222222,\"#7201a8\"],[0.3333333333333333,\"#9c179e\"],[0.4444444444444444,\"#bd3786\"],[0.5555555555555556,\"#d8576b\"],[0.6666666666666666,\"#ed7953\"],[0.7777777777777778,\"#fb9f3a\"],[0.8888888888888888,\"#fdca26\"],[1.0,\"#f0f921\"]],\"type\":\"heatmapgl\"}],\"heatmap\":[{\"colorbar\":{\"outlinewidth\":0,\"ticks\":\"\"},\"colorscale\":[[0.0,\"#0d0887\"],[0.1111111111111111,\"#46039f\"],[0.2222222222222222,\"#7201a8\"],[0.3333333333333333,\"#9c179e\"],[0.4444444444444444,\"#bd3786\"],[0.5555555555555556,\"#d8576b\"],[0.6666666666666666,\"#ed7953\"],[0.7777777777777778,\"#fb9f3a\"],[0.8888888888888888,\"#fdca26\"],[1.0,\"#f0f921\"]],\"type\":\"heatmap\"}],\"histogram2dcontour\":[{\"colorbar\":{\"outlinewidth\":0,\"ticks\":\"\"},\"colorscale\":[[0.0,\"#0d0887\"],[0.1111111111111111,\"#46039f\"],[0.2222222222222222,\"#7201a8\"],[0.3333333333333333,\"#9c179e\"],[0.4444444444444444,\"#bd3786\"],[0.5555555555555556,\"#d8576b\"],[0.6666666666666666,\"#ed7953\"],[0.7777777777777778,\"#fb9f3a\"],[0.8888888888888888,\"#fdca26\"],[1.0,\"#f0f921\"]],\"type\":\"histogram2dcontour\"}],\"histogram2d\":[{\"colorbar\":{\"outlinewidth\":0,\"ticks\":\"\"},\"colorscale\":[[0.0,\"#0d0887\"],[0.1111111111111111,\"#46039f\"],[0.2222222222222222,\"#7201a8\"],[0.3333333333333333,\"#9c179e\"],[0.4444444444444444,\"#bd3786\"],[0.5555555555555556,\"#d8576b\"],[0.6666666666666666,\"#ed7953\"],[0.7777777777777778,\"#fb9f3a\"],[0.8888888888888888,\"#fdca26\"],[1.0,\"#f0f921\"]],\"type\":\"histogram2d\"}],\"histogram\":[{\"marker\":{\"pattern\":{\"fillmode\":\"overlay\",\"size\":10,\"solidity\":0.2}},\"type\":\"histogram\"}],\"mesh3d\":[{\"colorbar\":{\"outlinewidth\":0,\"ticks\":\"\"},\"type\":\"mesh3d\"}],\"parcoords\":[{\"line\":{\"colorbar\":{\"outlinewidth\":0,\"ticks\":\"\"}},\"type\":\"parcoords\"}],\"pie\":[{\"automargin\":true,\"type\":\"pie\"}],\"scatter3d\":[{\"line\":{\"colorbar\":{\"outlinewidth\":0,\"ticks\":\"\"}},\"marker\":{\"colorbar\":{\"outlinewidth\":0,\"ticks\":\"\"}},\"type\":\"scatter3d\"}],\"scattercarpet\":[{\"marker\":{\"colorbar\":{\"outlinewidth\":0,\"ticks\":\"\"}},\"type\":\"scattercarpet\"}],\"scattergeo\":[{\"marker\":{\"colorbar\":{\"outlinewidth\":0,\"ticks\":\"\"}},\"type\":\"scattergeo\"}],\"scattergl\":[{\"marker\":{\"colorbar\":{\"outlinewidth\":0,\"ticks\":\"\"}},\"type\":\"scattergl\"}],\"scattermapbox\":[{\"marker\":{\"colorbar\":{\"outlinewidth\":0,\"ticks\":\"\"}},\"type\":\"scattermapbox\"}],\"scatterpolargl\":[{\"marker\":{\"colorbar\":{\"outlinewidth\":0,\"ticks\":\"\"}},\"type\":\"scatterpolargl\"}],\"scatterpolar\":[{\"marker\":{\"colorbar\":{\"outlinewidth\":0,\"ticks\":\"\"}},\"type\":\"scatterpolar\"}],\"scatter\":[{\"fillpattern\":{\"fillmode\":\"overlay\",\"size\":10,\"solidity\":0.2},\"type\":\"scatter\"}],\"scatterternary\":[{\"marker\":{\"colorbar\":{\"outlinewidth\":0,\"ticks\":\"\"}},\"type\":\"scatterternary\"}],\"surface\":[{\"colorbar\":{\"outlinewidth\":0,\"ticks\":\"\"},\"colorscale\":[[0.0,\"#0d0887\"],[0.1111111111111111,\"#46039f\"],[0.2222222222222222,\"#7201a8\"],[0.3333333333333333,\"#9c179e\"],[0.4444444444444444,\"#bd3786\"],[0.5555555555555556,\"#d8576b\"],[0.6666666666666666,\"#ed7953\"],[0.7777777777777778,\"#fb9f3a\"],[0.8888888888888888,\"#fdca26\"],[1.0,\"#f0f921\"]],\"type\":\"surface\"}],\"table\":[{\"cells\":{\"fill\":{\"color\":\"#EBF0F8\"},\"line\":{\"color\":\"white\"}},\"header\":{\"fill\":{\"color\":\"#C8D4E3\"},\"line\":{\"color\":\"white\"}},\"type\":\"table\"}]},\"layout\":{\"annotationdefaults\":{\"arrowcolor\":\"#2a3f5f\",\"arrowhead\":0,\"arrowwidth\":1},\"autotypenumbers\":\"strict\",\"coloraxis\":{\"colorbar\":{\"outlinewidth\":0,\"ticks\":\"\"}},\"colorscale\":{\"diverging\":[[0,\"#8e0152\"],[0.1,\"#c51b7d\"],[0.2,\"#de77ae\"],[0.3,\"#f1b6da\"],[0.4,\"#fde0ef\"],[0.5,\"#f7f7f7\"],[0.6,\"#e6f5d0\"],[0.7,\"#b8e186\"],[0.8,\"#7fbc41\"],[0.9,\"#4d9221\"],[1,\"#276419\"]],\"sequential\":[[0.0,\"#0d0887\"],[0.1111111111111111,\"#46039f\"],[0.2222222222222222,\"#7201a8\"],[0.3333333333333333,\"#9c179e\"],[0.4444444444444444,\"#bd3786\"],[0.5555555555555556,\"#d8576b\"],[0.6666666666666666,\"#ed7953\"],[0.7777777777777778,\"#fb9f3a\"],[0.8888888888888888,\"#fdca26\"],[1.0,\"#f0f921\"]],\"sequentialminus\":[[0.0,\"#0d0887\"],[0.1111111111111111,\"#46039f\"],[0.2222222222222222,\"#7201a8\"],[0.3333333333333333,\"#9c179e\"],[0.4444444444444444,\"#bd3786\"],[0.5555555555555556,\"#d8576b\"],[0.6666666666666666,\"#ed7953\"],[0.7777777777777778,\"#fb9f3a\"],[0.8888888888888888,\"#fdca26\"],[1.0,\"#f0f921\"]]},\"colorway\":[\"#636efa\",\"#EF553B\",\"#00cc96\",\"#ab63fa\",\"#FFA15A\",\"#19d3f3\",\"#FF6692\",\"#B6E880\",\"#FF97FF\",\"#FECB52\"],\"font\":{\"color\":\"#2a3f5f\"},\"geo\":{\"bgcolor\":\"white\",\"lakecolor\":\"white\",\"landcolor\":\"#E5ECF6\",\"showlakes\":true,\"showland\":true,\"subunitcolor\":\"white\"},\"hoverlabel\":{\"align\":\"left\"},\"hovermode\":\"closest\",\"mapbox\":{\"style\":\"light\"},\"paper_bgcolor\":\"white\",\"plot_bgcolor\":\"#E5ECF6\",\"polar\":{\"angularaxis\":{\"gridcolor\":\"white\",\"linecolor\":\"white\",\"ticks\":\"\"},\"bgcolor\":\"#E5ECF6\",\"radialaxis\":{\"gridcolor\":\"white\",\"linecolor\":\"white\",\"ticks\":\"\"}},\"scene\":{\"xaxis\":{\"backgroundcolor\":\"#E5ECF6\",\"gridcolor\":\"white\",\"gridwidth\":2,\"linecolor\":\"white\",\"showbackground\":true,\"ticks\":\"\",\"zerolinecolor\":\"white\"},\"yaxis\":{\"backgroundcolor\":\"#E5ECF6\",\"gridcolor\":\"white\",\"gridwidth\":2,\"linecolor\":\"white\",\"showbackground\":true,\"ticks\":\"\",\"zerolinecolor\":\"white\"},\"zaxis\":{\"backgroundcolor\":\"#E5ECF6\",\"gridcolor\":\"white\",\"gridwidth\":2,\"linecolor\":\"white\",\"showbackground\":true,\"ticks\":\"\",\"zerolinecolor\":\"white\"}},\"shapedefaults\":{\"line\":{\"color\":\"#2a3f5f\"}},\"ternary\":{\"aaxis\":{\"gridcolor\":\"white\",\"linecolor\":\"white\",\"ticks\":\"\"},\"baxis\":{\"gridcolor\":\"white\",\"linecolor\":\"white\",\"ticks\":\"\"},\"bgcolor\":\"#E5ECF6\",\"caxis\":{\"gridcolor\":\"white\",\"linecolor\":\"white\",\"ticks\":\"\"}},\"title\":{\"x\":0.05},\"xaxis\":{\"automargin\":true,\"gridcolor\":\"white\",\"linecolor\":\"white\",\"ticks\":\"\",\"title\":{\"standoff\":15},\"zerolinecolor\":\"white\",\"zerolinewidth\":2},\"yaxis\":{\"automargin\":true,\"gridcolor\":\"white\",\"linecolor\":\"white\",\"ticks\":\"\",\"title\":{\"standoff\":15},\"zerolinecolor\":\"white\",\"zerolinewidth\":2}}},\"width\":700,\"xaxis\":{\"anchor\":\"y\",\"domain\":[0,0.95],\"fixedrange\":false,\"mirror\":false,\"showgrid\":false,\"showline\":false,\"showticklabels\":false,\"type\":\"linear\",\"zeroline\":false},\"yaxis\":{\"anchor\":\"x\",\"domain\":[0.8416666666666667,1],\"fixedrange\":false,\"mirror\":false,\"showgrid\":false,\"showline\":false,\"showticklabels\":false,\"type\":\"linear\",\"zeroline\":false},\"xaxis2\":{\"anchor\":\"y2\",\"domain\":[0.2,0.4]},\"yaxis2\":{\"anchor\":\"x2\",\"domain\":[0.8,1.0]},\"xaxis3\":{\"anchor\":\"y9\",\"domain\":[0.15833333333333333,0.95],\"fixedrange\":false,\"mirror\":false,\"scaleanchor\":\"x11\",\"showgrid\":false,\"showline\":false,\"showticklabels\":false,\"type\":\"linear\",\"zeroline\":false},\"yaxis3\":{\"anchor\":\"x3\",\"domain\":[0.8416666666666667,1],\"fixedrange\":false,\"mirror\":false,\"range\":[0.0,1.0680692753815173],\"showgrid\":false,\"showline\":false,\"showticklabels\":false,\"type\":\"linear\",\"zeroline\":false},\"xaxis4\":{\"anchor\":\"y4\",\"domain\":[0.8,1.0]},\"yaxis4\":{\"anchor\":\"x4\",\"domain\":[0.8,1.0]},\"xaxis5\":{\"anchor\":\"y5\",\"domain\":[0,0.95],\"fixedrange\":false,\"mirror\":false,\"showgrid\":false,\"showline\":false,\"showticklabels\":false,\"type\":\"linear\",\"zeroline\":false},\"yaxis5\":{\"anchor\":\"x5\",\"domain\":[0.8416666666666667,0.8416666666666667],\"fixedrange\":false,\"mirror\":false,\"showgrid\":false,\"showline\":false,\"showticklabels\":false,\"type\":\"linear\",\"zeroline\":false},\"xaxis6\":{\"anchor\":\"y6\",\"domain\":[0.2,0.4],\"fixedrange\":false,\"mirror\":false,\"showgrid\":false,\"showline\":false,\"showticklabels\":false,\"type\":\"linear\",\"zeroline\":false},\"yaxis6\":{\"anchor\":\"x6\",\"domain\":[0.8416666666666667,0.8416666666666667],\"fixedrange\":false,\"mirror\":false,\"showgrid\":false,\"showline\":false,\"showticklabels\":false,\"type\":\"linear\",\"zeroline\":false},\"xaxis7\":{\"anchor\":\"y9\",\"domain\":[0.15833333333333333,0.95],\"fixedrange\":false,\"mirror\":false,\"showgrid\":false,\"showline\":false,\"showticklabels\":false,\"type\":\"linear\",\"zeroline\":false},\"yaxis7\":{\"anchor\":\"x7\",\"domain\":[0.8416666666666667,0.8416666666666667],\"fixedrange\":false,\"mirror\":false,\"showgrid\":false,\"showline\":false,\"showticklabels\":false,\"type\":\"linear\",\"zeroline\":false},\"xaxis8\":{\"anchor\":\"y8\",\"domain\":[0.8,1.0]},\"yaxis8\":{\"anchor\":\"x8\",\"domain\":[0.6000000000000001,0.8]},\"xaxis9\":{\"anchor\":\"y9\",\"domain\":[0,0.15833333333333333],\"fixedrange\":false,\"mirror\":false,\"showgrid\":false,\"showline\":false,\"showticklabels\":false,\"type\":\"linear\",\"zeroline\":false},\"yaxis9\":{\"anchor\":\"x9\",\"domain\":[0,0.8416666666666667],\"fixedrange\":false,\"mirror\":false,\"range\":[5.0,455.0],\"scaleanchor\":\"y11\",\"showgrid\":false,\"showline\":false,\"showticklabels\":false,\"type\":\"linear\",\"zeroline\":false},\"xaxis10\":{\"anchor\":\"y10\",\"domain\":[0.15833333333333333,0.15833333333333333],\"fixedrange\":false,\"mirror\":false,\"showgrid\":false,\"showline\":false,\"showticklabels\":false,\"type\":\"linear\",\"zeroline\":false},\"yaxis10\":{\"anchor\":\"x10\",\"domain\":[0,0.8416666666666667],\"fixedrange\":false,\"mirror\":false,\"showgrid\":false,\"showline\":false,\"showticklabels\":false,\"type\":\"linear\",\"zeroline\":false},\"xaxis11\":{\"anchor\":\"y11\",\"domain\":[0.15833333333333333,0.95],\"fixedrange\":false,\"mirror\":false,\"range\":[0.0,30.0],\"showgrid\":false,\"showline\":false,\"showticklabels\":true,\"side\":\"bottom\",\"tickmode\":\"array\",\"ticktext\":[\"p1p2\",\"p1\",\"p2\"],\"tickvals\":[5.0,15.0,25.0],\"type\":\"linear\",\"zeroline\":false},\"yaxis11\":{\"anchor\":\"x11\",\"domain\":[0,0.8416666666666667],\"fixedrange\":false,\"mirror\":false,\"showgrid\":false,\"showline\":false,\"showticklabels\":true,\"side\":\"right\",\"tickmode\":\"array\",\"ticktext\":[\"Strongly disagree to Policymaking Strongly disagree to dissemination of GK\",\"Strongly agree to Policymaking Strongly agree to dissemination of GK\",\"Agree to Policymaking Agree to dissemination of GK\",\"Agree to Revising and Updating Agree to Policymaking\",\"Strongly agree to Revising and Updating Strongly agree to Policymaking\",\"Strongly disagree to Revising and Updating Strongly disagree to Policymaking\",\"Neutral towards to Revising and Updating Disagree to Policymaking\",\"Disagree to Policymaking Strongly disagree to dissemination of GK\",\"Strongly disagree to Policymaking Disagree to dissemination of GK\",\"Disagree to Policymaking Neutral towards to dissemination of GK\",\"Strongly agree to Revising and Updating Agree to Policymaking\",\"Strongly agree to Policymaking Disagree to dissemination of GK\",\"Strongly agree to Revising and Updating Strongly disagree to Policymaking\",\"Agree to Revising and Updating Strongly disagree to Policymaking\",\"Strongly agree to Revising and Updating Neutral towards to Policymaking\",\"Strongly agree to Policymaking Neutral towards to dissemination of GK\",\"Strongly agree to Policymaking Strongly disagree to dissemination of GK\",\"Agree to Policymaking Strongly disagree to dissemination of GK\",\"Strongly disagree to Policymaking Strongly agree to dissemination of GK\",\"Strongly disagree to Revising and Updating Neutral towards to Policymaking\",\"Strongly disagree to Policymaking Agree to dissemination of GK\",\"Disagree to Policymaking Strongly agree to dissemination of GK\",\"Strongly disagree to Revising and Updating Strongly agree to Policymaking\",\"Strongly disagree to Revising and Updating Agree to Policymaking\",\"Neutral towards to Policymaking Strongly disagree to dissemination of GK\",\"Neutral towards to Policymaking Disagree to dissemination of GK\",\"Disagree to Revising and Updating Strongly disagree to Policymaking\",\"Disagree to Revising and Updating Neutral towards to Policymaking\",\"Disagree to Policymaking Agree to dissemination of GK\",\"Neutral towards to Revising and Updating Agree to Policymaking\",\"Neutral towards to Policymaking Agree to dissemination of GK\",\"Neutral towards to Revising and Updating Strongly agree to Policymaking\",\"Disagree to Revising and Updating Strongly agree to Policymaking\",\"Neutral towards to Policymaking Strongly agree to dissemination of GK\",\"Disagree to Revising and Updating Agree to Policymaking\",\"Strongly agree to Policymaking Agree to dissemination of GK\",\"Agree to Policymaking Strongly agree to dissemination of GK\",\"Agree to Revising and Updating Strongly agree to Policymaking\",\"Agree to Policymaking Disagree to dissemination of GK\",\"Agree to Revising and Updating Neutral towards to Policymaking\",\"Agree to Policymaking Neutral towards to dissemination of GK\",\"Agree to Revising and Updating Disagree to Policymaking\",\"Disagree to Policymaking Disagree to dissemination of GK\",\"Disagree to Revising and Updating Disagree to Policymaking\",\"Neutral towards to Revising and Updating Neutral towards to Policymaking\",\"Neutral towards to Policymaking Neutral towards to dissemination of GK\"],\"tickvals\":[5.0,15.0,25.0,35.0,45.0,55.0,65.0,75.0,85.0,95.0,105.0,115.0,125.0,135.0,145.0,155.0,165.0,175.0,185.0,195.0,205.0,215.0,225.0,235.0,245.0,255.0,265.0,275.0,285.0,295.0,305.0,315.0,325.0,335.0,345.0,355.0,365.0,375.0,385.0,395.0,405.0,415.0,425.0,435.0,445.0,455.0],\"type\":\"linear\",\"zeroline\":false},\"xaxis12\":{\"anchor\":\"y12\",\"domain\":[0.95,1],\"fixedrange\":false,\"mirror\":false,\"range\":[-5,1],\"showgrid\":false,\"showline\":false,\"showticklabels\":false,\"type\":\"linear\",\"zeroline\":false},\"yaxis12\":{\"anchor\":\"x12\",\"domain\":[0,0.7916666666666666],\"fixedrange\":false,\"mirror\":false,\"range\":[5.0,455.0],\"scaleanchor\":\"y11\",\"scaleratio\":1,\"showgrid\":false,\"showline\":false,\"showticklabels\":false,\"type\":\"linear\",\"zeroline\":false},\"xaxis13\":{\"anchor\":\"y13\",\"domain\":[0.0,0.2]},\"yaxis13\":{\"anchor\":\"x13\",\"domain\":[0.0,0.2]},\"xaxis14\":{\"anchor\":\"y14\",\"domain\":[0.2,0.4]},\"yaxis14\":{\"anchor\":\"x14\",\"domain\":[0.0,0.2]},\"xaxis15\":{\"anchor\":\"y15\",\"domain\":[0.15833333333333333,0.95],\"fixedrange\":false,\"mirror\":false,\"range\":[5.0,25.0],\"scaleanchor\":\"x11\",\"scaleratio\":1,\"showgrid\":false,\"showline\":false,\"showticklabels\":false,\"type\":\"linear\",\"zeroline\":false},\"yaxis15\":{\"anchor\":\"x15\",\"domain\":[0.7916666666666666,0.8416666666666667],\"fixedrange\":false,\"mirror\":false,\"range\":[-0.5,0.5],\"showgrid\":false,\"showline\":false,\"showticklabels\":false,\"type\":\"linear\",\"zeroline\":false},\"xaxis16\":{\"anchor\":\"y16\",\"domain\":[0.8,1.0]},\"yaxis16\":{\"anchor\":\"x16\",\"domain\":[0.0,0.2]}},                        {\"responsive\": true}                    ).then(function(){\n",
       "                            \n",
       "var gd = document.getElementById('594e22c5-27a7-42b6-87bd-18b1f31a02a3');\n",
       "var x = new MutationObserver(function (mutations, observer) {{\n",
       "        var display = window.getComputedStyle(gd).display;\n",
       "        if (!display || display === 'none') {{\n",
       "            console.log([gd, 'removed!']);\n",
       "            Plotly.purge(gd);\n",
       "            observer.disconnect();\n",
       "        }}\n",
       "}});\n",
       "\n",
       "// Listen for the removal of the full notebook cells\n",
       "var notebookContainer = gd.closest('#notebook-container');\n",
       "if (notebookContainer) {{\n",
       "    x.observe(notebookContainer, {childList: true});\n",
       "}}\n",
       "\n",
       "// Listen for the clearing of the current output cell\n",
       "var outputEl = gd.closest('.output');\n",
       "if (outputEl) {{\n",
       "    x.observe(outputEl, {childList: true});\n",
       "}}\n",
       "\n",
       "                        })                };                });            </script>        </div>"
      ]
     },
     "metadata": {},
     "output_type": "display_data"
    }
   ],
   "source": [
    "figx"
   ]
  },
  {
   "cell_type": "code",
   "execution_count": 49,
   "id": "20505f60-475b-4bee-b947-030a5ff8a1b7",
   "metadata": {},
   "outputs": [],
   "source": [
    "figx.write_html(\"clustergram_likert.html\") # save the plot to .html"
   ]
  },
  {
   "cell_type": "markdown",
   "id": "6caf5fc4-3830-4bd6-bc2a-d78fd95e796d",
   "metadata": {},
   "source": [
    "# Assignment"
   ]
  },
  {
   "cell_type": "markdown",
   "id": "59954e80-39f8-4dd3-b4bf-ce2cc0e2f6bc",
   "metadata": {},
   "source": [
    "Filter the final_df dataframe (the one we used to make the network plots) for joint probability greater than 10%. [1]\n",
    "\n",
    "Plot the network, subsequently the sankey and cluster dendrogram of the data.\n",
    "\n",
    "Finally, create a line plot with p1, p2, and p1p2. Optional: Make a vertical line on this plot that says top 10th percentile for p1p2.[2]\n",
    "\n",
    "Hint [1]: Search for 'how to filter a dataframe by column values'\n",
    "Hint [2]: https://plotly.com/python/line-charts/\n",
    "\n",
    "Describe the obtained results in a few lines, and submit your plots as html files and jupyter notebook into your assignment folders for this session."
   ]
  },
  {
   "cell_type": "markdown",
   "id": "76739027-9e28-4040-99ee-0ab9f888acfd",
   "metadata": {},
   "source": [
    "EON"
   ]
  }
 ],
 "metadata": {
  "kernelspec": {
   "display_name": "Python 3 (ipykernel)",
   "language": "python",
   "name": "python3"
  },
  "language_info": {
   "codemirror_mode": {
    "name": "ipython",
    "version": 3
   },
   "file_extension": ".py",
   "mimetype": "text/x-python",
   "name": "python",
   "nbconvert_exporter": "python",
   "pygments_lexer": "ipython3",
   "version": "3.11.7"
  }
 },
 "nbformat": 4,
 "nbformat_minor": 5
}
