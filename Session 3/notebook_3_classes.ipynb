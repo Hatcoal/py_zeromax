{
 "cells": [
  {
   "cell_type": "markdown",
   "id": "3c8baa2f-38e7-4b32-a1ca-6b4edbb08924",
   "metadata": {},
   "source": [
    "# classes"
   ]
  },
  {
   "cell_type": "raw",
   "id": "3de46963-b88f-4bfa-a932-6743cb416973",
   "metadata": {},
   "source": [
    "Representation of any phenomena, or process or task can be done computationally thinking. George Lakeoff proposed the theory of embedded metaphor. Cognitive developmental theories also suggest a similar aspect, where cognitive factors in the world are realities within the human brain. The key argument I am making is that, the concept of objects and thus object-oriented programming is exploited similarly in applied sciences. For example, when you do data analyses, the variables are the data in the real world, that you have somehow measured, these variables are thus abstract but have an existence. The observed phenomena, thus, are a result of interactions from these concepts, which can be effectively implemented as classes.\n",
    "\n",
    "We can create data structures using classes and do ever possible abstraction or computation at the level of memory storage points.\n",
    "\n",
    "However, most statistics can be done effectively using DataFrames, we will study this data structure in upcoming classes.`\n",
    "\n",
    "In the third part of the course, we will study one more interesting data class. \n",
    "\n",
    "If you are a fundamental programmer, you can just implement your own data structure based on the available variable types in python. But as you will see, it is more practical to use existing classes, since 90 percent of work (my own opinion) can be done with existing variable types.\n",
    "\n",
    "Recommended tutorial:\n",
    "https://realpython.com/python-classes/\n"
   ]
  },
  {
   "cell_type": "markdown",
   "id": "b2f1b29e-6cb0-4b8e-9397-aee9c5d4db21",
   "metadata": {},
   "source": [
    "### step 1: make a class"
   ]
  },
  {
   "cell_type": "code",
   "execution_count": 2,
   "id": "2c13f89f-d8ed-44a4-8c3b-f591958ed3a8",
   "metadata": {},
   "outputs": [],
   "source": [
    "class Clock(object):\n",
    "    \n",
    "    def __init__(self, hour=12, minute=0, second=0, milTime=False):\n",
    "        super(Clock,self).__init__()\n",
    "        self.hour    = hour\n",
    "        self.minute  = minute\n",
    "        self.second  = second\n",
    "        self.milTime = milTime  # 24-hour clock?\n",
    "\n",
    "    @property\n",
    "    def hour(self):\n",
    "        return self._hour if self.milTime else ((self._hour-1) % 12)+1\n",
    "\n",
    "    @hour.setter\n",
    "    def hour(self, hour):\n",
    "        self._hour = hour % 24\n",
    "\n",
    "    @property\n",
    "    def minute(self):\n",
    "        return self._minute\n",
    "\n",
    "    @minute.setter        \n",
    "    def minute(self, minute):\n",
    "        self._minute = minute % 60\n",
    "\n",
    "    @property\n",
    "    def second(self):\n",
    "        return self._second\n",
    "\n",
    "    @second.setter\n",
    "    def second(self, second):\n",
    "        self._second = second % 60\n",
    "\n",
    "    @property\n",
    "    def time(self):\n",
    "        return self.hour, self.minute, self.second\n",
    "\n",
    "    @time.setter\n",
    "    def time(self, t):\n",
    "        self.hour, self.minute, self.second = t\n",
    "\n",
    "    def __str__(self):\n",
    "        if self.milTime:\n",
    "            return \"{hr:02}:{min:02}:{sec:02}\".format(hr=self.hour, min=self.minute, sec=self.second)\n",
    "        else:\n",
    "            ap = (\"AM\", \"PM\")[self._hour >= 12]\n",
    "            return \"{hr:>2}:{min:02}:{sec:02} {ap}\".format(hr=self.hour, min=self.minute, sec=self.second, ap=ap)"
   ]
  },
  {
   "cell_type": "code",
   "execution_count": 3,
   "id": "68f1686e-709a-46e0-839e-bdf0d9d9f974",
   "metadata": {},
   "outputs": [
    {
     "data": {
      "text/plain": [
       "\u001b[0;31mInit signature:\u001b[0m \u001b[0mClock\u001b[0m\u001b[0;34m(\u001b[0m\u001b[0mhour\u001b[0m\u001b[0;34m=\u001b[0m\u001b[0;36m12\u001b[0m\u001b[0;34m,\u001b[0m \u001b[0mminute\u001b[0m\u001b[0;34m=\u001b[0m\u001b[0;36m0\u001b[0m\u001b[0;34m,\u001b[0m \u001b[0msecond\u001b[0m\u001b[0;34m=\u001b[0m\u001b[0;36m0\u001b[0m\u001b[0;34m,\u001b[0m \u001b[0mmilTime\u001b[0m\u001b[0;34m=\u001b[0m\u001b[0;32mFalse\u001b[0m\u001b[0;34m)\u001b[0m\u001b[0;34m\u001b[0m\u001b[0;34m\u001b[0m\u001b[0m\n",
       "\u001b[0;31mDocstring:\u001b[0m      <no docstring>\n",
       "\u001b[0;31mType:\u001b[0m           type\n",
       "\u001b[0;31mSubclasses:\u001b[0m     "
      ]
     },
     "metadata": {},
     "output_type": "display_data"
    }
   ],
   "source": [
    "Clock??"
   ]
  },
  {
   "cell_type": "code",
   "execution_count": 4,
   "id": "08a23df8-6125-45d1-9c0b-84c5bf25e0f7",
   "metadata": {},
   "outputs": [
    {
     "data": {
      "text/plain": [
       "(12, 15, 10)"
      ]
     },
     "execution_count": 4,
     "metadata": {},
     "output_type": "execute_result"
    }
   ],
   "source": [
    "c = Clock(12, 15, 10)\n",
    "c.time"
   ]
  },
  {
   "cell_type": "markdown",
   "id": "313c80b3-57f7-4567-bc61-c54120655cc7",
   "metadata": {},
   "source": [
    "## Generators from iterators"
   ]
  },
  {
   "cell_type": "code",
   "execution_count": 9,
   "id": "b00c32bd-0754-4df4-ac5d-658a35a6fcbd",
   "metadata": {},
   "outputs": [],
   "source": [
    "import itertools"
   ]
  },
  {
   "cell_type": "code",
   "execution_count": 10,
   "id": "6230a59b-1b3d-4d7f-84aa-734225855b98",
   "metadata": {},
   "outputs": [
    {
     "data": {
      "text/plain": [
       "<itertools.cycle at 0x7f4665c32cc0>"
      ]
     },
     "execution_count": 10,
     "metadata": {},
     "output_type": "execute_result"
    }
   ],
   "source": [
    "#itertools contains iterators which help in reducing the for loop things\n",
    "\n",
    "text = 'ABCD'\n",
    "cycled_text = itertools.cycle(text)\n",
    "cycled_text"
   ]
  },
  {
   "cell_type": "code",
   "execution_count": 11,
   "id": "5ab84f3e-c3b1-4b19-8015-ba3b6b701223",
   "metadata": {},
   "outputs": [
    {
     "data": {
      "text/plain": [
       "\u001b[0;31mInit signature:\u001b[0m \u001b[0mitertools\u001b[0m\u001b[0;34m.\u001b[0m\u001b[0mcycle\u001b[0m\u001b[0;34m(\u001b[0m\u001b[0miterable\u001b[0m\u001b[0;34m,\u001b[0m \u001b[0;34m/\u001b[0m\u001b[0;34m)\u001b[0m\u001b[0;34m\u001b[0m\u001b[0;34m\u001b[0m\u001b[0m\n",
       "\u001b[0;31mDocstring:\u001b[0m      Return elements from the iterable until it is exhausted. Then repeat the sequence indefinitely.\n",
       "\u001b[0;31mType:\u001b[0m           type\n",
       "\u001b[0;31mSubclasses:\u001b[0m     "
      ]
     },
     "metadata": {},
     "output_type": "display_data"
    }
   ],
   "source": [
    "itertools.cycle??"
   ]
  },
  {
   "cell_type": "code",
   "execution_count": 12,
   "id": "0b3b3219-876b-471e-9b99-9c4cf0a50946",
   "metadata": {},
   "outputs": [
    {
     "data": {
      "text/plain": [
       "\u001b[0;31mType:\u001b[0m        cycle\n",
       "\u001b[0;31mString form:\u001b[0m <itertools.cycle object at 0x7f4665c32cc0>\n",
       "\u001b[0;31mDocstring:\u001b[0m   Return elements from the iterable until it is exhausted. Then repeat the sequence indefinitely."
      ]
     },
     "metadata": {},
     "output_type": "display_data"
    }
   ],
   "source": [
    "cycled_text??"
   ]
  },
  {
   "cell_type": "raw",
   "id": "80f45fb9-7b4d-47ab-bc4e-802a217e11be",
   "metadata": {},
   "source": [
    "for letter in cycled_text:\n",
    "    print(letter) \n",
    "#this will iterate infinitely\n",
    "\n",
    "\n",
    "A\n",
    "B\n",
    "C\n",
    "D\n",
    "A\n",
    "B\n",
    "C\n",
    "D\n",
    ".\n",
    ".\n",
    ".\n",
    "\n",
    "Same as\n",
    "\n",
    "while True:\n",
    "    for item in a_list:\n",
    "        print(item)\n"
   ]
  },
  {
   "cell_type": "code",
   "execution_count": 13,
   "id": "fc4f1602-dd94-43fa-92f3-650670361c92",
   "metadata": {},
   "outputs": [
    {
     "name": "stdout",
     "output_type": "stream",
     "text": [
      "1\n",
      "2\n",
      "3\n",
      "4\n",
      "5\n",
      "6\n",
      "7\n",
      "8\n",
      "9\n"
     ]
    }
   ],
   "source": [
    "for x in range(1, 10): #n+1 for the desired loop\n",
    "    print(x)"
   ]
  },
  {
   "cell_type": "code",
   "execution_count": 16,
   "id": "e84ebb81-8a4a-42c4-81bd-8f53aa9cfba2",
   "metadata": {},
   "outputs": [
    {
     "data": {
      "text/plain": [
       "[1, 2, 3, 4, 5, 6, 7, 8, 9]"
      ]
     },
     "execution_count": 16,
     "metadata": {},
     "output_type": "execute_result"
    }
   ],
   "source": [
    "number  = []\n",
    "for x in range(1,10):\n",
    "    number.append(x)\n",
    "\n",
    "number"
   ]
  },
  {
   "cell_type": "code",
   "execution_count": 33,
   "id": "3b9f9168-23c6-4cb8-a745-bbc20c71a178",
   "metadata": {},
   "outputs": [
    {
     "data": {
      "text/plain": [
       "[0, 1, 2, 3, 4, 5, 6, 7, 8, 9]"
      ]
     },
     "execution_count": 33,
     "metadata": {},
     "output_type": "execute_result"
    }
   ],
   "source": [
    "#Advanced code, using lambda expressions\n",
    "number = [(lambda x: x)(x) for x in range(10)]\n",
    "number"
   ]
  },
  {
   "cell_type": "markdown",
   "id": "f94c2f9d-e18c-44d8-b25c-e952898197eb",
   "metadata": {},
   "source": [
    "Iterating using iterators is a fast solution, where you don't have to write the same functions again to create some kind of generation."
   ]
  },
  {
   "cell_type": "raw",
   "id": "3c9099e7-33eb-4861-9dda-eee543842837",
   "metadata": {},
   "source": [
    "We are actually using Generators to make these iterators.\n",
    "\n",
    "    For example, if we want to create a combination of elements."
   ]
  },
  {
   "cell_type": "code",
   "execution_count": 17,
   "id": "d70ce26c-e7f4-4c89-88a4-21c083e23eea",
   "metadata": {},
   "outputs": [],
   "source": [
    "def generate_data(data, lower_lim, upper_lim):\n",
    "    for index in range(lower_lim, upper_lim):\n",
    "        yield data[index] # yield creates an instance of this data on the fly at every iteration"
   ]
  },
  {
   "cell_type": "code",
   "execution_count": 27,
   "id": "0ef567be-20a8-441d-9761-7c73e03d5bed",
   "metadata": {},
   "outputs": [
    {
     "data": {
      "text/plain": [
       "<generator object generate_data at 0x7f4665a1e4d0>"
      ]
     },
     "execution_count": 27,
     "metadata": {},
     "output_type": "execute_result"
    }
   ],
   "source": [
    "numbers = generate_data(number, 0, 9)\n",
    "numbers"
   ]
  },
  {
   "cell_type": "code",
   "execution_count": 22,
   "id": "2cebae15-1aff-4148-8d55-1c205b44fcb5",
   "metadata": {},
   "outputs": [
    {
     "name": "stdout",
     "output_type": "stream",
     "text": [
      "1\n",
      "2\n",
      "3\n",
      "4\n",
      "5\n",
      "6\n",
      "7\n",
      "8\n",
      "9\n"
     ]
    }
   ],
   "source": [
    "for i in numbers:\n",
    "    print(i)"
   ]
  },
  {
   "cell_type": "raw",
   "id": "32c7f716-8912-4708-b21e-1fcff6bd368d",
   "metadata": {},
   "source": [
    "What makes generators so compact is that the __iter__() and __next__() methods are created automatically. [https://docs.python.org/3/tutorial/classes.html]"
   ]
  },
  {
   "cell_type": "code",
   "execution_count": 31,
   "id": "4c067fd2-b0be-45ac-99ab-2915e60dbf8a",
   "metadata": {},
   "outputs": [
    {
     "name": "stdout",
     "output_type": "stream",
     "text": [
      "CPU times: user 0 ns, sys: 0 ns, total: 0 ns\n",
      "Wall time: 7.63 µs\n"
     ]
    }
   ],
   "source": [
    "%%time\n",
    "for x in numbers:\n",
    "    print(number)"
   ]
  },
  {
   "cell_type": "code",
   "execution_count": 28,
   "id": "1536ac5b-0054-4ba6-a176-5c06d230bbcc",
   "metadata": {},
   "outputs": [
    {
     "name": "stdout",
     "output_type": "stream",
     "text": [
      "<class 'list'>\n",
      "<class 'list'>\n",
      "<class 'list'>\n",
      "<class 'list'>\n",
      "<class 'list'>\n",
      "<class 'list'>\n",
      "<class 'list'>\n",
      "<class 'list'>\n",
      "<class 'list'>\n"
     ]
    }
   ],
   "source": [
    "for x in number:\n",
    "    print(type(number))"
   ]
  },
  {
   "cell_type": "code",
   "execution_count": 34,
   "id": "733d4fcf-a600-45c6-ab39-8d33c0ae6f67",
   "metadata": {},
   "outputs": [
    {
     "data": {
      "text/plain": [
       "[0, 1, 2, 3, 4, 5, 6, 7, 8, 9]"
      ]
     },
     "execution_count": 34,
     "metadata": {},
     "output_type": "execute_result"
    }
   ],
   "source": [
    "#Advanced code, using lambda expressions\n",
    "number = [(lambda x: x)(x) for x in range(10)]\n",
    "number"
   ]
  },
  {
   "cell_type": "raw",
   "id": "686ea34f-6e3f-493a-ad63-9af4732fdf58",
   "metadata": {},
   "source": [
    "# assignment part, create a dictionary with lambda (optional)\n",
    "numberdict = {}\n",
    "# something like\n",
    "numberdict = (lambda x, y: x, y) (x, y) for x and y in range(10)"
   ]
  },
  {
   "cell_type": "code",
   "execution_count": 41,
   "id": "28d09932-6915-4952-88f5-917bb8f2a5b9",
   "metadata": {},
   "outputs": [],
   "source": [
    "# an example of a nested iteration\n",
    "len_com = []\n",
    "n_combinations = itertools.combinations(number, 5)\n",
    "for i in n_combinations:\n",
    "    len_com.append(i)\n",
    "    "
   ]
  },
  {
   "cell_type": "code",
   "execution_count": 42,
   "id": "b2f15356-716f-4542-a4eb-e4c21580eae9",
   "metadata": {},
   "outputs": [
    {
     "data": {
      "text/plain": [
       "[(0, 1, 2, 3, 4),\n",
       " (0, 1, 2, 3, 5),\n",
       " (0, 1, 2, 3, 6),\n",
       " (0, 1, 2, 3, 7),\n",
       " (0, 1, 2, 3, 8),\n",
       " (0, 1, 2, 3, 9),\n",
       " (0, 1, 2, 4, 5),\n",
       " (0, 1, 2, 4, 6),\n",
       " (0, 1, 2, 4, 7),\n",
       " (0, 1, 2, 4, 8)]"
      ]
     },
     "execution_count": 42,
     "metadata": {},
     "output_type": "execute_result"
    }
   ],
   "source": [
    "len_com[0:10]"
   ]
  },
  {
   "cell_type": "code",
   "execution_count": 43,
   "id": "5a0a0e40-5d86-4ee4-b33d-7e7a242f9193",
   "metadata": {},
   "outputs": [
    {
     "data": {
      "text/plain": [
       "252"
      ]
     },
     "execution_count": 43,
     "metadata": {},
     "output_type": "execute_result"
    }
   ],
   "source": [
    "len(len_com)"
   ]
  },
  {
   "cell_type": "markdown",
   "id": "ad1f830b-f17c-4f1d-96ce-3de0530d2f3a",
   "metadata": {},
   "source": [
    "## putting it all together, parse a fasta"
   ]
  },
  {
   "cell_type": "code",
   "execution_count": 44,
   "id": "69141a6c-e967-402a-bf21-a0b5ca461ea3",
   "metadata": {},
   "outputs": [
    {
     "data": {
      "text/plain": [
       "'/home/mrinalmanu/Documents/notebooks_python'"
      ]
     },
     "execution_count": 44,
     "metadata": {},
     "output_type": "execute_result"
    }
   ],
   "source": [
    "pwd"
   ]
  },
  {
   "cell_type": "code",
   "execution_count": 45,
   "id": "bdd4384b-5e7e-40fc-ac71-d2fe08288fc4",
   "metadata": {},
   "outputs": [],
   "source": [
    "## Exaxmple: Parse a fasta file\n",
    "fasta_file = 'file.fasta'"
   ]
  },
  {
   "cell_type": "code",
   "execution_count": 46,
   "id": "7fbcfcdc-9731-4432-a26a-5674eb5dc39f",
   "metadata": {},
   "outputs": [
    {
     "name": "stdout",
     "output_type": "stream",
     "text": [
      ">crab_anapl ALPHA CRYSTALLIN B CHAIN (ALPHA(B)-CRYSTALLIN).             \n",
      "MDITIHNPLIRRPLFSWLAPSRIFDQIFGEHLQESELLPASPSLSPFLMR\n",
      "SPIFRMPSWLETGLSEMRLEKDKFSVNLDVKHFSPEELKVKVLGDMVEIH\n",
      "GKHEERQDEHGFIAREFNRKYRIPADVDPLTITSSLSLDGVLTVSAPRKQ\n",
      "SDVPERSIPITREEKPAIAGAQRK\n",
      ">crab_bovin ALPHA CRYSTALLIN B CHAIN (ALPHA(B)-CRYSTALLIN).             \n",
      "MDIAIHHPWIRRPFFPFHSPSRLFDQFFGEHLLESDLFPASTSLSPFYLR\n",
      "PPSFLRAPSWIDTGLSEMRLEKDRFSVNLDVKHFSPEELKVKVLGDVIEV\n",
      "HGKHEERQDEHGFISREFHRKYRIPADVDPLAITSSLSSDGVLTVNGPRK\n",
      "QASGPERTIPITREEKPAVTAAPKK\n"
     ]
    }
   ],
   "source": [
    "!head file.fasta"
   ]
  },
  {
   "cell_type": "code",
   "execution_count": 47,
   "id": "cfd7142a-2c7f-487d-845d-c0aaf44ec8e0",
   "metadata": {},
   "outputs": [
    {
     "name": "stdout",
     "output_type": "stream",
     "text": [
      ">crab_anapl ALPHA CRYSTALLIN B CHAIN (ALPHA(B)-CRYSTALLIN). MDITIHNPLIRRPLFSWLAPSRIFDQIFGEHLQESELLPASPSLSPFLMRSPIFRMPSWLETGLSEMRLEKDKFSVNLDVKHFSPEELKVKVLGDMVEIHGKHEERQDEHGFIAREFNRKYRIPADVDPLTITSSLSLDGVLTVSAPRKQSDVPERSIPITREEKPAIAGAQRK\n",
      ">crab_bovin ALPHA CRYSTALLIN B CHAIN (ALPHA(B)-CRYSTALLIN). MDIAIHHPWIRRPFFPFHSPSRLFDQFFGEHLLESDLFPASTSLSPFYLRPPSFLRAPSWIDTGLSEMRLEKDRFSVNLDVKHFSPEELKVKVLGDVIEVHGKHEERQDEHGFISREFHRKYRIPADVDPLAITSSLSSDGVLTVNGPRKQASGPERTIPITREEKPAVTAAPKK\n",
      ">crab_chick ALPHA CRYSTALLIN B CHAIN (ALPHA(B)-CRYSTALLIN). MDITIHNPLVRRPLFSWLTPSRIFDQIFGEHLQESELLPTSPSLSPFLMRSPFFRMPSWLETGLSEMRLEKDKFSVNLDVKHFSPEELKVKVLGDMIEIHGKHEERQDEHGFIAREFSRKYRIPADVDPLTITSSLSLDGVLTVSAPRKQSDVPERSIPITREEKPAIAGSQRK\n",
      ">crab_human ALPHA CRYSTALLIN B CHAIN (ALPHA(B)-CRYSTALLIN). MDIAIHHPWIRRPFFPFHSPSRLFDQFFGEHLLESDLFPTSTSLSPFYLRPPSFLRAPSWFDTGLSEMRLEKDRFSVNLDVKHFSPEELKVKVLGDVIEVHGKHEERQDEHGFISREFHRKYRIPADVDPLTITSSLSSDGVLTVNGPRKQVSGPERTIPITREEKPAVTAAPKK\n",
      ">crab_mesau ALPHA CRYSTALLIN B CHAIN (ALPHA(B)-CRYSTALLIN). MDIAIHHPWIRRPFFPFHSPSRLFDQFFGEHLLESDLFSTATSLSPFYLRPPSFLRAPSWIDTGLSEMRMEKDRFSVNLDVKHFSPEELKVKVLGDVVEVHGKHEERQDEHGFISREFHRKYRIPADVDPLTITSSLSSDGVLTVNGPRKQASGPERTIPITREEKPAVTAAPKK\n",
      ">crab_mouse ALPHA CRYSTALLIN B CHAIN (ALPHA(B)-CRYSTALLIN) (P23). MDIAIHHPWIRRPFFPFHSPSRLFDQFFGEHLLESDLFSTATSLSPFYLRPPSFLRAPSWIDTGLSEMRLEKDRFSVNLDVKHFSPEELKVKVLGDVIEVHGKHEERQDEHGFISREFHRKYRIPADVDPLAITSSLSSDGVLTVNGPRKQVSGPERTIPITREEKPAVAAAPKK\n",
      ">crab_rabit ALPHA CRYSTALLIN B CHAIN (ALPHA(B)-CRYSTALLIN). MDIAIHHPWIRRPFFPFHSPSRLFDQFFGEHLLESDLFPTSTSLSPFYLRPPSFLRAPSWIDTGLSEMRLEKDRFSVNLDVKHFSPEELKVKVLGDVIEVHGKHEERQDEHGFISREFHRKYRIPADVDPLTITSSLSSDGVLTVNGPRKQAPGPERTIPITREEKPAVTAAPKK\n",
      ">crab_rat ALPHA CRYSTALLIN B CHAIN (ALPHA(B)-CRYSTALLIN). MDIAIHHPWIRRPFFPFHSPSRLFDQFFGEHLLESDLFSTATSLSPFYLRPPSFLRAPSWIDTGLSEMRMEKDRFSVNLDVKHFSPEELKVKVLGDVIEVHGKHEERQDEHGFISREFHRKYRIPADVDPLTITSSLSSDGVLTVNGPRKQASGPERTIPITREEKPAVTAAPKK\n",
      ">crab_squac ALPHA CRYSTALLIN B CHAIN (ALPHA(B)-CRYSTALLIN). MDIAIQHPWLRRPLFPSSIFPSRIFDQNFGEHFDPDLFPSFSSMLSPFYWRMGAPMARMPSWAQTGLSELRLDKDKFAIHLDVKHFTPEELRVKILGDFIEVQAQHEERQDEHGYVSREFHRKYKVPAGVDPLVITCSLSADGVLTITGPRKVADVPERSVPISRDEKPAVAGPQQK\n"
     ]
    }
   ],
   "source": [
    "# implementation using generator and functions\n",
    "\n",
    "def read_fasta_0(fp):\n",
    "    name, seq = None, []\n",
    "    for line in fp:\n",
    "        line = line.rstrip()\n",
    "        if line.startswith(\">\"):\n",
    "            if name: yield (name, ''.join(seq))\n",
    "            name, seq = line, []\n",
    "        else:\n",
    "            seq.append(line)\n",
    "    if name: yield (name, ''.join(seq))\n",
    "        \n",
    "\n",
    "with open(fasta_file) as fp:\n",
    "    for name, seq in read_fasta_0(fp):\n",
    "        print(name, seq)"
   ]
  },
  {
   "cell_type": "code",
   "execution_count": 48,
   "id": "e1ffbe63-01ba-4abe-b0b0-707dd5ca22f2",
   "metadata": {},
   "outputs": [
    {
     "data": {
      "text/plain": [
       "{'>crab_squac ALPHA CRYSTALLIN B CHAIN (ALPHA(B)-CRYSTALLIN).': 'MDIAIQHPWLRRPLFPSSIFPSRIFDQNFGEHFDPDLFPSFSSMLSPFYWRMGAPMARMPSWAQTGLSELRLDKDKFAIHLDVKHFTPEELRVKILGDFIEVQAQHEERQDEHGYVSREFHRKYKVPAGVDPLVITCSLSADGVLTITGPRKVADVPERSVPISRDEKPAVAGPQQK'}"
      ]
     },
     "execution_count": 48,
     "metadata": {},
     "output_type": "execute_result"
    }
   ],
   "source": [
    "{name: seq}"
   ]
  },
  {
   "cell_type": "code",
   "execution_count": 49,
   "id": "0d6709ed-acd3-437d-a6ef-11295a5dcf30",
   "metadata": {},
   "outputs": [
    {
     "data": {
      "text/plain": [
       "'>crab_squac ALPHA CRYSTALLIN B CHAIN (ALPHA(B)-CRYSTALLIN).'"
      ]
     },
     "execution_count": 49,
     "metadata": {},
     "output_type": "execute_result"
    }
   ],
   "source": [
    "name"
   ]
  },
  {
   "cell_type": "code",
   "execution_count": 50,
   "id": "4bdd3f5e-f21b-4546-90ad-c8abb61ef741",
   "metadata": {},
   "outputs": [
    {
     "data": {
      "text/plain": [
       "'MDIAIQHPWLRRPLFPSSIFPSRIFDQNFGEHFDPDLFPSFSSMLSPFYWRMGAPMARMPSWAQTGLSELRLDKDKFAIHLDVKHFTPEELRVKILGDFIEVQAQHEERQDEHGYVSREFHRKYKVPAGVDPLVITCSLSADGVLTITGPRKVADVPERSVPISRDEKPAVAGPQQK'"
      ]
     },
     "execution_count": 50,
     "metadata": {},
     "output_type": "execute_result"
    }
   ],
   "source": [
    "seq"
   ]
  },
  {
   "cell_type": "code",
   "execution_count": 55,
   "id": "3bc0c717-9ab7-4a3f-8f2d-c7233557d872",
   "metadata": {},
   "outputs": [],
   "source": [
    "# implementation using generator and functions\n",
    "\n",
    "def read_fasta(fp):\n",
    "    name, seq = None, []\n",
    "    for line in fp:\n",
    "        line = line.rstrip()\n",
    "        if line.startswith(\">\"):\n",
    "            if name: yield (name, ''.join(seq))\n",
    "            name, seq = line, []\n",
    "        else:\n",
    "            seq.append(line)\n",
    "    if name: yield (name, ''.join(seq))"
   ]
  },
  {
   "cell_type": "code",
   "execution_count": 56,
   "id": "ea246999-02ab-4af9-8b47-e055223fc0a6",
   "metadata": {
    "scrolled": true
   },
   "outputs": [],
   "source": [
    "# class based implementation\n",
    "\n",
    "class FastaFile:\n",
    "    def __init__(self, path):\n",
    "        self.path = path\n",
    "        self.name = name\n",
    "        self.seq = seq\n",
    "\n",
    "    def read_fasta(path):\n",
    "        fasta_dictionary = {'ID': [],\n",
    "                           'SEQ': []}\n",
    "        '''\n",
    "        We will create a dictionary structure\n",
    "        and store the keys as id,\n",
    "        and seq as values\n",
    "        '''\n",
    "        \n",
    "        with open(fasta_file) as fp:\n",
    "            for name, seq in read_fasta(fp):\n",
    "                fasta_dictionary['ID'].append(name)\n",
    "                fasta_dictionary['SEQ'].append(seq)\n",
    "        \n",
    "        fp.close() # don't forget to close the opened files\n",
    "        \n",
    "        return fasta_dictionary\n",
    "        \n"
   ]
  },
  {
   "cell_type": "code",
   "execution_count": 57,
   "id": "2de265ae-aba8-422f-bbaa-c59e715b92d4",
   "metadata": {},
   "outputs": [
    {
     "data": {
      "text/plain": [
       "<__main__.FastaFile at 0x7f4665a51390>"
      ]
     },
     "execution_count": 57,
     "metadata": {},
     "output_type": "execute_result"
    }
   ],
   "source": [
    "FastaFile(fasta_file) #this won't work, because first we have to describe the method"
   ]
  },
  {
   "cell_type": "code",
   "execution_count": 59,
   "id": "1ae746a6-f23a-4330-8657-7ad3dcc80ad0",
   "metadata": {},
   "outputs": [
    {
     "data": {
      "text/plain": [
       "{'ID': ['>crab_anapl ALPHA CRYSTALLIN B CHAIN (ALPHA(B)-CRYSTALLIN).',\n",
       "  '>crab_bovin ALPHA CRYSTALLIN B CHAIN (ALPHA(B)-CRYSTALLIN).',\n",
       "  '>crab_chick ALPHA CRYSTALLIN B CHAIN (ALPHA(B)-CRYSTALLIN).',\n",
       "  '>crab_human ALPHA CRYSTALLIN B CHAIN (ALPHA(B)-CRYSTALLIN).',\n",
       "  '>crab_mesau ALPHA CRYSTALLIN B CHAIN (ALPHA(B)-CRYSTALLIN).',\n",
       "  '>crab_mouse ALPHA CRYSTALLIN B CHAIN (ALPHA(B)-CRYSTALLIN) (P23).',\n",
       "  '>crab_rabit ALPHA CRYSTALLIN B CHAIN (ALPHA(B)-CRYSTALLIN).',\n",
       "  '>crab_rat ALPHA CRYSTALLIN B CHAIN (ALPHA(B)-CRYSTALLIN).',\n",
       "  '>crab_squac ALPHA CRYSTALLIN B CHAIN (ALPHA(B)-CRYSTALLIN).'],\n",
       " 'SEQ': ['MDITIHNPLIRRPLFSWLAPSRIFDQIFGEHLQESELLPASPSLSPFLMRSPIFRMPSWLETGLSEMRLEKDKFSVNLDVKHFSPEELKVKVLGDMVEIHGKHEERQDEHGFIAREFNRKYRIPADVDPLTITSSLSLDGVLTVSAPRKQSDVPERSIPITREEKPAIAGAQRK',\n",
       "  'MDIAIHHPWIRRPFFPFHSPSRLFDQFFGEHLLESDLFPASTSLSPFYLRPPSFLRAPSWIDTGLSEMRLEKDRFSVNLDVKHFSPEELKVKVLGDVIEVHGKHEERQDEHGFISREFHRKYRIPADVDPLAITSSLSSDGVLTVNGPRKQASGPERTIPITREEKPAVTAAPKK',\n",
       "  'MDITIHNPLVRRPLFSWLTPSRIFDQIFGEHLQESELLPTSPSLSPFLMRSPFFRMPSWLETGLSEMRLEKDKFSVNLDVKHFSPEELKVKVLGDMIEIHGKHEERQDEHGFIAREFSRKYRIPADVDPLTITSSLSLDGVLTVSAPRKQSDVPERSIPITREEKPAIAGSQRK',\n",
       "  'MDIAIHHPWIRRPFFPFHSPSRLFDQFFGEHLLESDLFPTSTSLSPFYLRPPSFLRAPSWFDTGLSEMRLEKDRFSVNLDVKHFSPEELKVKVLGDVIEVHGKHEERQDEHGFISREFHRKYRIPADVDPLTITSSLSSDGVLTVNGPRKQVSGPERTIPITREEKPAVTAAPKK',\n",
       "  'MDIAIHHPWIRRPFFPFHSPSRLFDQFFGEHLLESDLFSTATSLSPFYLRPPSFLRAPSWIDTGLSEMRMEKDRFSVNLDVKHFSPEELKVKVLGDVVEVHGKHEERQDEHGFISREFHRKYRIPADVDPLTITSSLSSDGVLTVNGPRKQASGPERTIPITREEKPAVTAAPKK',\n",
       "  'MDIAIHHPWIRRPFFPFHSPSRLFDQFFGEHLLESDLFSTATSLSPFYLRPPSFLRAPSWIDTGLSEMRLEKDRFSVNLDVKHFSPEELKVKVLGDVIEVHGKHEERQDEHGFISREFHRKYRIPADVDPLAITSSLSSDGVLTVNGPRKQVSGPERTIPITREEKPAVAAAPKK',\n",
       "  'MDIAIHHPWIRRPFFPFHSPSRLFDQFFGEHLLESDLFPTSTSLSPFYLRPPSFLRAPSWIDTGLSEMRLEKDRFSVNLDVKHFSPEELKVKVLGDVIEVHGKHEERQDEHGFISREFHRKYRIPADVDPLTITSSLSSDGVLTVNGPRKQAPGPERTIPITREEKPAVTAAPKK',\n",
       "  'MDIAIHHPWIRRPFFPFHSPSRLFDQFFGEHLLESDLFSTATSLSPFYLRPPSFLRAPSWIDTGLSEMRMEKDRFSVNLDVKHFSPEELKVKVLGDVIEVHGKHEERQDEHGFISREFHRKYRIPADVDPLTITSSLSSDGVLTVNGPRKQASGPERTIPITREEKPAVTAAPKK',\n",
       "  'MDIAIQHPWLRRPLFPSSIFPSRIFDQNFGEHFDPDLFPSFSSMLSPFYWRMGAPMARMPSWAQTGLSELRLDKDKFAIHLDVKHFTPEELRVKILGDFIEVQAQHEERQDEHGYVSREFHRKYKVPAGVDPLVITCSLSADGVLTITGPRKVADVPERSVPISRDEKPAVAGPQQK']}"
      ]
     },
     "execution_count": 59,
     "metadata": {},
     "output_type": "execute_result"
    }
   ],
   "source": [
    "fp_dict = FastaFile.read_fasta('file.fasta')\n",
    "fp_dict"
   ]
  },
  {
   "cell_type": "code",
   "execution_count": 64,
   "id": "37f6462f-1605-425e-9bf8-8b8fb40efa88",
   "metadata": {},
   "outputs": [
    {
     "data": {
      "text/plain": [
       "['__class__',\n",
       " '__class_getitem__',\n",
       " '__contains__',\n",
       " '__delattr__',\n",
       " '__delitem__',\n",
       " '__dir__',\n",
       " '__doc__',\n",
       " '__eq__',\n",
       " '__format__',\n",
       " '__ge__',\n",
       " '__getattribute__',\n",
       " '__getitem__',\n",
       " '__getstate__',\n",
       " '__gt__',\n",
       " '__hash__',\n",
       " '__init__',\n",
       " '__init_subclass__',\n",
       " '__ior__',\n",
       " '__iter__',\n",
       " '__le__',\n",
       " '__len__',\n",
       " '__lt__',\n",
       " '__ne__',\n",
       " '__new__',\n",
       " '__or__',\n",
       " '__reduce__',\n",
       " '__reduce_ex__',\n",
       " '__repr__',\n",
       " '__reversed__',\n",
       " '__ror__',\n",
       " '__setattr__',\n",
       " '__setitem__',\n",
       " '__sizeof__',\n",
       " '__str__',\n",
       " '__subclasshook__',\n",
       " 'clear',\n",
       " 'copy',\n",
       " 'fromkeys',\n",
       " 'get',\n",
       " 'items',\n",
       " 'keys',\n",
       " 'pop',\n",
       " 'popitem',\n",
       " 'setdefault',\n",
       " 'update',\n",
       " 'values']"
      ]
     },
     "execution_count": 64,
     "metadata": {},
     "output_type": "execute_result"
    }
   ],
   "source": [
    "dir(fp_dict)"
   ]
  },
  {
   "cell_type": "code",
   "execution_count": 67,
   "id": "14127450-e42a-40de-88ca-5d56d7e6537c",
   "metadata": {},
   "outputs": [
    {
     "data": {
      "text/plain": [
       "dict_values([['>crab_anapl ALPHA CRYSTALLIN B CHAIN (ALPHA(B)-CRYSTALLIN).', '>crab_bovin ALPHA CRYSTALLIN B CHAIN (ALPHA(B)-CRYSTALLIN).', '>crab_chick ALPHA CRYSTALLIN B CHAIN (ALPHA(B)-CRYSTALLIN).', '>crab_human ALPHA CRYSTALLIN B CHAIN (ALPHA(B)-CRYSTALLIN).', '>crab_mesau ALPHA CRYSTALLIN B CHAIN (ALPHA(B)-CRYSTALLIN).', '>crab_mouse ALPHA CRYSTALLIN B CHAIN (ALPHA(B)-CRYSTALLIN) (P23).', '>crab_rabit ALPHA CRYSTALLIN B CHAIN (ALPHA(B)-CRYSTALLIN).', '>crab_rat ALPHA CRYSTALLIN B CHAIN (ALPHA(B)-CRYSTALLIN).', '>crab_squac ALPHA CRYSTALLIN B CHAIN (ALPHA(B)-CRYSTALLIN).'], ['MDITIHNPLIRRPLFSWLAPSRIFDQIFGEHLQESELLPASPSLSPFLMRSPIFRMPSWLETGLSEMRLEKDKFSVNLDVKHFSPEELKVKVLGDMVEIHGKHEERQDEHGFIAREFNRKYRIPADVDPLTITSSLSLDGVLTVSAPRKQSDVPERSIPITREEKPAIAGAQRK', 'MDIAIHHPWIRRPFFPFHSPSRLFDQFFGEHLLESDLFPASTSLSPFYLRPPSFLRAPSWIDTGLSEMRLEKDRFSVNLDVKHFSPEELKVKVLGDVIEVHGKHEERQDEHGFISREFHRKYRIPADVDPLAITSSLSSDGVLTVNGPRKQASGPERTIPITREEKPAVTAAPKK', 'MDITIHNPLVRRPLFSWLTPSRIFDQIFGEHLQESELLPTSPSLSPFLMRSPFFRMPSWLETGLSEMRLEKDKFSVNLDVKHFSPEELKVKVLGDMIEIHGKHEERQDEHGFIAREFSRKYRIPADVDPLTITSSLSLDGVLTVSAPRKQSDVPERSIPITREEKPAIAGSQRK', 'MDIAIHHPWIRRPFFPFHSPSRLFDQFFGEHLLESDLFPTSTSLSPFYLRPPSFLRAPSWFDTGLSEMRLEKDRFSVNLDVKHFSPEELKVKVLGDVIEVHGKHEERQDEHGFISREFHRKYRIPADVDPLTITSSLSSDGVLTVNGPRKQVSGPERTIPITREEKPAVTAAPKK', 'MDIAIHHPWIRRPFFPFHSPSRLFDQFFGEHLLESDLFSTATSLSPFYLRPPSFLRAPSWIDTGLSEMRMEKDRFSVNLDVKHFSPEELKVKVLGDVVEVHGKHEERQDEHGFISREFHRKYRIPADVDPLTITSSLSSDGVLTVNGPRKQASGPERTIPITREEKPAVTAAPKK', 'MDIAIHHPWIRRPFFPFHSPSRLFDQFFGEHLLESDLFSTATSLSPFYLRPPSFLRAPSWIDTGLSEMRLEKDRFSVNLDVKHFSPEELKVKVLGDVIEVHGKHEERQDEHGFISREFHRKYRIPADVDPLAITSSLSSDGVLTVNGPRKQVSGPERTIPITREEKPAVAAAPKK', 'MDIAIHHPWIRRPFFPFHSPSRLFDQFFGEHLLESDLFPTSTSLSPFYLRPPSFLRAPSWIDTGLSEMRLEKDRFSVNLDVKHFSPEELKVKVLGDVIEVHGKHEERQDEHGFISREFHRKYRIPADVDPLTITSSLSSDGVLTVNGPRKQAPGPERTIPITREEKPAVTAAPKK', 'MDIAIHHPWIRRPFFPFHSPSRLFDQFFGEHLLESDLFSTATSLSPFYLRPPSFLRAPSWIDTGLSEMRMEKDRFSVNLDVKHFSPEELKVKVLGDVIEVHGKHEERQDEHGFISREFHRKYRIPADVDPLTITSSLSSDGVLTVNGPRKQASGPERTIPITREEKPAVTAAPKK', 'MDIAIQHPWLRRPLFPSSIFPSRIFDQNFGEHFDPDLFPSFSSMLSPFYWRMGAPMARMPSWAQTGLSELRLDKDKFAIHLDVKHFTPEELRVKILGDFIEVQAQHEERQDEHGYVSREFHRKYKVPAGVDPLVITCSLSADGVLTITGPRKVADVPERSVPISRDEKPAVAGPQQK']])"
      ]
     },
     "execution_count": 67,
     "metadata": {},
     "output_type": "execute_result"
    }
   ],
   "source": [
    "fp_dict.values()"
   ]
  },
  {
   "cell_type": "raw",
   "id": "19b81188-4f28-43d0-9408-fbb59d5ad31a",
   "metadata": {},
   "source": [
    "# if we implement this as a file we can also directly\n",
    "# import FastaFile #this will import the class with all the methods\n",
    "# we will learn about this in the next class when we talk about code organisation"
   ]
  },
  {
   "cell_type": "code",
   "execution_count": 69,
   "id": "a9782a17-827c-4fbe-aa64-181a98ebf597",
   "metadata": {},
   "outputs": [
    {
     "data": {
      "text/plain": [
       "dict"
      ]
     },
     "execution_count": 69,
     "metadata": {},
     "output_type": "execute_result"
    }
   ],
   "source": [
    "ff = FastaFile.read_fasta('file.fasta')\n",
    "type(ff)"
   ]
  },
  {
   "cell_type": "code",
   "execution_count": 70,
   "id": "85fa1c42-3fdd-47d7-a06b-f40c938c807b",
   "metadata": {},
   "outputs": [],
   "source": [
    "import pandas as pd"
   ]
  },
  {
   "cell_type": "code",
   "execution_count": 72,
   "id": "b181d0cb-2ae5-43b4-814c-23caa108cc07",
   "metadata": {},
   "outputs": [
    {
     "data": {
      "text/plain": [
       "0    >crab_anapl ALPHA CRYSTALLIN B CHAIN (ALPHA(B)...\n",
       "1    >crab_bovin ALPHA CRYSTALLIN B CHAIN (ALPHA(B)...\n",
       "2    >crab_chick ALPHA CRYSTALLIN B CHAIN (ALPHA(B)...\n",
       "3    >crab_human ALPHA CRYSTALLIN B CHAIN (ALPHA(B)...\n",
       "4    >crab_mesau ALPHA CRYSTALLIN B CHAIN (ALPHA(B)...\n",
       "5    >crab_mouse ALPHA CRYSTALLIN B CHAIN (ALPHA(B)...\n",
       "6    >crab_rabit ALPHA CRYSTALLIN B CHAIN (ALPHA(B)...\n",
       "7    >crab_rat ALPHA CRYSTALLIN B CHAIN (ALPHA(B)-C...\n",
       "8    >crab_squac ALPHA CRYSTALLIN B CHAIN (ALPHA(B)...\n",
       "Name: ID, dtype: object"
      ]
     },
     "execution_count": 72,
     "metadata": {},
     "output_type": "execute_result"
    }
   ],
   "source": [
    "df = pd.DataFrame(ff)\n",
    "df['ID']"
   ]
  },
  {
   "cell_type": "markdown",
   "id": "95a83d7d-fe36-4c94-b769-303e57bb2963",
   "metadata": {},
   "source": [
    "I wrote a class to parse a fasta file, other programmers have too. Sometimes we have solutions, sometimes we are trying to find one. I could have just used a code."
   ]
  },
  {
   "cell_type": "raw",
   "id": "7719ec85-1d42-4609-b2fa-e6f5074ca751",
   "metadata": {},
   "source": [
    "!pip install fastaframes"
   ]
  },
  {
   "cell_type": "raw",
   "id": "513c0bd1-f821-4b09-9ae5-ecb7e09abf27",
   "metadata": {},
   "source": [
    "from fastaframes import to_df\n",
    "\n",
    "fasta_df = to_df(data='file.fasta')\n",
    "fasta_df\n",
    "\n",
    "#OUTPUT\n",
    "'''\n",
    "ValueError: The provided header: crab_anapl does not match the expected format of: >db|UniqueIdentifier|EntryName\n",
    "'''"
   ]
  },
  {
   "cell_type": "raw",
   "id": "5b703179-f5d9-43ab-b72f-61a468484c7f",
   "metadata": {},
   "source": [
    "Sometimes there are problems within the packages, if we can't wait for updates. We do 'monkey-patching', just take part of the broken code and fix that line in the module. We wait until and update of the library comes, or suggest it on the official repos as push-pull request. Or we tell the developer what is happening, by sending a error log generated after executing the code, along with system info.\n",
    "\n",
    "Now you know what you should do, when your code is broken."
   ]
  },
  {
   "cell_type": "markdown",
   "id": "c1f6621d-4290-4c39-8110-5cf2182b3eb2",
   "metadata": {},
   "source": [
    "## bonus material - each sequence and id as an object!\n",
    "### we don't really need to understand it every detail, but it is still fun\n"
   ]
  },
  {
   "cell_type": "markdown",
   "id": "3f58fb3b-1579-4b1a-9d43-2ee597fa7cb5",
   "metadata": {},
   "source": [
    "The dataclass library in python is a blessing. It also helps you to do typing of the variables, so you don't mix and match datatypes, because we need systems level abstraction, and sometimes we can get lost in the deatils of what variable types we used earlier."
   ]
  },
  {
   "cell_type": "markdown",
   "id": "42101990-98c1-417b-8890-bb9f6962b64c",
   "metadata": {},
   "source": [
    "https://docs.python.org/3/library/dataclasses.html\n"
   ]
  },
  {
   "cell_type": "code",
   "execution_count": 73,
   "id": "a6fa75cb-9f7b-4868-9b89-cd6a0143bd62",
   "metadata": {},
   "outputs": [],
   "source": [
    "from dataclasses import dataclass\n",
    "import typing\n",
    "\n",
    "@dataclass\n",
    "class FastaObject():\n",
    "    def __init__ (name, seq):\n",
    "        name: str\n",
    "        seq: str\n",
    "\n",
    "    # this function is exactly the same as read_fasta\n",
    "\n",
    "    def parse_fasta(path) -> str: # ensure that it is str\n",
    "\n",
    "        '''\n",
    "            We don't even have to declare a dictionary\n",
    "            we can create a class of data itself!\n",
    "        '''\n",
    "            \n",
    "        with open(fasta_file) as fp:\n",
    "            temp_name= []\n",
    "            temp_seq = []\n",
    "            for name, seq in read_fasta(fp):\n",
    "                temp_name.append(name)\n",
    "                temp_seq.append(seq)\n",
    "        fp.close()\n",
    "        \n",
    "        return dict(zip(temp_name, temp_seq))\n",
    "\n",
    "    def get_names(name):\n",
    "        '''\n",
    "        Here we will just return the values of ids (str variable) obtained\n",
    "        after reading the fasta file\n",
    "        '''\n",
    "        return name.keys()\n",
    "\n",
    "    def get_ids(seq):\n",
    "        '''\n",
    "        Here we will just return the values of seq (str variable) obtained\n",
    "        after reading the fasta file\n",
    "        '''\n",
    "        return seq.values()\n",
    "\n",
    "# this is the main class, this can also be exploited for testing and debugging\n",
    "\n",
    "def __init__(self, name: str, id:str):\n",
    "    self.name = name\n",
    "    self.id = id\n",
    "    "
   ]
  },
  {
   "cell_type": "code",
   "execution_count": 74,
   "id": "b1eeb30b-25d8-47eb-8b13-559d72d0b34d",
   "metadata": {},
   "outputs": [
    {
     "data": {
      "text/plain": [
       "{'>crab_anapl ALPHA CRYSTALLIN B CHAIN (ALPHA(B)-CRYSTALLIN).': 'MDITIHNPLIRRPLFSWLAPSRIFDQIFGEHLQESELLPASPSLSPFLMRSPIFRMPSWLETGLSEMRLEKDKFSVNLDVKHFSPEELKVKVLGDMVEIHGKHEERQDEHGFIAREFNRKYRIPADVDPLTITSSLSLDGVLTVSAPRKQSDVPERSIPITREEKPAIAGAQRK',\n",
       " '>crab_bovin ALPHA CRYSTALLIN B CHAIN (ALPHA(B)-CRYSTALLIN).': 'MDIAIHHPWIRRPFFPFHSPSRLFDQFFGEHLLESDLFPASTSLSPFYLRPPSFLRAPSWIDTGLSEMRLEKDRFSVNLDVKHFSPEELKVKVLGDVIEVHGKHEERQDEHGFISREFHRKYRIPADVDPLAITSSLSSDGVLTVNGPRKQASGPERTIPITREEKPAVTAAPKK',\n",
       " '>crab_chick ALPHA CRYSTALLIN B CHAIN (ALPHA(B)-CRYSTALLIN).': 'MDITIHNPLVRRPLFSWLTPSRIFDQIFGEHLQESELLPTSPSLSPFLMRSPFFRMPSWLETGLSEMRLEKDKFSVNLDVKHFSPEELKVKVLGDMIEIHGKHEERQDEHGFIAREFSRKYRIPADVDPLTITSSLSLDGVLTVSAPRKQSDVPERSIPITREEKPAIAGSQRK',\n",
       " '>crab_human ALPHA CRYSTALLIN B CHAIN (ALPHA(B)-CRYSTALLIN).': 'MDIAIHHPWIRRPFFPFHSPSRLFDQFFGEHLLESDLFPTSTSLSPFYLRPPSFLRAPSWFDTGLSEMRLEKDRFSVNLDVKHFSPEELKVKVLGDVIEVHGKHEERQDEHGFISREFHRKYRIPADVDPLTITSSLSSDGVLTVNGPRKQVSGPERTIPITREEKPAVTAAPKK',\n",
       " '>crab_mesau ALPHA CRYSTALLIN B CHAIN (ALPHA(B)-CRYSTALLIN).': 'MDIAIHHPWIRRPFFPFHSPSRLFDQFFGEHLLESDLFSTATSLSPFYLRPPSFLRAPSWIDTGLSEMRMEKDRFSVNLDVKHFSPEELKVKVLGDVVEVHGKHEERQDEHGFISREFHRKYRIPADVDPLTITSSLSSDGVLTVNGPRKQASGPERTIPITREEKPAVTAAPKK',\n",
       " '>crab_mouse ALPHA CRYSTALLIN B CHAIN (ALPHA(B)-CRYSTALLIN) (P23).': 'MDIAIHHPWIRRPFFPFHSPSRLFDQFFGEHLLESDLFSTATSLSPFYLRPPSFLRAPSWIDTGLSEMRLEKDRFSVNLDVKHFSPEELKVKVLGDVIEVHGKHEERQDEHGFISREFHRKYRIPADVDPLAITSSLSSDGVLTVNGPRKQVSGPERTIPITREEKPAVAAAPKK',\n",
       " '>crab_rabit ALPHA CRYSTALLIN B CHAIN (ALPHA(B)-CRYSTALLIN).': 'MDIAIHHPWIRRPFFPFHSPSRLFDQFFGEHLLESDLFPTSTSLSPFYLRPPSFLRAPSWIDTGLSEMRLEKDRFSVNLDVKHFSPEELKVKVLGDVIEVHGKHEERQDEHGFISREFHRKYRIPADVDPLTITSSLSSDGVLTVNGPRKQAPGPERTIPITREEKPAVTAAPKK',\n",
       " '>crab_rat ALPHA CRYSTALLIN B CHAIN (ALPHA(B)-CRYSTALLIN).': 'MDIAIHHPWIRRPFFPFHSPSRLFDQFFGEHLLESDLFSTATSLSPFYLRPPSFLRAPSWIDTGLSEMRMEKDRFSVNLDVKHFSPEELKVKVLGDVIEVHGKHEERQDEHGFISREFHRKYRIPADVDPLTITSSLSSDGVLTVNGPRKQASGPERTIPITREEKPAVTAAPKK',\n",
       " '>crab_squac ALPHA CRYSTALLIN B CHAIN (ALPHA(B)-CRYSTALLIN).': 'MDIAIQHPWLRRPLFPSSIFPSRIFDQNFGEHFDPDLFPSFSSMLSPFYWRMGAPMARMPSWAQTGLSELRLDKDKFAIHLDVKHFTPEELRVKILGDFIEVQAQHEERQDEHGYVSREFHRKYKVPAGVDPLVITCSLSADGVLTITGPRKVADVPERSVPISRDEKPAVAGPQQK'}"
      ]
     },
     "execution_count": 74,
     "metadata": {},
     "output_type": "execute_result"
    }
   ],
   "source": [
    "adf = FastaObject.parse_fasta('file.fasta')\n",
    "adf"
   ]
  },
  {
   "cell_type": "code",
   "execution_count": 75,
   "id": "bd75a93d-5d13-4921-be5a-ae69ed12cb28",
   "metadata": {},
   "outputs": [
    {
     "data": {
      "text/plain": [
       "dict"
      ]
     },
     "execution_count": 75,
     "metadata": {},
     "output_type": "execute_result"
    }
   ],
   "source": [
    "type(adf)"
   ]
  },
  {
   "cell_type": "code",
   "execution_count": 76,
   "id": "db61be19-cd58-49ec-aeef-162e19985074",
   "metadata": {},
   "outputs": [
    {
     "data": {
      "text/plain": [
       "dict_keys(['>crab_anapl ALPHA CRYSTALLIN B CHAIN (ALPHA(B)-CRYSTALLIN).', '>crab_bovin ALPHA CRYSTALLIN B CHAIN (ALPHA(B)-CRYSTALLIN).', '>crab_chick ALPHA CRYSTALLIN B CHAIN (ALPHA(B)-CRYSTALLIN).', '>crab_human ALPHA CRYSTALLIN B CHAIN (ALPHA(B)-CRYSTALLIN).', '>crab_mesau ALPHA CRYSTALLIN B CHAIN (ALPHA(B)-CRYSTALLIN).', '>crab_mouse ALPHA CRYSTALLIN B CHAIN (ALPHA(B)-CRYSTALLIN) (P23).', '>crab_rabit ALPHA CRYSTALLIN B CHAIN (ALPHA(B)-CRYSTALLIN).', '>crab_rat ALPHA CRYSTALLIN B CHAIN (ALPHA(B)-CRYSTALLIN).', '>crab_squac ALPHA CRYSTALLIN B CHAIN (ALPHA(B)-CRYSTALLIN).'])"
      ]
     },
     "execution_count": 76,
     "metadata": {},
     "output_type": "execute_result"
    }
   ],
   "source": [
    "adf.keys()"
   ]
  },
  {
   "cell_type": "code",
   "execution_count": 77,
   "id": "2ae8db2d-1dc1-4821-a255-9789edbf8ceb",
   "metadata": {},
   "outputs": [
    {
     "data": {
      "text/plain": [
       "dict_keys(['>crab_anapl ALPHA CRYSTALLIN B CHAIN (ALPHA(B)-CRYSTALLIN).', '>crab_bovin ALPHA CRYSTALLIN B CHAIN (ALPHA(B)-CRYSTALLIN).', '>crab_chick ALPHA CRYSTALLIN B CHAIN (ALPHA(B)-CRYSTALLIN).', '>crab_human ALPHA CRYSTALLIN B CHAIN (ALPHA(B)-CRYSTALLIN).', '>crab_mesau ALPHA CRYSTALLIN B CHAIN (ALPHA(B)-CRYSTALLIN).', '>crab_mouse ALPHA CRYSTALLIN B CHAIN (ALPHA(B)-CRYSTALLIN) (P23).', '>crab_rabit ALPHA CRYSTALLIN B CHAIN (ALPHA(B)-CRYSTALLIN).', '>crab_rat ALPHA CRYSTALLIN B CHAIN (ALPHA(B)-CRYSTALLIN).', '>crab_squac ALPHA CRYSTALLIN B CHAIN (ALPHA(B)-CRYSTALLIN).'])"
      ]
     },
     "execution_count": 77,
     "metadata": {},
     "output_type": "execute_result"
    }
   ],
   "source": [
    "FastaObject.get_names(adf)"
   ]
  },
  {
   "cell_type": "code",
   "execution_count": 233,
   "id": "b8afa066-3133-4c87-82ce-bf98d2519e52",
   "metadata": {},
   "outputs": [
    {
     "data": {
      "text/plain": [
       "dict_values(['MDITIHNPLIRRPLFSWLAPSRIFDQIFGEHLQESELLPASPSLSPFLMRSPIFRMPSWLETGLSEMRLEKDKFSVNLDVKHFSPEELKVKVLGDMVEIHGKHEERQDEHGFIAREFNRKYRIPADVDPLTITSSLSLDGVLTVSAPRKQSDVPERSIPITREEKPAIAGAQRK', 'MDIAIHHPWIRRPFFPFHSPSRLFDQFFGEHLLESDLFPASTSLSPFYLRPPSFLRAPSWIDTGLSEMRLEKDRFSVNLDVKHFSPEELKVKVLGDVIEVHGKHEERQDEHGFISREFHRKYRIPADVDPLAITSSLSSDGVLTVNGPRKQASGPERTIPITREEKPAVTAAPKK', 'MDITIHNPLVRRPLFSWLTPSRIFDQIFGEHLQESELLPTSPSLSPFLMRSPFFRMPSWLETGLSEMRLEKDKFSVNLDVKHFSPEELKVKVLGDMIEIHGKHEERQDEHGFIAREFSRKYRIPADVDPLTITSSLSLDGVLTVSAPRKQSDVPERSIPITREEKPAIAGSQRK', 'MDIAIHHPWIRRPFFPFHSPSRLFDQFFGEHLLESDLFPTSTSLSPFYLRPPSFLRAPSWFDTGLSEMRLEKDRFSVNLDVKHFSPEELKVKVLGDVIEVHGKHEERQDEHGFISREFHRKYRIPADVDPLTITSSLSSDGVLTVNGPRKQVSGPERTIPITREEKPAVTAAPKK', 'MDIAIHHPWIRRPFFPFHSPSRLFDQFFGEHLLESDLFSTATSLSPFYLRPPSFLRAPSWIDTGLSEMRMEKDRFSVNLDVKHFSPEELKVKVLGDVVEVHGKHEERQDEHGFISREFHRKYRIPADVDPLTITSSLSSDGVLTVNGPRKQASGPERTIPITREEKPAVTAAPKK', 'MDIAIHHPWIRRPFFPFHSPSRLFDQFFGEHLLESDLFSTATSLSPFYLRPPSFLRAPSWIDTGLSEMRLEKDRFSVNLDVKHFSPEELKVKVLGDVIEVHGKHEERQDEHGFISREFHRKYRIPADVDPLAITSSLSSDGVLTVNGPRKQVSGPERTIPITREEKPAVAAAPKK', 'MDIAIHHPWIRRPFFPFHSPSRLFDQFFGEHLLESDLFPTSTSLSPFYLRPPSFLRAPSWIDTGLSEMRLEKDRFSVNLDVKHFSPEELKVKVLGDVIEVHGKHEERQDEHGFISREFHRKYRIPADVDPLTITSSLSSDGVLTVNGPRKQAPGPERTIPITREEKPAVTAAPKK', 'MDIAIHHPWIRRPFFPFHSPSRLFDQFFGEHLLESDLFSTATSLSPFYLRPPSFLRAPSWIDTGLSEMRMEKDRFSVNLDVKHFSPEELKVKVLGDVIEVHGKHEERQDEHGFISREFHRKYRIPADVDPLTITSSLSSDGVLTVNGPRKQASGPERTIPITREEKPAVTAAPKK', 'MDIAIQHPWLRRPLFPSSIFPSRIFDQNFGEHFDPDLFPSFSSMLSPFYWRMGAPMARMPSWAQTGLSELRLDKDKFAIHLDVKHFTPEELRVKILGDFIEVQAQHEERQDEHGYVSREFHRKYKVPAGVDPLVITCSLSADGVLTITGPRKVADVPERSVPISRDEKPAVAGPQQK'])"
      ]
     },
     "execution_count": 233,
     "metadata": {},
     "output_type": "execute_result"
    }
   ],
   "source": [
    "FastaObject.get_ids(adf)"
   ]
  },
  {
   "cell_type": "markdown",
   "id": "2dc300bf-03cb-450f-868f-54a4ae715dc7",
   "metadata": {},
   "source": [
    "EON"
   ]
  }
 ],
 "metadata": {
  "kernelspec": {
   "display_name": "Python 3 (ipykernel)",
   "language": "python",
   "name": "python3"
  },
  "language_info": {
   "codemirror_mode": {
    "name": "ipython",
    "version": 3
   },
   "file_extension": ".py",
   "mimetype": "text/x-python",
   "name": "python",
   "nbconvert_exporter": "python",
   "pygments_lexer": "ipython3",
   "version": "3.11.7"
  }
 },
 "nbformat": 4,
 "nbformat_minor": 5
}
