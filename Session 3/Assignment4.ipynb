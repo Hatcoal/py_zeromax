{
 "cells": [
  {
   "cell_type": "code",
   "execution_count": 31,
   "id": "aee8394b-bc07-44cc-b602-1c8c2b70efb4",
   "metadata": {},
   "outputs": [
    {
     "name": "stdout",
     "output_type": "stream",
     "text": [
      "Name: Javis Sex: male level: 200 hobby: chess weight: 20kg\n",
      "Javis is studying at 200\n",
      "Bioinformatics\n",
      "Saint Patricks Valedictorian Prize for Excellence , Young Scientist Travel grant\n"
     ]
    }
   ],
   "source": [
    "class student:\n",
    "    def __init__(self, name, sex, level, hobby, weight):\n",
    "        # data members (instance variables)\n",
    "        self.name = name\n",
    "        self.sex = sex\n",
    "        self.level = level\n",
    "        self.hobby = hobby\n",
    "        self.weight = weight\n",
    "        \n",
    "    # Behavior (instance methods)\n",
    "    def show(self):\n",
    "        print('Name:', self.name, 'Sex:', self.sex, 'level:', self.level, 'hobby:', self.hobby, 'weight:', self.weight)\n",
    "\n",
    "    # Behavior (instance methods)\n",
    "    def status(self):\n",
    "        print(self.name, 'is studying at', self.level)\n",
    "        \n",
    "    def department(self):\n",
    "        print('Bioinformatics')\n",
    "\n",
    "    def awards(self):\n",
    "         print( \"Saint Patricks Valedictorian Prize for Excellence , Young Scientist Travel grant\" )\n",
    "        \n",
    "    \n",
    "        \n",
    "        \n",
    "      # created object of a class\n",
    "Javis = student('Javis', 'male', '200', 'chess', '20kg')\n",
    "\n",
    "# I called methods\n",
    "Javis.show()\n",
    "Javis.status()\n",
    "Javis.department()\n",
    "Javis.awards()"
   ]
  },
  {
   "cell_type": "code",
   "execution_count": null,
   "id": "fbaf160d-89db-4c61-8311-138a3205b5c2",
   "metadata": {},
   "outputs": [],
   "source": []
  },
  {
   "cell_type": "code",
   "execution_count": null,
   "id": "6a102b48-5c15-454b-953a-6fa81f4e4469",
   "metadata": {},
   "outputs": [],
   "source": []
  }
 ],
 "metadata": {
  "kernelspec": {
   "display_name": "Python 3 (ipykernel)",
   "language": "python",
   "name": "python3"
  },
  "language_info": {
   "codemirror_mode": {
    "name": "ipython",
    "version": 3
   },
   "file_extension": ".py",
   "mimetype": "text/x-python",
   "name": "python",
   "nbconvert_exporter": "python",
   "pygments_lexer": "ipython3",
   "version": "3.11.5"
  }
 },
 "nbformat": 4,
 "nbformat_minor": 5
}
