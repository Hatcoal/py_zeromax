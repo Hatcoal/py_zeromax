{
 "cells": [
  {
   "cell_type": "markdown",
   "id": "b0b64cb1-a7bc-42b3-8d36-8b68a3ac4214",
   "metadata": {},
   "source": [
    "# DASH app"
   ]
  },
  {
   "cell_type": "markdown",
   "id": "94bc269f-59f5-4bc8-aa5c-258a14bd343c",
   "metadata": {},
   "source": [
    "### step 1 import modules"
   ]
  },
  {
   "cell_type": "code",
   "execution_count": 1,
   "id": "28286f8d-c6e2-4c3a-bffa-3c5b9c6939dc",
   "metadata": {},
   "outputs": [],
   "source": [
    "from dash import dash, dash_table, html, dcc\n",
    "from dash.dependencies import Input, Output\n",
    "import pandas as pd\n",
    "from dash.exceptions import PreventUpdate\n",
    "\n",
    "import dash_bootstrap_components as dbc\n",
    "\n",
    "import plotly.express as px"
   ]
  },
  {
   "cell_type": "markdown",
   "id": "2dbfcf9c-c3a9-4505-a7a1-bb4928134acd",
   "metadata": {},
   "source": [
    "### step 2 import data"
   ]
  },
  {
   "cell_type": "code",
   "execution_count": 2,
   "id": "d30f9601-b50d-473c-b004-662ea6bb68cd",
   "metadata": {},
   "outputs": [
    {
     "data": {
      "text/html": [
       "<div>\n",
       "<style scoped>\n",
       "    .dataframe tbody tr th:only-of-type {\n",
       "        vertical-align: middle;\n",
       "    }\n",
       "\n",
       "    .dataframe tbody tr th {\n",
       "        vertical-align: top;\n",
       "    }\n",
       "\n",
       "    .dataframe thead th {\n",
       "        text-align: right;\n",
       "    }\n",
       "</style>\n",
       "<table border=\"1\" class=\"dataframe\">\n",
       "  <thead>\n",
       "    <tr style=\"text-align: right;\">\n",
       "      <th></th>\n",
       "      <th>UserLanguage</th>\n",
       "      <th>Description</th>\n",
       "      <th>Option</th>\n",
       "      <th>Group</th>\n",
       "      <th>Tag</th>\n",
       "      <th>Composite</th>\n",
       "      <th>Count</th>\n",
       "      <th>Prop</th>\n",
       "    </tr>\n",
       "  </thead>\n",
       "  <tbody>\n",
       "    <tr>\n",
       "      <th>0</th>\n",
       "      <td>EN</td>\n",
       "      <td>Age</td>\n",
       "      <td>18</td>\n",
       "      <td>32</td>\n",
       "      <td>General</td>\n",
       "      <td>Continuous</td>\n",
       "      <td>47</td>\n",
       "      <td>0.276471</td>\n",
       "    </tr>\n",
       "    <tr>\n",
       "      <th>1</th>\n",
       "      <td>EN</td>\n",
       "      <td>Age</td>\n",
       "      <td>19</td>\n",
       "      <td>32</td>\n",
       "      <td>General</td>\n",
       "      <td>Continuous</td>\n",
       "      <td>32</td>\n",
       "      <td>0.188235</td>\n",
       "    </tr>\n",
       "    <tr>\n",
       "      <th>2</th>\n",
       "      <td>EN</td>\n",
       "      <td>Age</td>\n",
       "      <td>20</td>\n",
       "      <td>32</td>\n",
       "      <td>General</td>\n",
       "      <td>Continuous</td>\n",
       "      <td>13</td>\n",
       "      <td>0.076471</td>\n",
       "    </tr>\n",
       "    <tr>\n",
       "      <th>3</th>\n",
       "      <td>EN</td>\n",
       "      <td>Age</td>\n",
       "      <td>21</td>\n",
       "      <td>32</td>\n",
       "      <td>General</td>\n",
       "      <td>Continuous</td>\n",
       "      <td>16</td>\n",
       "      <td>0.094118</td>\n",
       "    </tr>\n",
       "    <tr>\n",
       "      <th>4</th>\n",
       "      <td>EN</td>\n",
       "      <td>Age</td>\n",
       "      <td>22</td>\n",
       "      <td>32</td>\n",
       "      <td>General</td>\n",
       "      <td>Continuous</td>\n",
       "      <td>8</td>\n",
       "      <td>0.047059</td>\n",
       "    </tr>\n",
       "    <tr>\n",
       "      <th>...</th>\n",
       "      <td>...</td>\n",
       "      <td>...</td>\n",
       "      <td>...</td>\n",
       "      <td>...</td>\n",
       "      <td>...</td>\n",
       "      <td>...</td>\n",
       "      <td>...</td>\n",
       "      <td>...</td>\n",
       "    </tr>\n",
       "    <tr>\n",
       "      <th>1274</th>\n",
       "      <td>RU</td>\n",
       "      <td>Year of education</td>\n",
       "      <td>2 years</td>\n",
       "      <td>36</td>\n",
       "      <td>General</td>\n",
       "      <td>Yes</td>\n",
       "      <td>523</td>\n",
       "      <td>0.577901</td>\n",
       "    </tr>\n",
       "    <tr>\n",
       "      <th>1275</th>\n",
       "      <td>RU</td>\n",
       "      <td>Year of education</td>\n",
       "      <td>3 years</td>\n",
       "      <td>36</td>\n",
       "      <td>General</td>\n",
       "      <td>Yes</td>\n",
       "      <td>69</td>\n",
       "      <td>0.076243</td>\n",
       "    </tr>\n",
       "    <tr>\n",
       "      <th>1276</th>\n",
       "      <td>RU</td>\n",
       "      <td>Year of education</td>\n",
       "      <td>4 years</td>\n",
       "      <td>36</td>\n",
       "      <td>General</td>\n",
       "      <td>Yes</td>\n",
       "      <td>37</td>\n",
       "      <td>0.040884</td>\n",
       "    </tr>\n",
       "    <tr>\n",
       "      <th>1277</th>\n",
       "      <td>RU</td>\n",
       "      <td>Year of education</td>\n",
       "      <td>5 years</td>\n",
       "      <td>36</td>\n",
       "      <td>General</td>\n",
       "      <td>Yes</td>\n",
       "      <td>27</td>\n",
       "      <td>0.029834</td>\n",
       "    </tr>\n",
       "    <tr>\n",
       "      <th>1278</th>\n",
       "      <td>RU</td>\n",
       "      <td>Year of education</td>\n",
       "      <td>6+ years</td>\n",
       "      <td>36</td>\n",
       "      <td>General</td>\n",
       "      <td>Yes</td>\n",
       "      <td>24</td>\n",
       "      <td>0.026519</td>\n",
       "    </tr>\n",
       "  </tbody>\n",
       "</table>\n",
       "<p>1279 rows × 8 columns</p>\n",
       "</div>"
      ],
      "text/plain": [
       "     UserLanguage        Description    Option  Group      Tag   Composite  \\\n",
       "0              EN                Age        18     32  General  Continuous   \n",
       "1              EN                Age        19     32  General  Continuous   \n",
       "2              EN                Age        20     32  General  Continuous   \n",
       "3              EN                Age        21     32  General  Continuous   \n",
       "4              EN                Age        22     32  General  Continuous   \n",
       "...           ...                ...       ...    ...      ...         ...   \n",
       "1274           RU  Year of education   2 years     36  General         Yes   \n",
       "1275           RU  Year of education   3 years     36  General         Yes   \n",
       "1276           RU  Year of education   4 years     36  General         Yes   \n",
       "1277           RU  Year of education   5 years     36  General         Yes   \n",
       "1278           RU  Year of education  6+ years     36  General         Yes   \n",
       "\n",
       "      Count      Prop  \n",
       "0        47  0.276471  \n",
       "1        32  0.188235  \n",
       "2        13  0.076471  \n",
       "3        16  0.094118  \n",
       "4         8  0.047059  \n",
       "...     ...       ...  \n",
       "1274    523  0.577901  \n",
       "1275     69  0.076243  \n",
       "1276     37  0.040884  \n",
       "1277     27  0.029834  \n",
       "1278     24  0.026519  \n",
       "\n",
       "[1279 rows x 8 columns]"
      ]
     },
     "execution_count": 2,
     "metadata": {},
     "output_type": "execute_result"
    }
   ],
   "source": [
    "df = pd.read_csv('./dash_pyzero/data/all_proportions_iglas.csv', sep=':')\n",
    "df"
   ]
  },
  {
   "cell_type": "markdown",
   "id": "33b80c1e-f74e-4515-899c-a07313a949a7",
   "metadata": {},
   "source": [
    "### step 3 app declaration"
   ]
  },
  {
   "cell_type": "code",
   "execution_count": 3,
   "id": "a7a36bc5-e304-454f-ac5b-e0d75fcd89c2",
   "metadata": {},
   "outputs": [
    {
     "data": {
      "text/plain": [
       "<dash.dash.Dash at 0x7f5fc22dad90>"
      ]
     },
     "execution_count": 3,
     "metadata": {},
     "output_type": "execute_result"
    }
   ],
   "source": [
    "app = dash.Dash(__name__,external_stylesheets=[dbc.themes.CERULEAN], prevent_initial_callbacks=True)\n",
    "app"
   ]
  },
  {
   "cell_type": "markdown",
   "id": "3a9671ff-22a3-4f5b-b0cd-265effff18b1",
   "metadata": {},
   "source": [
    "## step 4 work on the layout of the app"
   ]
  },
  {
   "cell_type": "markdown",
   "id": "5fca6c49-5f2e-4f62-a3ef-5e05f5613155",
   "metadata": {},
   "source": [
    "https://dash.plotly.com/dash-core-components\n"
   ]
  },
  {
   "cell_type": "code",
   "execution_count": 4,
   "id": "1cb11706-3463-4633-ada9-7c988cf240a1",
   "metadata": {},
   "outputs": [
    {
     "data": {
      "text/html": [
       "\n",
       "        <iframe\n",
       "            width=\"100%\"\n",
       "            height=\"650\"\n",
       "            src=\"http://127.0.0.1:8051/\"\n",
       "            frameborder=\"0\"\n",
       "            allowfullscreen\n",
       "            \n",
       "        ></iframe>\n",
       "        "
      ],
      "text/plain": [
       "<IPython.lib.display.IFrame at 0x7f5fdc623950>"
      ]
     },
     "metadata": {},
     "output_type": "display_data"
    }
   ],
   "source": [
    "app.layout = html.Div([\n",
    "\n",
    "\n",
    "dbc.CardImg(\n",
    "                        src=\"/assets/tagc.png\",\n",
    "                        top=True,\n",
    "                        style={\"width\": \"8rem\"},\n",
    "                        className=\"ml-3\"),\n",
    "\n",
    "dbc.CardImg(\n",
    "                        src=\"/assets/inlab.png\",\n",
    "                        top=True,\n",
    "                        style={\"width\": \"8rem\"},\n",
    "                        className=\"ml-3\"),\n",
    "\n",
    "dbc.CardImg(\n",
    "                        src=\"/assets/iglas.png\",\n",
    "                        top=True,\n",
    "                        style={\"width\": \"8rem\"},\n",
    "                        className=\"ml-3\"),\n",
    "\n",
    "\n",
    "\n",
    "    html.Button('Show Data', id='button'),\n",
    "    html.Div(id='datatable'),\n",
    "\n",
    "\n",
    "    html.H1(children='We start with exploring individual variables'),\n",
    "\thtml.Div([\n",
    "        \"Select the type of variable: (by default all variables are selected)\",\n",
    "\n",
    "##################### radioitems\n",
    "\n",
    "        dcc.RadioItems(\n",
    "{\n",
    "        'General': 'General',\n",
    "        'GK': 'Genetic Knowledge',\n",
    "        'GR': 'Genetic Rights',\n",
    "        'HR': 'Human Rights'\n",
    "   },\n",
    "   value='General', \n",
    "        id='analytics-input')\n",
    "    ]),\n",
    "\thtml.Br(),\n",
    "    html.Div(id='analytics-output'),\n",
    "\n",
    "\n",
    "##################### dropdown from radio items\n",
    "    html.Div([\n",
    "\n",
    "        html.Br(),\n",
    "        html.Label(['Choose variable to visualise:'],style={'font-weight': 'bold', \"text-align\": \"center\"}),\n",
    "        dcc.Dropdown(\n",
    "            id='opt-dropdown',\n",
    "            value='',\n",
    "            multi=False,\n",
    "            disabled=False,\n",
    "            clearable=True,\n",
    "            searchable=True,\n",
    "            placeholder='Select the variable to plot...',\n",
    "            className='form-dropdown',\n",
    "            style={'width':\"90%\"},\n",
    "            persistence='string',\n",
    "            persistence_type='memory'\n",
    "            ),\n",
    "            ],style={'width': '50%', 'display': 'inline-block'}\n",
    "        ),\n",
    "\n",
    "    html.Div(id='dd-output-container'),\n",
    "\n",
    "\n",
    "################### graph part\n",
    "html.Div([\n",
    "        dcc.Graph(id='our_graph1'),\n",
    "        dcc.Graph(id='our_graph2'),\n",
    "\n",
    "    ],className='nine columns'),\n",
    "\n",
    "\n",
    "])\n",
    "\n",
    "\n",
    "################### ################### ################### Callbacks\n",
    "\n",
    "\n",
    "@app.callback(\n",
    "    Output(component_id='analytics-output', component_property='children'),\n",
    "    Input(component_id='analytics-input', component_property='value')\n",
    ")\n",
    "def update_city_selected(input_value):\n",
    "    return f'You selected: {input_value}'\n",
    "\n",
    "\n",
    "\n",
    "\n",
    "\n",
    "\n",
    "@app.callback(\n",
    "#datatable\n",
    "    Output('datatable', 'children'),\n",
    "    Input('button', 'n_clicks'),\n",
    "Input(component_id='analytics-input', component_property='value')\n",
    ")\n",
    "def generate_upload_file(n_clicks, value):  \n",
    "    if n_clicks:\n",
    "        if value=='All':\n",
    "            dfx = df.copy()\n",
    "            data_dict = dfx.to_dict('records')\n",
    "            headers_list = list(dfx.columns.values)\n",
    "            headers_dict = ([{'id': _, 'name': _} for _ in headers_list])\n",
    "        else:\n",
    "            dfx = df[df['Tag']==value]\n",
    "            data_dict = dfx.to_dict('records')\n",
    "            headers_list = list(dfx.columns.values)\n",
    "            headers_dict = ([{'id': _, 'name': _} for _ in headers_list])\n",
    "\n",
    "        return dash_table.DataTable(\n",
    "                data=data_dict,\n",
    "                columns=headers_dict,\n",
    "                filter_action=\"native\",\n",
    "                sort_action=\"native\",\n",
    "                sort_mode=\"multi\",\n",
    "                row_deletable=True,\n",
    "                page_action=\"native\",\n",
    "                page_current= 0,\n",
    "                page_size= 10,\n",
    "            )\n",
    "    else: raise PreventUpdate\n",
    "\n",
    "\n",
    "##### dropdown\n",
    "\n",
    "@app.callback(\n",
    "    Output('opt-dropdown', 'options'),\n",
    "    Input(component_id='analytics-input', component_property='value')\n",
    ")\n",
    "def update_output(value):\n",
    "    dfx = df[df['Tag']==value]\n",
    "\n",
    "    return [{'label': i, 'value': i} for i in dfx['Description'].unique()]\n",
    "\n",
    "\n",
    "\n",
    "\n",
    "@app.callback(\n",
    "[Output('our_graph1','figure'),Output('our_graph2','figure')], \n",
    "\n",
    "    [Input('opt-dropdown', 'value')]\n",
    ")\n",
    "def build_graph(selected_option):\n",
    "    dff=df[df['Description']==selected_option].copy()\n",
    "\n",
    "    fig1 = px.pie(dff, values=\"Count\", names=\"Option\", facet_col=\"UserLanguage\", hole=.3)\n",
    "\n",
    "    fig2 = px.bar(dff, x=\"Option\", y=\"Count\", facet_col=\"UserLanguage\", title=\"Bar graph for proportions for variable {}\".format(dff.Description.unique()))\n",
    "\n",
    "    return fig1, fig2\n",
    "\n",
    "\n",
    "if __name__ == '__main__':\n",
    "    app.run_server(debug=True, port=8051)\n"
   ]
  },
  {
   "cell_type": "markdown",
   "id": "4a47ef10-a48f-41a2-909c-58f70e7d78bb",
   "metadata": {},
   "source": [
    "Don't worry. We will manage it one by one.\n",
    "\n",
    "What is metadata? In this context, we organized variables somehow based on what they tell. The principle is the same for different data projects. It is important to know additional information about variables when we create structural models. For example, we see that responses are similar for certain type of questions. In the same way, we also understand that certain variables correlate, this could imply that these variables can be grouped together. If we don't have a preconception of what the variable structure should be like, we need to do extensive visualization to understand or make arguments for certain trends in the analysis.\n",
    "\n",
    "Metadata in exploratory projects, like above, can also guide how the finished DASH-board will look like.\n",
    "\n",
    "In this case, first, we organized the variables into four categories. Look at the metadata file."
   ]
  },
  {
   "cell_type": "code",
   "execution_count": 5,
   "id": "1f2abd89-9e9b-4af1-803b-489c789fef38",
   "metadata": {},
   "outputs": [
    {
     "name": "stdout",
     "output_type": "stream",
     "text": [
      "/home/mrinalmanu/Documents/notebooks_python\n"
     ]
    }
   ],
   "source": [
    "!pwd"
   ]
  },
  {
   "cell_type": "code",
   "execution_count": 6,
   "id": "2d2222d6-a40e-4334-8515-e7bf29c7a4dc",
   "metadata": {},
   "outputs": [
    {
     "name": "stdout",
     "output_type": "stream",
     "text": [
      "Variable:Description:Option:Group:Composite:Tag\n",
      "LE3.003:What information can be obtained from your genetic material?:Ancestry:1:No:HR\n",
      "LE3.004:What information can be obtained from your genetic material?:Health:1:No:HR\n",
      "LE3.005:What information can be obtained from your genetic material?:Potential to succeed in different domains aka for example sports:1:No:HR\n",
      "LE3.006:What information can be obtained from your genetic material?:Personal traits aka for example extroversion:1:No:HR\n",
      "LE3.007:What information can be obtained from your genetic material?:I do not know:1:No:HR\n",
      "LE3.008:What information can be obtained from your genetic material?:Other:1:No:HR\n",
      "LE3.009:What information can be obtained from your genetic material?:Other as Text:1:Text:HR\n",
      "LE3.025:Can using genetic information affect human rights?:Yes no dontknow:2:Yes:HR\n",
      "LE3.026:How relevant is genetic information to the following personal rights? :Right to security including privacy:3:No:HR\n"
     ]
    }
   ],
   "source": [
    "!head dash_pyzero/data/metadata.csv"
   ]
  },
  {
   "cell_type": "markdown",
   "id": "dcb84d54-52fb-43fd-ae37-f18857ef5229",
   "metadata": {},
   "source": [
    "https://dash.plotly.com/dash-core-components"
   ]
  },
  {
   "cell_type": "code",
   "execution_count": 7,
   "id": "186e0d6c-14cf-4e8d-b7c2-e453ebc9e9a0",
   "metadata": {},
   "outputs": [
    {
     "data": {
      "text/html": [
       "\n",
       "        <iframe\n",
       "            width=\"100%\"\n",
       "            height=\"650\"\n",
       "            src=\"http://127.0.0.1:8050/\"\n",
       "            frameborder=\"0\"\n",
       "            allowfullscreen\n",
       "            \n",
       "        ></iframe>\n",
       "        "
      ],
      "text/plain": [
       "<IPython.lib.display.IFrame at 0x7f5fa3dcb150>"
      ]
     },
     "metadata": {},
     "output_type": "display_data"
    }
   ],
   "source": [
    "from dash import Dash, html, dcc\n",
    "\n",
    "app = Dash(__name__)\n",
    "\n",
    "app.layout = html.Div([\n",
    "    dcc.Dropdown(['New York City', 'Montréal', 'San Francisco'], 'Montréal')\n",
    "])\n",
    "\n",
    "if __name__ == '__main__':\n",
    "    app.run(debug=True)"
   ]
  },
  {
   "cell_type": "code",
   "execution_count": 8,
   "id": "377883c1-9cfe-463f-aaf4-bfe0bda523dd",
   "metadata": {},
   "outputs": [
    {
     "data": {
      "text/html": [
       "\n",
       "        <iframe\n",
       "            width=\"100%\"\n",
       "            height=\"650\"\n",
       "            src=\"http://127.0.0.1:8050/\"\n",
       "            frameborder=\"0\"\n",
       "            allowfullscreen\n",
       "            \n",
       "        ></iframe>\n",
       "        "
      ],
      "text/plain": [
       "<IPython.lib.display.IFrame at 0x7f5f8e516290>"
      ]
     },
     "metadata": {},
     "output_type": "display_data"
    }
   ],
   "source": [
    "from dash import Dash, dcc, html\n",
    "\n",
    "app = Dash(__name__)\n",
    "\n",
    "app.layout = html.Div([\n",
    "    dcc.Slider(-5, 10, 1, value=-3)\n",
    "])\n",
    "\n",
    "if __name__ == '__main__':\n",
    "    app.run(debug=True)"
   ]
  },
  {
   "cell_type": "markdown",
   "id": "8e4fb3e5-34c1-4ae5-9e57-31b76d93e5bf",
   "metadata": {},
   "source": [
    "# packaging 101"
   ]
  },
  {
   "cell_type": "markdown",
   "id": "1c7c00dd-bb5f-4f73-86ed-7480256439e2",
   "metadata": {},
   "source": [
    "https://docs.conda.io/projects/conda-build/en/latest/user-guide/tutorials/build-pkgs.html\n",
    "https://pypi.org/project/conda-pack/"
   ]
  },
  {
   "cell_type": "markdown",
   "id": "63c3e554-b604-48cf-9f7e-3be23bf41ef8",
   "metadata": {},
   "source": [
    "Docker\n",
    "\n",
    "https://www.docker.com/"
   ]
  },
  {
   "cell_type": "markdown",
   "id": "9be0fc52-722a-4951-a69e-452ef7e423c1",
   "metadata": {},
   "source": [
    "# Assignment\n",
    "\n",
    "Take the metadata and create a small bar-plot application. Put TSU logo on the top. [1]\n",
    "\n",
    "Optional (plus points)\n",
    "\n",
    "Create a conda environment, and install dash within. The do [1] and package the environment.\n",
    "\n"
   ]
  },
  {
   "cell_type": "markdown",
   "id": "aef24623-a07f-4814-a0c6-a4e61aea4354",
   "metadata": {},
   "source": [
    "EON"
   ]
  }
 ],
 "metadata": {
  "kernelspec": {
   "display_name": "Python [conda env:povpy] *",
   "language": "python",
   "name": "conda-env-povpy-py"
  },
  "language_info": {
   "codemirror_mode": {
    "name": "ipython",
    "version": 3
   },
   "file_extension": ".py",
   "mimetype": "text/x-python",
   "name": "python",
   "nbconvert_exporter": "python",
   "pygments_lexer": "ipython3",
   "version": "3.11.7"
  }
 },
 "nbformat": 4,
 "nbformat_minor": 5
}
