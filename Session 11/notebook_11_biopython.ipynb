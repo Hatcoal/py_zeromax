{
 "cells": [
  {
   "cell_type": "markdown",
   "id": "0e7a91a2-4f3c-497c-bcdc-6bbaa89e7da1",
   "metadata": {},
   "source": [
    "# dynamical modelling"
   ]
  },
  {
   "cell_type": "markdown",
   "id": "10301554-009d-46b5-8550-7cf11924b419",
   "metadata": {},
   "source": [
    "# little bit about biopython"
   ]
  },
  {
   "cell_type": "markdown",
   "id": "7e8a5021-12f5-4b2d-b032-d397f29af5cd",
   "metadata": {},
   "source": [
    "https://biopython.org/DIST/docs/tutorial/Tutorial.html [1]\n",
    "https://medium.com/geekculture/phylogenetic-trees-implement-in-python-3f9df96c0c32 [2]\n",
    "https://github.com/risg99/Phylogenetic-trees-python [2]"
   ]
  },
  {
   "cell_type": "code",
   "execution_count": null,
   "id": "93010853-d7c6-4abd-a115-f6773dfc0a43",
   "metadata": {},
   "outputs": [],
   "source": [
    "# Importing necessary libraries\n",
    "from Bio import Phylo\n",
    "from Bio.Phylo.TreeConstruction import DistanceCalculator\n",
    "from Bio.Phylo.TreeConstruction import DistanceTreeConstructor\n",
    "from Bio import AlignIO"
   ]
  },
  {
   "cell_type": "code",
   "execution_count": null,
   "id": "a0097fe9-20e7-4592-9398-da5ee71fc067",
   "metadata": {},
   "outputs": [],
   "source": [
    "# Read the sequences and align\n",
    "align = AlignIO.read('msa.phy','phylip')\n"
   ]
  },
  {
   "cell_type": "code",
   "execution_count": null,
   "id": "03dcaec3-af30-48c3-bc48-14b10cf9577a",
   "metadata": {},
   "outputs": [],
   "source": [
    "import plotly.express as px"
   ]
  },
  {
   "cell_type": "code",
   "execution_count": null,
   "id": "abb47c7d-1268-4ede-89ca-93c777adac95",
   "metadata": {},
   "outputs": [],
   "source": [
    "# Calculate the distance matrix\n",
    "calculator = DistanceCalculator('identity')\n",
    "distMatrix = calculator.get_distance(align)\n",
    "px.imshow(distMatrix)"
   ]
  },
  {
   "cell_type": "code",
   "execution_count": null,
   "id": "b6cf6cda-53d2-4c49-a0eb-08ec08ac7942",
   "metadata": {},
   "outputs": [],
   "source": [
    "\n",
    "# Creating a DistanceTreeConstructor object\n",
    "constructor = DistanceTreeConstructor()\n",
    "\n",
    "####################################################\n",
    "\t\t\t\t\t#  NJ\n",
    "####################################################\n",
    "\n",
    "# Construct the phlyogenetic tree using NJ algorithm\n",
    "NJTree = constructor.nj(distMatrix)\n",
    "\n",
    "# Draw the phlyogenetic tree\n",
    "Phylo.draw(NJTree)\n",
    "\n",
    "# Printing the phlyogenetic tree using terminal\n",
    "Phylo.draw_ascii(NJTree)\n"
   ]
  },
  {
   "cell_type": "markdown",
   "id": "1c125db8-6280-4544-a345-113b222eed25",
   "metadata": {},
   "source": [
    "### check more tutorials from other researchers, once you know the basic structure, then you can develop more complicated scenarios"
   ]
  },
  {
   "cell_type": "markdown",
   "id": "777f8693-2d3d-453d-94fd-902fdd1ee50e",
   "metadata": {},
   "source": [
    "# tutorial: something about bird migration"
   ]
  },
  {
   "cell_type": "raw",
   "id": "9d832c2f-b8b0-42c0-8241-d595f7a85803",
   "metadata": {},
   "source": [
    "youtube: 3blue1brown\n",
    "https://vankessel.io/visualizing-complex-functions"
   ]
  },
  {
   "cell_type": "markdown",
   "id": "0347f5c4-c1e9-4e3f-8bca-f9224af5daf1",
   "metadata": {},
   "source": [
    "Reference:\n",
    "\n",
    "Main tutorial: https://github.com/florist-notes/Data-Analysis/tree/master\n",
    "\n",
    "Additional tutorials:\n",
    "https://daniel-furman.github.io/Python-species-distribution-modeling/\n"
   ]
  },
  {
   "cell_type": "code",
   "execution_count": null,
   "id": "fd3cbe15-2b6a-49f7-9ff8-ad671c33a062",
   "metadata": {},
   "outputs": [],
   "source": [
    "import pandas as pd\n",
    "\n",
    "df = pd.read_csv('dyn_zero/bird_tracking.csv', sep=',')\n",
    "df.head(5)"
   ]
  },
  {
   "cell_type": "code",
   "execution_count": null,
   "id": "5827b1c3-dc57-4287-b779-352cbe6ceb94",
   "metadata": {},
   "outputs": [],
   "source": [
    "import folium\n",
    "import geopandas"
   ]
  },
  {
   "cell_type": "raw",
   "id": "ae0ecd5a-0477-4c73-9427-6f4b3ff76c0c",
   "metadata": {},
   "source": [
    "# check this tutorial for reference\n",
    "https://geopandas.org/en/stable/gallery/plotting_with_folium.html"
   ]
  },
  {
   "cell_type": "code",
   "execution_count": null,
   "id": "8ef7adec-26f4-4696-b5fa-9b5219810bdd",
   "metadata": {},
   "outputs": [],
   "source": [
    "# Create point geometries\n",
    "geometry = geopandas.points_from_xy(df.longitude, df.latitude)\n",
    "geometry"
   ]
  },
  {
   "cell_type": "code",
   "execution_count": null,
   "id": "03f979c1-d95f-4c01-8c8b-393f96fc4eb8",
   "metadata": {},
   "outputs": [],
   "source": [
    "df.columns"
   ]
  },
  {
   "cell_type": "code",
   "execution_count": null,
   "id": "d0f2370e-0fdf-40fe-ac61-8e51b4cd7f7e",
   "metadata": {},
   "outputs": [],
   "source": [
    "\n",
    "geo_df = geopandas.GeoDataFrame(\n",
    "    df[['altitude', 'date_time', 'device_info_serial', 'direction', 'latitude',\n",
    "       'longitude', 'speed_2d', 'bird_name']], geometry=geometry\n",
    ")\n",
    "\n",
    "geo_df.head()"
   ]
  },
  {
   "cell_type": "code",
   "execution_count": null,
   "id": "cc3a1c4a-8101-42d1-a3dc-de055301fde0",
   "metadata": {},
   "outputs": [],
   "source": [
    "import geodatasets"
   ]
  },
  {
   "cell_type": "code",
   "execution_count": null,
   "id": "20b72cba-6b7a-4911-a9e7-1cc6b7d86b90",
   "metadata": {},
   "outputs": [],
   "source": [
    "world = geopandas.read_file(geodatasets.get_path(\"naturalearth.land\"))\n",
    "df.bird_name.unique()"
   ]
  },
  {
   "cell_type": "code",
   "execution_count": null,
   "id": "47c56cae-33a1-44cb-8446-b095e729e8e9",
   "metadata": {},
   "outputs": [],
   "source": [
    "import matplotlib.pyplot as plt"
   ]
  },
  {
   "cell_type": "code",
   "execution_count": null,
   "id": "1de1b0e7-ae14-4018-aa2f-57b95b4db9bd",
   "metadata": {},
   "outputs": [],
   "source": [
    "fig, ax = plt.subplots(figsize=(24, 18))\n",
    "world.plot(ax=ax, alpha=0.4, color=\"grey\")\n",
    "geo_df.plot(column=\"bird_name\", ax=ax, legend=True)\n",
    "plt.title(\"Bird migration\")"
   ]
  },
  {
   "cell_type": "code",
   "execution_count": null,
   "id": "27f6f0c7-62c1-40e8-9c46-3d68e61e68ff",
   "metadata": {},
   "outputs": [],
   "source": [
    "import plotly.express as px"
   ]
  },
  {
   "cell_type": "code",
   "execution_count": null,
   "id": "7db15abe-fc58-4d54-8f84-074204263772",
   "metadata": {},
   "outputs": [],
   "source": [
    "df.columns"
   ]
  },
  {
   "cell_type": "code",
   "execution_count": null,
   "id": "ff90510d-d17e-41f3-be59-4f80fd8a0210",
   "metadata": {},
   "outputs": [],
   "source": [
    "fig = px.line_3d(df, x='longitude', y='latitude', z='altitude',\n",
    "              color='bird_name', width=1080, height=720, title='A Scatter Plot of the Latitude,  Longitude and Altitude of birds')\n",
    "fig.show()"
   ]
  },
  {
   "cell_type": "code",
   "execution_count": null,
   "id": "78fd5894-c12b-4227-bc04-9dac28f34c27",
   "metadata": {},
   "outputs": [],
   "source": [
    "import scipy\n",
    "\n",
    "from scipy import signal"
   ]
  },
  {
   "cell_type": "raw",
   "id": "50e11c66-0cfc-45e7-921d-7b65a47e2f99",
   "metadata": {},
   "source": [
    "https://plotly.com/python/smoothing/"
   ]
  },
  {
   "cell_type": "code",
   "execution_count": null,
   "id": "d6da5b76-b5eb-43f8-b139-ec8a7e4a7026",
   "metadata": {},
   "outputs": [],
   "source": [
    "fig = px.line_3d(df, x=signal.savgol_filter(df['longitude'],\n",
    "                           10, # window size used for filtering\n",
    "                           3), \n",
    "                 y=signal.savgol_filter(df['latitude'],\n",
    "                           10, # window size used for filtering\n",
    "                           3), \n",
    "                 z=signal.savgol_filter(df['altitude'],\n",
    "                           10, # window size used for filtering\n",
    "                           3),\n",
    "              color='bird_name', width=1080, height=720, title='A Scatter Plot of the Latitude,  Longitude and Altitude of birds')\n",
    "fig.show()"
   ]
  },
  {
   "cell_type": "code",
   "execution_count": null,
   "id": "4993696f-e3c6-47df-ba3e-960411a29187",
   "metadata": {},
   "outputs": [],
   "source": [
    "data = df[['latitude', 'longitude']]"
   ]
  },
  {
   "cell_type": "code",
   "execution_count": null,
   "id": "ea3d572a-93b9-4fa4-a8c6-9dbd96fb67ac",
   "metadata": {},
   "outputs": [],
   "source": [
    "# let's also do native folium\n",
    "\n",
    "#create a map\n",
    "this_map = folium.Map(prefer_canvas=True)\n",
    "\n",
    "def plotDot(point):\n",
    "    '''input: series that contains a numeric named latitude and a numeric named longitude\n",
    "    this function creates a CircleMarker and adds it to your this_map'''\n",
    "    folium.CircleMarker(location=[point.latitude, point.longitude],\n",
    "                        radius=2,\n",
    "                        weight=5).add_to(this_map)\n",
    "\n",
    "#use df.apply(,axis=1) to \"iterate\" through every row in your dataframe\n",
    "data.apply(plotDot, axis = 1)\n",
    "\n",
    "\n",
    "#Set the zoom to the maximum possible\n",
    "this_map.fit_bounds(this_map.get_bounds())\n",
    "\n",
    "#Save the map to an HTML file\n",
    "this_map.save('simple_dot_plot.html')\n",
    "\n",
    "this_map"
   ]
  },
  {
   "cell_type": "code",
   "execution_count": null,
   "id": "89291dad-a867-4856-bf9f-87fe95adc65c",
   "metadata": {},
   "outputs": [],
   "source": [
    "df['date'] = df.date_time.str.split(' ', expand=True)[0]"
   ]
  },
  {
   "cell_type": "code",
   "execution_count": null,
   "id": "f1ed090d-4a75-4389-9b44-8f5b9b3de43f",
   "metadata": {},
   "outputs": [],
   "source": [
    "df.columns"
   ]
  },
  {
   "cell_type": "code",
   "execution_count": null,
   "id": "dfd2156d-c745-4e07-b490-535c75236dc6",
   "metadata": {},
   "outputs": [],
   "source": [
    "px.scatter(df, x=signal.savgol_filter(df['speed_2d'],\n",
    "                           10, # window size used for filtering\n",
    "                           3), \n",
    "           y=signal.savgol_filter(df['altitude'],\n",
    "                           10, # window size used for filtering\n",
    "                           3), \n",
    "           animation_frame=\"date\", \n",
    "           animation_group=\"device_info_serial\",\n",
    "           color=\"bird_name\", \n",
    "           hover_name=\"bird_name\",\n",
    "           log_x=False, \n",
    "           range_x=[-100, 100],\n",
    "           range_y=[-100, 100])"
   ]
  },
  {
   "cell_type": "markdown",
   "id": "6715915e-a4b6-468a-a4f3-012674c9d37f",
   "metadata": {},
   "source": [
    "# something about distributions"
   ]
  },
  {
   "cell_type": "code",
   "execution_count": null,
   "id": "770536fe-963c-48bf-b611-79d6437783c0",
   "metadata": {},
   "outputs": [],
   "source": [
    "# functions and imports\n",
    "\n",
    "from scipy.stats import gaussian_kde\n",
    "from numpy import mean\n",
    "from numpy import std\n",
    "from scipy.stats import mannwhitneyu\n",
    "from scipy.stats import ttest_ind\n",
    "from scipy.stats import f_oneway\n",
    "from scipy import stats\n",
    "import scikit_posthocs as sp\n",
    "import statistics\n",
    "\n",
    "def calc_curve(data):\n",
    "    \"\"\"Calculate probability density.\"\"\"\n",
    "    min_, max_ = data.min(), data.max()\n",
    "    X = [min_ + i * ((max_ - min_) / 500) for i in range(501)]\n",
    "    Y = gaussian_kde(data).evaluate(X)\n",
    "    return(X, Y)\n",
    "\n",
    "from plotly.offline import plot\n"
   ]
  },
  {
   "cell_type": "code",
   "execution_count": null,
   "id": "0cfa9ee4-0891-4e34-ad25-c6f4b93ec9e8",
   "metadata": {},
   "outputs": [],
   "source": [
    "df.columns"
   ]
  },
  {
   "cell_type": "code",
   "execution_count": null,
   "id": "e19e8176-1b65-4bd9-a6dd-d4f85f224f41",
   "metadata": {},
   "outputs": [],
   "source": [
    "xdf = df.copy()\n",
    "xdf.describe()"
   ]
  },
  {
   "cell_type": "code",
   "execution_count": null,
   "id": "8eaff88e-6c23-4120-9a7b-8f7b8931be49",
   "metadata": {},
   "outputs": [],
   "source": [
    "xdf = xdf.dropna()\n",
    "xdf.describe()"
   ]
  },
  {
   "cell_type": "markdown",
   "id": "caf32463-bbeb-4758-ab87-7dcabb7c984a",
   "metadata": {},
   "source": [
    "# Assignment\n",
    "1. Find a strategy to replace NA values in the columns.\n",
    "Repeat the steps given below."
   ]
  },
  {
   "cell_type": "code",
   "execution_count": null,
   "id": "ed7201bb-6673-4655-99ba-7e833bf88bac",
   "metadata": {},
   "outputs": [],
   "source": [
    "data1 = xdf['altitude']\n",
    "data2 = xdf['speed_2d']\n",
    "data3 = xdf['direction']\n",
    "\n",
    "X1, Y1 = calc_curve(data1)\n",
    "X2, Y2 = calc_curve(data2)\n",
    "X3, Y3 = calc_curve(data3)\n",
    "\n",
    "traces = []\n",
    "traces.append({'x': X1, 'y': Y1, 'name': 'Altitude'})\n",
    "traces.append({'x': X2, 'y': Y2, 'name': 'Speed'})\n",
    "traces.append({'x': X3, 'y': Y3, 'name': 'Direction'})\n",
    "\n",
    "plot({'data': traces})"
   ]
  },
  {
   "cell_type": "code",
   "execution_count": null,
   "id": "a91606a6-2906-48b7-8aea-5366722c467a",
   "metadata": {},
   "outputs": [],
   "source": [
    "# normalize and replot\n",
    "xdf['norm_alt']=(xdf['altitude']-xdf['altitude'].mean())/xdf['altitude'].std()\n",
    "xdf['speed_2d_alt']=(xdf['speed_2d']-xdf['speed_2d'].mean())/xdf['speed_2d'].std()\n",
    "xdf['direction_alt']=(xdf['direction']-xdf['direction'].mean())/xdf['direction'].std()"
   ]
  },
  {
   "cell_type": "code",
   "execution_count": null,
   "id": "619632c3-3fb8-4361-9808-d5c8828da0e8",
   "metadata": {},
   "outputs": [],
   "source": [
    "data1 = xdf['norm_alt']\n",
    "data2 = xdf['speed_2d_alt']\n",
    "data3 = xdf['direction_alt']\n",
    "\n",
    "X1, Y1 = calc_curve(data1)\n",
    "X2, Y2 = calc_curve(data2)\n",
    "X3, Y3 = calc_curve(data3)\n",
    "\n",
    "traces = []\n",
    "traces.append({'x': X1, 'y': Y1, 'name': 'Altitude'})\n",
    "traces.append({'x': X2, 'y': Y2, 'name': 'Speed'})\n",
    "traces.append({'x': X3, 'y': Y3, 'name': 'Direction'})\n",
    "\n",
    "plot({'data': traces})"
   ]
  },
  {
   "cell_type": "markdown",
   "id": "296532fe-b45f-4478-9248-6069f138d7f5",
   "metadata": {},
   "source": [
    "# think about hypotheses"
   ]
  },
  {
   "cell_type": "code",
   "execution_count": null,
   "id": "85743368-e90c-418d-87f8-54c5c01a09fd",
   "metadata": {},
   "outputs": [],
   "source": [
    "xdf.set_index('date_time', drop=True, append=False, inplace=True, verify_integrity=False)\n",
    "xdf = xdf.sort_index()\n",
    "xdf"
   ]
  },
  {
   "cell_type": "code",
   "execution_count": null,
   "id": "2997956e-88e0-4469-b673-ff4a98f73d0f",
   "metadata": {},
   "outputs": [],
   "source": [
    "px.line(y = xdf['norm_alt'], x=xdf.index)"
   ]
  },
  {
   "cell_type": "code",
   "execution_count": null,
   "id": "b6cd6268-5d16-4091-aeb6-dd259c7f87eb",
   "metadata": {},
   "outputs": [],
   "source": [
    "nxdf = xdf[['norm_alt', 'speed_2d_alt', 'direction_alt']]\n",
    "nxdf"
   ]
  },
  {
   "cell_type": "code",
   "execution_count": null,
   "id": "2e9e750f-9189-44c5-9e2a-ce71a9ffdfb2",
   "metadata": {},
   "outputs": [],
   "source": [
    "fig = px.histogram(x=nxdf['speed_2d_alt'])\n",
    "fig.show()"
   ]
  },
  {
   "cell_type": "code",
   "execution_count": null,
   "id": "e0c3eef1-fdc5-4b87-904e-99d6b53f4586",
   "metadata": {},
   "outputs": [],
   "source": [
    "import numpy as np"
   ]
  },
  {
   "cell_type": "code",
   "execution_count": null,
   "id": "98ad22c7-bfe1-46ac-a878-4db1ed3647ba",
   "metadata": {},
   "outputs": [],
   "source": [
    "# let's fft this signal\n",
    "\n",
    "SAMPLE_RATE = 240  # a few months\n",
    "DURATION = 24  # hours\n",
    "\n",
    "def generate_sine_wave(freq, sample_rate, duration):\n",
    "    x = np.linspace(0, duration, sample_rate * duration, endpoint=False)\n",
    "    frequencies = x * freq\n",
    "    # 2pi because np.sin takes radians\n",
    "    y = np.sin((2 * np.pi) * frequencies)\n",
    "    return x, y\n",
    "\n",
    "# Generate a 2 hertz sine wave that lasts for 5 seconds\n",
    "x, y = generate_sine_wave(2, SAMPLE_RATE, DURATION)\n",
    "plt.plot(x, y)\n",
    "plt.show()"
   ]
  },
  {
   "cell_type": "code",
   "execution_count": null,
   "id": "aad4248e-f876-4610-83ac-8d814224c0c9",
   "metadata": {},
   "outputs": [],
   "source": [
    "_, nice_tone = generate_sine_wave(400, SAMPLE_RATE, DURATION)\n",
    "_, noise_tone = generate_sine_wave(4000, SAMPLE_RATE, DURATION)\n",
    "noise_tone = noise_tone * 0.3\n",
    "\n",
    "mixed_tone = nice_tone + noise_tone"
   ]
  },
  {
   "cell_type": "code",
   "execution_count": null,
   "id": "ac316f54-e9c1-4ed5-80d8-6b004c1c7861",
   "metadata": {},
   "outputs": [],
   "source": [
    "normalized_tone = np.int16((mixed_tone / mixed_tone.max()) * 32767)\n",
    "\n",
    "plt.plot(normalized_tone[:1000])\n",
    "plt.show()"
   ]
  },
  {
   "cell_type": "code",
   "execution_count": null,
   "id": "5e1c0859-f085-486c-b0d4-5eaac55cfd50",
   "metadata": {},
   "outputs": [],
   "source": [
    "from scipy.fft import fft, fftfreq\n",
    "\n",
    "# Number of samples in normalized_tone\n",
    "N = SAMPLE_RATE * DURATION\n",
    "\n",
    "yf = fft(normalized_tone)\n",
    "xf = fftfreq(N, 1 / SAMPLE_RATE)\n",
    "\n",
    "plt.plot(xf, np.abs(yf))\n",
    "plt.show()"
   ]
  },
  {
   "cell_type": "code",
   "execution_count": null,
   "id": "47c26059-0839-47ad-9d01-adf8e36246c6",
   "metadata": {},
   "outputs": [],
   "source": [
    "# Assignment\n",
    "\n",
    "Convert these plots to plotly."
   ]
  },
  {
   "cell_type": "markdown",
   "id": "2600e31a-a62b-4dfd-88e7-c99bf41ebc62",
   "metadata": {},
   "source": [
    "### apply to speed? no need really"
   ]
  },
  {
   "cell_type": "code",
   "execution_count": null,
   "id": "717b27ad-c0f1-4ad4-b58a-594bb15db3e0",
   "metadata": {},
   "outputs": [],
   "source": [
    "nxdf.columns"
   ]
  },
  {
   "cell_type": "code",
   "execution_count": null,
   "id": "3546916b-5cb2-4213-9db3-616a0fe1e452",
   "metadata": {},
   "outputs": [],
   "source": [
    "px.histogram(x=nxdf.index, y=nxdf['speed_2d_alt'])"
   ]
  },
  {
   "cell_type": "markdown",
   "id": "bc14eecb-1db7-4423-ac06-c15fed2f343e",
   "metadata": {},
   "source": [
    "# Bonus: PDFs, curve fitting"
   ]
  },
  {
   "cell_type": "code",
   "execution_count": null,
   "id": "7aa2b45f-808d-4ca8-87b4-8980012749df",
   "metadata": {},
   "outputs": [],
   "source": [
    "%matplotlib inline\n",
    "\n",
    "import warnings\n",
    "import numpy as np\n",
    "import pandas as pd\n",
    "import scipy.stats as st\n",
    "import statsmodels.api as sm\n",
    "from scipy.stats._continuous_distns import _distn_names\n",
    "import matplotlib\n",
    "import matplotlib.pyplot as plt\n",
    "\n",
    "matplotlib.rcParams['figure.figsize'] = (16.0, 12.0)\n",
    "matplotlib.style.use('ggplot')\n",
    "\n",
    "# Create models from data\n",
    "def best_fit_distribution(data, bins=200, ax=None):\n",
    "    \"\"\"Model data by finding best fit distribution to data\"\"\"\n",
    "    # Get histogram of original data\n",
    "    y, x = np.histogram(data, bins=bins, density=True)\n",
    "    x = (x + np.roll(x, -1))[:-1] / 2.0\n",
    "\n",
    "    # Best holders\n",
    "    best_distributions = []\n",
    "\n",
    "    # Estimate distribution parameters from data\n",
    "    for ii, distribution in enumerate([d for d in _distn_names if not d in ['levy_stable', 'studentized_range']]):\n",
    "\n",
    "        print(\"{:>3} / {:<3}: {}\".format( ii+1, len(_distn_names), distribution ))\n",
    "\n",
    "        distribution = getattr(st, distribution)\n",
    "\n",
    "        # Try to fit the distribution\n",
    "        try:\n",
    "            # Ignore warnings from data that can't be fit\n",
    "            with warnings.catch_warnings():\n",
    "                warnings.filterwarnings('ignore')\n",
    "                \n",
    "                # fit dist to data\n",
    "                params = distribution.fit(data)\n",
    "\n",
    "                # Separate parts of parameters\n",
    "                arg = params[:-2]\n",
    "                loc = params[-2]\n",
    "                scale = params[-1]\n",
    "                \n",
    "                # Calculate fitted PDF and error with fit in distribution\n",
    "                pdf = distribution.pdf(x, loc=loc, scale=scale, *arg)\n",
    "                sse = np.sum(np.power(y - pdf, 2.0))\n",
    "                \n",
    "                # if axis pass in add to plot\n",
    "                try:\n",
    "                    if ax:\n",
    "                        pd.Series(pdf, x).plot(ax=ax)\n",
    "                    end\n",
    "                except Exception:\n",
    "                    pass\n",
    "\n",
    "                # identify if this distribution is better\n",
    "                best_distributions.append((distribution, params, sse))\n",
    "        \n",
    "        except Exception:\n",
    "            pass\n",
    "\n",
    "    \n",
    "    return sorted(best_distributions, key=lambda x:x[2])\n",
    "\n",
    "def make_pdf(dist, params, size=10000):\n",
    "    \"\"\"Generate distributions's Probability Distribution Function \"\"\"\n",
    "\n",
    "    # Separate parts of parameters\n",
    "    arg = params[:-2]\n",
    "    loc = params[-2]\n",
    "    scale = params[-1]\n",
    "\n",
    "    # Get sane start and end points of distribution\n",
    "    start = dist.ppf(0.01, *arg, loc=loc, scale=scale) if arg else dist.ppf(0.01, loc=loc, scale=scale)\n",
    "    end = dist.ppf(0.99, *arg, loc=loc, scale=scale) if arg else dist.ppf(0.99, loc=loc, scale=scale)\n",
    "\n",
    "    # Build PDF and turn into pandas Series\n",
    "    x = np.linspace(start, end, size)\n",
    "    y = dist.pdf(x, loc=loc, scale=scale, *arg)\n",
    "    pdf = pd.Series(y, x)\n",
    "\n",
    "    return pdf\n"
   ]
  },
  {
   "cell_type": "code",
   "execution_count": null,
   "id": "24891c7e-8b39-49d5-a829-5a6f51535d9f",
   "metadata": {},
   "outputs": [],
   "source": [
    "# Load data from statsmodels datasets\n",
    "data =  nxdf['speed_2d_alt']\n",
    "\n",
    "# Plot for comparison\n",
    "plt.figure(figsize=(12,8))\n",
    "ax = data.plot(kind='hist', bins=50, density=True, alpha=0.5, color=list(matplotlib.rcParams['axes.prop_cycle'])[1]['color'])\n",
    "\n",
    "# Save plot limits\n",
    "dataYLim = ax.get_ylim()\n",
    "\n",
    "# Find best fit distribution\n",
    "best_distibutions = best_fit_distribution(data, 200, ax)\n",
    "best_dist = best_distibutions[0]\n",
    "\n",
    "# Update plots\n",
    "ax.set_ylim(dataYLim)\n",
    "ax.set_title(u'Strength of connection.\\n All Fitted Distributions')\n",
    "ax.set_xlabel(u'Strength (P1*P2)')\n",
    "ax.set_ylabel('Frequency')\n",
    "\n",
    "# Make PDF with best params \n",
    "pdf = make_pdf(best_dist[0], best_dist[1])\n",
    "\n",
    "# Display\n",
    "plt.figure(figsize=(12,8))\n",
    "ax = pdf.plot(lw=2, label='PDF', legend=True)\n",
    "data.plot(kind='hist', bins=50, density=True, alpha=0.5, label='Data', legend=True, ax=ax)\n",
    "\n",
    "param_names = (best_dist[0].shapes + ', loc, scale').split(', ') if best_dist[0].shapes else ['loc', 'scale']\n",
    "param_str = ', '.join(['{}={:0.2f}'.format(k,v) for k,v in zip(param_names, best_dist[1])])\n",
    "dist_str = '{}({})'.format(best_dist[0].name, param_str)\n",
    "\n",
    "ax.set_title(u'Strength with best fit distribution \\n' + dist_str)\n",
    "ax.set_xlabel(u'Speed')\n",
    "ax.set_ylabel('Frequency')"
   ]
  },
  {
   "cell_type": "code",
   "execution_count": null,
   "id": "e5ff5afb-1c52-471c-913d-78279aa85aff",
   "metadata": {},
   "outputs": [],
   "source": [
    "xdf.columns"
   ]
  },
  {
   "cell_type": "code",
   "execution_count": null,
   "id": "d451d8d2-258a-49ac-ad42-05e67b9b1a2f",
   "metadata": {},
   "outputs": [],
   "source": [
    "# Load data from statsmodels datasets\n",
    "data =  xdf['speed_2d']\n",
    "\n",
    "# Plot for comparison\n",
    "plt.figure(figsize=(12,8))\n",
    "ax = data.plot(kind='hist', bins=50, density=True, alpha=0.5, color=list(matplotlib.rcParams['axes.prop_cycle'])[1]['color'])\n",
    "\n",
    "# Save plot limits\n",
    "dataYLim = ax.get_ylim()\n",
    "\n",
    "# Find best fit distribution\n",
    "best_distibutions = best_fit_distribution(data, 200, ax)\n",
    "best_dist = best_distibutions[0]\n",
    "\n",
    "# Update plots\n",
    "ax.set_ylim(dataYLim)\n",
    "ax.set_title(u'Strength of connection.\\n All Fitted Distributions')\n",
    "ax.set_xlabel(u'Strength (P1*P2)')\n",
    "ax.set_ylabel('Frequency')\n",
    "\n",
    "# Make PDF with best params \n",
    "pdf = make_pdf(best_dist[0], best_dist[1])\n",
    "\n",
    "# Display\n",
    "plt.figure(figsize=(12,8))\n",
    "ax = pdf.plot(lw=2, label='PDF', legend=True)\n",
    "data.plot(kind='hist', bins=50, density=True, alpha=0.5, label='Data', legend=True, ax=ax)\n",
    "\n",
    "param_names = (best_dist[0].shapes + ', loc, scale').split(', ') if best_dist[0].shapes else ['loc', 'scale']\n",
    "param_str = ', '.join(['{}={:0.2f}'.format(k,v) for k,v in zip(param_names, best_dist[1])])\n",
    "dist_str = '{}({})'.format(best_dist[0].name, param_str)\n",
    "\n",
    "ax.set_title(u'Strength with best fit distribution \\n' + dist_str)\n",
    "ax.set_xlabel(u'Speed')\n",
    "ax.set_ylabel('Frequency')"
   ]
  },
  {
   "cell_type": "markdown",
   "id": "ff2fd160-5d83-4467-8695-ea35f04c3df9",
   "metadata": {},
   "source": [
    "# Assignment part 2\n",
    "\n",
    "Create three line plots for nxdf variables in the same plot, x axis is time."
   ]
  },
  {
   "cell_type": "markdown",
   "id": "6e04e219-7560-4c85-a2c0-adfa746d253a",
   "metadata": {},
   "source": [
    "# bonus material (mathematical thinking)\n",
    "Markov chains and models\n",
    "https://es.wikipedia.org/wiki/Andr%C3%A9i_M%C3%A1rkov\n",
    "https://ericmjl.github.io/essays-on-data-science/machine-learning/markov-models/\n",
    "\n"
   ]
  }
 ],
 "metadata": {
  "kernelspec": {
   "display_name": "Python 3 (ipykernel)",
   "language": "python",
   "name": "python3"
  },
  "language_info": {
   "codemirror_mode": {
    "name": "ipython",
    "version": 3
   },
   "file_extension": ".py",
   "mimetype": "text/x-python",
   "name": "python",
   "nbconvert_exporter": "python",
   "pygments_lexer": "ipython3",
   "version": "3.11.7"
  }
 },
 "nbformat": 4,
 "nbformat_minor": 5
}
