{
 "cells": [
  {
   "cell_type": "code",
   "execution_count": 1,
   "id": "51b8072f-fb1a-4b9d-b945-492f3573ff89",
   "metadata": {},
   "outputs": [],
   "source": [
    "import re"
   ]
  },
  {
   "cell_type": "code",
   "execution_count": 6,
   "id": "5636b3ad-d377-4a0b-aaf6-4fdc35c149d9",
   "metadata": {},
   "outputs": [],
   "source": [
    "# file = open(\"random_text.txt\", \"r\")"
   ]
  },
  {
   "cell_type": "code",
   "execution_count": 49,
   "id": "f0dd99ec-9e11-427e-bc07-6b2087b6a3b2",
   "metadata": {},
   "outputs": [
    {
     "name": "stdout",
     "output_type": "stream",
     "text": [
      "!Exclude this line\n"
     ]
    }
   ],
   "source": [
    "lines = []\n",
    "\n",
    "with open('random_text.txt', 'r') as the_file:  # Open the file in read mode\n",
    "    for line in the_file:\n",
    "        line = line.strip()  # Remove leading and trailing whitespace\n",
    "        match = re.match(r'^!.+$', line)  # Check if the line starts with '!' and continues to the end\n",
    "        if match:\n",
    "            lines.append(match.group())  # Append the matched line to the list\n",
    "\n",
    "# Print the lines starting with '!' and continuing to the end\n",
    "for line in lines:\n",
    "    print(line)"
   ]
  },
  {
   "cell_type": "code",
   "execution_count": 52,
   "id": "146c0285-bb8c-4289-8b5e-a4642e5f2875",
   "metadata": {},
   "outputs": [],
   "source": [
    "# Write the extracted lines to a new text file\n",
    "with open('extracted_lines.txt', 'w') as output_file:\n",
    "    for line in lines:\n",
    "        output_file.write(line + '\\n')\n",
    "        output_file.close()\n"
   ]
  },
  {
   "cell_type": "code",
   "execution_count": 48,
   "id": "42bba68a-c889-4a94-8f53-4180edcf457f",
   "metadata": {},
   "outputs": [
    {
     "name": "stdout",
     "output_type": "stream",
     "text": [
      "Extracted digits: ['2023131230123', '22312313']\n"
     ]
    }
   ],
   "source": [
    "import re\n",
    "\n",
    "# Open the file and read its contents\n",
    "with open('random_text.txt', 'r') as file:\n",
    "    text = file.read()\n",
    "\n",
    "# Find all digits using regex\n",
    "digits = re.findall(r'\\d+', text)\n",
    "\n",
    "# Print the extracted digits\n",
    "print(\"Extracted digits:\", digits)"
   ]
  },
  {
   "cell_type": "code",
   "execution_count": 40,
   "id": "db3273a6-2cdf-47eb-96f9-6c944efc3a46",
   "metadata": {},
   "outputs": [],
   "source": [
    "# Write the obtained list of digits to a file\n",
    "with open('digits.txt', 'w') as output_file:\n",
    "    for digit in digits:\n",
    "        output_file.write(digit + '\\n')\n",
    "\n",
    "# Close the file\n",
    "output_file.close()"
   ]
  },
  {
   "cell_type": "code",
   "execution_count": null,
   "id": "6902d249-e414-4d98-bfac-2d6c0788f7c9",
   "metadata": {},
   "outputs": [],
   "source": []
  }
 ],
 "metadata": {
  "kernelspec": {
   "display_name": "Python 3 (ipykernel)",
   "language": "python",
   "name": "python3"
  },
  "language_info": {
   "codemirror_mode": {
    "name": "ipython",
    "version": 3
   },
   "file_extension": ".py",
   "mimetype": "text/x-python",
   "name": "python",
   "nbconvert_exporter": "python",
   "pygments_lexer": "ipython3",
   "version": "3.11.5"
  }
 },
 "nbformat": 4,
 "nbformat_minor": 5
}
