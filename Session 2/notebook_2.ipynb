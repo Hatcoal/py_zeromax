{
 "cells": [
  {
   "cell_type": "markdown",
   "id": "e2877f30-791d-4108-99f6-6a76c5c2ff42",
   "metadata": {},
   "source": [
    "# try, except and assert in python"
   ]
  },
  {
   "cell_type": "code",
   "execution_count": 1,
   "id": "3e0ec66c-f6f7-4f60-a029-f6d8a2d7be9b",
   "metadata": {},
   "outputs": [
    {
     "name": "stdout",
     "output_type": "stream",
     "text": [
      "a is less than 5, a =  10\n",
      "a is less than 5, a =  9\n",
      "a is less than 5, a =  8\n",
      "a is less than 5, a =  7\n",
      "a is less than 5, a =  6\n"
     ]
    }
   ],
   "source": [
    "a = 10\n",
    "while a > 5:\n",
    "    print('a is less than 5, a = ', a)\n",
    "    a = a - 1"
   ]
  },
  {
   "cell_type": "code",
   "execution_count": 4,
   "id": "2dc4770a-a63c-4862-9938-61a883aa633f",
   "metadata": {},
   "outputs": [
    {
     "name": "stdout",
     "output_type": "stream",
     "text": [
      "a is less than 5, a = {}, b = {} 10 10\n",
      "a is less than 5, a = {}, b = {} 9 10\n",
      "a is less than 5, a = {}, b = {} 8 10\n",
      "a is less than 5, a = {}, b = {} 7 10\n",
      "a is less than 5, a = {}, b = {} 6 10\n",
      "a is less than 5, a = {}, b = {} 5 10\n",
      "a is less than 5, a = {}, b = {} 4 10\n",
      "a is less than 5, a = {}, b = {} 3 10\n",
      "a is less than 5, a = {}, b = {} 2 10\n",
      "a is less than 5, a = {}, b = {} 1 10\n"
     ]
    }
   ],
   "source": [
    "a = 10\n",
    "b = 10\n",
    "while a and b > 5:\n",
    "    print('a is less than 5, a = {}, b = {}', a, b)\n",
    "    '''\n",
    "    a and b are the wildcards in sequential order\n",
    "    '''\n",
    "    a = a - 1"
   ]
  },
  {
   "cell_type": "code",
   "execution_count": 5,
   "id": "82cba23a-fe1a-4258-bfa2-9ddd279c4026",
   "metadata": {},
   "outputs": [
    {
     "name": "stdout",
     "output_type": "stream",
     "text": [
      "a is less than 5, a = 10, b = 10\n",
      "a is less than 5, a = 9, b = 10\n",
      "a is less than 5, a = 8, b = 10\n",
      "a is less than 5, a = 7, b = 10\n",
      "a is less than 5, a = 6, b = 10\n",
      "a is less than 5, a = 5, b = 10\n",
      "a is less than 5, a = 4, b = 10\n",
      "a is less than 5, a = 3, b = 10\n",
      "a is less than 5, a = 2, b = 10\n",
      "a is less than 5, a = 1, b = 10\n"
     ]
    }
   ],
   "source": [
    "a = 10\n",
    "b = 10\n",
    "while a and b > 5:\n",
    "    print('a is less than 5, a = {}, b = {}'.format(a, b))\n",
    "    a = a - 1"
   ]
  },
  {
   "cell_type": "code",
   "execution_count": 6,
   "id": "17dd09f2-13f0-4059-9391-286a1c68fe77",
   "metadata": {},
   "outputs": [
    {
     "name": "stdout",
     "output_type": "stream",
     "text": [
      "a < 6\n"
     ]
    }
   ],
   "source": [
    "if a < 6:\n",
    "    print('a < 6')"
   ]
  },
  {
   "cell_type": "raw",
   "id": "e8bbcbe8-710d-40e8-81fe-f92f89925837",
   "metadata": {},
   "source": [
    "! careful"
   ]
  },
  {
   "cell_type": "code",
   "execution_count": 8,
   "id": "fc401a55-dec0-4741-a503-91527b8387ea",
   "metadata": {},
   "outputs": [
    {
     "name": "stdout",
     "output_type": "stream",
     "text": [
      "Hi\n",
      "Hi\n",
      "Hi\n"
     ]
    }
   ],
   "source": [
    "## inifinte/endless loop    \n",
    "while True:\n",
    "    print('Hi')\n",
    "    break # if you remove it, your notebook will crash, becase jupyter cell can only print so many lines!"
   ]
  },
  {
   "cell_type": "code",
   "execution_count": 9,
   "id": "e02eeb11-9770-48cb-aa24-2bbfa74b8f51",
   "metadata": {},
   "outputs": [
    {
     "data": {
      "text/plain": [
       "\u001b[0;31mSignature:\u001b[0m \u001b[0minput\u001b[0m\u001b[0;34m(\u001b[0m\u001b[0mprompt\u001b[0m\u001b[0;34m=\u001b[0m\u001b[0;34m''\u001b[0m\u001b[0;34m)\u001b[0m\u001b[0;34m\u001b[0m\u001b[0;34m\u001b[0m\u001b[0m\n",
       "\u001b[0;31mSource:\u001b[0m   \n",
       "    \u001b[0;32mdef\u001b[0m \u001b[0mraw_input\u001b[0m\u001b[0;34m(\u001b[0m\u001b[0mself\u001b[0m\u001b[0;34m,\u001b[0m \u001b[0mprompt\u001b[0m\u001b[0;34m=\u001b[0m\u001b[0;34m\"\"\u001b[0m\u001b[0;34m)\u001b[0m\u001b[0;34m:\u001b[0m\u001b[0;34m\u001b[0m\n",
       "\u001b[0;34m\u001b[0m        \u001b[0;34m\"\"\"Forward raw_input to frontends\u001b[0m\n",
       "\u001b[0;34m\u001b[0m\n",
       "\u001b[0;34m        Raises\u001b[0m\n",
       "\u001b[0;34m        ------\u001b[0m\n",
       "\u001b[0;34m        StdinNotImplementedError if active frontend doesn't support stdin.\u001b[0m\n",
       "\u001b[0;34m        \"\"\"\u001b[0m\u001b[0;34m\u001b[0m\n",
       "\u001b[0;34m\u001b[0m        \u001b[0;32mif\u001b[0m \u001b[0;32mnot\u001b[0m \u001b[0mself\u001b[0m\u001b[0;34m.\u001b[0m\u001b[0m_allow_stdin\u001b[0m\u001b[0;34m:\u001b[0m\u001b[0;34m\u001b[0m\n",
       "\u001b[0;34m\u001b[0m            \u001b[0mmsg\u001b[0m \u001b[0;34m=\u001b[0m \u001b[0;34m\"raw_input was called, but this frontend does not support input requests.\"\u001b[0m\u001b[0;34m\u001b[0m\n",
       "\u001b[0;34m\u001b[0m            \u001b[0;32mraise\u001b[0m \u001b[0mStdinNotImplementedError\u001b[0m\u001b[0;34m(\u001b[0m\u001b[0mmsg\u001b[0m\u001b[0;34m)\u001b[0m\u001b[0;34m\u001b[0m\n",
       "\u001b[0;34m\u001b[0m        \u001b[0;32mreturn\u001b[0m \u001b[0mself\u001b[0m\u001b[0;34m.\u001b[0m\u001b[0m_input_request\u001b[0m\u001b[0;34m(\u001b[0m\u001b[0;34m\u001b[0m\n",
       "\u001b[0;34m\u001b[0m            \u001b[0mstr\u001b[0m\u001b[0;34m(\u001b[0m\u001b[0mprompt\u001b[0m\u001b[0;34m)\u001b[0m\u001b[0;34m,\u001b[0m\u001b[0;34m\u001b[0m\n",
       "\u001b[0;34m\u001b[0m            \u001b[0mself\u001b[0m\u001b[0;34m.\u001b[0m\u001b[0m_parent_ident\u001b[0m\u001b[0;34m[\u001b[0m\u001b[0;34m\"shell\"\u001b[0m\u001b[0;34m]\u001b[0m\u001b[0;34m,\u001b[0m\u001b[0;34m\u001b[0m\n",
       "\u001b[0;34m\u001b[0m            \u001b[0mself\u001b[0m\u001b[0;34m.\u001b[0m\u001b[0mget_parent\u001b[0m\u001b[0;34m(\u001b[0m\u001b[0;34m\"shell\"\u001b[0m\u001b[0;34m)\u001b[0m\u001b[0;34m,\u001b[0m\u001b[0;34m\u001b[0m\n",
       "\u001b[0;34m\u001b[0m            \u001b[0mpassword\u001b[0m\u001b[0;34m=\u001b[0m\u001b[0;32mFalse\u001b[0m\u001b[0;34m,\u001b[0m\u001b[0;34m\u001b[0m\n",
       "\u001b[0;34m\u001b[0m        \u001b[0;34m)\u001b[0m\u001b[0;34m\u001b[0m\u001b[0;34m\u001b[0m\u001b[0m\n",
       "\u001b[0;31mFile:\u001b[0m      ~/miniconda3/envs/povpy/lib/python3.11/site-packages/ipykernel/kernelbase.py\n",
       "\u001b[0;31mType:\u001b[0m      method"
      ]
     },
     "metadata": {},
     "output_type": "display_data"
    }
   ],
   "source": [
    "input??"
   ]
  },
  {
   "cell_type": "code",
   "execution_count": 11,
   "id": "635c2ba5-145d-43a4-b9a8-c3a0d928cd3d",
   "metadata": {},
   "outputs": [
    {
     "name": "stdin",
     "output_type": "stream",
     "text": [
      "Provide some text :>  1\n"
     ]
    },
    {
     "name": "stdout",
     "output_type": "stream",
     "text": [
      "You typed:  1\n"
     ]
    },
    {
     "name": "stdin",
     "output_type": "stream",
     "text": [
      "Provide some text :>  quit\n"
     ]
    }
   ],
   "source": [
    "# while loops are good for making a loop wait\n",
    "while True:\n",
    "    text = input('Provide some text :> ')\n",
    "    if text == \"quit\":  # here we are just checking if the text is something, and it is 'quit'\n",
    "        break\n",
    "    print('You typed: ', text)\n",
    "    "
   ]
  },
  {
   "cell_type": "markdown",
   "id": "9a0f5ce0-4ce4-45a7-bd56-f9c3477825bf",
   "metadata": {},
   "source": [
    "Imagine that you designed a software that takes text as input, or any kind of input. What if the user provided an input that was not what it should be, and the program goes on to process it. Steps should asser the validity of input at each stage."
   ]
  },
  {
   "cell_type": "code",
   "execution_count": 12,
   "id": "c1c420f2-437d-4867-b1c8-8040ff3e3639",
   "metadata": {},
   "outputs": [
    {
     "data": {
      "text/plain": [
       "True"
      ]
     },
     "execution_count": 12,
     "metadata": {},
     "output_type": "execute_result"
    }
   ],
   "source": [
    "type(text) == str # check the type is str"
   ]
  },
  {
   "cell_type": "code",
   "execution_count": 16,
   "id": "495444db-dcb2-4657-a0fb-f65d5805af44",
   "metadata": {},
   "outputs": [],
   "source": [
    "text = 'name'"
   ]
  },
  {
   "cell_type": "code",
   "execution_count": 17,
   "id": "76394c1c-b697-471c-b1fe-1cacfe0200f5",
   "metadata": {},
   "outputs": [],
   "source": [
    "assert type(text) == str"
   ]
  },
  {
   "cell_type": "code",
   "execution_count": 18,
   "id": "9742771c-f7fc-4e7f-af15-29a0ebe07a1b",
   "metadata": {},
   "outputs": [],
   "source": [
    "text = 4"
   ]
  },
  {
   "cell_type": "code",
   "execution_count": 19,
   "id": "7bbe5631-134b-43c9-81b6-323ef223ea67",
   "metadata": {},
   "outputs": [
    {
     "ename": "AssertionError",
     "evalue": "",
     "output_type": "error",
     "traceback": [
      "\u001b[0;31m---------------------------------------------------------------------------\u001b[0m",
      "\u001b[0;31mAssertionError\u001b[0m                            Traceback (most recent call last)",
      "Cell \u001b[0;32mIn[19], line 1\u001b[0m\n\u001b[0;32m----> 1\u001b[0m \u001b[38;5;28;01massert\u001b[39;00m \u001b[38;5;28mtype\u001b[39m(text) \u001b[38;5;241m==\u001b[39m \u001b[38;5;28mstr\u001b[39m\n",
      "\u001b[0;31mAssertionError\u001b[0m: "
     ]
    }
   ],
   "source": [
    "assert type(text) == str"
   ]
  },
  {
   "cell_type": "code",
   "execution_count": 23,
   "id": "e57ca2b0-a8f8-47ef-a0b6-0cb51619b302",
   "metadata": {},
   "outputs": [],
   "source": [
    "text = 1"
   ]
  },
  {
   "cell_type": "markdown",
   "id": "401cdaa1-888d-4651-b01a-01f196bc36d1",
   "metadata": {},
   "source": [
    "What we should do instead, is check of NOT condition! (for more then one acceptable types)"
   ]
  },
  {
   "cell_type": "code",
   "execution_count": 26,
   "id": "f0af7065-1154-40d2-8e83-b7dab97da105",
   "metadata": {},
   "outputs": [
    {
     "data": {
      "text/plain": [
       "int"
      ]
     },
     "execution_count": 26,
     "metadata": {},
     "output_type": "execute_result"
    }
   ],
   "source": [
    "int"
   ]
  },
  {
   "cell_type": "code",
   "execution_count": 27,
   "id": "52974336-bd7a-4f81-930d-17a4fe564420",
   "metadata": {},
   "outputs": [
    {
     "ename": "TypeError",
     "evalue": "'int' object is not callable",
     "output_type": "error",
     "traceback": [
      "\u001b[0;31m---------------------------------------------------------------------------\u001b[0m",
      "\u001b[0;31mTypeError\u001b[0m                                 Traceback (most recent call last)",
      "Cell \u001b[0;32mIn[27], line 1\u001b[0m\n\u001b[0;32m----> 1\u001b[0m \u001b[38;5;28;01massert\u001b[39;00m \u001b[38;5;28mtype\u001b[39m(text) \u001b[38;5;241m!=\u001b[39m\u001b[38;5;28mint\u001b[39m\n",
      "\u001b[0;31mTypeError\u001b[0m: 'int' object is not callable"
     ]
    }
   ],
   "source": [
    "assert type(text) != int"
   ]
  },
  {
   "cell_type": "code",
   "execution_count": 29,
   "id": "dd9c13f6-6366-4e1e-94a8-66dfaffa1004",
   "metadata": {},
   "outputs": [
    {
     "name": "stdin",
     "output_type": "stream",
     "text": [
      "Provide some text :>  name\n"
     ]
    },
    {
     "ename": "TypeError",
     "evalue": "'int' object is not callable",
     "output_type": "error",
     "traceback": [
      "\u001b[0;31m---------------------------------------------------------------------------\u001b[0m",
      "\u001b[0;31mTypeError\u001b[0m                                 Traceback (most recent call last)",
      "Cell \u001b[0;32mIn[29], line 4\u001b[0m\n\u001b[1;32m      2\u001b[0m \u001b[38;5;28;01mwhile\u001b[39;00m \u001b[38;5;28;01mTrue\u001b[39;00m:\n\u001b[1;32m      3\u001b[0m     text \u001b[38;5;241m=\u001b[39m \u001b[38;5;28minput\u001b[39m(\u001b[38;5;124m'\u001b[39m\u001b[38;5;124mProvide some text :> \u001b[39m\u001b[38;5;124m'\u001b[39m)\n\u001b[0;32m----> 4\u001b[0m     \u001b[38;5;28;01massert\u001b[39;00m \u001b[38;5;28mtype\u001b[39m(text) \u001b[38;5;241m==\u001b[39m \u001b[38;5;28mstr\u001b[39m\n\u001b[1;32m      5\u001b[0m     \u001b[38;5;28;01mif\u001b[39;00m text \u001b[38;5;241m==\u001b[39m \u001b[38;5;124m\"\u001b[39m\u001b[38;5;124mquit\u001b[39m\u001b[38;5;124m\"\u001b[39m:\n\u001b[1;32m      6\u001b[0m         \u001b[38;5;28;01mbreak\u001b[39;00m\n",
      "\u001b[0;31mTypeError\u001b[0m: 'int' object is not callable"
     ]
    }
   ],
   "source": [
    "# while loops are good for making a loop wait\n",
    "while True:\n",
    "    text = input('Provide some text :> ')\n",
    "    assert type(text) == str\n",
    "    if text == \"quit\":\n",
    "        break\n",
    "    print('You typed: ', text)"
   ]
  },
  {
   "cell_type": "markdown",
   "id": "e8d87e30-c603-44b6-8183-2cb2837abb6c",
   "metadata": {},
   "source": [
    "Spoiler: Assert should be used, but it is still not the best way to use it here. We have to parse the input. Parsing will reveal if it is an integer or a string."
   ]
  },
  {
   "cell_type": "markdown",
   "id": "bcaebeb1-74ff-4c42-a2f9-44611fcdec10",
   "metadata": {},
   "source": [
    "### raise and throw exceptions "
   ]
  },
  {
   "cell_type": "code",
   "execution_count": 30,
   "id": "852a3e60-170c-4740-9c69-44bfea1f10b4",
   "metadata": {},
   "outputs": [],
   "source": [
    "# in only one input type\n",
    "def check_user_input(input): \n",
    "    try:\n",
    "        # Convert it into integer\n",
    "        val = int(input)\n",
    "        print(\"Input is an integer number. Number = \", val)\n",
    "    except ValueError:\n",
    "        print(\"You did not type a number!\")\n"
   ]
  },
  {
   "cell_type": "code",
   "execution_count": 31,
   "id": "fd74decd-3adf-4bf1-9ae7-60b2a7f04ad5",
   "metadata": {},
   "outputs": [
    {
     "name": "stdout",
     "output_type": "stream",
     "text": [
      "Input is an integer number. Number =  3\n"
     ]
    }
   ],
   "source": [
    "check_user_input('3')"
   ]
  },
  {
   "cell_type": "code",
   "execution_count": 32,
   "id": "200268a0-3f43-43b5-8a89-ba7248e43ef2",
   "metadata": {},
   "outputs": [
    {
     "name": "stdout",
     "output_type": "stream",
     "text": [
      "Input is an integer number. Number =  3\n"
     ]
    }
   ],
   "source": [
    "check_user_input(3)"
   ]
  },
  {
   "cell_type": "code",
   "execution_count": 34,
   "id": "61a72c27-8cfe-4fd0-a706-a0157b6de9ab",
   "metadata": {},
   "outputs": [
    {
     "name": "stdout",
     "output_type": "stream",
     "text": [
      "You did not type a number!\n"
     ]
    }
   ],
   "source": [
    "check_user_input('xyz')"
   ]
  },
  {
   "cell_type": "code",
   "execution_count": 35,
   "id": "c2c6afaa-c5be-488d-a82a-1ccf6520f27f",
   "metadata": {},
   "outputs": [
    {
     "name": "stdout",
     "output_type": "stream",
     "text": [
      "You did not type a number!\n"
     ]
    }
   ],
   "source": [
    "check_user_input('name')"
   ]
  },
  {
   "cell_type": "markdown",
   "id": "5ce6c24b-7c91-4cb7-9bac-ada8581653d0",
   "metadata": {},
   "source": [
    "To get into deatil about this topic. Check out the **pyinputplus** library.\n",
    "\n",
    "https://automatetheboringstuff.com/2e/chapter8/\n"
   ]
  },
  {
   "cell_type": "markdown",
   "id": "cb9111ba-65ca-4747-aa36-b42682ba3d7d",
   "metadata": {},
   "source": [
    "# file handeling + strings in python"
   ]
  },
  {
   "cell_type": "markdown",
   "id": "aff3054b-80ab-4c10-8573-f7b2bcfdb291",
   "metadata": {},
   "source": [
    "https://automatetheboringstuff.com/2e/chapter9/\n",
    "Extensive detail about file handling.\n",
    "\n",
    "Rule of thumb, if you .open() it, you also .close() it."
   ]
  },
  {
   "cell_type": "code",
   "execution_count": 68,
   "id": "cb5b41b9-7fb2-44e4-80a6-3879db4e51a3",
   "metadata": {},
   "outputs": [],
   "source": [
    "the_file = open('random_text.txt')\n",
    "the_file.close()\n",
    "#end of story"
   ]
  },
  {
   "cell_type": "code",
   "execution_count": 40,
   "id": "fcb54633-ddb1-4d60-9904-7b7af170cb21",
   "metadata": {},
   "outputs": [
    {
     "name": "stdout",
     "output_type": "stream",
     "text": [
      "This is a text file.\n",
      "\n",
      ">this is the line i wanted\n",
      "\n",
      "!Exclude this line\n",
      "\n",
      "2023131230123message22312313another_messageappended text"
     ]
    }
   ],
   "source": [
    "!head random_text.txt"
   ]
  },
  {
   "cell_type": "markdown",
   "id": "a5e6f514-43bf-4bf8-adeb-f927e1f1b840",
   "metadata": {},
   "source": [
    "'r'       open for reading (default)\n",
    "'w'       open for writing, truncating the file first\n",
    "'x'       create a new file and open it for writing\n",
    "'a'       open for writing, appending to the end of the file if it exists\n",
    "'b'       binary mode\n",
    "'t'       text mode (default)\n",
    "'+'       open a disk file for updating (reading and writing)"
   ]
  },
  {
   "cell_type": "code",
   "execution_count": 41,
   "id": "dfb3f694-2117-4ca8-ad6c-13b9b6d3c0f9",
   "metadata": {},
   "outputs": [],
   "source": [
    "the_file = open('random_text.txt', 'a') #let us open to write something to it\n",
    "the_file.write(\"appended text\")\n",
    "the_file.close()\n"
   ]
  },
  {
   "cell_type": "code",
   "execution_count": 42,
   "id": "a2773283-022f-4a76-985a-2880ed3b76fe",
   "metadata": {},
   "outputs": [
    {
     "name": "stdout",
     "output_type": "stream",
     "text": [
      "This is a text file.\n",
      "\n",
      ">this is the line i wanted\n",
      "\n",
      "!Exclude this line\n",
      "\n",
      "2023131230123message22312313another_messageappended textappended text"
     ]
    }
   ],
   "source": [
    "!head random_text.txt"
   ]
  },
  {
   "cell_type": "code",
   "execution_count": 46,
   "id": "4a0409bd-9fa4-45f4-8163-a05af8363503",
   "metadata": {},
   "outputs": [
    {
     "data": {
      "text/plain": [
       "[21, 1, 27, 1, 19, 2, 69]"
      ]
     },
     "execution_count": 46,
     "metadata": {},
     "output_type": "execute_result"
    }
   ],
   "source": [
    "# read the file and analyse something\n",
    "len_line = []\n",
    "the_file = open('random_text.txt', 'r') # see i modified the file handler to 'r' or read mode\n",
    "for line in the_file:\n",
    "    len_line.append(len(line))\n",
    "the_file.close()\n",
    "\n",
    "len_line"
   ]
  },
  {
   "cell_type": "markdown",
   "id": "1d2ff045-32f7-4931-9bbf-e8a0b2763fcf",
   "metadata": {},
   "source": [
    "why is it saying 1 for length of an empty line? Because it ends in '\\n\\ or endline character"
   ]
  },
  {
   "cell_type": "code",
   "execution_count": 47,
   "id": "fb215e91-2d77-4c0f-92a3-f6f802f8b20d",
   "metadata": {},
   "outputs": [
    {
     "name": "stdout",
     "output_type": "stream",
     "text": [
      "This is a text file.\n",
      "\n",
      ">this is the line i wanted\n",
      "\n",
      "!Exclude this line\n",
      "\t\n",
      "2023131230123message22312313another_messageappended textappended text"
     ]
    }
   ],
   "source": [
    "!head random_text.txt"
   ]
  },
  {
   "cell_type": "markdown",
   "id": "2528392e-48b0-4db2-99af-a2096cb04003",
   "metadata": {},
   "source": [
    "the endline is a character denoted by '\\n', and so is tab, '\\t', or a empty ' ', or just '\\s' character! "
   ]
  },
  {
   "cell_type": "markdown",
   "id": "b2301062-ef23-48c1-a2f1-ce303aa53d8a",
   "metadata": {},
   "source": [
    "# basic introduction to regex"
   ]
  },
  {
   "cell_type": "markdown",
   "id": "1e52aa90-d2b0-44b4-9f94-203e8bb6f75d",
   "metadata": {},
   "source": [
    "Read the lines and get only lines that start with a symbol or character!"
   ]
  },
  {
   "cell_type": "code",
   "execution_count": 82,
   "id": "953eb6de-a9d9-43e0-99db-6425b4957ac1",
   "metadata": {},
   "outputs": [],
   "source": [
    "import string\n",
    "import re #the regex library (module) for python"
   ]
  },
  {
   "cell_type": "code",
   "execution_count": 48,
   "id": "2e455ea3-8623-4aea-ad38-4a70a847a35c",
   "metadata": {},
   "outputs": [
    {
     "data": {
      "text/plain": [
       "['>this is the line i wanted\\n']"
      ]
     },
     "execution_count": 48,
     "metadata": {},
     "output_type": "execute_result"
    }
   ],
   "source": [
    "# read the file and analyse something\n",
    "lines = []\n",
    "the_file = open('random_text.txt', 'r') # see i modified the file handler to 'r' or read mode\n",
    "for line in the_file:\n",
    "    if line.startswith('>'): # just use start with\n",
    "        lines.append(line)\n",
    "the_file.close()\n",
    "\n",
    "lines"
   ]
  },
  {
   "cell_type": "code",
   "execution_count": 68,
   "id": "90f171bc-aabc-4021-b2e0-217056166c21",
   "metadata": {},
   "outputs": [
    {
     "data": {
      "text/plain": [
       "'2023131230123MESSAGE22312313ANOTHER_MESSAGEAPPENDED TEXTAPPENDED TEXT'"
      ]
     },
     "execution_count": 68,
     "metadata": {},
     "output_type": "execute_result"
    }
   ],
   "source": [
    "line.upper()"
   ]
  },
  {
   "cell_type": "code",
   "execution_count": 69,
   "id": "ffbc2fd0-49bf-479e-bf88-5cae58c15938",
   "metadata": {},
   "outputs": [
    {
     "data": {
      "text/plain": [
       "'2023131230123message22312313another_messageappended textappended text'"
      ]
     },
     "execution_count": 69,
     "metadata": {},
     "output_type": "execute_result"
    }
   ],
   "source": [
    "line.lower()"
   ]
  },
  {
   "cell_type": "code",
   "execution_count": 76,
   "id": "74c3bb6d-c890-4b21-97a2-6ca1ee475d87",
   "metadata": {},
   "outputs": [
    {
     "data": {
      "text/plain": [
       "'2023131230123message22312313another_messageappended textappended '"
      ]
     },
     "execution_count": 76,
     "metadata": {},
     "output_type": "execute_result"
    }
   ],
   "source": [
    "line.strip('text')"
   ]
  },
  {
   "cell_type": "code",
   "execution_count": 73,
   "id": "a436e5b9-9388-440e-a38e-f81dc8fc2cad",
   "metadata": {},
   "outputs": [
    {
     "data": {
      "text/plain": [
       "['2023131230123message22312313another_messageappended', 'textappended', 'text']"
      ]
     },
     "execution_count": 73,
     "metadata": {},
     "output_type": "execute_result"
    }
   ],
   "source": [
    "line.split(' ')"
   ]
  },
  {
   "cell_type": "code",
   "execution_count": 74,
   "id": "be0fddda-0aa7-4de5-91a8-0c3b3c0bd4ef",
   "metadata": {},
   "outputs": [
    {
     "data": {
      "text/plain": [
       "'text'"
      ]
     },
     "execution_count": 74,
     "metadata": {},
     "output_type": "execute_result"
    }
   ],
   "source": [
    "line.split(' ')[2]"
   ]
  },
  {
   "cell_type": "markdown",
   "id": "70d38687-5efc-4784-ac67-fdf050dea002",
   "metadata": {},
   "source": [
    "Get rid of the symbol itself and characters, you have to create a regex expression first. Let's go to this site to do that."
   ]
  },
  {
   "cell_type": "markdown",
   "id": "30838ba3-31de-45d7-8661-8f995cce3199",
   "metadata": {},
   "source": [
    "https://regex101.com/\n"
   ]
  },
  {
   "cell_type": "code",
   "execution_count": 82,
   "id": "dddf5d9c-a7f6-4c29-81e7-27a86167269e",
   "metadata": {},
   "outputs": [
    {
     "data": {
      "text/plain": [
       "['>this is the line i wanted']"
      ]
     },
     "execution_count": 82,
     "metadata": {},
     "output_type": "execute_result"
    }
   ],
   "source": [
    "# read the file and analyse something\n",
    "lines = []\n",
    "the_file = open('random_text.txt', 'r') # see i modified the file handler to 'r' or read mode\n",
    "for line in the_file:\n",
    "    if line.startswith('>'): # just use start with\n",
    "        lines.append(line.strip())\n",
    "the_file.close()\n",
    "\n",
    "lines"
   ]
  },
  {
   "cell_type": "markdown",
   "id": "51e8589a-f53b-46ff-8e9a-b5390c6043b9",
   "metadata": {},
   "source": [
    "2023131230123message22312313another_messageappended text\n",
    "\n",
    "However to get this line, first I have to check if it starts with 2023, theb I can extract the message."
   ]
  },
  {
   "cell_type": "code",
   "execution_count": 79,
   "id": "08063994-f7b2-4a78-b138-55bdb2c0be7f",
   "metadata": {},
   "outputs": [
    {
     "data": {
      "text/plain": [
       "True"
      ]
     },
     "execution_count": 79,
     "metadata": {},
     "output_type": "execute_result"
    }
   ],
   "source": [
    "line.startswith('2023') == True"
   ]
  },
  {
   "cell_type": "code",
   "execution_count": 80,
   "id": "7d993f2a-fec2-4de7-8c03-e0efe95a516e",
   "metadata": {},
   "outputs": [
    {
     "data": {
      "text/plain": [
       "False"
      ]
     },
     "execution_count": 80,
     "metadata": {},
     "output_type": "execute_result"
    }
   ],
   "source": [
    "line.startswith('2024') == True"
   ]
  },
  {
   "cell_type": "code",
   "execution_count": 89,
   "id": "14cf288a-a795-43ec-8f81-805bdf6cbf60",
   "metadata": {},
   "outputs": [
    {
     "data": {
      "text/plain": [
       "<module 're' from '/home/mrinalmanu/miniconda3/envs/povpy/lib/python3.11/re/__init__.py'>"
      ]
     },
     "execution_count": 89,
     "metadata": {},
     "output_type": "execute_result"
    }
   ],
   "source": [
    "re"
   ]
  },
  {
   "cell_type": "code",
   "execution_count": 85,
   "id": "2568f0da-ca7f-462d-8eba-4fc55ee0e5f1",
   "metadata": {},
   "outputs": [],
   "source": [
    "expression = '\\d'"
   ]
  },
  {
   "cell_type": "code",
   "execution_count": 88,
   "id": "efc934ac-58af-47e7-8a15-c02d4aad3eb3",
   "metadata": {},
   "outputs": [
    {
     "data": {
      "text/plain": [
       "['',\n",
       " '',\n",
       " '',\n",
       " '',\n",
       " '',\n",
       " '',\n",
       " '',\n",
       " '',\n",
       " '',\n",
       " '',\n",
       " '',\n",
       " '',\n",
       " '',\n",
       " 'message',\n",
       " '',\n",
       " '',\n",
       " '',\n",
       " '',\n",
       " '',\n",
       " '',\n",
       " '',\n",
       " 'another_messageappended textappended not_text_just_numbers']"
      ]
     },
     "execution_count": 88,
     "metadata": {},
     "output_type": "execute_result"
    }
   ],
   "source": [
    "new_line = re.split(expression, line)\n",
    "new_line"
   ]
  },
  {
   "cell_type": "code",
   "execution_count": 90,
   "id": "babf4cc1-3d99-4a52-a792-6d82bf3f5f4e",
   "metadata": {},
   "outputs": [
    {
     "data": {
      "text/plain": [
       "['message', 'another_messageappended textappended not_text_just_numbers']"
      ]
     },
     "execution_count": 90,
     "metadata": {},
     "output_type": "execute_result"
    }
   ],
   "source": [
    "str_list = list(filter(None, new_line))\n",
    "str_list"
   ]
  },
  {
   "cell_type": "markdown",
   "id": "b6c4a9ac-7d96-418a-8b4d-5de4a2459589",
   "metadata": {},
   "source": [
    "Regex is a long and complicated topic. I can keep on telling you facts, but truly, it is something you have to discover yourself.\n",
    "\n",
    "https://docs.python.org/3/howto/regex.html\n"
   ]
  },
  {
   "cell_type": "markdown",
   "id": "7c8370e9-5320-476e-bcde-3712d4951ac0",
   "metadata": {},
   "source": [
    "EON"
   ]
  }
 ],
 "metadata": {
  "kernelspec": {
   "display_name": "Python 3 (ipykernel)",
   "language": "python",
   "name": "python3"
  },
  "language_info": {
   "codemirror_mode": {
    "name": "ipython",
    "version": 3
   },
   "file_extension": ".py",
   "mimetype": "text/x-python",
   "name": "python",
   "nbconvert_exporter": "python",
   "pygments_lexer": "ipython3",
   "version": "3.11.7"
  }
 },
 "nbformat": 4,
 "nbformat_minor": 5
}
